{
 "cells": [
  {
   "cell_type": "markdown",
   "metadata": {},
   "source": [
    "# 01-Train data cleanup"
   ]
  },
  {
   "cell_type": "code",
   "execution_count": 1,
   "metadata": {},
   "outputs": [],
   "source": [
    "import pandas as pd\n",
    "import numpy as np\n",
    "import json\n",
    "import matplotlib.pyplot as plt\n",
    "pd.set_option('display.max_colwidth', None)\n",
    "\n",
    "import os\n",
    "os.chdir('./data')"
   ]
  },
  {
   "cell_type": "markdown",
   "metadata": {},
   "source": [
    "## Data Cleaning:"
   ]
  },
  {
   "cell_type": "markdown",
   "metadata": {},
   "source": [
    "### Sanity checks"
   ]
  },
  {
   "cell_type": "code",
   "execution_count": 2,
   "metadata": {},
   "outputs": [
    {
     "data": {
      "text/html": [
       "<div>\n",
       "<style scoped>\n",
       "    .dataframe tbody tr th:only-of-type {\n",
       "        vertical-align: middle;\n",
       "    }\n",
       "\n",
       "    .dataframe tbody tr th {\n",
       "        vertical-align: top;\n",
       "    }\n",
       "\n",
       "    .dataframe thead th {\n",
       "        text-align: right;\n",
       "    }\n",
       "</style>\n",
       "<table border=\"1\" class=\"dataframe\">\n",
       "  <thead>\n",
       "    <tr style=\"text-align: right;\">\n",
       "      <th></th>\n",
       "      <th>OFFER</th>\n",
       "      <th>RETAILER</th>\n",
       "      <th>BRAND</th>\n",
       "    </tr>\n",
       "  </thead>\n",
       "  <tbody>\n",
       "    <tr>\n",
       "      <th>0</th>\n",
       "      <td>Spend $50 on a Full-Priced new Club Membership</td>\n",
       "      <td>SAMS CLUB</td>\n",
       "      <td>SAMS CLUB</td>\n",
       "    </tr>\n",
       "    <tr>\n",
       "      <th>1</th>\n",
       "      <td>Beyond Meat® Plant-Based products, spend $25</td>\n",
       "      <td>NaN</td>\n",
       "      <td>BEYOND MEAT</td>\n",
       "    </tr>\n",
       "    <tr>\n",
       "      <th>2</th>\n",
       "      <td>Good Humor Viennetta Frozen Vanilla Cake</td>\n",
       "      <td>NaN</td>\n",
       "      <td>GOOD HUMOR</td>\n",
       "    </tr>\n",
       "    <tr>\n",
       "      <th>3</th>\n",
       "      <td>Butterball, select varieties, spend $10 at Dillons Food Store</td>\n",
       "      <td>DILLONS FOOD STORE</td>\n",
       "      <td>BUTTERBALL</td>\n",
       "    </tr>\n",
       "    <tr>\n",
       "      <th>4</th>\n",
       "      <td>GATORADE® Fast Twitch®, 12-ounce 12 pack, at Amazon Storefront*</td>\n",
       "      <td>AMAZON</td>\n",
       "      <td>GATORADE</td>\n",
       "    </tr>\n",
       "    <tr>\n",
       "      <th>5</th>\n",
       "      <td>Emmy's Organics® Cookies OR Brownie Snaps</td>\n",
       "      <td>NaN</td>\n",
       "      <td>EMMYS POP UP</td>\n",
       "    </tr>\n",
       "    <tr>\n",
       "      <th>6</th>\n",
       "      <td>Dr Pepper®, Regular OR Zero Sugar Strawberries and Cream 12 pack, at select retailers</td>\n",
       "      <td>UNITED SUPERMARKETS</td>\n",
       "      <td>DR PEPPER</td>\n",
       "    </tr>\n",
       "    <tr>\n",
       "      <th>7</th>\n",
       "      <td>Arnold, Brownberry, Oroweat® Small Slice bread, at Walmart</td>\n",
       "      <td>WALMART</td>\n",
       "      <td>ARNOLD BROWNBERRY OROWEAT</td>\n",
       "    </tr>\n",
       "    <tr>\n",
       "      <th>8</th>\n",
       "      <td>Barilla® Pesto Sauce</td>\n",
       "      <td>NaN</td>\n",
       "      <td>BARILLA</td>\n",
       "    </tr>\n",
       "    <tr>\n",
       "      <th>9</th>\n",
       "      <td>Any General Mills™ products, buy 2\\nGood Rewards Members Only</td>\n",
       "      <td>NaN</td>\n",
       "      <td>ANNIES HOMEGROWN GROCERY</td>\n",
       "    </tr>\n",
       "    <tr>\n",
       "      <th>10</th>\n",
       "      <td>Egglife Egg White Wraps at Aldi</td>\n",
       "      <td>ALDI</td>\n",
       "      <td>EGGLIFE</td>\n",
       "    </tr>\n",
       "    <tr>\n",
       "      <th>11</th>\n",
       "      <td>Spend $20 at Zaxby's</td>\n",
       "      <td>ZAXBYS</td>\n",
       "      <td>ZAXBYS</td>\n",
       "    </tr>\n",
       "    <tr>\n",
       "      <th>12</th>\n",
       "      <td>Spend $10 at Subway</td>\n",
       "      <td>SUBWAY</td>\n",
       "      <td>SUBWAY</td>\n",
       "    </tr>\n",
       "    <tr>\n",
       "      <th>13</th>\n",
       "      <td>DOVE® Chocolate, select sizes, buy 1</td>\n",
       "      <td>NaN</td>\n",
       "      <td>DOVE CHOCOLATE</td>\n",
       "    </tr>\n",
       "    <tr>\n",
       "      <th>14</th>\n",
       "      <td>Hellmann's® OR Best Foods® Garlic Aioli OR Spicy Mayonnaise</td>\n",
       "      <td>NaN</td>\n",
       "      <td>HELLMANNS BEST FOODS</td>\n",
       "    </tr>\n",
       "  </tbody>\n",
       "</table>\n",
       "</div>"
      ],
      "text/plain": [
       "                                                                                    OFFER  \\\n",
       "0                                          Spend $50 on a Full-Priced new Club Membership   \n",
       "1                                            Beyond Meat® Plant-Based products, spend $25   \n",
       "2                                                Good Humor Viennetta Frozen Vanilla Cake   \n",
       "3                           Butterball, select varieties, spend $10 at Dillons Food Store   \n",
       "4                         GATORADE® Fast Twitch®, 12-ounce 12 pack, at Amazon Storefront*   \n",
       "5                                               Emmy's Organics® Cookies OR Brownie Snaps   \n",
       "6   Dr Pepper®, Regular OR Zero Sugar Strawberries and Cream 12 pack, at select retailers   \n",
       "7                              Arnold, Brownberry, Oroweat® Small Slice bread, at Walmart   \n",
       "8                                                                    Barilla® Pesto Sauce   \n",
       "9                           Any General Mills™ products, buy 2\\nGood Rewards Members Only   \n",
       "10                                                        Egglife Egg White Wraps at Aldi   \n",
       "11                                                                   Spend $20 at Zaxby's   \n",
       "12                                                                    Spend $10 at Subway   \n",
       "13                                                   DOVE® Chocolate, select sizes, buy 1   \n",
       "14                            Hellmann's® OR Best Foods® Garlic Aioli OR Spicy Mayonnaise   \n",
       "\n",
       "               RETAILER                      BRAND  \n",
       "0             SAMS CLUB                  SAMS CLUB  \n",
       "1                   NaN                BEYOND MEAT  \n",
       "2                   NaN                 GOOD HUMOR  \n",
       "3    DILLONS FOOD STORE                 BUTTERBALL  \n",
       "4                AMAZON                   GATORADE  \n",
       "5                   NaN               EMMYS POP UP  \n",
       "6   UNITED SUPERMARKETS                  DR PEPPER  \n",
       "7               WALMART  ARNOLD BROWNBERRY OROWEAT  \n",
       "8                   NaN                    BARILLA  \n",
       "9                   NaN   ANNIES HOMEGROWN GROCERY  \n",
       "10                 ALDI                    EGGLIFE  \n",
       "11               ZAXBYS                     ZAXBYS  \n",
       "12               SUBWAY                     SUBWAY  \n",
       "13                  NaN             DOVE CHOCOLATE  \n",
       "14                  NaN       HELLMANNS BEST FOODS  "
      ]
     },
     "execution_count": 2,
     "metadata": {},
     "output_type": "execute_result"
    }
   ],
   "source": [
    "df = pd.read_csv('offer_retailer.csv')\n",
    "df.head(15)"
   ]
  },
  {
   "cell_type": "markdown",
   "metadata": {},
   "source": [
    "check distribution of name length by token count"
   ]
  },
  {
   "cell_type": "code",
   "execution_count": 3,
   "metadata": {},
   "outputs": [],
   "source": [
    "def token_distribution(df: pd.DataFrame, col: str):\n",
    "    # get distribution of name length by token count\n",
    "    df_tmp = df[[col]].dropna().drop_duplicates()\n",
    "    df_tmp['TOKEN_LENGTH'] = df_tmp[col].str.split().apply(len)\n",
    "    print(df_tmp.TOKEN_LENGTH.describe())\n",
    "    \n",
    "    # Plot histogram of token length distribution\n",
    "    plt.hist(df_tmp['TOKEN_LENGTH'], bins=range(1, max(df_tmp['TOKEN_LENGTH'])+2), align='left')\n",
    "    plt.xlabel('Token length')\n",
    "    plt.ylabel('Frequency')\n",
    "    plt.title('Distribution of token length')\n",
    "    plt.show()"
   ]
  },
  {
   "cell_type": "code",
   "execution_count": 4,
   "metadata": {},
   "outputs": [
    {
     "data": {
      "text/plain": [
       "(384, 3)"
      ]
     },
     "execution_count": 4,
     "metadata": {},
     "output_type": "execute_result"
    }
   ],
   "source": [
    "# df[df['BRAND'].str.split().apply(len) >= 4]\n",
    "# df[~df.apply(lambda x: str(x[\"BRAND\"]).lower() in x[\"OFFER\"].lower(), axis=1)].shape\n",
    "df.shape"
   ]
  },
  {
   "cell_type": "code",
   "execution_count": 5,
   "metadata": {},
   "outputs": [
    {
     "name": "stdout",
     "output_type": "stream",
     "text": [
      "count    376.000000\n",
      "mean       6.606383\n",
      "std        2.735322\n",
      "min        2.000000\n",
      "25%        4.000000\n",
      "50%        6.000000\n",
      "75%        8.000000\n",
      "max       16.000000\n",
      "Name: TOKEN_LENGTH, dtype: float64\n"
     ]
    },
    {
     "data": {
      "image/png": "[encoded data removed]",
      "text/plain": [
       "<Figure size 640x480 with 1 Axes>"
      ]
     },
     "metadata": {},
     "output_type": "display_data"
    }
   ],
   "source": [
    "token_distribution(df, \"OFFER\")"
   ]
  },
  {
   "cell_type": "code",
   "execution_count": 6,
   "metadata": {},
   "outputs": [
    {
     "name": "stdout",
     "output_type": "stream",
     "text": [
      "count    144.000000\n",
      "mean       1.666667\n",
      "std        0.892862\n",
      "min        1.000000\n",
      "25%        1.000000\n",
      "50%        1.000000\n",
      "75%        2.000000\n",
      "max        6.000000\n",
      "Name: TOKEN_LENGTH, dtype: float64\n"
     ]
    },
    {
     "data": {
      "image/png": "[encoded data removed]",
      "text/plain": [
       "<Figure size 640x480 with 1 Axes>"
      ]
     },
     "metadata": {},
     "output_type": "display_data"
    }
   ],
   "source": [
    "token_distribution(df, \"BRAND\")"
   ]
  },
  {
   "cell_type": "code",
   "execution_count": 7,
   "metadata": {},
   "outputs": [
    {
     "name": "stdout",
     "output_type": "stream",
     "text": [
      "count    61.000000\n",
      "mean      1.836066\n",
      "std       0.820169\n",
      "min       1.000000\n",
      "25%       1.000000\n",
      "50%       2.000000\n",
      "75%       3.000000\n",
      "max       3.000000\n",
      "Name: TOKEN_LENGTH, dtype: float64\n"
     ]
    },
    {
     "data": {
      "image/png": "[encoded data removed]",
      "text/plain": [
       "<Figure size 640x480 with 1 Axes>"
      ]
     },
     "metadata": {},
     "output_type": "display_data"
    }
   ],
   "source": [
    "token_distribution(df, \"RETAILER\")"
   ]
  },
  {
   "cell_type": "markdown",
   "metadata": {},
   "source": [
    "We see that most brand names are between 1 and 2 words and most retailer name are betwwen 1 and 3 words.\n",
    "\n",
    "Now Check if brand/retailer names include special characters"
   ]
  },
  {
   "cell_type": "code",
   "execution_count": 8,
   "metadata": {},
   "outputs": [],
   "source": [
    "import re\n",
    "from typing import List\n",
    "\n",
    "def check_special_chars(df: pd.DataFrame, col: str) -> List[str]:\n",
    "    string_list = df[col].dropna().drop_duplicates().tolist()\n",
    "    filtered_list = []\n",
    "    for s in string_list:\n",
    "        non_alnum_chars = re.findall(r'[^a-zA-Z0-9\\s]', s)\n",
    "        if non_alnum_chars:\n",
    "            filtered_list.append(s)\n",
    "\n",
    "    return filtered_list"
   ]
  },
  {
   "cell_type": "code",
   "execution_count": 9,
   "metadata": {},
   "outputs": [
    {
     "data": {
      "text/plain": [
       "['M&MS',\n",
       " \"RAO'S\",\n",
       " \"MICHAEL ANGELO'S\",\n",
       " 'KODIAK CAKES FLAPJACK & WAFFLE MIX',\n",
       " \"CAMERON'S COFFEE\"]"
      ]
     },
     "execution_count": 9,
     "metadata": {},
     "output_type": "execute_result"
    }
   ],
   "source": [
    "check_special_chars(df, \"BRAND\")"
   ]
  },
  {
   "cell_type": "code",
   "execution_count": 10,
   "metadata": {},
   "outputs": [
    {
     "data": {
      "text/plain": [
       "['H-E-B', 'GALLO.COM', 'SIOBEAUTY.COM', 'STOP & SHOP']"
      ]
     },
     "execution_count": 10,
     "metadata": {},
     "output_type": "execute_result"
    }
   ],
   "source": [
    "check_special_chars(df, \"RETAILER\")"
   ]
  },
  {
   "cell_type": "code",
   "execution_count": 11,
   "metadata": {},
   "outputs": [
    {
     "data": {
      "text/html": [
       "<div>\n",
       "<style scoped>\n",
       "    .dataframe tbody tr th:only-of-type {\n",
       "        vertical-align: middle;\n",
       "    }\n",
       "\n",
       "    .dataframe tbody tr th {\n",
       "        vertical-align: top;\n",
       "    }\n",
       "\n",
       "    .dataframe thead th {\n",
       "        text-align: right;\n",
       "    }\n",
       "</style>\n",
       "<table border=\"1\" class=\"dataframe\">\n",
       "  <thead>\n",
       "    <tr style=\"text-align: right;\">\n",
       "      <th></th>\n",
       "      <th>OFFER</th>\n",
       "      <th>RETAILER</th>\n",
       "      <th>BRAND</th>\n",
       "    </tr>\n",
       "  </thead>\n",
       "  <tbody>\n",
       "    <tr>\n",
       "      <th>26</th>\n",
       "      <td>Beyond Steak™ Plant-Based seared tips, 10 ounce, buy 2 at H-E-B</td>\n",
       "      <td>H-E-B</td>\n",
       "      <td>BEYOND MEAT</td>\n",
       "    </tr>\n",
       "    <tr>\n",
       "      <th>55</th>\n",
       "      <td>Wine from TheBarrelRoom.com, spend $30</td>\n",
       "      <td>GALLO.COM</td>\n",
       "      <td>ALAMOS</td>\n",
       "    </tr>\n",
       "    <tr>\n",
       "      <th>138</th>\n",
       "      <td>SiO® Beauty Patches, online at Siobeauty.com</td>\n",
       "      <td>SIOBEAUTY.COM</td>\n",
       "      <td>SIO BEAUTY</td>\n",
       "    </tr>\n",
       "    <tr>\n",
       "      <th>193</th>\n",
       "      <td>Gorton's, at select retailers</td>\n",
       "      <td>STOP &amp; SHOP</td>\n",
       "      <td>GORTONS</td>\n",
       "    </tr>\n",
       "    <tr>\n",
       "      <th>218</th>\n",
       "      <td>Beyond Steak™ Plant-Based seared tips, 10 ounce at H-E-B</td>\n",
       "      <td>H-E-B</td>\n",
       "      <td>BEYOND MEAT</td>\n",
       "    </tr>\n",
       "    <tr>\n",
       "      <th>246</th>\n",
       "      <td>Gorton's at select retailers</td>\n",
       "      <td>STOP &amp; SHOP</td>\n",
       "      <td>GORTONS</td>\n",
       "    </tr>\n",
       "  </tbody>\n",
       "</table>\n",
       "</div>"
      ],
      "text/plain": [
       "                                                               OFFER  \\\n",
       "26   Beyond Steak™ Plant-Based seared tips, 10 ounce, buy 2 at H-E-B   \n",
       "55                            Wine from TheBarrelRoom.com, spend $30   \n",
       "138                     SiO® Beauty Patches, online at Siobeauty.com   \n",
       "193                                    Gorton's, at select retailers   \n",
       "218         Beyond Steak™ Plant-Based seared tips, 10 ounce at H-E-B   \n",
       "246                                     Gorton's at select retailers   \n",
       "\n",
       "          RETAILER        BRAND  \n",
       "26           H-E-B  BEYOND MEAT  \n",
       "55       GALLO.COM       ALAMOS  \n",
       "138  SIOBEAUTY.COM   SIO BEAUTY  \n",
       "193    STOP & SHOP      GORTONS  \n",
       "218          H-E-B  BEYOND MEAT  \n",
       "246    STOP & SHOP      GORTONS  "
      ]
     },
     "execution_count": 11,
     "metadata": {},
     "output_type": "execute_result"
    }
   ],
   "source": [
    "# df[df[\"RETAILER\"].eq(\"H-E-B\")|df[\"RETAILER\"].eq(\"GALLO.COM\")]\n",
    "char_retailer = check_special_chars(df, \"RETAILER\")\n",
    "df[df[\"RETAILER\"].isin(char_retailer)]"
   ]
  },
  {
   "cell_type": "markdown",
   "metadata": {},
   "source": [
    "This offer doesn't include neither retailer nor brand. It tells that we have to do proper cleaning for our training data.\n",
    "`Wine from TheBarrelRoom.com, spend $30\tGALLO.COM\tALAMOS`"
   ]
  },
  {
   "cell_type": "code",
   "execution_count": 12,
   "metadata": {},
   "outputs": [
    {
     "data": {
      "text/html": [
       "<div>\n",
       "<style scoped>\n",
       "    .dataframe tbody tr th:only-of-type {\n",
       "        vertical-align: middle;\n",
       "    }\n",
       "\n",
       "    .dataframe tbody tr th {\n",
       "        vertical-align: top;\n",
       "    }\n",
       "\n",
       "    .dataframe thead th {\n",
       "        text-align: right;\n",
       "    }\n",
       "</style>\n",
       "<table border=\"1\" class=\"dataframe\">\n",
       "  <thead>\n",
       "    <tr style=\"text-align: right;\">\n",
       "      <th></th>\n",
       "      <th>OFFER</th>\n",
       "      <th>RETAILER</th>\n",
       "      <th>BRAND</th>\n",
       "    </tr>\n",
       "  </thead>\n",
       "  <tbody>\n",
       "    <tr>\n",
       "      <th>5</th>\n",
       "      <td>Emmy's Organics® Cookies OR Brownie Snaps</td>\n",
       "      <td>NaN</td>\n",
       "      <td>EMMYS POP UP</td>\n",
       "    </tr>\n",
       "  </tbody>\n",
       "</table>\n",
       "</div>"
      ],
      "text/plain": [
       "                                       OFFER RETAILER         BRAND\n",
       "5  Emmy's Organics® Cookies OR Brownie Snaps      NaN  EMMYS POP UP"
      ]
     },
     "execution_count": 12,
     "metadata": {},
     "output_type": "execute_result"
    }
   ],
   "source": [
    "# \"Emmy's Organics® Cookies OR Brownie Snaps\",\n",
    "df[df[\"OFFER\"].eq(\"Emmy's Organics® Cookies OR Brownie Snaps\",)]"
   ]
  },
  {
   "cell_type": "code",
   "execution_count": 13,
   "metadata": {},
   "outputs": [
    {
     "data": {
      "text/plain": [
       "['Spend $50 on a Full-Priced new Club Membership',\n",
       " 'Beyond Meat® Plant-Based products, spend $25',\n",
       " 'Butterball, select varieties, spend $10 at Dillons Food Store',\n",
       " 'GATORADE® Fast Twitch®, 12-ounce 12 pack, at Amazon Storefront*',\n",
       " \"Emmy's Organics® Cookies OR Brownie Snaps\",\n",
       " 'Dr Pepper®, Regular OR Zero Sugar Strawberries and Cream 12 pack, at select retailers',\n",
       " 'Arnold, Brownberry, Oroweat® Small Slice bread, at Walmart',\n",
       " 'Barilla® Pesto Sauce',\n",
       " 'Any General Mills™ products, buy 2\\nGood Rewards Members Only',\n",
       " \"Spend $20 at Zaxby's\"]"
      ]
     },
     "execution_count": 13,
     "metadata": {},
     "output_type": "execute_result"
    }
   ],
   "source": [
    "offers = check_special_chars(df, \"OFFER\")\n",
    "offers[:10]"
   ]
  },
  {
   "cell_type": "code",
   "execution_count": 14,
   "metadata": {},
   "outputs": [
    {
     "data": {
      "text/html": [
       "<div>\n",
       "<style scoped>\n",
       "    .dataframe tbody tr th:only-of-type {\n",
       "        vertical-align: middle;\n",
       "    }\n",
       "\n",
       "    .dataframe tbody tr th {\n",
       "        vertical-align: top;\n",
       "    }\n",
       "\n",
       "    .dataframe thead th {\n",
       "        text-align: right;\n",
       "    }\n",
       "</style>\n",
       "<table border=\"1\" class=\"dataframe\">\n",
       "  <thead>\n",
       "    <tr style=\"text-align: right;\">\n",
       "      <th></th>\n",
       "      <th>BRAND</th>\n",
       "      <th>BRAND_BELONGS_TO_CATEGORY</th>\n",
       "      <th>RECEIPTS</th>\n",
       "    </tr>\n",
       "  </thead>\n",
       "  <tbody>\n",
       "    <tr>\n",
       "      <th>0</th>\n",
       "      <td>CASEYS GEN STORE</td>\n",
       "      <td>Tobacco Products</td>\n",
       "      <td>2950931</td>\n",
       "    </tr>\n",
       "    <tr>\n",
       "      <th>1</th>\n",
       "      <td>CASEYS GEN STORE</td>\n",
       "      <td>Mature</td>\n",
       "      <td>2859240</td>\n",
       "    </tr>\n",
       "    <tr>\n",
       "      <th>2</th>\n",
       "      <td>EQUATE</td>\n",
       "      <td>Hair Removal</td>\n",
       "      <td>893268</td>\n",
       "    </tr>\n",
       "    <tr>\n",
       "      <th>3</th>\n",
       "      <td>PALMOLIVE</td>\n",
       "      <td>Bath &amp; Body</td>\n",
       "      <td>542562</td>\n",
       "    </tr>\n",
       "    <tr>\n",
       "      <th>4</th>\n",
       "      <td>DAWN</td>\n",
       "      <td>Bath &amp; Body</td>\n",
       "      <td>301844</td>\n",
       "    </tr>\n",
       "    <tr>\n",
       "      <th>...</th>\n",
       "      <td>...</td>\n",
       "      <td>...</td>\n",
       "      <td>...</td>\n",
       "    </tr>\n",
       "    <tr>\n",
       "      <th>9901</th>\n",
       "      <td>WIBBY BREWING</td>\n",
       "      <td>Beer</td>\n",
       "      <td>11</td>\n",
       "    </tr>\n",
       "    <tr>\n",
       "      <th>9902</th>\n",
       "      <td>LA FETE DU ROSE</td>\n",
       "      <td>Wine</td>\n",
       "      <td>11</td>\n",
       "    </tr>\n",
       "    <tr>\n",
       "      <th>9903</th>\n",
       "      <td>BIG ISLAND BREWHAUS</td>\n",
       "      <td>Beer</td>\n",
       "      <td>11</td>\n",
       "    </tr>\n",
       "    <tr>\n",
       "      <th>9904</th>\n",
       "      <td>BRIDGE LANE</td>\n",
       "      <td>Wine</td>\n",
       "      <td>11</td>\n",
       "    </tr>\n",
       "    <tr>\n",
       "      <th>9905</th>\n",
       "      <td>ALTITUDE PROJECT</td>\n",
       "      <td>Wine</td>\n",
       "      <td>11</td>\n",
       "    </tr>\n",
       "  </tbody>\n",
       "</table>\n",
       "<p>9906 rows × 3 columns</p>\n",
       "</div>"
      ],
      "text/plain": [
       "                    BRAND BRAND_BELONGS_TO_CATEGORY  RECEIPTS\n",
       "0        CASEYS GEN STORE          Tobacco Products   2950931\n",
       "1        CASEYS GEN STORE                    Mature   2859240\n",
       "2                  EQUATE              Hair Removal    893268\n",
       "3               PALMOLIVE               Bath & Body    542562\n",
       "4                    DAWN               Bath & Body    301844\n",
       "...                   ...                       ...       ...\n",
       "9901        WIBBY BREWING                      Beer        11\n",
       "9902      LA FETE DU ROSE                      Wine        11\n",
       "9903  BIG ISLAND BREWHAUS                      Beer        11\n",
       "9904          BRIDGE LANE                      Wine        11\n",
       "9905     ALTITUDE PROJECT                      Wine        11\n",
       "\n",
       "[9906 rows x 3 columns]"
      ]
     },
     "execution_count": 14,
     "metadata": {},
     "output_type": "execute_result"
    }
   ],
   "source": [
    "df_brand = pd.read_csv('brand_category.csv')\n",
    "df_brand"
   ]
  },
  {
   "cell_type": "code",
   "execution_count": 15,
   "metadata": {},
   "outputs": [
    {
     "data": {
      "text/plain": [
       "['COCA-COLA',\n",
       " 'M&MS',\n",
       " 'CRA-Z-ART',\n",
       " \"KELLOGG'S\",\n",
       " 'COCA-COLA ZERO',\n",
       " \"LAY'S\",\n",
       " 'HAAGEN-DAZS',\n",
       " \"HELLMANN'S/BEST FOODS\",\n",
       " 'ARM & HAMMER',\n",
       " \"M&M'S\",\n",
       " \"BARQ'S\",\n",
       " \"NATURE'S BAKERY\",\n",
       " \"SMUCKER'S UNCRUSTABLES\",\n",
       " 'FRITO-LAY',\n",
       " 'ORE-IDA',\n",
       " 'FISHER-PRICE',\n",
       " 'RASCAL & FRIENDS',\n",
       " \"MOTT'S\",\n",
       " \"HUNT'S\",\n",
       " 'CHIPS AHOY!']"
      ]
     },
     "execution_count": 15,
     "metadata": {},
     "output_type": "execute_result"
    }
   ],
   "source": [
    "# what are the special characters in the brand names? (for brand_category.csv)\n",
    "check_special_chars(df_brand, \"BRAND\")[:20]"
   ]
  },
  {
   "cell_type": "markdown",
   "metadata": {},
   "source": [
    "### Data cleaning\n",
    "We should keep `[\"&\", \".\", \",\", \"-\"]`, and remove other special characters, and, additionally, remove  from commas from brand names"
   ]
  },
  {
   "cell_type": "code",
   "execution_count": 16,
   "metadata": {},
   "outputs": [],
   "source": [
    "from typing import Dict\n",
    "import copy\n",
    "\n",
    "def clean_data(df_data:pd.DataFrame, cols: Dict[str, str]) -> pd.DataFrame:\n",
    "    \"\"\"\n",
    "    Clean data\n",
    "    Args:\n",
    "        df: DataFrame\n",
    "        cols: a dictionary; key 'target' is for the label, and key 'value' is for the column to be cleaned\n",
    "    Returns:\n",
    "        Cleaned DataFrame\n",
    "    Extra note: pandas operation is slow when data is large. In furthre we can consider different data strcture or Spark.\n",
    "    \"\"\"\n",
    "    target, col = cols['target'], cols['value']\n",
    "    df = df_data[[target, col]]\n",
    "\n",
    "    # remove all non-alphanumeric characters except in special_chars\n",
    "    special_chars = [\"&\", \".\", \",\", \"-\", \" \"]\n",
    "    df[target] = df[target].apply(lambda x: ''.join(c for c in x if c.isalnum() or c in special_chars))\n",
    "    df[col] = df[col].apply(lambda x: ''.join(c for c in x if c.isalnum() or c in special_chars))\n",
    "    df['idx'] = df.index # create index so that we can merge later\n",
    "\n",
    "    # check if brand name is included in the offer; limit on name length\n",
    "    is_target = df.apply(lambda x: str(x[target]).lower() in x[col].lower(), axis=1)\n",
    "    # is_short_target = df.apply(lambda x: len(str(x[target]).split(\" \")) <= 3, axis=1)\n",
    "    # is_short_offer = df.apply(lambda x: len(x[col].split(' ')) < 13,axis=1)\n",
    "\n",
    "    # filter\n",
    "    df_cleaned = df[is_target]\n",
    "    # remove all non-alphanumeric characters except in special_chars\n",
    "    df_cleaned[target] = df_cleaned[target].apply(lambda x: ''.join(c for c in x if c.isalnum() or c in special_chars))\n",
    "    df_cleaned[col] = df_cleaned[col].apply(lambda x: ''.join(c for c in x if c.isalnum() or c in special_chars))\n",
    "    df_cleaned = df_cleaned.drop_duplicates()\n",
    "    return df_cleaned"
   ]
  },
  {
   "cell_type": "code",
   "execution_count": 17,
   "metadata": {},
   "outputs": [
    {
     "name": "stderr",
     "output_type": "stream",
     "text": [
      "/var/folders/k5/x_9mt5q1367c1vkp6jfrlcl80000gn/T/ipykernel_81885/730516147.py:19: SettingWithCopyWarning: \n",
      "A value is trying to be set on a copy of a slice from a DataFrame.\n",
      "Try using .loc[row_indexer,col_indexer] = value instead\n",
      "\n",
      "See the caveats in the documentation: https://pandas.pydata.org/pandas-docs/stable/user_guide/indexing.html#returning-a-view-versus-a-copy\n",
      "  df[target] = df[target].apply(lambda x: ''.join(c for c in x if c.isalnum() or c in special_chars))\n",
      "/var/folders/k5/x_9mt5q1367c1vkp6jfrlcl80000gn/T/ipykernel_81885/730516147.py:20: SettingWithCopyWarning: \n",
      "A value is trying to be set on a copy of a slice from a DataFrame.\n",
      "Try using .loc[row_indexer,col_indexer] = value instead\n",
      "\n",
      "See the caveats in the documentation: https://pandas.pydata.org/pandas-docs/stable/user_guide/indexing.html#returning-a-view-versus-a-copy\n",
      "  df[col] = df[col].apply(lambda x: ''.join(c for c in x if c.isalnum() or c in special_chars))\n",
      "/var/folders/k5/x_9mt5q1367c1vkp6jfrlcl80000gn/T/ipykernel_81885/730516147.py:31: SettingWithCopyWarning: \n",
      "A value is trying to be set on a copy of a slice from a DataFrame.\n",
      "Try using .loc[row_indexer,col_indexer] = value instead\n",
      "\n",
      "See the caveats in the documentation: https://pandas.pydata.org/pandas-docs/stable/user_guide/indexing.html#returning-a-view-versus-a-copy\n",
      "  df_cleaned[target] = df_cleaned[target].apply(lambda x: ''.join(c for c in x if c.isalnum() or c in special_chars))\n",
      "/var/folders/k5/x_9mt5q1367c1vkp6jfrlcl80000gn/T/ipykernel_81885/730516147.py:32: SettingWithCopyWarning: \n",
      "A value is trying to be set on a copy of a slice from a DataFrame.\n",
      "Try using .loc[row_indexer,col_indexer] = value instead\n",
      "\n",
      "See the caveats in the documentation: https://pandas.pydata.org/pandas-docs/stable/user_guide/indexing.html#returning-a-view-versus-a-copy\n",
      "  df_cleaned[col] = df_cleaned[col].apply(lambda x: ''.join(c for c in x if c.isalnum() or c in special_chars))\n"
     ]
    },
    {
     "data": {
      "text/html": [
       "<div>\n",
       "<style scoped>\n",
       "    .dataframe tbody tr th:only-of-type {\n",
       "        vertical-align: middle;\n",
       "    }\n",
       "\n",
       "    .dataframe tbody tr th {\n",
       "        vertical-align: top;\n",
       "    }\n",
       "\n",
       "    .dataframe thead th {\n",
       "        text-align: right;\n",
       "    }\n",
       "</style>\n",
       "<table border=\"1\" class=\"dataframe\">\n",
       "  <thead>\n",
       "    <tr style=\"text-align: right;\">\n",
       "      <th></th>\n",
       "      <th>BRAND</th>\n",
       "      <th>OFFER</th>\n",
       "      <th>idx</th>\n",
       "    </tr>\n",
       "  </thead>\n",
       "  <tbody>\n",
       "    <tr>\n",
       "      <th>1</th>\n",
       "      <td>BEYOND MEAT</td>\n",
       "      <td>Beyond Meat Plant-Based products, spend 25</td>\n",
       "      <td>1</td>\n",
       "    </tr>\n",
       "    <tr>\n",
       "      <th>2</th>\n",
       "      <td>GOOD HUMOR</td>\n",
       "      <td>Good Humor Viennetta Frozen Vanilla Cake</td>\n",
       "      <td>2</td>\n",
       "    </tr>\n",
       "    <tr>\n",
       "      <th>3</th>\n",
       "      <td>BUTTERBALL</td>\n",
       "      <td>Butterball, select varieties, spend 10 at Dillons Food Store</td>\n",
       "      <td>3</td>\n",
       "    </tr>\n",
       "    <tr>\n",
       "      <th>4</th>\n",
       "      <td>GATORADE</td>\n",
       "      <td>GATORADE Fast Twitch, 12-ounce 12 pack, at Amazon Storefront</td>\n",
       "      <td>4</td>\n",
       "    </tr>\n",
       "    <tr>\n",
       "      <th>6</th>\n",
       "      <td>DR PEPPER</td>\n",
       "      <td>Dr Pepper, Regular OR Zero Sugar Strawberries and Cream 12 pack, at select retailers</td>\n",
       "      <td>6</td>\n",
       "    </tr>\n",
       "  </tbody>\n",
       "</table>\n",
       "</div>"
      ],
      "text/plain": [
       "         BRAND  \\\n",
       "1  BEYOND MEAT   \n",
       "2   GOOD HUMOR   \n",
       "3   BUTTERBALL   \n",
       "4     GATORADE   \n",
       "6    DR PEPPER   \n",
       "\n",
       "                                                                                  OFFER  \\\n",
       "1                                            Beyond Meat Plant-Based products, spend 25   \n",
       "2                                              Good Humor Viennetta Frozen Vanilla Cake   \n",
       "3                          Butterball, select varieties, spend 10 at Dillons Food Store   \n",
       "4                          GATORADE Fast Twitch, 12-ounce 12 pack, at Amazon Storefront   \n",
       "6  Dr Pepper, Regular OR Zero Sugar Strawberries and Cream 12 pack, at select retailers   \n",
       "\n",
       "   idx  \n",
       "1    1  \n",
       "2    2  \n",
       "3    3  \n",
       "4    4  \n",
       "6    6  "
      ]
     },
     "metadata": {},
     "output_type": "display_data"
    },
    {
     "name": "stdout",
     "output_type": "stream",
     "text": [
      "(285, 3)\n"
     ]
    }
   ],
   "source": [
    "brand_cleaned = clean_data(df, {\"target\": \"BRAND\", \"value\": \"OFFER\"})\n",
    "display(brand_cleaned.head())\n",
    "print(brand_cleaned.shape)"
   ]
  },
  {
   "cell_type": "code",
   "execution_count": 18,
   "metadata": {},
   "outputs": [],
   "source": [
    "# # write to csv\n",
    "# brand_cleaned.to_csv('brand_offer_cleaned.csv', index=False)"
   ]
  },
  {
   "cell_type": "code",
   "execution_count": 19,
   "metadata": {},
   "outputs": [
    {
     "data": {
      "text/plain": [
       "(238, 3)"
      ]
     },
     "execution_count": 19,
     "metadata": {},
     "output_type": "execute_result"
    }
   ],
   "source": [
    "df2 = df.copy().dropna(subset=['RETAILER'])\n",
    "df2.shape"
   ]
  },
  {
   "cell_type": "code",
   "execution_count": 20,
   "metadata": {},
   "outputs": [
    {
     "name": "stderr",
     "output_type": "stream",
     "text": [
      "/var/folders/k5/x_9mt5q1367c1vkp6jfrlcl80000gn/T/ipykernel_81885/730516147.py:19: SettingWithCopyWarning: \n",
      "A value is trying to be set on a copy of a slice from a DataFrame.\n",
      "Try using .loc[row_indexer,col_indexer] = value instead\n",
      "\n",
      "See the caveats in the documentation: https://pandas.pydata.org/pandas-docs/stable/user_guide/indexing.html#returning-a-view-versus-a-copy\n",
      "  df[target] = df[target].apply(lambda x: ''.join(c for c in x if c.isalnum() or c in special_chars))\n",
      "/var/folders/k5/x_9mt5q1367c1vkp6jfrlcl80000gn/T/ipykernel_81885/730516147.py:20: SettingWithCopyWarning: \n",
      "A value is trying to be set on a copy of a slice from a DataFrame.\n",
      "Try using .loc[row_indexer,col_indexer] = value instead\n",
      "\n",
      "See the caveats in the documentation: https://pandas.pydata.org/pandas-docs/stable/user_guide/indexing.html#returning-a-view-versus-a-copy\n",
      "  df[col] = df[col].apply(lambda x: ''.join(c for c in x if c.isalnum() or c in special_chars))\n",
      "/var/folders/k5/x_9mt5q1367c1vkp6jfrlcl80000gn/T/ipykernel_81885/730516147.py:31: SettingWithCopyWarning: \n",
      "A value is trying to be set on a copy of a slice from a DataFrame.\n",
      "Try using .loc[row_indexer,col_indexer] = value instead\n",
      "\n",
      "See the caveats in the documentation: https://pandas.pydata.org/pandas-docs/stable/user_guide/indexing.html#returning-a-view-versus-a-copy\n",
      "  df_cleaned[target] = df_cleaned[target].apply(lambda x: ''.join(c for c in x if c.isalnum() or c in special_chars))\n",
      "/var/folders/k5/x_9mt5q1367c1vkp6jfrlcl80000gn/T/ipykernel_81885/730516147.py:32: SettingWithCopyWarning: \n",
      "A value is trying to be set on a copy of a slice from a DataFrame.\n",
      "Try using .loc[row_indexer,col_indexer] = value instead\n",
      "\n",
      "See the caveats in the documentation: https://pandas.pydata.org/pandas-docs/stable/user_guide/indexing.html#returning-a-view-versus-a-copy\n",
      "  df_cleaned[col] = df_cleaned[col].apply(lambda x: ''.join(c for c in x if c.isalnum() or c in special_chars))\n"
     ]
    },
    {
     "data": {
      "text/html": [
       "<div>\n",
       "<style scoped>\n",
       "    .dataframe tbody tr th:only-of-type {\n",
       "        vertical-align: middle;\n",
       "    }\n",
       "\n",
       "    .dataframe tbody tr th {\n",
       "        vertical-align: top;\n",
       "    }\n",
       "\n",
       "    .dataframe thead th {\n",
       "        text-align: right;\n",
       "    }\n",
       "</style>\n",
       "<table border=\"1\" class=\"dataframe\">\n",
       "  <thead>\n",
       "    <tr style=\"text-align: right;\">\n",
       "      <th></th>\n",
       "      <th>RETAILER</th>\n",
       "      <th>OFFER</th>\n",
       "      <th>idx</th>\n",
       "    </tr>\n",
       "  </thead>\n",
       "  <tbody>\n",
       "    <tr>\n",
       "      <th>3</th>\n",
       "      <td>DILLONS FOOD STORE</td>\n",
       "      <td>Butterball, select varieties, spend 10 at Dillons Food Store</td>\n",
       "      <td>3</td>\n",
       "    </tr>\n",
       "    <tr>\n",
       "      <th>4</th>\n",
       "      <td>AMAZON</td>\n",
       "      <td>GATORADE Fast Twitch, 12-ounce 12 pack, at Amazon Storefront</td>\n",
       "      <td>4</td>\n",
       "    </tr>\n",
       "    <tr>\n",
       "      <th>7</th>\n",
       "      <td>WALMART</td>\n",
       "      <td>Arnold, Brownberry, Oroweat Small Slice bread, at Walmart</td>\n",
       "      <td>7</td>\n",
       "    </tr>\n",
       "    <tr>\n",
       "      <th>10</th>\n",
       "      <td>ALDI</td>\n",
       "      <td>Egglife Egg White Wraps at Aldi</td>\n",
       "      <td>10</td>\n",
       "    </tr>\n",
       "    <tr>\n",
       "      <th>11</th>\n",
       "      <td>ZAXBYS</td>\n",
       "      <td>Spend 20 at Zaxbys</td>\n",
       "      <td>11</td>\n",
       "    </tr>\n",
       "  </tbody>\n",
       "</table>\n",
       "</div>"
      ],
      "text/plain": [
       "              RETAILER  \\\n",
       "3   DILLONS FOOD STORE   \n",
       "4               AMAZON   \n",
       "7              WALMART   \n",
       "10                ALDI   \n",
       "11              ZAXBYS   \n",
       "\n",
       "                                                           OFFER  idx  \n",
       "3   Butterball, select varieties, spend 10 at Dillons Food Store    3  \n",
       "4   GATORADE Fast Twitch, 12-ounce 12 pack, at Amazon Storefront    4  \n",
       "7      Arnold, Brownberry, Oroweat Small Slice bread, at Walmart    7  \n",
       "10                               Egglife Egg White Wraps at Aldi   10  \n",
       "11                                            Spend 20 at Zaxbys   11  "
      ]
     },
     "metadata": {},
     "output_type": "display_data"
    },
    {
     "name": "stdout",
     "output_type": "stream",
     "text": [
      "(178, 3)\n"
     ]
    }
   ],
   "source": [
    "retailer_cleaned = clean_data(df2, {\"target\": \"RETAILER\", \"value\": \"OFFER\"})\n",
    "display(retailer_cleaned.head())\n",
    "print(retailer_cleaned.shape)"
   ]
  },
  {
   "cell_type": "code",
   "execution_count": 21,
   "metadata": {},
   "outputs": [],
   "source": [
    "# # write to csv\n",
    "# retailer_cleaned.to_csv('retailer_offer_cleaned.csv', index=False)"
   ]
  },
  {
   "cell_type": "code",
   "execution_count": 22,
   "metadata": {},
   "outputs": [],
   "source": [
    "# merge cleaned brand and retailer data based on index; each idx is unique so "
   ]
  },
  {
   "cell_type": "code",
   "execution_count": null,
   "metadata": {},
   "outputs": [],
   "source": []
  },
  {
   "cell_type": "markdown",
   "metadata": {},
   "source": [
    "## Prepare brand"
   ]
  },
  {
   "cell_type": "code",
   "execution_count": 23,
   "metadata": {},
   "outputs": [
    {
     "data": {
      "text/html": [
       "<div>\n",
       "<style scoped>\n",
       "    .dataframe tbody tr th:only-of-type {\n",
       "        vertical-align: middle;\n",
       "    }\n",
       "\n",
       "    .dataframe tbody tr th {\n",
       "        vertical-align: top;\n",
       "    }\n",
       "\n",
       "    .dataframe thead th {\n",
       "        text-align: right;\n",
       "    }\n",
       "</style>\n",
       "<table border=\"1\" class=\"dataframe\">\n",
       "  <thead>\n",
       "    <tr style=\"text-align: right;\">\n",
       "      <th></th>\n",
       "      <th>BRAND</th>\n",
       "      <th>OFFER</th>\n",
       "      <th>idx</th>\n",
       "    </tr>\n",
       "  </thead>\n",
       "  <tbody>\n",
       "    <tr>\n",
       "      <th>0</th>\n",
       "      <td>BEYOND MEAT</td>\n",
       "      <td>Beyond Meat Plant-Based products, spend 25</td>\n",
       "      <td>1</td>\n",
       "    </tr>\n",
       "    <tr>\n",
       "      <th>1</th>\n",
       "      <td>GOOD HUMOR</td>\n",
       "      <td>Good Humor Viennetta Frozen Vanilla Cake</td>\n",
       "      <td>2</td>\n",
       "    </tr>\n",
       "    <tr>\n",
       "      <th>2</th>\n",
       "      <td>BUTTERBALL</td>\n",
       "      <td>Butterball, select varieties, spend 10 at Dillons Food Store</td>\n",
       "      <td>3</td>\n",
       "    </tr>\n",
       "    <tr>\n",
       "      <th>3</th>\n",
       "      <td>GATORADE</td>\n",
       "      <td>GATORADE Fast Twitch, 12-ounce 12 pack, at Amazon Storefront</td>\n",
       "      <td>4</td>\n",
       "    </tr>\n",
       "    <tr>\n",
       "      <th>4</th>\n",
       "      <td>DR PEPPER</td>\n",
       "      <td>Dr Pepper, Regular OR Zero Sugar Strawberries and Cream 12 pack, at select retailers</td>\n",
       "      <td>6</td>\n",
       "    </tr>\n",
       "    <tr>\n",
       "      <th>5</th>\n",
       "      <td>BARILLA</td>\n",
       "      <td>Barilla Pesto Sauce</td>\n",
       "      <td>8</td>\n",
       "    </tr>\n",
       "    <tr>\n",
       "      <th>6</th>\n",
       "      <td>EGGLIFE</td>\n",
       "      <td>Egglife Egg White Wraps at Aldi</td>\n",
       "      <td>10</td>\n",
       "    </tr>\n",
       "    <tr>\n",
       "      <th>7</th>\n",
       "      <td>ZAXBYS</td>\n",
       "      <td>Spend 20 at Zaxbys</td>\n",
       "      <td>11</td>\n",
       "    </tr>\n",
       "    <tr>\n",
       "      <th>8</th>\n",
       "      <td>SUBWAY</td>\n",
       "      <td>Spend 10 at Subway</td>\n",
       "      <td>12</td>\n",
       "    </tr>\n",
       "    <tr>\n",
       "      <th>9</th>\n",
       "      <td>DOVE CHOCOLATE</td>\n",
       "      <td>DOVE Chocolate, select sizes, buy 1</td>\n",
       "      <td>13</td>\n",
       "    </tr>\n",
       "  </tbody>\n",
       "</table>\n",
       "</div>"
      ],
      "text/plain": [
       "            BRAND  \\\n",
       "0     BEYOND MEAT   \n",
       "1      GOOD HUMOR   \n",
       "2      BUTTERBALL   \n",
       "3        GATORADE   \n",
       "4       DR PEPPER   \n",
       "5         BARILLA   \n",
       "6         EGGLIFE   \n",
       "7          ZAXBYS   \n",
       "8          SUBWAY   \n",
       "9  DOVE CHOCOLATE   \n",
       "\n",
       "                                                                                  OFFER  \\\n",
       "0                                            Beyond Meat Plant-Based products, spend 25   \n",
       "1                                              Good Humor Viennetta Frozen Vanilla Cake   \n",
       "2                          Butterball, select varieties, spend 10 at Dillons Food Store   \n",
       "3                          GATORADE Fast Twitch, 12-ounce 12 pack, at Amazon Storefront   \n",
       "4  Dr Pepper, Regular OR Zero Sugar Strawberries and Cream 12 pack, at select retailers   \n",
       "5                                                                   Barilla Pesto Sauce   \n",
       "6                                                       Egglife Egg White Wraps at Aldi   \n",
       "7                                                                    Spend 20 at Zaxbys   \n",
       "8                                                                    Spend 10 at Subway   \n",
       "9                                                   DOVE Chocolate, select sizes, buy 1   \n",
       "\n",
       "   idx  \n",
       "0    1  \n",
       "1    2  \n",
       "2    3  \n",
       "3    4  \n",
       "4    6  \n",
       "5    8  \n",
       "6   10  \n",
       "7   11  \n",
       "8   12  \n",
       "9   13  "
      ]
     },
     "execution_count": 23,
     "metadata": {},
     "output_type": "execute_result"
    }
   ],
   "source": [
    "# read csv\n",
    "brand_cleaned = pd.read_csv('brand_offer_cleaned.csv')\n",
    "brand_cleaned.head(10)"
   ]
  },
  {
   "cell_type": "markdown",
   "metadata": {},
   "source": [
    "## Prepare retailer"
   ]
  },
  {
   "cell_type": "code",
   "execution_count": 25,
   "metadata": {},
   "outputs": [
    {
     "data": {
      "text/html": [
       "<div>\n",
       "<style scoped>\n",
       "    .dataframe tbody tr th:only-of-type {\n",
       "        vertical-align: middle;\n",
       "    }\n",
       "\n",
       "    .dataframe tbody tr th {\n",
       "        vertical-align: top;\n",
       "    }\n",
       "\n",
       "    .dataframe thead th {\n",
       "        text-align: right;\n",
       "    }\n",
       "</style>\n",
       "<table border=\"1\" class=\"dataframe\">\n",
       "  <thead>\n",
       "    <tr style=\"text-align: right;\">\n",
       "      <th></th>\n",
       "      <th>RETAILER</th>\n",
       "      <th>OFFER</th>\n",
       "      <th>idx</th>\n",
       "    </tr>\n",
       "  </thead>\n",
       "  <tbody>\n",
       "    <tr>\n",
       "      <th>0</th>\n",
       "      <td>DILLONS FOOD STORE</td>\n",
       "      <td>Butterball, select varieties, spend 10 at Dillons Food Store</td>\n",
       "      <td>3</td>\n",
       "    </tr>\n",
       "    <tr>\n",
       "      <th>1</th>\n",
       "      <td>AMAZON</td>\n",
       "      <td>GATORADE Fast Twitch, 12-ounce 12 pack, at Amazon Storefront</td>\n",
       "      <td>4</td>\n",
       "    </tr>\n",
       "    <tr>\n",
       "      <th>2</th>\n",
       "      <td>WALMART</td>\n",
       "      <td>Arnold, Brownberry, Oroweat Small Slice bread, at Walmart</td>\n",
       "      <td>7</td>\n",
       "    </tr>\n",
       "    <tr>\n",
       "      <th>3</th>\n",
       "      <td>ALDI</td>\n",
       "      <td>Egglife Egg White Wraps at Aldi</td>\n",
       "      <td>10</td>\n",
       "    </tr>\n",
       "    <tr>\n",
       "      <th>4</th>\n",
       "      <td>ZAXBYS</td>\n",
       "      <td>Spend 20 at Zaxbys</td>\n",
       "      <td>11</td>\n",
       "    </tr>\n",
       "    <tr>\n",
       "      <th>5</th>\n",
       "      <td>SUBWAY</td>\n",
       "      <td>Spend 10 at Subway</td>\n",
       "      <td>12</td>\n",
       "    </tr>\n",
       "    <tr>\n",
       "      <th>6</th>\n",
       "      <td>TARGET</td>\n",
       "      <td>Beyond Steak Plant-Based seared tips, 10 ounce at Target</td>\n",
       "      <td>17</td>\n",
       "    </tr>\n",
       "    <tr>\n",
       "      <th>7</th>\n",
       "      <td>SHAWS</td>\n",
       "      <td>Spend 140 at Shaws</td>\n",
       "      <td>20</td>\n",
       "    </tr>\n",
       "    <tr>\n",
       "      <th>8</th>\n",
       "      <td>TARGET</td>\n",
       "      <td>LOréal Paris Hair color, select varieties, spend 19 at Target</td>\n",
       "      <td>21</td>\n",
       "    </tr>\n",
       "    <tr>\n",
       "      <th>9</th>\n",
       "      <td>ACME</td>\n",
       "      <td>Shop 2 times at ACME</td>\n",
       "      <td>24</td>\n",
       "    </tr>\n",
       "  </tbody>\n",
       "</table>\n",
       "</div>"
      ],
      "text/plain": [
       "             RETAILER  \\\n",
       "0  DILLONS FOOD STORE   \n",
       "1              AMAZON   \n",
       "2             WALMART   \n",
       "3                ALDI   \n",
       "4              ZAXBYS   \n",
       "5              SUBWAY   \n",
       "6              TARGET   \n",
       "7               SHAWS   \n",
       "8              TARGET   \n",
       "9                ACME   \n",
       "\n",
       "                                                           OFFER  idx  \n",
       "0   Butterball, select varieties, spend 10 at Dillons Food Store    3  \n",
       "1   GATORADE Fast Twitch, 12-ounce 12 pack, at Amazon Storefront    4  \n",
       "2      Arnold, Brownberry, Oroweat Small Slice bread, at Walmart    7  \n",
       "3                                Egglife Egg White Wraps at Aldi   10  \n",
       "4                                             Spend 20 at Zaxbys   11  \n",
       "5                                             Spend 10 at Subway   12  \n",
       "6       Beyond Steak Plant-Based seared tips, 10 ounce at Target   17  \n",
       "7                                             Spend 140 at Shaws   20  \n",
       "8  LOréal Paris Hair color, select varieties, spend 19 at Target   21  \n",
       "9                                           Shop 2 times at ACME   24  "
      ]
     },
     "execution_count": 25,
     "metadata": {},
     "output_type": "execute_result"
    }
   ],
   "source": [
    "# read csv\n",
    "retailer_cleaned = pd.read_csv('retailer_offer_cleaned.csv')\n",
    "retailer_cleaned.head(10)"
   ]
  },
  {
   "cell_type": "code",
   "execution_count": null,
   "metadata": {},
   "outputs": [],
   "source": []
  },
  {
   "cell_type": "code",
   "execution_count": 26,
   "metadata": {},
   "outputs": [
    {
     "data": {
      "text/html": [
       "<div>\n",
       "<style scoped>\n",
       "    .dataframe tbody tr th:only-of-type {\n",
       "        vertical-align: middle;\n",
       "    }\n",
       "\n",
       "    .dataframe tbody tr th {\n",
       "        vertical-align: top;\n",
       "    }\n",
       "\n",
       "    .dataframe thead th {\n",
       "        text-align: right;\n",
       "    }\n",
       "</style>\n",
       "<table border=\"1\" class=\"dataframe\">\n",
       "  <thead>\n",
       "    <tr style=\"text-align: right;\">\n",
       "      <th></th>\n",
       "      <th>OFFER</th>\n",
       "      <th>RETAILER</th>\n",
       "      <th>BRAND</th>\n",
       "    </tr>\n",
       "  </thead>\n",
       "  <tbody>\n",
       "    <tr>\n",
       "      <th>6</th>\n",
       "      <td>Dr Pepper®, Regular OR Zero Sugar Strawberries and Cream 12 pack, at select retailers</td>\n",
       "      <td>UNITED SUPERMARKETS</td>\n",
       "      <td>DR PEPPER</td>\n",
       "    </tr>\n",
       "  </tbody>\n",
       "</table>\n",
       "</div>"
      ],
      "text/plain": [
       "                                                                                   OFFER  \\\n",
       "6  Dr Pepper®, Regular OR Zero Sugar Strawberries and Cream 12 pack, at select retailers   \n",
       "\n",
       "              RETAILER      BRAND  \n",
       "6  UNITED SUPERMARKETS  DR PEPPER  "
      ]
     },
     "execution_count": 26,
     "metadata": {},
     "output_type": "execute_result"
    }
   ],
   "source": [
    "df[df[\"BRAND\"].eq(\"DR PEPPER\")]"
   ]
  },
  {
   "cell_type": "code",
   "execution_count": null,
   "metadata": {},
   "outputs": [],
   "source": []
  }
 ],
 "metadata": {
  "environment": {
   "kernel": "python3",
   "name": "tf2-cpu.2-11.m112",
   "type": "gcloud",
   "uri": "gcr.io/deeplearning-platform-release/tf2-cpu.2-11:m112"
  },
  "kernelspec": {
   "display_name": "Python 3",
   "language": "python",
   "name": "python3"
  },
  "language_info": {
   "codemirror_mode": {
    "name": "ipython",
    "version": 3
   },
   "file_extension": ".py",
   "mimetype": "text/x-python",
   "name": "python",
   "nbconvert_exporter": "python",
   "pygments_lexer": "ipython3",
   "version": "3.11.5"
  }
 },
 "nbformat": 4,
 "nbformat_minor": 4
}
