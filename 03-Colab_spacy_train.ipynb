{
  "nbformat": 4,
  "nbformat_minor": 0,
  "metadata": {
    "colab": {
      "provenance": []
    },
    "kernelspec": {
      "name": "python3",
      "display_name": "Python 3"
    },
    "language_info": {
      "name": "python"
    }
  },
  "cells": [
    {
      "cell_type": "code",
      "source": [
        "# Load the Drive helper and mount\n",
        "from google.colab import drive\n",
        "import os\n",
        "# This will prompt for authorization.\n",
        "drive.mount('/content/drive/')\n",
        "path_gdrive = '/content/drive/MyDrive/Colab Datasets/Fetch'\n",
        "os.chdir(path_gdrive)\n",
        "print(os.getcwd())"
      ],
      "metadata": {
        "colab": {
          "base_uri": "https://localhost:8080/"
        },
        "id": "zjZQsusQ0GGV",
        "outputId": "5db2ef22-9405-4681-a9dc-48aaafc3e8eb"
      },
      "execution_count": null,
      "outputs": [
        {
          "output_type": "stream",
          "name": "stdout",
          "text": [
            "Drive already mounted at /content/drive/; to attempt to forcibly remount, call drive.mount(\"/content/drive/\", force_remount=True).\n",
            "/content/drive/MyDrive/Colab Datasets/Fetch\n"
          ]
        }
      ]
    },
    {
      "cell_type": "code",
      "source": [
        "!ls"
      ],
      "metadata": {
        "colab": {
          "base_uri": "https://localhost:8080/"
        },
        "id": "UocXp6Vg0GIz",
        "outputId": "992a7ad7-1f6c-4198-c16e-b26524ff11c8"
      },
      "execution_count": null,
      "outputs": [
        {
          "output_type": "stream",
          "name": "stdout",
          "text": [
            " Colab_spacy_train.ipynb   corpus  'Fetch _ Data Scientist, NLP.pdf'   project.yml\n",
            " config_transformer.cfg    data     models\t\t\t       Untitled0.ipynb\n"
          ]
        }
      ]
    },
    {
      "cell_type": "code",
      "source": [
        "!pwd"
      ],
      "metadata": {
        "colab": {
          "base_uri": "https://localhost:8080/"
        },
        "id": "GOH7tgu60T2_",
        "outputId": "7e82600a-aef9-4a8f-ad65-442e9cd14707"
      },
      "execution_count": null,
      "outputs": [
        {
          "output_type": "stream",
          "name": "stdout",
          "text": [
            "/content/drive/MyDrive/Colab Datasets/Fetch\n"
          ]
        }
      ]
    },
    {
      "cell_type": "code",
      "source": [
        "!pip install spacy-transformers"
      ],
      "metadata": {
        "colab": {
          "base_uri": "https://localhost:8080/"
        },
        "id": "9hi4u-rO1NQe",
        "outputId": "33e3c448-7cc5-4554-cd3e-9cb5538b4f39"
      },
      "execution_count": null,
      "outputs": [
        {
          "output_type": "stream",
          "name": "stdout",
          "text": [
            "Collecting spacy-transformers\n",
            "  Downloading spacy_transformers-1.3.2-cp310-cp310-manylinux_2_17_x86_64.manylinux2014_x86_64.whl (197 kB)\n",
            "\u001b[2K     \u001b[90m━━━━━━━━━━━━━━━━━━━━━━━━━━━━━━━━━━━━━━━━\u001b[0m \u001b[32m197.8/197.8 kB\u001b[0m \u001b[31m3.9 MB/s\u001b[0m eta \u001b[36m0:00:00\u001b[0m\n",
            "\u001b[?25hRequirement already satisfied: spacy<4.0.0,>=3.5.0 in /usr/local/lib/python3.10/dist-packages (from spacy-transformers) (3.6.1)\n",
            "Collecting transformers<4.35.0,>=3.4.0 (from spacy-transformers)\n",
            "  Downloading transformers-4.34.1-py3-none-any.whl (7.7 MB)\n",
            "\u001b[2K     \u001b[90m━━━━━━━━━━━━━━━━━━━━━━━━━━━━━━━━━━━━━━━━\u001b[0m \u001b[32m7.7/7.7 MB\u001b[0m \u001b[31m71.3 MB/s\u001b[0m eta \u001b[36m0:00:00\u001b[0m\n",
            "\u001b[?25hRequirement already satisfied: torch>=1.8.0 in /usr/local/lib/python3.10/dist-packages (from spacy-transformers) (2.1.0+cu118)\n",
            "Requirement already satisfied: srsly<3.0.0,>=2.4.0 in /usr/local/lib/python3.10/dist-packages (from spacy-transformers) (2.4.8)\n",
            "Collecting spacy-alignments<1.0.0,>=0.7.2 (from spacy-transformers)\n",
            "  Downloading spacy_alignments-0.9.1-cp310-cp310-manylinux_2_17_x86_64.manylinux2014_x86_64.whl (313 kB)\n",
            "\u001b[2K     \u001b[90m━━━━━━━━━━━━━━━━━━━━━━━━━━━━━━━━━━━━━━━━\u001b[0m \u001b[32m314.0/314.0 kB\u001b[0m \u001b[31m35.1 MB/s\u001b[0m eta \u001b[36m0:00:00\u001b[0m\n",
            "\u001b[?25hRequirement already satisfied: numpy>=1.19.0 in /usr/local/lib/python3.10/dist-packages (from spacy-transformers) (1.23.5)\n",
            "Requirement already satisfied: spacy-legacy<3.1.0,>=3.0.11 in /usr/local/lib/python3.10/dist-packages (from spacy<4.0.0,>=3.5.0->spacy-transformers) (3.0.12)\n",
            "Requirement already satisfied: spacy-loggers<2.0.0,>=1.0.0 in /usr/local/lib/python3.10/dist-packages (from spacy<4.0.0,>=3.5.0->spacy-transformers) (1.0.5)\n",
            "Requirement already satisfied: murmurhash<1.1.0,>=0.28.0 in /usr/local/lib/python3.10/dist-packages (from spacy<4.0.0,>=3.5.0->spacy-transformers) (1.0.10)\n",
            "Requirement already satisfied: cymem<2.1.0,>=2.0.2 in /usr/local/lib/python3.10/dist-packages (from spacy<4.0.0,>=3.5.0->spacy-transformers) (2.0.8)\n",
            "Requirement already satisfied: preshed<3.1.0,>=3.0.2 in /usr/local/lib/python3.10/dist-packages (from spacy<4.0.0,>=3.5.0->spacy-transformers) (3.0.9)\n",
            "Requirement already satisfied: thinc<8.2.0,>=8.1.8 in /usr/local/lib/python3.10/dist-packages (from spacy<4.0.0,>=3.5.0->spacy-transformers) (8.1.12)\n",
            "Requirement already satisfied: wasabi<1.2.0,>=0.9.1 in /usr/local/lib/python3.10/dist-packages (from spacy<4.0.0,>=3.5.0->spacy-transformers) (1.1.2)\n",
            "Requirement already satisfied: catalogue<2.1.0,>=2.0.6 in /usr/local/lib/python3.10/dist-packages (from spacy<4.0.0,>=3.5.0->spacy-transformers) (2.0.10)\n",
            "Requirement already satisfied: typer<0.10.0,>=0.3.0 in /usr/local/lib/python3.10/dist-packages (from spacy<4.0.0,>=3.5.0->spacy-transformers) (0.9.0)\n",
            "Requirement already satisfied: pathy>=0.10.0 in /usr/local/lib/python3.10/dist-packages (from spacy<4.0.0,>=3.5.0->spacy-transformers) (0.10.2)\n",
            "Requirement already satisfied: smart-open<7.0.0,>=5.2.1 in /usr/local/lib/python3.10/dist-packages (from spacy<4.0.0,>=3.5.0->spacy-transformers) (6.4.0)\n",
            "Requirement already satisfied: tqdm<5.0.0,>=4.38.0 in /usr/local/lib/python3.10/dist-packages (from spacy<4.0.0,>=3.5.0->spacy-transformers) (4.66.1)\n",
            "Requirement already satisfied: requests<3.0.0,>=2.13.0 in /usr/local/lib/python3.10/dist-packages (from spacy<4.0.0,>=3.5.0->spacy-transformers) (2.31.0)\n",
            "Requirement already satisfied: pydantic!=1.8,!=1.8.1,<3.0.0,>=1.7.4 in /usr/local/lib/python3.10/dist-packages (from spacy<4.0.0,>=3.5.0->spacy-transformers) (1.10.13)\n",
            "Requirement already satisfied: jinja2 in /usr/local/lib/python3.10/dist-packages (from spacy<4.0.0,>=3.5.0->spacy-transformers) (3.1.2)\n",
            "Requirement already satisfied: setuptools in /usr/local/lib/python3.10/dist-packages (from spacy<4.0.0,>=3.5.0->spacy-transformers) (67.7.2)\n",
            "Requirement already satisfied: packaging>=20.0 in /usr/local/lib/python3.10/dist-packages (from spacy<4.0.0,>=3.5.0->spacy-transformers) (23.2)\n",
            "Requirement already satisfied: langcodes<4.0.0,>=3.2.0 in /usr/local/lib/python3.10/dist-packages (from spacy<4.0.0,>=3.5.0->spacy-transformers) (3.3.0)\n",
            "Requirement already satisfied: filelock in /usr/local/lib/python3.10/dist-packages (from torch>=1.8.0->spacy-transformers) (3.12.4)\n",
            "Requirement already satisfied: typing-extensions in /usr/local/lib/python3.10/dist-packages (from torch>=1.8.0->spacy-transformers) (4.5.0)\n",
            "Requirement already satisfied: sympy in /usr/local/lib/python3.10/dist-packages (from torch>=1.8.0->spacy-transformers) (1.12)\n",
            "Requirement already satisfied: networkx in /usr/local/lib/python3.10/dist-packages (from torch>=1.8.0->spacy-transformers) (3.2)\n",
            "Requirement already satisfied: fsspec in /usr/local/lib/python3.10/dist-packages (from torch>=1.8.0->spacy-transformers) (2023.6.0)\n",
            "Requirement already satisfied: triton==2.1.0 in /usr/local/lib/python3.10/dist-packages (from torch>=1.8.0->spacy-transformers) (2.1.0)\n",
            "Collecting huggingface-hub<1.0,>=0.16.4 (from transformers<4.35.0,>=3.4.0->spacy-transformers)\n",
            "  Downloading huggingface_hub-0.18.0-py3-none-any.whl (301 kB)\n",
            "\u001b[2K     \u001b[90m━━━━━━━━━━━━━━━━━━━━━━━━━━━━━━━━━━━━━━━━\u001b[0m \u001b[32m302.0/302.0 kB\u001b[0m \u001b[31m31.3 MB/s\u001b[0m eta \u001b[36m0:00:00\u001b[0m\n",
            "\u001b[?25hRequirement already satisfied: pyyaml>=5.1 in /usr/local/lib/python3.10/dist-packages (from transformers<4.35.0,>=3.4.0->spacy-transformers) (6.0.1)\n",
            "Requirement already satisfied: regex!=2019.12.17 in /usr/local/lib/python3.10/dist-packages (from transformers<4.35.0,>=3.4.0->spacy-transformers) (2023.6.3)\n",
            "Collecting tokenizers<0.15,>=0.14 (from transformers<4.35.0,>=3.4.0->spacy-transformers)\n",
            "  Downloading tokenizers-0.14.1-cp310-cp310-manylinux_2_17_x86_64.manylinux2014_x86_64.whl (3.8 MB)\n",
            "\u001b[2K     \u001b[90m━━━━━━━━━━━━━━━━━━━━━━━━━━━━━━━━━━━━━━━━\u001b[0m \u001b[32m3.8/3.8 MB\u001b[0m \u001b[31m82.8 MB/s\u001b[0m eta \u001b[36m0:00:00\u001b[0m\n",
            "\u001b[?25hCollecting safetensors>=0.3.1 (from transformers<4.35.0,>=3.4.0->spacy-transformers)\n",
            "  Downloading safetensors-0.4.0-cp310-cp310-manylinux_2_17_x86_64.manylinux2014_x86_64.whl (1.3 MB)\n",
            "\u001b[2K     \u001b[90m━━━━━━━━━━━━━━━━━━━━━━━━━━━━━━━━━━━━━━━━\u001b[0m \u001b[32m1.3/1.3 MB\u001b[0m \u001b[31m75.4 MB/s\u001b[0m eta \u001b[36m0:00:00\u001b[0m\n",
            "\u001b[?25hRequirement already satisfied: charset-normalizer<4,>=2 in /usr/local/lib/python3.10/dist-packages (from requests<3.0.0,>=2.13.0->spacy<4.0.0,>=3.5.0->spacy-transformers) (3.3.0)\n",
            "Requirement already satisfied: idna<4,>=2.5 in /usr/local/lib/python3.10/dist-packages (from requests<3.0.0,>=2.13.0->spacy<4.0.0,>=3.5.0->spacy-transformers) (3.4)\n",
            "Requirement already satisfied: urllib3<3,>=1.21.1 in /usr/local/lib/python3.10/dist-packages (from requests<3.0.0,>=2.13.0->spacy<4.0.0,>=3.5.0->spacy-transformers) (2.0.7)\n",
            "Requirement already satisfied: certifi>=2017.4.17 in /usr/local/lib/python3.10/dist-packages (from requests<3.0.0,>=2.13.0->spacy<4.0.0,>=3.5.0->spacy-transformers) (2023.7.22)\n",
            "Requirement already satisfied: blis<0.8.0,>=0.7.8 in /usr/local/lib/python3.10/dist-packages (from thinc<8.2.0,>=8.1.8->spacy<4.0.0,>=3.5.0->spacy-transformers) (0.7.11)\n",
            "Requirement already satisfied: confection<1.0.0,>=0.0.1 in /usr/local/lib/python3.10/dist-packages (from thinc<8.2.0,>=8.1.8->spacy<4.0.0,>=3.5.0->spacy-transformers) (0.1.3)\n",
            "Collecting huggingface-hub<1.0,>=0.16.4 (from transformers<4.35.0,>=3.4.0->spacy-transformers)\n",
            "  Downloading huggingface_hub-0.17.3-py3-none-any.whl (295 kB)\n",
            "\u001b[2K     \u001b[90m━━━━━━━━━━━━━━━━━━━━━━━━━━━━━━━━━━━━━━━━\u001b[0m \u001b[32m295.0/295.0 kB\u001b[0m \u001b[31m30.1 MB/s\u001b[0m eta \u001b[36m0:00:00\u001b[0m\n",
            "\u001b[?25hRequirement already satisfied: click<9.0.0,>=7.1.1 in /usr/local/lib/python3.10/dist-packages (from typer<0.10.0,>=0.3.0->spacy<4.0.0,>=3.5.0->spacy-transformers) (8.1.7)\n",
            "Requirement already satisfied: MarkupSafe>=2.0 in /usr/local/lib/python3.10/dist-packages (from jinja2->spacy<4.0.0,>=3.5.0->spacy-transformers) (2.1.3)\n",
            "Requirement already satisfied: mpmath>=0.19 in /usr/local/lib/python3.10/dist-packages (from sympy->torch>=1.8.0->spacy-transformers) (1.3.0)\n",
            "Installing collected packages: spacy-alignments, safetensors, huggingface-hub, tokenizers, transformers, spacy-transformers\n",
            "Successfully installed huggingface-hub-0.17.3 safetensors-0.4.0 spacy-alignments-0.9.1 spacy-transformers-1.3.2 tokenizers-0.14.1 transformers-4.34.1\n"
          ]
        }
      ]
    },
    {
      "cell_type": "markdown",
      "source": [
        "## Train on brand NER"
      ],
      "metadata": {
        "id": "ukKCQ35G9_po"
      }
    },
    {
      "cell_type": "code",
      "source": [
        "!python -m spacy train config_transformer.cfg --output models/ --paths.train corpus/train.spacy --paths.dev corpus/dev.spacy --gpu-id 0"
      ],
      "metadata": {
        "colab": {
          "base_uri": "https://localhost:8080/"
        },
        "id": "1IypxWQG0T8B",
        "outputId": "be65af1c-04f6-426e-9457-36340e16fc04"
      },
      "execution_count": null,
      "outputs": [
        {
          "output_type": "stream",
          "name": "stdout",
          "text": [
            "2023-10-25 04:32:41.086819: E tensorflow/compiler/xla/stream_executor/cuda/cuda_dnn.cc:9342] Unable to register cuDNN factory: Attempting to register factory for plugin cuDNN when one has already been registered\n",
            "2023-10-25 04:32:41.086876: E tensorflow/compiler/xla/stream_executor/cuda/cuda_fft.cc:609] Unable to register cuFFT factory: Attempting to register factory for plugin cuFFT when one has already been registered\n",
            "2023-10-25 04:32:41.086910: E tensorflow/compiler/xla/stream_executor/cuda/cuda_blas.cc:1518] Unable to register cuBLAS factory: Attempting to register factory for plugin cuBLAS when one has already been registered\n",
            "2023-10-25 04:32:41.094502: I tensorflow/core/platform/cpu_feature_guard.cc:182] This TensorFlow binary is optimized to use available CPU instructions in performance-critical operations.\n",
            "To enable the following instructions: AVX2 FMA, in other operations, rebuild TensorFlow with the appropriate compiler flags.\n",
            "2023-10-25 04:32:42.192266: W tensorflow/compiler/tf2tensorrt/utils/py_utils.cc:38] TF-TRT Warning: Could not find TensorRT\n",
            "2023-10-25 04:32:44.101139: I tensorflow/compiler/xla/stream_executor/cuda/cuda_gpu_executor.cc:894] successful NUMA node read from SysFS had negative value (-1), but there must be at least one NUMA node, so returning NUMA node zero. See more at https://github.com/torvalds/linux/blob/v6.0/Documentation/ABI/testing/sysfs-bus-pci#L344-L355\n",
            "2023-10-25 04:32:44.101745: I tensorflow/compiler/xla/stream_executor/cuda/cuda_gpu_executor.cc:894] successful NUMA node read from SysFS had negative value (-1), but there must be at least one NUMA node, so returning NUMA node zero. See more at https://github.com/torvalds/linux/blob/v6.0/Documentation/ABI/testing/sysfs-bus-pci#L344-L355\n",
            "2023-10-25 04:32:44.101963: I tensorflow/compiler/xla/stream_executor/cuda/cuda_gpu_executor.cc:894] successful NUMA node read from SysFS had negative value (-1), but there must be at least one NUMA node, so returning NUMA node zero. See more at https://github.com/torvalds/linux/blob/v6.0/Documentation/ABI/testing/sysfs-bus-pci#L344-L355\n",
            "\u001b[38;5;4mℹ Saving to output directory: models\u001b[0m\n",
            "\u001b[38;5;4mℹ Using GPU: 0\u001b[0m\n",
            "\u001b[1m\n",
            "=========================== Initializing pipeline ===========================\u001b[0m\n",
            "Downloading (…)okenizer_config.json: 100% 59.0/59.0 [00:00<00:00, 351kB/s]\n",
            "Downloading (…)lve/main/config.json: 100% 829/829 [00:00<00:00, 4.69MB/s]\n",
            "Downloading (…)solve/main/vocab.txt: 100% 213k/213k [00:00<00:00, 1.09MB/s]\n",
            "Downloading (…)in/added_tokens.json: 100% 2.00/2.00 [00:00<00:00, 11.3kB/s]\n",
            "Downloading (…)cial_tokens_map.json: 100% 112/112 [00:00<00:00, 629kB/s]\n",
            "Downloading model.safetensors: 100% 433M/433M [00:23<00:00, 18.8MB/s]\n",
            "\u001b[38;5;2m✔ Initialized pipeline\u001b[0m\n",
            "\u001b[1m\n",
            "============================= Training pipeline =============================\u001b[0m\n",
            "\u001b[38;5;4mℹ Pipeline: ['transformer', 'ner']\u001b[0m\n",
            "\u001b[38;5;4mℹ Initial learn rate: 0.0\u001b[0m\n",
            "E    #       LOSS TRANS...  LOSS NER  ENTS_F  ENTS_P  ENTS_R  SCORE \n",
            "---  ------  -------------  --------  ------  ------  ------  ------\n",
            "  0       0         576.22    453.42   13.94    9.48   26.32    0.14\n",
            "100     200       21203.24  23940.32   88.89   88.31   89.47    0.89\n",
            "200     400           0.00    316.27   90.07   90.67   89.47    0.90\n",
            "300     600           1.58    308.27   88.74   89.33   88.16    0.89\n",
            "400     800          30.78    338.28   91.39   92.00   90.79    0.91\n",
            "500    1000           6.35    292.41   92.21   91.03   93.42    0.92\n",
            "600    1200           1.00    276.68   92.21   91.03   93.42    0.92\n",
            "700    1400           3.93    272.53   90.79   90.79   90.79    0.91\n",
            "800    1600           0.00    249.77   90.79   90.79   90.79    0.91\n",
            "900    1800           0.00    238.44   90.79   90.79   90.79    0.91\n",
            "1000    2000           0.00    223.54   90.79   90.79   90.79    0.91\n",
            "1100    2200           0.00    208.17   90.79   90.79   90.79    0.91\n",
            "1200    2400          21.46    217.55   91.50   90.91   92.11    0.92\n",
            "1300    2600           2.49    176.41   93.42   93.42   93.42    0.93\n",
            "1400    2800           1.16    156.54   91.50   90.91   92.11    0.92\n",
            "1500    3000           0.00    136.26   90.20   89.61   90.79    0.90\n",
            "1600    3200           0.00    117.72   91.50   90.91   92.11    0.92\n",
            "1700    3400           0.00     99.77   92.11   92.11   92.11    0.92\n",
            "1800    3600           0.00     81.52   91.50   90.91   92.11    0.92\n",
            "1900    3800           0.00     65.55   91.50   90.91   92.11    0.92\n",
            "2000    4000           0.00     50.48   91.50   90.91   92.11    0.92\n",
            "2100    4200           0.00     37.89   91.50   90.91   92.11    0.92\n",
            "\u001b[38;5;2m✔ Saved pipeline to output directory\u001b[0m\n",
            "models/model-last\n"
          ]
        }
      ]
    },
    {
      "cell_type": "markdown",
      "source": [
        "## Test"
      ],
      "metadata": {
        "id": "JX3BlTlm6p4r"
      }
    },
    {
      "cell_type": "code",
      "source": [
        "import spacy\n",
        "import pandas as pd\n",
        "nlp = spacy.load('models/model-last')\n",
        "val = pd.read_csv('./data/val.csv')"
      ],
      "metadata": {
        "id": "TlpBnu766pUz"
      },
      "execution_count": null,
      "outputs": []
    },
    {
      "cell_type": "code",
      "source": [
        "from spacy.tokens import DocBin\n",
        "import srsly\n",
        "import spacy\n",
        "import spacy\n",
        "from spacy.training import offsets_to_biluo_tags"
      ],
      "metadata": {
        "id": "KyEuefMy7Ibt"
      },
      "execution_count": null,
      "outputs": []
    },
    {
      "cell_type": "code",
      "source": [
        "pd.set_option('display.max_colwidth', None)\n",
        "\n",
        "print(val.shape)\n",
        "val.head()"
      ],
      "metadata": {
        "colab": {
          "base_uri": "https://localhost:8080/",
          "height": 224
        },
        "id": "QpPrlDmH0UB0",
        "outputId": "c8ca452a-3cec-4a40-9570-9105a848dd15"
      },
      "execution_count": null,
      "outputs": [
        {
          "output_type": "stream",
          "name": "stdout",
          "text": [
            "(11, 4)\n"
          ]
        },
        {
          "output_type": "execute_result",
          "data": {
            "text/plain": [
              "                 BRAND  \\\n",
              "0             RANDALLS   \n",
              "1        SIMPLY SPIKED   \n",
              "2  HIDDEN VALLEY RANCH   \n",
              "3    BACK TO THE ROOTS   \n",
              "4               NEKTER   \n",
              "\n",
              "                                                      OFFER  idx RETAILER  \n",
              "0                                      Any Randalls receipt  269      NaN  \n",
              "1                            Simply Spiked Lemonade 12 pack   22      NaN  \n",
              "2          Hidden Valley Ranch Night Seasoning Mix, 1 count  314      NaN  \n",
              "3  Back to the Roots Grow Kits at Walmart or The Home Depot  328  WALMART  \n",
              "4                                        Spend 10 at Nekter  303      NaN  "
            ],
            "text/html": [
              "\n",
              "  <div id=\"df-9852fd63-4aa2-427c-839e-ae81f77c7a5b\" class=\"colab-df-container\">\n",
              "    <div>\n",
              "<style scoped>\n",
              "    .dataframe tbody tr th:only-of-type {\n",
              "        vertical-align: middle;\n",
              "    }\n",
              "\n",
              "    .dataframe tbody tr th {\n",
              "        vertical-align: top;\n",
              "    }\n",
              "\n",
              "    .dataframe thead th {\n",
              "        text-align: right;\n",
              "    }\n",
              "</style>\n",
              "<table border=\"1\" class=\"dataframe\">\n",
              "  <thead>\n",
              "    <tr style=\"text-align: right;\">\n",
              "      <th></th>\n",
              "      <th>BRAND</th>\n",
              "      <th>OFFER</th>\n",
              "      <th>idx</th>\n",
              "      <th>RETAILER</th>\n",
              "    </tr>\n",
              "  </thead>\n",
              "  <tbody>\n",
              "    <tr>\n",
              "      <th>0</th>\n",
              "      <td>RANDALLS</td>\n",
              "      <td>Any Randalls receipt</td>\n",
              "      <td>269</td>\n",
              "      <td>NaN</td>\n",
              "    </tr>\n",
              "    <tr>\n",
              "      <th>1</th>\n",
              "      <td>SIMPLY SPIKED</td>\n",
              "      <td>Simply Spiked Lemonade 12 pack</td>\n",
              "      <td>22</td>\n",
              "      <td>NaN</td>\n",
              "    </tr>\n",
              "    <tr>\n",
              "      <th>2</th>\n",
              "      <td>HIDDEN VALLEY RANCH</td>\n",
              "      <td>Hidden Valley Ranch Night Seasoning Mix, 1 count</td>\n",
              "      <td>314</td>\n",
              "      <td>NaN</td>\n",
              "    </tr>\n",
              "    <tr>\n",
              "      <th>3</th>\n",
              "      <td>BACK TO THE ROOTS</td>\n",
              "      <td>Back to the Roots Grow Kits at Walmart or The Home Depot</td>\n",
              "      <td>328</td>\n",
              "      <td>WALMART</td>\n",
              "    </tr>\n",
              "    <tr>\n",
              "      <th>4</th>\n",
              "      <td>NEKTER</td>\n",
              "      <td>Spend 10 at Nekter</td>\n",
              "      <td>303</td>\n",
              "      <td>NaN</td>\n",
              "    </tr>\n",
              "  </tbody>\n",
              "</table>\n",
              "</div>\n",
              "    <div class=\"colab-df-buttons\">\n",
              "\n",
              "  <div class=\"colab-df-container\">\n",
              "    <button class=\"colab-df-convert\" onclick=\"convertToInteractive('df-9852fd63-4aa2-427c-839e-ae81f77c7a5b')\"\n",
              "            title=\"Convert this dataframe to an interactive table.\"\n",
              "            style=\"display:none;\">\n",
              "\n",
              "  <svg xmlns=\"http://www.w3.org/2000/svg\" height=\"24px\" viewBox=\"0 -960 960 960\">\n",
              "    <path d=\"M120-120v-720h720v720H120Zm60-500h600v-160H180v160Zm220 220h160v-160H400v160Zm0 220h160v-160H400v160ZM180-400h160v-160H180v160Zm440 0h160v-160H620v160ZM180-180h160v-160H180v160Zm440 0h160v-160H620v160Z\"/>\n",
              "  </svg>\n",
              "    </button>\n",
              "\n",
              "  <style>\n",
              "    .colab-df-container {\n",
              "      display:flex;\n",
              "      gap: 12px;\n",
              "    }\n",
              "\n",
              "    .colab-df-convert {\n",
              "      background-color: #E8F0FE;\n",
              "      border: none;\n",
              "      border-radius: 50%;\n",
              "      cursor: pointer;\n",
              "      display: none;\n",
              "      fill: #1967D2;\n",
              "      height: 32px;\n",
              "      padding: 0 0 0 0;\n",
              "      width: 32px;\n",
              "    }\n",
              "\n",
              "    .colab-df-convert:hover {\n",
              "      background-color: #E2EBFA;\n",
              "      box-shadow: 0px 1px 2px rgba(60, 64, 67, 0.3), 0px 1px 3px 1px rgba(60, 64, 67, 0.15);\n",
              "      fill: #174EA6;\n",
              "    }\n",
              "\n",
              "    .colab-df-buttons div {\n",
              "      margin-bottom: 4px;\n",
              "    }\n",
              "\n",
              "    [theme=dark] .colab-df-convert {\n",
              "      background-color: #3B4455;\n",
              "      fill: #D2E3FC;\n",
              "    }\n",
              "\n",
              "    [theme=dark] .colab-df-convert:hover {\n",
              "      background-color: #434B5C;\n",
              "      box-shadow: 0px 1px 3px 1px rgba(0, 0, 0, 0.15);\n",
              "      filter: drop-shadow(0px 1px 2px rgba(0, 0, 0, 0.3));\n",
              "      fill: #FFFFFF;\n",
              "    }\n",
              "  </style>\n",
              "\n",
              "    <script>\n",
              "      const buttonEl =\n",
              "        document.querySelector('#df-9852fd63-4aa2-427c-839e-ae81f77c7a5b button.colab-df-convert');\n",
              "      buttonEl.style.display =\n",
              "        google.colab.kernel.accessAllowed ? 'block' : 'none';\n",
              "\n",
              "      async function convertToInteractive(key) {\n",
              "        const element = document.querySelector('#df-9852fd63-4aa2-427c-839e-ae81f77c7a5b');\n",
              "        const dataTable =\n",
              "          await google.colab.kernel.invokeFunction('convertToInteractive',\n",
              "                                                    [key], {});\n",
              "        if (!dataTable) return;\n",
              "\n",
              "        const docLinkHtml = 'Like what you see? Visit the ' +\n",
              "          '<a target=\"_blank\" href=https://colab.research.google.com/notebooks/data_table.ipynb>data table notebook</a>'\n",
              "          + ' to learn more about interactive tables.';\n",
              "        element.innerHTML = '';\n",
              "        dataTable['output_type'] = 'display_data';\n",
              "        await google.colab.output.renderOutput(dataTable, element);\n",
              "        const docLink = document.createElement('div');\n",
              "        docLink.innerHTML = docLinkHtml;\n",
              "        element.appendChild(docLink);\n",
              "      }\n",
              "    </script>\n",
              "  </div>\n",
              "\n",
              "\n",
              "<div id=\"df-3e9aeb18-57f9-4804-97f0-2f17efaf1a03\">\n",
              "  <button class=\"colab-df-quickchart\" onclick=\"quickchart('df-3e9aeb18-57f9-4804-97f0-2f17efaf1a03')\"\n",
              "            title=\"Suggest charts.\"\n",
              "            style=\"display:none;\">\n",
              "\n",
              "<svg xmlns=\"http://www.w3.org/2000/svg\" height=\"24px\"viewBox=\"0 0 24 24\"\n",
              "     width=\"24px\">\n",
              "    <g>\n",
              "        <path d=\"M19 3H5c-1.1 0-2 .9-2 2v14c0 1.1.9 2 2 2h14c1.1 0 2-.9 2-2V5c0-1.1-.9-2-2-2zM9 17H7v-7h2v7zm4 0h-2V7h2v10zm4 0h-2v-4h2v4z\"/>\n",
              "    </g>\n",
              "</svg>\n",
              "  </button>\n",
              "\n",
              "<style>\n",
              "  .colab-df-quickchart {\n",
              "      --bg-color: #E8F0FE;\n",
              "      --fill-color: #1967D2;\n",
              "      --hover-bg-color: #E2EBFA;\n",
              "      --hover-fill-color: #174EA6;\n",
              "      --disabled-fill-color: #AAA;\n",
              "      --disabled-bg-color: #DDD;\n",
              "  }\n",
              "\n",
              "  [theme=dark] .colab-df-quickchart {\n",
              "      --bg-color: #3B4455;\n",
              "      --fill-color: #D2E3FC;\n",
              "      --hover-bg-color: #434B5C;\n",
              "      --hover-fill-color: #FFFFFF;\n",
              "      --disabled-bg-color: #3B4455;\n",
              "      --disabled-fill-color: #666;\n",
              "  }\n",
              "\n",
              "  .colab-df-quickchart {\n",
              "    background-color: var(--bg-color);\n",
              "    border: none;\n",
              "    border-radius: 50%;\n",
              "    cursor: pointer;\n",
              "    display: none;\n",
              "    fill: var(--fill-color);\n",
              "    height: 32px;\n",
              "    padding: 0;\n",
              "    width: 32px;\n",
              "  }\n",
              "\n",
              "  .colab-df-quickchart:hover {\n",
              "    background-color: var(--hover-bg-color);\n",
              "    box-shadow: 0 1px 2px rgba(60, 64, 67, 0.3), 0 1px 3px 1px rgba(60, 64, 67, 0.15);\n",
              "    fill: var(--button-hover-fill-color);\n",
              "  }\n",
              "\n",
              "  .colab-df-quickchart-complete:disabled,\n",
              "  .colab-df-quickchart-complete:disabled:hover {\n",
              "    background-color: var(--disabled-bg-color);\n",
              "    fill: var(--disabled-fill-color);\n",
              "    box-shadow: none;\n",
              "  }\n",
              "\n",
              "  .colab-df-spinner {\n",
              "    border: 2px solid var(--fill-color);\n",
              "    border-color: transparent;\n",
              "    border-bottom-color: var(--fill-color);\n",
              "    animation:\n",
              "      spin 1s steps(1) infinite;\n",
              "  }\n",
              "\n",
              "  @keyframes spin {\n",
              "    0% {\n",
              "      border-color: transparent;\n",
              "      border-bottom-color: var(--fill-color);\n",
              "      border-left-color: var(--fill-color);\n",
              "    }\n",
              "    20% {\n",
              "      border-color: transparent;\n",
              "      border-left-color: var(--fill-color);\n",
              "      border-top-color: var(--fill-color);\n",
              "    }\n",
              "    30% {\n",
              "      border-color: transparent;\n",
              "      border-left-color: var(--fill-color);\n",
              "      border-top-color: var(--fill-color);\n",
              "      border-right-color: var(--fill-color);\n",
              "    }\n",
              "    40% {\n",
              "      border-color: transparent;\n",
              "      border-right-color: var(--fill-color);\n",
              "      border-top-color: var(--fill-color);\n",
              "    }\n",
              "    60% {\n",
              "      border-color: transparent;\n",
              "      border-right-color: var(--fill-color);\n",
              "    }\n",
              "    80% {\n",
              "      border-color: transparent;\n",
              "      border-right-color: var(--fill-color);\n",
              "      border-bottom-color: var(--fill-color);\n",
              "    }\n",
              "    90% {\n",
              "      border-color: transparent;\n",
              "      border-bottom-color: var(--fill-color);\n",
              "    }\n",
              "  }\n",
              "</style>\n",
              "\n",
              "  <script>\n",
              "    async function quickchart(key) {\n",
              "      const quickchartButtonEl =\n",
              "        document.querySelector('#' + key + ' button');\n",
              "      quickchartButtonEl.disabled = true;  // To prevent multiple clicks.\n",
              "      quickchartButtonEl.classList.add('colab-df-spinner');\n",
              "      try {\n",
              "        const charts = await google.colab.kernel.invokeFunction(\n",
              "            'suggestCharts', [key], {});\n",
              "      } catch (error) {\n",
              "        console.error('Error during call to suggestCharts:', error);\n",
              "      }\n",
              "      quickchartButtonEl.classList.remove('colab-df-spinner');\n",
              "      quickchartButtonEl.classList.add('colab-df-quickchart-complete');\n",
              "    }\n",
              "    (() => {\n",
              "      let quickchartButtonEl =\n",
              "        document.querySelector('#df-3e9aeb18-57f9-4804-97f0-2f17efaf1a03 button');\n",
              "      quickchartButtonEl.style.display =\n",
              "        google.colab.kernel.accessAllowed ? 'block' : 'none';\n",
              "    })();\n",
              "  </script>\n",
              "</div>\n",
              "    </div>\n",
              "  </div>\n"
            ]
          },
          "metadata": {},
          "execution_count": 10
        }
      ]
    },
    {
      "cell_type": "code",
      "source": [
        "for i,row in val.iterrows():\n",
        "    doc = nlp(row['OFFER'])\n",
        "    print(\"nReal brand : \", row['BRAND'])\n",
        "    print(\"nReal retailer: \", row['RETAILER'])\n",
        "    spacy.displacy.render(doc, style=\"ent\", jupyter=True) # display in Jupyter\n",
        "    print('---'*10)"
      ],
      "metadata": {
        "colab": {
          "base_uri": "https://localhost:8080/",
          "height": 991
        },
        "id": "BHgXmMu56_CY",
        "outputId": "699542d1-bf8b-4fc4-9800-aa4d49966bb4"
      },
      "execution_count": null,
      "outputs": [
        {
          "output_type": "stream",
          "name": "stdout",
          "text": [
            "nReal brand :  RANDALLS\n",
            "nReal retailer:  nan\n"
          ]
        },
        {
          "output_type": "display_data",
          "data": {
            "text/plain": [
              "<IPython.core.display.HTML object>"
            ],
            "text/html": [
              "<span class=\"tex2jax_ignore\"><div class=\"entities\" style=\"line-height: 2.5; direction: ltr\">Any \n",
              "<mark class=\"entity\" style=\"background: #ddd; padding: 0.45em 0.6em; margin: 0 0.25em; line-height: 1; border-radius: 0.35em;\">\n",
              "    Randalls\n",
              "    <span style=\"font-size: 0.8em; font-weight: bold; line-height: 1; border-radius: 0.35em; vertical-align: middle; margin-left: 0.5rem\">BRAND</span>\n",
              "</mark>\n",
              " receipt</div></span>"
            ]
          },
          "metadata": {}
        },
        {
          "output_type": "stream",
          "name": "stdout",
          "text": [
            "------------------------------\n",
            "nReal brand :  SIMPLY SPIKED\n",
            "nReal retailer:  nan\n"
          ]
        },
        {
          "output_type": "display_data",
          "data": {
            "text/plain": [
              "<IPython.core.display.HTML object>"
            ],
            "text/html": [
              "<span class=\"tex2jax_ignore\"><div class=\"entities\" style=\"line-height: 2.5; direction: ltr\">\n",
              "<mark class=\"entity\" style=\"background: #ddd; padding: 0.45em 0.6em; margin: 0 0.25em; line-height: 1; border-radius: 0.35em;\">\n",
              "    Simply Spiked\n",
              "    <span style=\"font-size: 0.8em; font-weight: bold; line-height: 1; border-radius: 0.35em; vertical-align: middle; margin-left: 0.5rem\">BRAND</span>\n",
              "</mark>\n",
              " Lemonade 12 pack</div></span>"
            ]
          },
          "metadata": {}
        },
        {
          "output_type": "stream",
          "name": "stdout",
          "text": [
            "------------------------------\n",
            "nReal brand :  HIDDEN VALLEY RANCH\n",
            "nReal retailer:  nan\n"
          ]
        },
        {
          "output_type": "display_data",
          "data": {
            "text/plain": [
              "<IPython.core.display.HTML object>"
            ],
            "text/html": [
              "<span class=\"tex2jax_ignore\"><div class=\"entities\" style=\"line-height: 2.5; direction: ltr\">\n",
              "<mark class=\"entity\" style=\"background: #ddd; padding: 0.45em 0.6em; margin: 0 0.25em; line-height: 1; border-radius: 0.35em;\">\n",
              "    Hidden Valley Ranch\n",
              "    <span style=\"font-size: 0.8em; font-weight: bold; line-height: 1; border-radius: 0.35em; vertical-align: middle; margin-left: 0.5rem\">BRAND</span>\n",
              "</mark>\n",
              " Night Seasoning Mix, 1 count</div></span>"
            ]
          },
          "metadata": {}
        },
        {
          "output_type": "stream",
          "name": "stdout",
          "text": [
            "------------------------------\n",
            "nReal brand :  BACK TO THE ROOTS\n",
            "nReal retailer:  WALMART\n"
          ]
        },
        {
          "output_type": "display_data",
          "data": {
            "text/plain": [
              "<IPython.core.display.HTML object>"
            ],
            "text/html": [
              "<span class=\"tex2jax_ignore\"><div class=\"entities\" style=\"line-height: 2.5; direction: ltr\">\n",
              "<mark class=\"entity\" style=\"background: #ddd; padding: 0.45em 0.6em; margin: 0 0.25em; line-height: 1; border-radius: 0.35em;\">\n",
              "    Back to the Roots\n",
              "    <span style=\"font-size: 0.8em; font-weight: bold; line-height: 1; border-radius: 0.35em; vertical-align: middle; margin-left: 0.5rem\">BRAND</span>\n",
              "</mark>\n",
              " Grow Kits at Walmart or \n",
              "<mark class=\"entity\" style=\"background: #ddd; padding: 0.45em 0.6em; margin: 0 0.25em; line-height: 1; border-radius: 0.35em;\">\n",
              "    The Home Depot\n",
              "    <span style=\"font-size: 0.8em; font-weight: bold; line-height: 1; border-radius: 0.35em; vertical-align: middle; margin-left: 0.5rem\">RETAILER</span>\n",
              "</mark>\n",
              "</div></span>"
            ]
          },
          "metadata": {}
        },
        {
          "output_type": "stream",
          "name": "stdout",
          "text": [
            "------------------------------\n",
            "nReal brand :  NEKTER\n",
            "nReal retailer:  nan\n"
          ]
        },
        {
          "output_type": "display_data",
          "data": {
            "text/plain": [
              "<IPython.core.display.HTML object>"
            ],
            "text/html": [
              "<span class=\"tex2jax_ignore\"><div class=\"entities\" style=\"line-height: 2.5; direction: ltr\">Spend 10 at \n",
              "<mark class=\"entity\" style=\"background: #ddd; padding: 0.45em 0.6em; margin: 0 0.25em; line-height: 1; border-radius: 0.35em;\">\n",
              "    Nekter\n",
              "    <span style=\"font-size: 0.8em; font-weight: bold; line-height: 1; border-radius: 0.35em; vertical-align: middle; margin-left: 0.5rem\">BRAND</span>\n",
              "</mark>\n",
              "</div></span>"
            ]
          },
          "metadata": {}
        },
        {
          "output_type": "stream",
          "name": "stdout",
          "text": [
            "------------------------------\n",
            "nReal brand :  GATORADE\n",
            "nReal retailer:  nan\n"
          ]
        },
        {
          "output_type": "display_data",
          "data": {
            "text/plain": [
              "<IPython.core.display.HTML object>"
            ],
            "text/html": [
              "<span class=\"tex2jax_ignore\"><div class=\"entities\" style=\"line-height: 2.5; direction: ltr\">GATORLYTE OR \n",
              "<mark class=\"entity\" style=\"background: #ddd; padding: 0.45em 0.6em; margin: 0 0.25em; line-height: 1; border-radius: 0.35em;\">\n",
              "    GATORADE\n",
              "    <span style=\"font-size: 0.8em; font-weight: bold; line-height: 1; border-radius: 0.35em; vertical-align: middle; margin-left: 0.5rem\">BRAND</span>\n",
              "</mark>\n",
              " Fit Single Serve Bottle, select varieties</div></span>"
            ]
          },
          "metadata": {}
        },
        {
          "output_type": "stream",
          "name": "stdout",
          "text": [
            "------------------------------\n",
            "nReal brand :  BUTTERBALL\n",
            "nReal retailer:  KROGER\n"
          ]
        },
        {
          "output_type": "display_data",
          "data": {
            "text/plain": [
              "<IPython.core.display.HTML object>"
            ],
            "text/html": [
              "<span class=\"tex2jax_ignore\"><div class=\"entities\" style=\"line-height: 2.5; direction: ltr\">\n",
              "<mark class=\"entity\" style=\"background: #ddd; padding: 0.45em 0.6em; margin: 0 0.25em; line-height: 1; border-radius: 0.35em;\">\n",
              "    Butterball\n",
              "    <span style=\"font-size: 0.8em; font-weight: bold; line-height: 1; border-radius: 0.35em; vertical-align: middle; margin-left: 0.5rem\">BRAND</span>\n",
              "</mark>\n",
              ", select varieties, spend 10 at Kroger</div></span>"
            ]
          },
          "metadata": {}
        },
        {
          "output_type": "stream",
          "name": "stdout",
          "text": [
            "------------------------------\n",
            "nReal brand :  BAI\n",
            "nReal retailer:  WALMART\n"
          ]
        },
        {
          "output_type": "display_data",
          "data": {
            "text/plain": [
              "<IPython.core.display.HTML object>"
            ],
            "text/html": [
              "<span class=\"tex2jax_ignore\"><div class=\"entities\" style=\"line-height: 2.5; direction: ltr\">\n",
              "<mark class=\"entity\" style=\"background: #ddd; padding: 0.45em 0.6em; margin: 0 0.25em; line-height: 1; border-radius: 0.35em;\">\n",
              "    Bai\n",
              "    <span style=\"font-size: 0.8em; font-weight: bold; line-height: 1; border-radius: 0.35em; vertical-align: middle; margin-left: 0.5rem\">BRAND</span>\n",
              "</mark>\n",
              " Antioxidant, 6 pack, at \n",
              "<mark class=\"entity\" style=\"background: #ddd; padding: 0.45em 0.6em; margin: 0 0.25em; line-height: 1; border-radius: 0.35em;\">\n",
              "    Walmart\n",
              "    <span style=\"font-size: 0.8em; font-weight: bold; line-height: 1; border-radius: 0.35em; vertical-align: middle; margin-left: 0.5rem\">RETAILER</span>\n",
              "</mark>\n",
              "</div></span>"
            ]
          },
          "metadata": {}
        },
        {
          "output_type": "stream",
          "name": "stdout",
          "text": [
            "------------------------------\n",
            "nReal brand :  GORTONS\n",
            "nReal retailer:  nan\n"
          ]
        },
        {
          "output_type": "display_data",
          "data": {
            "text/plain": [
              "<IPython.core.display.HTML object>"
            ],
            "text/html": [
              "<span class=\"tex2jax_ignore\"><div class=\"entities\" style=\"line-height: 2.5; direction: ltr\">\n",
              "<mark class=\"entity\" style=\"background: #ddd; padding: 0.45em 0.6em; margin: 0 0.25em; line-height: 1; border-radius: 0.35em;\">\n",
              "    Gortons\n",
              "    <span style=\"font-size: 0.8em; font-weight: bold; line-height: 1; border-radius: 0.35em; vertical-align: middle; margin-left: 0.5rem\">BRAND</span>\n",
              "</mark>\n",
              ", at select retailers</div></span>"
            ]
          },
          "metadata": {}
        },
        {
          "output_type": "stream",
          "name": "stdout",
          "text": [
            "------------------------------\n",
            "nReal brand :  SARGENTO\n",
            "nReal retailer:  nan\n"
          ]
        },
        {
          "output_type": "display_data",
          "data": {
            "text/plain": [
              "<IPython.core.display.HTML object>"
            ],
            "text/html": [
              "<span class=\"tex2jax_ignore\"><div class=\"entities\" style=\"line-height: 2.5; direction: ltr\">\n",
              "<mark class=\"entity\" style=\"background: #ddd; padding: 0.45em 0.6em; margin: 0 0.25em; line-height: 1; border-radius: 0.35em;\">\n",
              "    Sargento\n",
              "    <span style=\"font-size: 0.8em; font-weight: bold; line-height: 1; border-radius: 0.35em; vertical-align: middle; margin-left: 0.5rem\">BRAND</span>\n",
              "</mark>\n",
              " Sliced Cheese, spend 25</div></span>"
            ]
          },
          "metadata": {}
        },
        {
          "output_type": "stream",
          "name": "stdout",
          "text": [
            "------------------------------\n",
            "nReal brand :  STUBBORN SODA\n",
            "nReal retailer:  AMAZON\n"
          ]
        },
        {
          "output_type": "display_data",
          "data": {
            "text/plain": [
              "<IPython.core.display.HTML object>"
            ],
            "text/html": [
              "<span class=\"tex2jax_ignore\"><div class=\"entities\" style=\"line-height: 2.5; direction: ltr\">\n",
              "<mark class=\"entity\" style=\"background: #ddd; padding: 0.45em 0.6em; margin: 0 0.25em; line-height: 1; border-radius: 0.35em;\">\n",
              "    Stubborn\n",
              "    <span style=\"font-size: 0.8em; font-weight: bold; line-height: 1; border-radius: 0.35em; vertical-align: middle; margin-left: 0.5rem\">BRAND</span>\n",
              "</mark>\n",
              " Soda OR Bundaberg Ginger Beer, select varieties, at \n",
              "<mark class=\"entity\" style=\"background: #ddd; padding: 0.45em 0.6em; margin: 0 0.25em; line-height: 1; border-radius: 0.35em;\">\n",
              "    Amazon\n",
              "    <span style=\"font-size: 0.8em; font-weight: bold; line-height: 1; border-radius: 0.35em; vertical-align: middle; margin-left: 0.5rem\">RETAILER</span>\n",
              "</mark>\n",
              " Storefront</div></span>"
            ]
          },
          "metadata": {}
        },
        {
          "output_type": "stream",
          "name": "stdout",
          "text": [
            "------------------------------\n"
          ]
        }
      ]
    },
    {
      "cell_type": "markdown",
      "source": [
        "## Push to HuggingFace"
      ],
      "metadata": {
        "id": "zV-e_PzZWowV"
      }
    },
    {
      "cell_type": "code",
      "source": [],
      "metadata": {
        "id": "dtqZHhmbWoXu"
      },
      "execution_count": null,
      "outputs": []
    },
    {
      "cell_type": "code",
      "source": [
        "!pip install spacy-huggingface-hub"
      ],
      "metadata": {
        "id": "LRQYrHNe6--g",
        "colab": {
          "base_uri": "https://localhost:8080/"
        },
        "outputId": "c369fcb4-0b8b-4e23-a7e5-3b0db14ccf63"
      },
      "execution_count": null,
      "outputs": [
        {
          "output_type": "stream",
          "name": "stdout",
          "text": [
            "Collecting spacy-huggingface-hub\n",
            "  Downloading spacy_huggingface_hub-0.0.10-py3-none-any.whl (8.3 kB)\n",
            "Requirement already satisfied: huggingface-hub>=0.8.1 in /usr/local/lib/python3.10/dist-packages (from spacy-huggingface-hub) (0.17.3)\n",
            "Requirement already satisfied: wasabi<1.2.0,>=0.8.1 in /usr/local/lib/python3.10/dist-packages (from spacy-huggingface-hub) (1.1.2)\n",
            "Collecting typer<0.8.0,>=0.3.0 (from spacy-huggingface-hub)\n",
            "  Downloading typer-0.7.0-py3-none-any.whl (38 kB)\n",
            "Requirement already satisfied: PyYAML in /usr/local/lib/python3.10/dist-packages (from spacy-huggingface-hub) (6.0.1)\n",
            "Requirement already satisfied: filelock in /usr/local/lib/python3.10/dist-packages (from huggingface-hub>=0.8.1->spacy-huggingface-hub) (3.12.4)\n",
            "Requirement already satisfied: fsspec in /usr/local/lib/python3.10/dist-packages (from huggingface-hub>=0.8.1->spacy-huggingface-hub) (2023.6.0)\n",
            "Requirement already satisfied: requests in /usr/local/lib/python3.10/dist-packages (from huggingface-hub>=0.8.1->spacy-huggingface-hub) (2.31.0)\n",
            "Requirement already satisfied: tqdm>=4.42.1 in /usr/local/lib/python3.10/dist-packages (from huggingface-hub>=0.8.1->spacy-huggingface-hub) (4.66.1)\n",
            "Requirement already satisfied: typing-extensions>=3.7.4.3 in /usr/local/lib/python3.10/dist-packages (from huggingface-hub>=0.8.1->spacy-huggingface-hub) (4.5.0)\n",
            "Requirement already satisfied: packaging>=20.9 in /usr/local/lib/python3.10/dist-packages (from huggingface-hub>=0.8.1->spacy-huggingface-hub) (23.2)\n",
            "Requirement already satisfied: click<9.0.0,>=7.1.1 in /usr/local/lib/python3.10/dist-packages (from typer<0.8.0,>=0.3.0->spacy-huggingface-hub) (8.1.7)\n",
            "Requirement already satisfied: charset-normalizer<4,>=2 in /usr/local/lib/python3.10/dist-packages (from requests->huggingface-hub>=0.8.1->spacy-huggingface-hub) (3.3.0)\n",
            "Requirement already satisfied: idna<4,>=2.5 in /usr/local/lib/python3.10/dist-packages (from requests->huggingface-hub>=0.8.1->spacy-huggingface-hub) (3.4)\n",
            "Requirement already satisfied: urllib3<3,>=1.21.1 in /usr/local/lib/python3.10/dist-packages (from requests->huggingface-hub>=0.8.1->spacy-huggingface-hub) (2.0.7)\n",
            "Requirement already satisfied: certifi>=2017.4.17 in /usr/local/lib/python3.10/dist-packages (from requests->huggingface-hub>=0.8.1->spacy-huggingface-hub) (2023.7.22)\n",
            "Installing collected packages: typer, spacy-huggingface-hub\n",
            "  Attempting uninstall: typer\n",
            "    Found existing installation: typer 0.9.0\n",
            "    Uninstalling typer-0.9.0:\n",
            "      Successfully uninstalled typer-0.9.0\n",
            "\u001b[31mERROR: pip's dependency resolver does not currently take into account all the packages that are installed. This behaviour is the source of the following dependency conflicts.\n",
            "lida 0.0.10 requires fastapi, which is not installed.\n",
            "lida 0.0.10 requires kaleido, which is not installed.\n",
            "lida 0.0.10 requires python-multipart, which is not installed.\n",
            "lida 0.0.10 requires uvicorn, which is not installed.\n",
            "llmx 0.0.15a0 requires cohere, which is not installed.\n",
            "llmx 0.0.15a0 requires openai, which is not installed.\n",
            "llmx 0.0.15a0 requires tiktoken, which is not installed.\u001b[0m\u001b[31m\n",
            "\u001b[0mSuccessfully installed spacy-huggingface-hub-0.0.10 typer-0.7.0\n"
          ]
        }
      ]
    },
    {
      "cell_type": "code",
      "source": [
        "!python -m spacy huggingface-hub --help"
      ],
      "metadata": {
        "id": "DZ7LK9ao6-7E",
        "colab": {
          "base_uri": "https://localhost:8080/"
        },
        "outputId": "d8921b4d-0d53-4d1a-cc77-102bda373acd"
      },
      "execution_count": null,
      "outputs": [
        {
          "output_type": "stream",
          "name": "stdout",
          "text": [
            "2023-10-25 19:32:49.398482: E tensorflow/compiler/xla/stream_executor/cuda/cuda_dnn.cc:9342] Unable to register cuDNN factory: Attempting to register factory for plugin cuDNN when one has already been registered\n",
            "2023-10-25 19:32:49.398560: E tensorflow/compiler/xla/stream_executor/cuda/cuda_fft.cc:609] Unable to register cuFFT factory: Attempting to register factory for plugin cuFFT when one has already been registered\n",
            "2023-10-25 19:32:49.398609: E tensorflow/compiler/xla/stream_executor/cuda/cuda_blas.cc:1518] Unable to register cuBLAS factory: Attempting to register factory for plugin cuBLAS when one has already been registered\n",
            "2023-10-25 19:32:51.894009: W tensorflow/compiler/tf2tensorrt/utils/py_utils.cc:38] TF-TRT Warning: Could not find TensorRT\n",
            "\u001b[1m                                                                                                    \u001b[0m\n",
            "\u001b[1m \u001b[0m\u001b[1;33mUsage: \u001b[0m\u001b[1mpython \u001b[0m\u001b[1;32m-m\u001b[0m\u001b[1m spacy huggingface-hub [OPTIONS] COMMAND [ARGS]...\u001b[0m\u001b[1m                                \u001b[0m\u001b[1m \u001b[0m\n",
            "\u001b[1m                                                                                                    \u001b[0m\n",
            " CLI for uploading spaCy pipelines to the Hugging Face Hub (https://huggingface.co). Takes .whl     \n",
            " files packaged with `spacy package` with `\u001b[1;36m-\u001b[0m\u001b[1;36m-build\u001b[0m wheel` and takes care of auto-generating all     \n",
            " meta information.                                                                                  \n",
            "                                                                                                    \n",
            "\u001b[2m╭─\u001b[0m\u001b[2m Options \u001b[0m\u001b[2m───────────────────────────────────────────────────────────────────────────────────────\u001b[0m\u001b[2m─╮\u001b[0m\n",
            "\u001b[2m│\u001b[0m \u001b[1;36m-\u001b[0m\u001b[1;36m-help\u001b[0m          Show this message and exit.                                                      \u001b[2m│\u001b[0m\n",
            "\u001b[2m╰──────────────────────────────────────────────────────────────────────────────────────────────────╯\u001b[0m\n",
            "\u001b[2m╭─\u001b[0m\u001b[2m Commands \u001b[0m\u001b[2m──────────────────────────────────────────────────────────────────────────────────────\u001b[0m\u001b[2m─╮\u001b[0m\n",
            "\u001b[2m│\u001b[0m \u001b[1;36mpush    \u001b[0m\u001b[1;36m \u001b[0m Push a spaCy pipeline (.whl) to the Hugging Face Hub.                                  \u001b[2m│\u001b[0m\n",
            "\u001b[2m╰──────────────────────────────────────────────────────────────────────────────────────────────────╯\u001b[0m\n",
            "\n"
          ]
        }
      ]
    },
    {
      "cell_type": "code",
      "source": [
        "!huggingface-cli login"
      ],
      "metadata": {
        "colab": {
          "base_uri": "https://localhost:8080/"
        },
        "id": "H3SJGQndSDTd",
        "outputId": "7a0be5e1-b414-42d6-e193-7ba785abdf29"
      },
      "execution_count": null,
      "outputs": [
        {
          "output_type": "stream",
          "name": "stdout",
          "text": [
            "\n",
            "    _|    _|  _|    _|    _|_|_|    _|_|_|  _|_|_|  _|      _|    _|_|_|      _|_|_|_|    _|_|      _|_|_|  _|_|_|_|\n",
            "    _|    _|  _|    _|  _|        _|          _|    _|_|    _|  _|            _|        _|    _|  _|        _|\n",
            "    _|_|_|_|  _|    _|  _|  _|_|  _|  _|_|    _|    _|  _|  _|  _|  _|_|      _|_|_|    _|_|_|_|  _|        _|_|_|\n",
            "    _|    _|  _|    _|  _|    _|  _|    _|    _|    _|    _|_|  _|    _|      _|        _|    _|  _|        _|\n",
            "    _|    _|    _|_|      _|_|_|    _|_|_|  _|_|_|  _|      _|    _|_|_|      _|        _|    _|    _|_|_|  _|_|_|_|\n",
            "    \n",
            "    To login, `huggingface_hub` requires a token generated from https://huggingface.co/settings/tokens .\n",
            "Token: \n",
            "Add token as git credential? (Y/n) y\n",
            "Token is valid (permission: write).\n",
            "\u001b[1m\u001b[31mCannot authenticate through git-credential as no helper is defined on your machine.\n",
            "You might have to re-authenticate when pushing to the Hugging Face Hub.\n",
            "Run the following command in your terminal in case you want to set the 'store' credential helper as default.\n",
            "\n",
            "git config --global credential.helper store\n",
            "\n",
            "Read https://git-scm.com/book/en/v2/Git-Tools-Credential-Storage for more details.\u001b[0m\n",
            "Token has not been saved to git credential helper.\n",
            "Your token has been saved to /root/.cache/huggingface/token\n",
            "Login successful\n"
          ]
        }
      ]
    },
    {
      "cell_type": "code",
      "source": [
        "!ls models/"
      ],
      "metadata": {
        "colab": {
          "base_uri": "https://localhost:8080/"
        },
        "id": "7JzTzsU0aNFs",
        "outputId": "9c843a4c-6208-4ab8-cd35-49c7dc30a06f"
      },
      "execution_count": null,
      "outputs": [
        {
          "output_type": "stream",
          "name": "stdout",
          "text": [
            "model-best  model-last\tmodel-last-spacy_transformer  model-last-token2vec  output\n"
          ]
        }
      ]
    },
    {
      "cell_type": "code",
      "source": [
        "!python -m spacy package models/model-last ./models/output --build wheel --name fetch_ner_spacy_tsf"
      ],
      "metadata": {
        "colab": {
          "base_uri": "https://localhost:8080/"
        },
        "id": "eTrw7m1wSDWh",
        "outputId": "f5188df7-31c1-40f2-b920-d868d073a87a"
      },
      "execution_count": null,
      "outputs": [
        {
          "output_type": "stream",
          "name": "stdout",
          "text": [
            "2023-10-25 19:57:37.025601: E tensorflow/compiler/xla/stream_executor/cuda/cuda_dnn.cc:9342] Unable to register cuDNN factory: Attempting to register factory for plugin cuDNN when one has already been registered\n",
            "2023-10-25 19:57:37.025687: E tensorflow/compiler/xla/stream_executor/cuda/cuda_fft.cc:609] Unable to register cuFFT factory: Attempting to register factory for plugin cuFFT when one has already been registered\n",
            "2023-10-25 19:57:37.025752: E tensorflow/compiler/xla/stream_executor/cuda/cuda_blas.cc:1518] Unable to register cuBLAS factory: Attempting to register factory for plugin cuBLAS when one has already been registered\n",
            "2023-10-25 19:57:39.212125: W tensorflow/compiler/tf2tensorrt/utils/py_utils.cc:38] TF-TRT Warning: Could not find TensorRT\n",
            "\u001b[38;5;4mℹ Building package artifacts: wheel\u001b[0m\n",
            "\u001b[38;5;2m✔ Including 1 package requirement(s) from meta and config\u001b[0m\n",
            "spacy-transformers>=1.3.2,<1.4.0\n",
            "\u001b[38;5;2m✔ Loaded meta.json from file\u001b[0m\n",
            "models/model-last/meta.json\n",
            "\u001b[38;5;2m✔ Generated README.md from meta.json\u001b[0m\n",
            "\u001b[38;5;2m✔ Successfully created package directory\n",
            "'en_fetch_ner_spacy_tsf-0.0.0'\u001b[0m\n",
            "models/output/en_fetch_ner_spacy_tsf-0.0.0\n",
            "running bdist_wheel\n",
            "running build\n",
            "running build_py\n",
            "creating build\n",
            "creating build/lib\n",
            "creating build/lib/en_fetch_ner_spacy_tsf\n",
            "copying en_fetch_ner_spacy_tsf/__init__.py -> build/lib/en_fetch_ner_spacy_tsf\n",
            "creating build/lib/en_fetch_ner_spacy_tsf/en_fetch_ner_spacy_tsf-0.0.0\n",
            "copying en_fetch_ner_spacy_tsf/en_fetch_ner_spacy_tsf-0.0.0/config.cfg -> build/lib/en_fetch_ner_spacy_tsf/en_fetch_ner_spacy_tsf-0.0.0\n",
            "copying en_fetch_ner_spacy_tsf/en_fetch_ner_spacy_tsf-0.0.0/tokenizer -> build/lib/en_fetch_ner_spacy_tsf/en_fetch_ner_spacy_tsf-0.0.0\n",
            "copying en_fetch_ner_spacy_tsf/en_fetch_ner_spacy_tsf-0.0.0/meta.json -> build/lib/en_fetch_ner_spacy_tsf/en_fetch_ner_spacy_tsf-0.0.0\n",
            "copying en_fetch_ner_spacy_tsf/en_fetch_ner_spacy_tsf-0.0.0/README.md -> build/lib/en_fetch_ner_spacy_tsf/en_fetch_ner_spacy_tsf-0.0.0\n",
            "creating build/lib/en_fetch_ner_spacy_tsf/en_fetch_ner_spacy_tsf-0.0.0/transformer\n",
            "copying en_fetch_ner_spacy_tsf/en_fetch_ner_spacy_tsf-0.0.0/transformer/cfg -> build/lib/en_fetch_ner_spacy_tsf/en_fetch_ner_spacy_tsf-0.0.0/transformer\n",
            "copying en_fetch_ner_spacy_tsf/en_fetch_ner_spacy_tsf-0.0.0/transformer/model -> build/lib/en_fetch_ner_spacy_tsf/en_fetch_ner_spacy_tsf-0.0.0/transformer\n",
            "creating build/lib/en_fetch_ner_spacy_tsf/en_fetch_ner_spacy_tsf-0.0.0/ner\n",
            "copying en_fetch_ner_spacy_tsf/en_fetch_ner_spacy_tsf-0.0.0/ner/cfg -> build/lib/en_fetch_ner_spacy_tsf/en_fetch_ner_spacy_tsf-0.0.0/ner\n",
            "copying en_fetch_ner_spacy_tsf/en_fetch_ner_spacy_tsf-0.0.0/ner/moves -> build/lib/en_fetch_ner_spacy_tsf/en_fetch_ner_spacy_tsf-0.0.0/ner\n",
            "copying en_fetch_ner_spacy_tsf/en_fetch_ner_spacy_tsf-0.0.0/ner/model -> build/lib/en_fetch_ner_spacy_tsf/en_fetch_ner_spacy_tsf-0.0.0/ner\n",
            "creating build/lib/en_fetch_ner_spacy_tsf/en_fetch_ner_spacy_tsf-0.0.0/vocab\n",
            "copying en_fetch_ner_spacy_tsf/en_fetch_ner_spacy_tsf-0.0.0/vocab/strings.json -> build/lib/en_fetch_ner_spacy_tsf/en_fetch_ner_spacy_tsf-0.0.0/vocab\n",
            "copying en_fetch_ner_spacy_tsf/en_fetch_ner_spacy_tsf-0.0.0/vocab/vectors -> build/lib/en_fetch_ner_spacy_tsf/en_fetch_ner_spacy_tsf-0.0.0/vocab\n",
            "copying en_fetch_ner_spacy_tsf/en_fetch_ner_spacy_tsf-0.0.0/vocab/lookups.bin -> build/lib/en_fetch_ner_spacy_tsf/en_fetch_ner_spacy_tsf-0.0.0/vocab\n",
            "copying en_fetch_ner_spacy_tsf/en_fetch_ner_spacy_tsf-0.0.0/vocab/key2row -> build/lib/en_fetch_ner_spacy_tsf/en_fetch_ner_spacy_tsf-0.0.0/vocab\n",
            "copying en_fetch_ner_spacy_tsf/en_fetch_ner_spacy_tsf-0.0.0/vocab/vectors.cfg -> build/lib/en_fetch_ner_spacy_tsf/en_fetch_ner_spacy_tsf-0.0.0/vocab\n",
            "copying en_fetch_ner_spacy_tsf/meta.json -> build/lib/en_fetch_ner_spacy_tsf\n",
            "/usr/local/lib/python3.10/dist-packages/setuptools/_distutils/cmd.py:66: SetuptoolsDeprecationWarning: setup.py install is deprecated.\n",
            "!!\n",
            "\n",
            "        ********************************************************************************\n",
            "        Please avoid running ``setup.py`` directly.\n",
            "        Instead, use pypa/build, pypa/installer, pypa/build or\n",
            "        other standards-based tools.\n",
            "\n",
            "        See https://blog.ganssle.io/articles/2021/10/setup-py-deprecated.html for details.\n",
            "        ********************************************************************************\n",
            "\n",
            "!!\n",
            "  self.initialize_options()\n",
            "installing to build/bdist.linux-x86_64/wheel\n",
            "running install\n",
            "running install_lib\n",
            "creating build/bdist.linux-x86_64\n",
            "creating build/bdist.linux-x86_64/wheel\n",
            "creating build/bdist.linux-x86_64/wheel/en_fetch_ner_spacy_tsf\n",
            "copying build/lib/en_fetch_ner_spacy_tsf/__init__.py -> build/bdist.linux-x86_64/wheel/en_fetch_ner_spacy_tsf\n",
            "creating build/bdist.linux-x86_64/wheel/en_fetch_ner_spacy_tsf/en_fetch_ner_spacy_tsf-0.0.0\n",
            "copying build/lib/en_fetch_ner_spacy_tsf/en_fetch_ner_spacy_tsf-0.0.0/config.cfg -> build/bdist.linux-x86_64/wheel/en_fetch_ner_spacy_tsf/en_fetch_ner_spacy_tsf-0.0.0\n",
            "copying build/lib/en_fetch_ner_spacy_tsf/en_fetch_ner_spacy_tsf-0.0.0/tokenizer -> build/bdist.linux-x86_64/wheel/en_fetch_ner_spacy_tsf/en_fetch_ner_spacy_tsf-0.0.0\n",
            "copying build/lib/en_fetch_ner_spacy_tsf/en_fetch_ner_spacy_tsf-0.0.0/meta.json -> build/bdist.linux-x86_64/wheel/en_fetch_ner_spacy_tsf/en_fetch_ner_spacy_tsf-0.0.0\n",
            "copying build/lib/en_fetch_ner_spacy_tsf/en_fetch_ner_spacy_tsf-0.0.0/README.md -> build/bdist.linux-x86_64/wheel/en_fetch_ner_spacy_tsf/en_fetch_ner_spacy_tsf-0.0.0\n",
            "creating build/bdist.linux-x86_64/wheel/en_fetch_ner_spacy_tsf/en_fetch_ner_spacy_tsf-0.0.0/transformer\n",
            "copying build/lib/en_fetch_ner_spacy_tsf/en_fetch_ner_spacy_tsf-0.0.0/transformer/cfg -> build/bdist.linux-x86_64/wheel/en_fetch_ner_spacy_tsf/en_fetch_ner_spacy_tsf-0.0.0/transformer\n",
            "copying build/lib/en_fetch_ner_spacy_tsf/en_fetch_ner_spacy_tsf-0.0.0/transformer/model -> build/bdist.linux-x86_64/wheel/en_fetch_ner_spacy_tsf/en_fetch_ner_spacy_tsf-0.0.0/transformer\n",
            "creating build/bdist.linux-x86_64/wheel/en_fetch_ner_spacy_tsf/en_fetch_ner_spacy_tsf-0.0.0/ner\n",
            "copying build/lib/en_fetch_ner_spacy_tsf/en_fetch_ner_spacy_tsf-0.0.0/ner/cfg -> build/bdist.linux-x86_64/wheel/en_fetch_ner_spacy_tsf/en_fetch_ner_spacy_tsf-0.0.0/ner\n",
            "copying build/lib/en_fetch_ner_spacy_tsf/en_fetch_ner_spacy_tsf-0.0.0/ner/moves -> build/bdist.linux-x86_64/wheel/en_fetch_ner_spacy_tsf/en_fetch_ner_spacy_tsf-0.0.0/ner\n",
            "copying build/lib/en_fetch_ner_spacy_tsf/en_fetch_ner_spacy_tsf-0.0.0/ner/model -> build/bdist.linux-x86_64/wheel/en_fetch_ner_spacy_tsf/en_fetch_ner_spacy_tsf-0.0.0/ner\n",
            "creating build/bdist.linux-x86_64/wheel/en_fetch_ner_spacy_tsf/en_fetch_ner_spacy_tsf-0.0.0/vocab\n",
            "copying build/lib/en_fetch_ner_spacy_tsf/en_fetch_ner_spacy_tsf-0.0.0/vocab/strings.json -> build/bdist.linux-x86_64/wheel/en_fetch_ner_spacy_tsf/en_fetch_ner_spacy_tsf-0.0.0/vocab\n",
            "copying build/lib/en_fetch_ner_spacy_tsf/en_fetch_ner_spacy_tsf-0.0.0/vocab/vectors -> build/bdist.linux-x86_64/wheel/en_fetch_ner_spacy_tsf/en_fetch_ner_spacy_tsf-0.0.0/vocab\n",
            "copying build/lib/en_fetch_ner_spacy_tsf/en_fetch_ner_spacy_tsf-0.0.0/vocab/lookups.bin -> build/bdist.linux-x86_64/wheel/en_fetch_ner_spacy_tsf/en_fetch_ner_spacy_tsf-0.0.0/vocab\n",
            "copying build/lib/en_fetch_ner_spacy_tsf/en_fetch_ner_spacy_tsf-0.0.0/vocab/key2row -> build/bdist.linux-x86_64/wheel/en_fetch_ner_spacy_tsf/en_fetch_ner_spacy_tsf-0.0.0/vocab\n",
            "copying build/lib/en_fetch_ner_spacy_tsf/en_fetch_ner_spacy_tsf-0.0.0/vocab/vectors.cfg -> build/bdist.linux-x86_64/wheel/en_fetch_ner_spacy_tsf/en_fetch_ner_spacy_tsf-0.0.0/vocab\n",
            "copying build/lib/en_fetch_ner_spacy_tsf/meta.json -> build/bdist.linux-x86_64/wheel/en_fetch_ner_spacy_tsf\n",
            "running install_egg_info\n",
            "running egg_info\n",
            "creating en_fetch_ner_spacy_tsf.egg-info\n",
            "writing en_fetch_ner_spacy_tsf.egg-info/PKG-INFO\n",
            "writing dependency_links to en_fetch_ner_spacy_tsf.egg-info/dependency_links.txt\n",
            "writing entry points to en_fetch_ner_spacy_tsf.egg-info/entry_points.txt\n",
            "writing requirements to en_fetch_ner_spacy_tsf.egg-info/requires.txt\n",
            "writing top-level names to en_fetch_ner_spacy_tsf.egg-info/top_level.txt\n",
            "writing manifest file 'en_fetch_ner_spacy_tsf.egg-info/SOURCES.txt'\n",
            "reading manifest file 'en_fetch_ner_spacy_tsf.egg-info/SOURCES.txt'\n",
            "reading manifest template 'MANIFEST.in'\n",
            "warning: no files found matching 'LICENSE'\n",
            "warning: no files found matching 'LICENSES_SOURCES'\n",
            "writing manifest file 'en_fetch_ner_spacy_tsf.egg-info/SOURCES.txt'\n",
            "Copying en_fetch_ner_spacy_tsf.egg-info to build/bdist.linux-x86_64/wheel/en_fetch_ner_spacy_tsf-0.0.0-py3.10.egg-info\n",
            "running install_scripts\n",
            "creating build/bdist.linux-x86_64/wheel/en_fetch_ner_spacy_tsf-0.0.0.dist-info/WHEEL\n",
            "creating 'dist/en_fetch_ner_spacy_tsf-0.0.0-py3-none-any.whl' and adding 'build/bdist.linux-x86_64/wheel' to it\n",
            "adding 'en_fetch_ner_spacy_tsf/__init__.py'\n",
            "adding 'en_fetch_ner_spacy_tsf/meta.json'\n",
            "adding 'en_fetch_ner_spacy_tsf/en_fetch_ner_spacy_tsf-0.0.0/README.md'\n",
            "adding 'en_fetch_ner_spacy_tsf/en_fetch_ner_spacy_tsf-0.0.0/config.cfg'\n",
            "adding 'en_fetch_ner_spacy_tsf/en_fetch_ner_spacy_tsf-0.0.0/meta.json'\n",
            "adding 'en_fetch_ner_spacy_tsf/en_fetch_ner_spacy_tsf-0.0.0/tokenizer'\n",
            "adding 'en_fetch_ner_spacy_tsf/en_fetch_ner_spacy_tsf-0.0.0/ner/cfg'\n",
            "adding 'en_fetch_ner_spacy_tsf/en_fetch_ner_spacy_tsf-0.0.0/ner/model'\n",
            "adding 'en_fetch_ner_spacy_tsf/en_fetch_ner_spacy_tsf-0.0.0/ner/moves'\n",
            "adding 'en_fetch_ner_spacy_tsf/en_fetch_ner_spacy_tsf-0.0.0/transformer/cfg'\n",
            "adding 'en_fetch_ner_spacy_tsf/en_fetch_ner_spacy_tsf-0.0.0/transformer/model'\n",
            "adding 'en_fetch_ner_spacy_tsf/en_fetch_ner_spacy_tsf-0.0.0/vocab/key2row'\n",
            "adding 'en_fetch_ner_spacy_tsf/en_fetch_ner_spacy_tsf-0.0.0/vocab/lookups.bin'\n",
            "adding 'en_fetch_ner_spacy_tsf/en_fetch_ner_spacy_tsf-0.0.0/vocab/strings.json'\n",
            "adding 'en_fetch_ner_spacy_tsf/en_fetch_ner_spacy_tsf-0.0.0/vocab/vectors'\n",
            "adding 'en_fetch_ner_spacy_tsf/en_fetch_ner_spacy_tsf-0.0.0/vocab/vectors.cfg'\n",
            "adding 'en_fetch_ner_spacy_tsf-0.0.0.dist-info/METADATA'\n",
            "adding 'en_fetch_ner_spacy_tsf-0.0.0.dist-info/WHEEL'\n",
            "adding 'en_fetch_ner_spacy_tsf-0.0.0.dist-info/entry_points.txt'\n",
            "adding 'en_fetch_ner_spacy_tsf-0.0.0.dist-info/top_level.txt'\n",
            "adding 'en_fetch_ner_spacy_tsf-0.0.0.dist-info/RECORD'\n",
            "removing build/bdist.linux-x86_64/wheel\n",
            "\u001b[38;5;2m✔ Successfully created binary wheel\u001b[0m\n",
            "models/output/en_fetch_ner_spacy_tsf-0.0.0/dist/en_fetch_ner_spacy_tsf-0.0.0-py3-none-any.whl\n"
          ]
        }
      ]
    },
    {
      "cell_type": "code",
      "source": [
        "!python -m spacy huggingface-hub push models/output/en_fetch_ner_spacy_tsf-0.0.0/dist/en_fetch_ner_spacy_tsf-0.0.0-py3-none-any.whl"
      ],
      "metadata": {
        "colab": {
          "base_uri": "https://localhost:8080/"
        },
        "id": "dfphgV35TbFX",
        "outputId": "3c4416d3-8fba-4224-84c0-2a26878b0fb7"
      },
      "execution_count": null,
      "outputs": [
        {
          "output_type": "stream",
          "name": "stdout",
          "text": [
            "2023-10-25 19:59:24.388355: E tensorflow/compiler/xla/stream_executor/cuda/cuda_dnn.cc:9342] Unable to register cuDNN factory: Attempting to register factory for plugin cuDNN when one has already been registered\n",
            "2023-10-25 19:59:24.388425: E tensorflow/compiler/xla/stream_executor/cuda/cuda_fft.cc:609] Unable to register cuFFT factory: Attempting to register factory for plugin cuFFT when one has already been registered\n",
            "2023-10-25 19:59:24.388472: E tensorflow/compiler/xla/stream_executor/cuda/cuda_blas.cc:1518] Unable to register cuBLAS factory: Attempting to register factory for plugin cuBLAS when one has already been registered\n",
            "2023-10-25 19:59:26.547581: W tensorflow/compiler/tf2tensorrt/utils/py_utils.cc:38] TF-TRT Warning: Could not find TensorRT\n",
            "\u001b[38;5;4mℹ Publishing to repository 'hjianganthony/en_fetch_ner_spacy_tsf'\u001b[0m\n",
            "result /tmp/tmp2u3cd1ut/en_fetch_ner_spacy_tsf/meta.json en_fetch_ner_spacy_tsf/meta.json\n",
            "result /tmp/tmp2u3cd1ut/en_fetch_ner_spacy_tsf/en_fetch_ner_spacy_tsf-0.0.0/README.md en_fetch_ner_spacy_tsf/en_fetch_ner_spacy_tsf-0.0.0/README.md\n",
            "result /tmp/tmp2u3cd1ut/en_fetch_ner_spacy_tsf/en_fetch_ner_spacy_tsf-0.0.0/config.cfg en_fetch_ner_spacy_tsf/en_fetch_ner_spacy_tsf-0.0.0/config.cfg\n",
            "result /tmp/tmp2u3cd1ut/en_fetch_ner_spacy_tsf/en_fetch_ner_spacy_tsf-0.0.0/meta.json en_fetch_ner_spacy_tsf/en_fetch_ner_spacy_tsf-0.0.0/meta.json\n",
            "result /tmp/tmp2u3cd1ut/en_fetch_ner_spacy_tsf/en_fetch_ner_spacy_tsf-0.0.0/tokenizer en_fetch_ner_spacy_tsf/en_fetch_ner_spacy_tsf-0.0.0/tokenizer\n",
            "result /tmp/tmp2u3cd1ut/en_fetch_ner_spacy_tsf/en_fetch_ner_spacy_tsf-0.0.0/ner/cfg en_fetch_ner_spacy_tsf/en_fetch_ner_spacy_tsf-0.0.0/ner/cfg\n",
            "result /tmp/tmp2u3cd1ut/en_fetch_ner_spacy_tsf/en_fetch_ner_spacy_tsf-0.0.0/ner/model en_fetch_ner_spacy_tsf/en_fetch_ner_spacy_tsf-0.0.0/ner/model\n",
            "result /tmp/tmp2u3cd1ut/en_fetch_ner_spacy_tsf/en_fetch_ner_spacy_tsf-0.0.0/ner/moves en_fetch_ner_spacy_tsf/en_fetch_ner_spacy_tsf-0.0.0/ner/moves\n",
            "result /tmp/tmp2u3cd1ut/en_fetch_ner_spacy_tsf/en_fetch_ner_spacy_tsf-0.0.0/transformer/cfg en_fetch_ner_spacy_tsf/en_fetch_ner_spacy_tsf-0.0.0/transformer/cfg\n",
            "result /tmp/tmp2u3cd1ut/en_fetch_ner_spacy_tsf/en_fetch_ner_spacy_tsf-0.0.0/transformer/model en_fetch_ner_spacy_tsf/en_fetch_ner_spacy_tsf-0.0.0/transformer/model\n",
            "result /tmp/tmp2u3cd1ut/en_fetch_ner_spacy_tsf/en_fetch_ner_spacy_tsf-0.0.0/vocab/key2row en_fetch_ner_spacy_tsf/en_fetch_ner_spacy_tsf-0.0.0/vocab/key2row\n",
            "result /tmp/tmp2u3cd1ut/en_fetch_ner_spacy_tsf/en_fetch_ner_spacy_tsf-0.0.0/vocab/lookups.bin en_fetch_ner_spacy_tsf/en_fetch_ner_spacy_tsf-0.0.0/vocab/lookups.bin\n",
            "result /tmp/tmp2u3cd1ut/en_fetch_ner_spacy_tsf/en_fetch_ner_spacy_tsf-0.0.0/vocab/strings.json en_fetch_ner_spacy_tsf/en_fetch_ner_spacy_tsf-0.0.0/vocab/strings.json\n",
            "result /tmp/tmp2u3cd1ut/en_fetch_ner_spacy_tsf/en_fetch_ner_spacy_tsf-0.0.0/vocab/vectors en_fetch_ner_spacy_tsf/en_fetch_ner_spacy_tsf-0.0.0/vocab/vectors\n",
            "result /tmp/tmp2u3cd1ut/en_fetch_ner_spacy_tsf/en_fetch_ner_spacy_tsf-0.0.0/vocab/vectors.cfg en_fetch_ner_spacy_tsf/en_fetch_ner_spacy_tsf-0.0.0/vocab/vectors.cfg\n",
            "result /tmp/tmp2u3cd1ut/en_fetch_ner_spacy_tsf-0.0.0.dist-info/METADATA en_fetch_ner_spacy_tsf-0.0.0.dist-info/METADATA\n",
            "result /tmp/tmp2u3cd1ut/en_fetch_ner_spacy_tsf-0.0.0.dist-info/WHEEL en_fetch_ner_spacy_tsf-0.0.0.dist-info/WHEEL\n",
            "result /tmp/tmp2u3cd1ut/en_fetch_ner_spacy_tsf-0.0.0.dist-info/entry_points.txt en_fetch_ner_spacy_tsf-0.0.0.dist-info/entry_points.txt\n",
            "result /tmp/tmp2u3cd1ut/en_fetch_ner_spacy_tsf-0.0.0.dist-info/top_level.txt en_fetch_ner_spacy_tsf-0.0.0.dist-info/top_level.txt\n",
            "result /tmp/tmp2u3cd1ut/en_fetch_ner_spacy_tsf-0.0.0.dist-info/RECORD en_fetch_ner_spacy_tsf-0.0.0.dist-info/RECORD\n",
            "\u001b[38;5;2m✔ Extracted information from .whl file\u001b[0m\n",
            "\u001b[38;5;2m✔ Created model card\u001b[0m\n",
            "en_fetch_ner_spacy_tsf (v0.0.0)\n",
            "Pushing repository to the hub...\n",
            "en_fetch_ner_spacy_tsf-any-py3-none-any.whl:   0% 0.00/403M [00:00<?, ?B/s]\n",
            "model:   0% 0.00/434M [00:00<?, ?B/s]\u001b[A\n",
            "\n",
            "Upload 3 LFS files:   0% 0/3 [00:00<?, ?it/s]\u001b[A\u001b[A\n",
            "\n",
            "\n",
            "en_fetch_ner_spacy_tsf-any-py3-none-any.whl:   0% 16.4k/403M [00:00<3:41:14, 30.3kB/s]\n",
            "model:   0% 16.4k/434M [00:00<3:59:00, 30.3kB/s]\u001b[A\n",
            "\n",
            "\n",
            "lookups.bin: 100% 1.00/1.00 [00:00<00:00, 1.60B/s]\n",
            "en_fetch_ner_spacy_tsf-any-py3-none-any.whl:   0% 1.23M/403M [00:00<02:36, 2.56MB/s]  \n",
            "en_fetch_ner_spacy_tsf-any-py3-none-any.whl:   2% 7.85M/403M [00:00<00:22, 17.2MB/s]\n",
            "en_fetch_ner_spacy_tsf-any-py3-none-any.whl:   4% 15.3M/403M [00:00<00:13, 29.2MB/s]\n",
            "en_fetch_ner_spacy_tsf-any-py3-none-any.whl:   5% 19.7M/403M [00:01<00:14, 27.3MB/s]\n",
            "en_fetch_ner_spacy_tsf-any-py3-none-any.whl:   6% 23.8M/403M [00:01<00:12, 30.5MB/s]\n",
            "en_fetch_ner_spacy_tsf-any-py3-none-any.whl:   8% 31.9M/403M [00:01<00:08, 42.3MB/s]\n",
            "model:   7% 30.6M/434M [00:01<00:11, 36.5MB/s]\u001b[A\n",
            "en_fetch_ner_spacy_tsf-any-py3-none-any.whl:   9% 36.9M/403M [00:01<00:14, 25.8MB/s]\n",
            "en_fetch_ner_spacy_tsf-any-py3-none-any.whl:  11% 43.2M/403M [00:01<00:11, 31.0MB/s]\n",
            "en_fetch_ner_spacy_tsf-any-py3-none-any.whl:  12% 48.0M/403M [00:02<00:14, 23.8MB/s]\n",
            "en_fetch_ner_spacy_tsf-any-py3-none-any.whl:  14% 54.5M/403M [00:02<00:11, 30.3MB/s]\n",
            "en_fetch_ner_spacy_tsf-any-py3-none-any.whl:  15% 62.3M/403M [00:02<00:08, 39.2MB/s]\n",
            "model:  15% 63.5M/434M [00:02<00:09, 38.2MB/s]\u001b[A\n",
            "en_fetch_ner_spacy_tsf-any-py3-none-any.whl:  17% 67.7M/403M [00:02<00:11, 29.5MB/s]\n",
            "en_fetch_ner_spacy_tsf-any-py3-none-any.whl:  20% 79.9M/403M [00:02<00:08, 38.7MB/s]\n",
            "model:  19% 81.6M/434M [00:02<00:11, 31.2MB/s]\u001b[A\n",
            "en_fetch_ner_spacy_tsf-any-py3-none-any.whl:  23% 92.4M/403M [00:03<00:08, 36.6MB/s]\n",
            "model:  22% 96.1M/434M [00:03<00:10, 31.9MB/s]\u001b[A\n",
            "model:  25% 107M/434M [00:03<00:07, 41.9MB/s] \u001b[A\n",
            "en_fetch_ner_spacy_tsf-any-py3-none-any.whl:  24% 97.2M/403M [00:03<00:17, 17.9MB/s]\n",
            "en_fetch_ner_spacy_tsf-any-py3-none-any.whl:  26% 103M/403M [00:04<00:13, 22.4MB/s] \n",
            "model:  29% 127M/434M [00:04<00:07, 43.6MB/s]\u001b[A\n",
            "model:  31% 133M/434M [00:04<00:08, 36.9MB/s]\u001b[A\n",
            "en_fetch_ner_spacy_tsf-any-py3-none-any.whl:  30% 119M/403M [00:04<00:09, 29.4MB/s]\n",
            "model:  34% 147M/434M [00:04<00:09, 30.3MB/s]\u001b[A\n",
            "en_fetch_ner_spacy_tsf-any-py3-none-any.whl:  32% 128M/403M [00:04<00:10, 26.5MB/s]\n",
            "en_fetch_ner_spacy_tsf-any-py3-none-any.whl:  38% 152M/403M [00:05<00:07, 34.3MB/s]\n",
            "model:  38% 163M/434M [00:05<00:12, 21.0MB/s]\u001b[A\n",
            "en_fetch_ner_spacy_tsf-any-py3-none-any.whl:  40% 160M/403M [00:05<00:08, 27.0MB/s]\n",
            "en_fetch_ner_spacy_tsf-any-py3-none-any.whl:  42% 168M/403M [00:06<00:07, 33.2MB/s]\n",
            "en_fetch_ner_spacy_tsf-any-py3-none-any.whl:  44% 176M/403M [00:06<00:05, 39.5MB/s]\n",
            "en_fetch_ner_spacy_tsf-any-py3-none-any.whl:  45% 181M/403M [00:06<00:07, 30.3MB/s]\n",
            "en_fetch_ner_spacy_tsf-any-py3-none-any.whl:  47% 190M/403M [00:06<00:05, 37.6MB/s]\n",
            "en_fetch_ner_spacy_tsf-any-py3-none-any.whl:  50% 200M/403M [00:06<00:06, 32.9MB/s]\n",
            "en_fetch_ner_spacy_tsf-any-py3-none-any.whl:  51% 207M/403M [00:07<00:04, 40.1MB/s]\n",
            "model:  49% 214M/434M [00:07<00:06, 31.7MB/s]\u001b[A\n",
            "en_fetch_ner_spacy_tsf-any-py3-none-any.whl:  55% 223M/403M [00:07<00:04, 43.3MB/s]\n",
            "model:  53% 228M/434M [00:07<00:07, 26.3MB/s]\u001b[A\n",
            "model:  55% 238M/434M [00:07<00:05, 35.1MB/s]\u001b[A\n",
            "model:  56% 243M/434M [00:08<00:06, 29.8MB/s]\u001b[A\n",
            "en_fetch_ner_spacy_tsf-any-py3-none-any.whl:  57% 229M/403M [00:08<00:08, 21.2MB/s]\n",
            "en_fetch_ner_spacy_tsf-any-py3-none-any.whl:  62% 248M/403M [00:08<00:05, 28.6MB/s]\n",
            "model:  60% 259M/434M [00:08<00:09, 18.3MB/s]\u001b[A\n",
            "en_fetch_ner_spacy_tsf-any-py3-none-any.whl:  64% 256M/403M [00:09<00:05, 25.2MB/s]\n",
            "en_fetch_ner_spacy_tsf-any-py3-none-any.whl:  67% 271M/403M [00:09<00:03, 39.7MB/s]\n",
            "model:  64% 276M/434M [00:09<00:06, 23.9MB/s]\u001b[A\n",
            "en_fetch_ner_spacy_tsf-any-py3-none-any.whl:  71% 284M/403M [00:09<00:03, 36.2MB/s]\n",
            "model:  67% 290M/434M [00:09<00:05, 27.8MB/s]\u001b[A\n",
            "en_fetch_ner_spacy_tsf-any-py3-none-any.whl:  72% 290M/403M [00:09<00:03, 31.1MB/s]\n",
            "en_fetch_ner_spacy_tsf-any-py3-none-any.whl:  73% 296M/403M [00:10<00:03, 35.0MB/s]\n",
            "en_fetch_ner_spacy_tsf-any-py3-none-any.whl:  75% 304M/403M [00:10<00:03, 29.3MB/s]\n",
            "en_fetch_ner_spacy_tsf-any-py3-none-any.whl:  79% 320M/403M [00:10<00:01, 43.4MB/s]\n",
            "en_fetch_ner_spacy_tsf-any-py3-none-any.whl:  81% 325M/403M [00:10<00:02, 32.8MB/s]\n",
            "en_fetch_ner_spacy_tsf-any-py3-none-any.whl:  82% 332M/403M [00:11<00:01, 38.7MB/s]\n",
            "model:  77% 335M/434M [00:11<00:02, 38.7MB/s]\u001b[A\n",
            "en_fetch_ner_spacy_tsf-any-py3-none-any.whl:  84% 337M/403M [00:11<00:02, 25.9MB/s]\n",
            "en_fetch_ner_spacy_tsf-any-py3-none-any.whl:  85% 342M/403M [00:11<00:02, 29.1MB/s]\n",
            "model:  82% 356M/434M [00:11<00:02, 31.8MB/s]\u001b[A\n",
            "en_fetch_ner_spacy_tsf-any-py3-none-any.whl:  89% 360M/403M [00:12<00:01, 33.8MB/s]\n",
            "model:  85% 370M/434M [00:12<00:01, 33.7MB/s]\u001b[A\n",
            "en_fetch_ner_spacy_tsf-any-py3-none-any.whl:  91% 368M/403M [00:12<00:01, 25.2MB/s]\n",
            "en_fetch_ner_spacy_tsf-any-py3-none-any.whl:  93% 376M/403M [00:12<00:00, 31.5MB/s]\n",
            "en_fetch_ner_spacy_tsf-any-py3-none-any.whl:  95% 383M/403M [00:12<00:00, 37.5MB/s]\n",
            "en_fetch_ner_spacy_tsf-any-py3-none-any.whl:  97% 389M/403M [00:13<00:00, 28.6MB/s]\n",
            "model:  93% 402M/434M [00:13<00:01, 29.6MB/s]\u001b[A\n",
            "en_fetch_ner_spacy_tsf-any-py3-none-any.whl: 100% 402M/403M [00:13<00:00, 31.4MB/s]\n",
            "model:  96% 416M/434M [00:13<00:00, 27.4MB/s]\u001b[A\n",
            "en_fetch_ner_spacy_tsf-any-py3-none-any.whl: 100% 403M/403M [00:13<00:00, 28.9MB/s]\n",
            "\n",
            "model: 100% 434M/434M [00:14<00:00, 30.3MB/s]\n",
            "\n",
            "\n",
            "Upload 3 LFS files:  33% 1/3 [00:14<00:28, 14.35s/it]\u001b[A\u001b[A\n",
            "\n",
            "Upload 3 LFS files: 100% 3/3 [00:14<00:00,  4.91s/it]\n",
            "\u001b[38;5;2m✔ Pushed repository 'en_fetch_ner_spacy_tsf' to the hub\u001b[0m\n",
            "\n",
            "View your model here:\n",
            "https://huggingface.co/hjianganthony/en_fetch_ner_spacy_tsf\n",
            "\n",
            "Install your model:\n",
            "pip install https://huggingface.co/hjianganthony/en_fetch_ner_spacy_tsf/resolve/main/en_fetch_ner_spacy_tsf-any-py3-none-any.whl\n"
          ]
        }
      ]
    },
    {
      "cell_type": "code",
      "source": [],
      "metadata": {
        "id": "w7QSEc8N99bq"
      },
      "execution_count": null,
      "outputs": []
    },
    {
      "cell_type": "markdown",
      "source": [
        "## Test on Huggingface model"
      ],
      "metadata": {
        "id": "iuYu77G9Wuw3"
      }
    },
    {
      "cell_type": "code",
      "source": [
        "!pip install https://huggingface.co/hjianganthony/en_fetch_ner_spacy_tsf/resolve/main/en_fetch_ner_spacy_tsf-any-py3-none-any.whl"
      ],
      "metadata": {
        "id": "8gSAnIv3c8BI",
        "colab": {
          "base_uri": "https://localhost:8080/"
        },
        "outputId": "3caae013-71be-48e6-854a-bdc6b8e1d71d"
      },
      "execution_count": null,
      "outputs": [
        {
          "output_type": "stream",
          "name": "stdout",
          "text": [
            "Collecting en-fetch-ner-spacy-tsf==any\n",
            "  Downloading https://huggingface.co/hjianganthony/en_fetch_ner_spacy_tsf/resolve/main/en_fetch_ner_spacy_tsf-any-py3-none-any.whl (402.7 MB)\n",
            "\u001b[2K     \u001b[90m━━━━━━━━━━━━━━━━━━━━━━━━━━━━━━━━━━━━━━━━\u001b[0m \u001b[32m402.7/402.7 MB\u001b[0m \u001b[31m1.2 MB/s\u001b[0m eta \u001b[36m0:00:00\u001b[0m\n",
            "\u001b[?25hRequirement already satisfied: spacy<3.7.0,>=3.6.1 in /usr/local/lib/python3.10/dist-packages (from en-fetch-ner-spacy-tsf==any) (3.6.1)\n",
            "Requirement already satisfied: spacy-transformers<1.4.0,>=1.3.2 in /usr/local/lib/python3.10/dist-packages (from en-fetch-ner-spacy-tsf==any) (1.3.2)\n",
            "Requirement already satisfied: spacy-legacy<3.1.0,>=3.0.11 in /usr/local/lib/python3.10/dist-packages (from spacy<3.7.0,>=3.6.1->en-fetch-ner-spacy-tsf==any) (3.0.12)\n",
            "Requirement already satisfied: spacy-loggers<2.0.0,>=1.0.0 in /usr/local/lib/python3.10/dist-packages (from spacy<3.7.0,>=3.6.1->en-fetch-ner-spacy-tsf==any) (1.0.5)\n",
            "Requirement already satisfied: murmurhash<1.1.0,>=0.28.0 in /usr/local/lib/python3.10/dist-packages (from spacy<3.7.0,>=3.6.1->en-fetch-ner-spacy-tsf==any) (1.0.10)\n",
            "Requirement already satisfied: cymem<2.1.0,>=2.0.2 in /usr/local/lib/python3.10/dist-packages (from spacy<3.7.0,>=3.6.1->en-fetch-ner-spacy-tsf==any) (2.0.8)\n",
            "Requirement already satisfied: preshed<3.1.0,>=3.0.2 in /usr/local/lib/python3.10/dist-packages (from spacy<3.7.0,>=3.6.1->en-fetch-ner-spacy-tsf==any) (3.0.9)\n",
            "Requirement already satisfied: thinc<8.2.0,>=8.1.8 in /usr/local/lib/python3.10/dist-packages (from spacy<3.7.0,>=3.6.1->en-fetch-ner-spacy-tsf==any) (8.1.12)\n",
            "Requirement already satisfied: wasabi<1.2.0,>=0.9.1 in /usr/local/lib/python3.10/dist-packages (from spacy<3.7.0,>=3.6.1->en-fetch-ner-spacy-tsf==any) (1.1.2)\n",
            "Requirement already satisfied: srsly<3.0.0,>=2.4.3 in /usr/local/lib/python3.10/dist-packages (from spacy<3.7.0,>=3.6.1->en-fetch-ner-spacy-tsf==any) (2.4.8)\n",
            "Requirement already satisfied: catalogue<2.1.0,>=2.0.6 in /usr/local/lib/python3.10/dist-packages (from spacy<3.7.0,>=3.6.1->en-fetch-ner-spacy-tsf==any) (2.0.10)\n",
            "Requirement already satisfied: typer<0.10.0,>=0.3.0 in /usr/local/lib/python3.10/dist-packages (from spacy<3.7.0,>=3.6.1->en-fetch-ner-spacy-tsf==any) (0.7.0)\n",
            "Requirement already satisfied: pathy>=0.10.0 in /usr/local/lib/python3.10/dist-packages (from spacy<3.7.0,>=3.6.1->en-fetch-ner-spacy-tsf==any) (0.10.2)\n",
            "Requirement already satisfied: smart-open<7.0.0,>=5.2.1 in /usr/local/lib/python3.10/dist-packages (from spacy<3.7.0,>=3.6.1->en-fetch-ner-spacy-tsf==any) (6.4.0)\n",
            "Requirement already satisfied: tqdm<5.0.0,>=4.38.0 in /usr/local/lib/python3.10/dist-packages (from spacy<3.7.0,>=3.6.1->en-fetch-ner-spacy-tsf==any) (4.66.1)\n",
            "Requirement already satisfied: numpy>=1.15.0 in /usr/local/lib/python3.10/dist-packages (from spacy<3.7.0,>=3.6.1->en-fetch-ner-spacy-tsf==any) (1.23.5)\n",
            "Requirement already satisfied: requests<3.0.0,>=2.13.0 in /usr/local/lib/python3.10/dist-packages (from spacy<3.7.0,>=3.6.1->en-fetch-ner-spacy-tsf==any) (2.31.0)\n",
            "Requirement already satisfied: pydantic!=1.8,!=1.8.1,<3.0.0,>=1.7.4 in /usr/local/lib/python3.10/dist-packages (from spacy<3.7.0,>=3.6.1->en-fetch-ner-spacy-tsf==any) (1.10.13)\n",
            "Requirement already satisfied: jinja2 in /usr/local/lib/python3.10/dist-packages (from spacy<3.7.0,>=3.6.1->en-fetch-ner-spacy-tsf==any) (3.1.2)\n",
            "Requirement already satisfied: setuptools in /usr/local/lib/python3.10/dist-packages (from spacy<3.7.0,>=3.6.1->en-fetch-ner-spacy-tsf==any) (67.7.2)\n",
            "Requirement already satisfied: packaging>=20.0 in /usr/local/lib/python3.10/dist-packages (from spacy<3.7.0,>=3.6.1->en-fetch-ner-spacy-tsf==any) (23.2)\n",
            "Requirement already satisfied: langcodes<4.0.0,>=3.2.0 in /usr/local/lib/python3.10/dist-packages (from spacy<3.7.0,>=3.6.1->en-fetch-ner-spacy-tsf==any) (3.3.0)\n",
            "Requirement already satisfied: transformers<4.35.0,>=3.4.0 in /usr/local/lib/python3.10/dist-packages (from spacy-transformers<1.4.0,>=1.3.2->en-fetch-ner-spacy-tsf==any) (4.34.1)\n",
            "Requirement already satisfied: torch>=1.8.0 in /usr/local/lib/python3.10/dist-packages (from spacy-transformers<1.4.0,>=1.3.2->en-fetch-ner-spacy-tsf==any) (2.1.0+cu118)\n",
            "Requirement already satisfied: spacy-alignments<1.0.0,>=0.7.2 in /usr/local/lib/python3.10/dist-packages (from spacy-transformers<1.4.0,>=1.3.2->en-fetch-ner-spacy-tsf==any) (0.9.1)\n",
            "Requirement already satisfied: typing-extensions>=4.2.0 in /usr/local/lib/python3.10/dist-packages (from pydantic!=1.8,!=1.8.1,<3.0.0,>=1.7.4->spacy<3.7.0,>=3.6.1->en-fetch-ner-spacy-tsf==any) (4.5.0)\n",
            "Requirement already satisfied: charset-normalizer<4,>=2 in /usr/local/lib/python3.10/dist-packages (from requests<3.0.0,>=2.13.0->spacy<3.7.0,>=3.6.1->en-fetch-ner-spacy-tsf==any) (3.3.0)\n",
            "Requirement already satisfied: idna<4,>=2.5 in /usr/local/lib/python3.10/dist-packages (from requests<3.0.0,>=2.13.0->spacy<3.7.0,>=3.6.1->en-fetch-ner-spacy-tsf==any) (3.4)\n",
            "Requirement already satisfied: urllib3<3,>=1.21.1 in /usr/local/lib/python3.10/dist-packages (from requests<3.0.0,>=2.13.0->spacy<3.7.0,>=3.6.1->en-fetch-ner-spacy-tsf==any) (2.0.7)\n",
            "Requirement already satisfied: certifi>=2017.4.17 in /usr/local/lib/python3.10/dist-packages (from requests<3.0.0,>=2.13.0->spacy<3.7.0,>=3.6.1->en-fetch-ner-spacy-tsf==any) (2023.7.22)\n",
            "Requirement already satisfied: blis<0.8.0,>=0.7.8 in /usr/local/lib/python3.10/dist-packages (from thinc<8.2.0,>=8.1.8->spacy<3.7.0,>=3.6.1->en-fetch-ner-spacy-tsf==any) (0.7.11)\n",
            "Requirement already satisfied: confection<1.0.0,>=0.0.1 in /usr/local/lib/python3.10/dist-packages (from thinc<8.2.0,>=8.1.8->spacy<3.7.0,>=3.6.1->en-fetch-ner-spacy-tsf==any) (0.1.3)\n",
            "Requirement already satisfied: filelock in /usr/local/lib/python3.10/dist-packages (from torch>=1.8.0->spacy-transformers<1.4.0,>=1.3.2->en-fetch-ner-spacy-tsf==any) (3.12.4)\n",
            "Requirement already satisfied: sympy in /usr/local/lib/python3.10/dist-packages (from torch>=1.8.0->spacy-transformers<1.4.0,>=1.3.2->en-fetch-ner-spacy-tsf==any) (1.12)\n",
            "Requirement already satisfied: networkx in /usr/local/lib/python3.10/dist-packages (from torch>=1.8.0->spacy-transformers<1.4.0,>=1.3.2->en-fetch-ner-spacy-tsf==any) (3.2)\n",
            "Requirement already satisfied: fsspec in /usr/local/lib/python3.10/dist-packages (from torch>=1.8.0->spacy-transformers<1.4.0,>=1.3.2->en-fetch-ner-spacy-tsf==any) (2023.6.0)\n",
            "Requirement already satisfied: triton==2.1.0 in /usr/local/lib/python3.10/dist-packages (from torch>=1.8.0->spacy-transformers<1.4.0,>=1.3.2->en-fetch-ner-spacy-tsf==any) (2.1.0)\n",
            "Requirement already satisfied: huggingface-hub<1.0,>=0.16.4 in /usr/local/lib/python3.10/dist-packages (from transformers<4.35.0,>=3.4.0->spacy-transformers<1.4.0,>=1.3.2->en-fetch-ner-spacy-tsf==any) (0.17.3)\n",
            "Requirement already satisfied: pyyaml>=5.1 in /usr/local/lib/python3.10/dist-packages (from transformers<4.35.0,>=3.4.0->spacy-transformers<1.4.0,>=1.3.2->en-fetch-ner-spacy-tsf==any) (6.0.1)\n",
            "Requirement already satisfied: regex!=2019.12.17 in /usr/local/lib/python3.10/dist-packages (from transformers<4.35.0,>=3.4.0->spacy-transformers<1.4.0,>=1.3.2->en-fetch-ner-spacy-tsf==any) (2023.6.3)\n",
            "Requirement already satisfied: tokenizers<0.15,>=0.14 in /usr/local/lib/python3.10/dist-packages (from transformers<4.35.0,>=3.4.0->spacy-transformers<1.4.0,>=1.3.2->en-fetch-ner-spacy-tsf==any) (0.14.1)\n",
            "Requirement already satisfied: safetensors>=0.3.1 in /usr/local/lib/python3.10/dist-packages (from transformers<4.35.0,>=3.4.0->spacy-transformers<1.4.0,>=1.3.2->en-fetch-ner-spacy-tsf==any) (0.4.0)\n",
            "Requirement already satisfied: click<9.0.0,>=7.1.1 in /usr/local/lib/python3.10/dist-packages (from typer<0.10.0,>=0.3.0->spacy<3.7.0,>=3.6.1->en-fetch-ner-spacy-tsf==any) (8.1.7)\n",
            "Requirement already satisfied: MarkupSafe>=2.0 in /usr/local/lib/python3.10/dist-packages (from jinja2->spacy<3.7.0,>=3.6.1->en-fetch-ner-spacy-tsf==any) (2.1.3)\n",
            "Requirement already satisfied: mpmath>=0.19 in /usr/local/lib/python3.10/dist-packages (from sympy->torch>=1.8.0->spacy-transformers<1.4.0,>=1.3.2->en-fetch-ner-spacy-tsf==any) (1.3.0)\n"
          ]
        }
      ]
    },
    {
      "cell_type": "code",
      "source": [
        "# Using spacy.load().\n",
        "import spacy\n",
        "nlp = spacy.load(\"en_fetch_ner_spacy_tsf\")\n",
        "\n",
        "# Importing as module.\n",
        "import en_fetch_ner_spacy_tsf\n",
        "nlp = en_fetch_ner_spacy_tsf.load()\n",
        "\n",
        "from spacy.tokens import DocBin\n",
        "import srsly\n",
        "# from spacy.training import offsets_to_biluo_tags"
      ],
      "metadata": {
        "id": "V8UpNgK6c7-W",
        "colab": {
          "base_uri": "https://localhost:8080/",
          "height": 402
        },
        "outputId": "76c9f99d-b64c-4361-e976-4ce226817c55"
      },
      "execution_count": null,
      "outputs": [
        {
          "output_type": "error",
          "ename": "KeyboardInterrupt",
          "evalue": "ignored",
          "traceback": [
            "\u001b[0;31m---------------------------------------------------------------------------\u001b[0m",
            "\u001b[0;31mKeyboardInterrupt\u001b[0m                         Traceback (most recent call last)",
            "\u001b[0;32m<ipython-input-40-848712c3299e>\u001b[0m in \u001b[0;36m<cell line: 3>\u001b[0;34m()\u001b[0m\n\u001b[1;32m      1\u001b[0m \u001b[0;31m# Using spacy.load().\u001b[0m\u001b[0;34m\u001b[0m\u001b[0;34m\u001b[0m\u001b[0m\n\u001b[1;32m      2\u001b[0m \u001b[0;32mimport\u001b[0m \u001b[0mspacy\u001b[0m\u001b[0;34m\u001b[0m\u001b[0;34m\u001b[0m\u001b[0m\n\u001b[0;32m----> 3\u001b[0;31m \u001b[0mnlp\u001b[0m \u001b[0;34m=\u001b[0m \u001b[0mspacy\u001b[0m\u001b[0;34m.\u001b[0m\u001b[0mload\u001b[0m\u001b[0;34m(\u001b[0m\u001b[0;34m\"en_fetch_ner_spacy_tsf\"\u001b[0m\u001b[0;34m)\u001b[0m\u001b[0;34m\u001b[0m\u001b[0;34m\u001b[0m\u001b[0m\n\u001b[0m\u001b[1;32m      4\u001b[0m \u001b[0;34m\u001b[0m\u001b[0m\n\u001b[1;32m      5\u001b[0m \u001b[0;31m# Importing as module.\u001b[0m\u001b[0;34m\u001b[0m\u001b[0;34m\u001b[0m\u001b[0m\n",
            "\u001b[0;32m/usr/local/lib/python3.10/dist-packages/spacy/__init__.py\u001b[0m in \u001b[0;36mload\u001b[0;34m(name, vocab, disable, enable, exclude, config)\u001b[0m\n\u001b[1;32m     49\u001b[0m     \u001b[0mRETURNS\u001b[0m \u001b[0;34m(\u001b[0m\u001b[0mLanguage\u001b[0m\u001b[0;34m)\u001b[0m\u001b[0;34m:\u001b[0m \u001b[0mThe\u001b[0m \u001b[0mloaded\u001b[0m \u001b[0mnlp\u001b[0m \u001b[0mobject\u001b[0m\u001b[0;34m.\u001b[0m\u001b[0;34m\u001b[0m\u001b[0;34m\u001b[0m\u001b[0m\n\u001b[1;32m     50\u001b[0m     \"\"\"\n\u001b[0;32m---> 51\u001b[0;31m     return util.load_model(\n\u001b[0m\u001b[1;32m     52\u001b[0m         \u001b[0mname\u001b[0m\u001b[0;34m,\u001b[0m\u001b[0;34m\u001b[0m\u001b[0;34m\u001b[0m\u001b[0m\n\u001b[1;32m     53\u001b[0m         \u001b[0mvocab\u001b[0m\u001b[0;34m=\u001b[0m\u001b[0mvocab\u001b[0m\u001b[0;34m,\u001b[0m\u001b[0;34m\u001b[0m\u001b[0;34m\u001b[0m\u001b[0m\n",
            "\u001b[0;32m/usr/local/lib/python3.10/dist-packages/spacy/util.py\u001b[0m in \u001b[0;36mload_model\u001b[0;34m(name, vocab, disable, enable, exclude, config)\u001b[0m\n\u001b[1;32m    463\u001b[0m             \u001b[0;32mreturn\u001b[0m \u001b[0mget_lang_class\u001b[0m\u001b[0;34m(\u001b[0m\u001b[0mname\u001b[0m\u001b[0;34m.\u001b[0m\u001b[0mreplace\u001b[0m\u001b[0;34m(\u001b[0m\u001b[0;34m\"blank:\"\u001b[0m\u001b[0;34m,\u001b[0m \u001b[0;34m\"\"\u001b[0m\u001b[0;34m)\u001b[0m\u001b[0;34m)\u001b[0m\u001b[0;34m(\u001b[0m\u001b[0;34m)\u001b[0m\u001b[0;34m\u001b[0m\u001b[0;34m\u001b[0m\u001b[0m\n\u001b[1;32m    464\u001b[0m         \u001b[0;32mif\u001b[0m \u001b[0mis_package\u001b[0m\u001b[0;34m(\u001b[0m\u001b[0mname\u001b[0m\u001b[0;34m)\u001b[0m\u001b[0;34m:\u001b[0m  \u001b[0;31m# installed as package\u001b[0m\u001b[0;34m\u001b[0m\u001b[0;34m\u001b[0m\u001b[0m\n\u001b[0;32m--> 465\u001b[0;31m             \u001b[0;32mreturn\u001b[0m \u001b[0mload_model_from_package\u001b[0m\u001b[0;34m(\u001b[0m\u001b[0mname\u001b[0m\u001b[0;34m,\u001b[0m \u001b[0;34m**\u001b[0m\u001b[0mkwargs\u001b[0m\u001b[0;34m)\u001b[0m  \u001b[0;31m# type: ignore[arg-type]\u001b[0m\u001b[0;34m\u001b[0m\u001b[0;34m\u001b[0m\u001b[0m\n\u001b[0m\u001b[1;32m    466\u001b[0m         \u001b[0;32mif\u001b[0m \u001b[0mPath\u001b[0m\u001b[0;34m(\u001b[0m\u001b[0mname\u001b[0m\u001b[0;34m)\u001b[0m\u001b[0;34m.\u001b[0m\u001b[0mexists\u001b[0m\u001b[0;34m(\u001b[0m\u001b[0;34m)\u001b[0m\u001b[0;34m:\u001b[0m  \u001b[0;31m# path to model data directory\u001b[0m\u001b[0;34m\u001b[0m\u001b[0;34m\u001b[0m\u001b[0m\n\u001b[1;32m    467\u001b[0m             \u001b[0;32mreturn\u001b[0m \u001b[0mload_model_from_path\u001b[0m\u001b[0;34m(\u001b[0m\u001b[0mPath\u001b[0m\u001b[0;34m(\u001b[0m\u001b[0mname\u001b[0m\u001b[0;34m)\u001b[0m\u001b[0;34m,\u001b[0m \u001b[0;34m**\u001b[0m\u001b[0mkwargs\u001b[0m\u001b[0;34m)\u001b[0m  \u001b[0;31m# type: ignore[arg-type]\u001b[0m\u001b[0;34m\u001b[0m\u001b[0;34m\u001b[0m\u001b[0m\n",
            "\u001b[0;32m/usr/local/lib/python3.10/dist-packages/spacy/util.py\u001b[0m in \u001b[0;36mload_model_from_package\u001b[0;34m(name, vocab, disable, enable, exclude, config)\u001b[0m\n\u001b[1;32m    499\u001b[0m     \"\"\"\n\u001b[1;32m    500\u001b[0m     \u001b[0mcls\u001b[0m \u001b[0;34m=\u001b[0m \u001b[0mimportlib\u001b[0m\u001b[0;34m.\u001b[0m\u001b[0mimport_module\u001b[0m\u001b[0;34m(\u001b[0m\u001b[0mname\u001b[0m\u001b[0;34m)\u001b[0m\u001b[0;34m\u001b[0m\u001b[0;34m\u001b[0m\u001b[0m\n\u001b[0;32m--> 501\u001b[0;31m     \u001b[0;32mreturn\u001b[0m \u001b[0mcls\u001b[0m\u001b[0;34m.\u001b[0m\u001b[0mload\u001b[0m\u001b[0;34m(\u001b[0m\u001b[0mvocab\u001b[0m\u001b[0;34m=\u001b[0m\u001b[0mvocab\u001b[0m\u001b[0;34m,\u001b[0m \u001b[0mdisable\u001b[0m\u001b[0;34m=\u001b[0m\u001b[0mdisable\u001b[0m\u001b[0;34m,\u001b[0m \u001b[0menable\u001b[0m\u001b[0;34m=\u001b[0m\u001b[0menable\u001b[0m\u001b[0;34m,\u001b[0m \u001b[0mexclude\u001b[0m\u001b[0;34m=\u001b[0m\u001b[0mexclude\u001b[0m\u001b[0;34m,\u001b[0m \u001b[0mconfig\u001b[0m\u001b[0;34m=\u001b[0m\u001b[0mconfig\u001b[0m\u001b[0;34m)\u001b[0m  \u001b[0;31m# type: ignore[attr-defined]\u001b[0m\u001b[0;34m\u001b[0m\u001b[0;34m\u001b[0m\u001b[0m\n\u001b[0m\u001b[1;32m    502\u001b[0m \u001b[0;34m\u001b[0m\u001b[0m\n\u001b[1;32m    503\u001b[0m \u001b[0;34m\u001b[0m\u001b[0m\n",
            "\u001b[0;32m/usr/local/lib/python3.10/dist-packages/en_fetch_ner_spacy_tsf/__init__.py\u001b[0m in \u001b[0;36mload\u001b[0;34m(**overrides)\u001b[0m\n\u001b[1;32m      8\u001b[0m \u001b[0;34m\u001b[0m\u001b[0m\n\u001b[1;32m      9\u001b[0m \u001b[0;32mdef\u001b[0m \u001b[0mload\u001b[0m\u001b[0;34m(\u001b[0m\u001b[0;34m**\u001b[0m\u001b[0moverrides\u001b[0m\u001b[0;34m)\u001b[0m\u001b[0;34m:\u001b[0m\u001b[0;34m\u001b[0m\u001b[0;34m\u001b[0m\u001b[0m\n\u001b[0;32m---> 10\u001b[0;31m     \u001b[0;32mreturn\u001b[0m \u001b[0mload_model_from_init_py\u001b[0m\u001b[0;34m(\u001b[0m\u001b[0m__file__\u001b[0m\u001b[0;34m,\u001b[0m \u001b[0;34m**\u001b[0m\u001b[0moverrides\u001b[0m\u001b[0;34m)\u001b[0m\u001b[0;34m\u001b[0m\u001b[0;34m\u001b[0m\u001b[0m\n\u001b[0m",
            "\u001b[0;32m/usr/local/lib/python3.10/dist-packages/spacy/util.py\u001b[0m in \u001b[0;36mload_model_from_init_py\u001b[0;34m(init_file, vocab, disable, enable, exclude, config)\u001b[0m\n\u001b[1;32m    680\u001b[0m     \u001b[0;32mif\u001b[0m \u001b[0;32mnot\u001b[0m \u001b[0mmodel_path\u001b[0m\u001b[0;34m.\u001b[0m\u001b[0mexists\u001b[0m\u001b[0;34m(\u001b[0m\u001b[0;34m)\u001b[0m\u001b[0;34m:\u001b[0m\u001b[0;34m\u001b[0m\u001b[0;34m\u001b[0m\u001b[0m\n\u001b[1;32m    681\u001b[0m         \u001b[0;32mraise\u001b[0m \u001b[0mIOError\u001b[0m\u001b[0;34m(\u001b[0m\u001b[0mErrors\u001b[0m\u001b[0;34m.\u001b[0m\u001b[0mE052\u001b[0m\u001b[0;34m.\u001b[0m\u001b[0mformat\u001b[0m\u001b[0;34m(\u001b[0m\u001b[0mpath\u001b[0m\u001b[0;34m=\u001b[0m\u001b[0mdata_path\u001b[0m\u001b[0;34m)\u001b[0m\u001b[0;34m)\u001b[0m\u001b[0;34m\u001b[0m\u001b[0;34m\u001b[0m\u001b[0m\n\u001b[0;32m--> 682\u001b[0;31m     return load_model_from_path(\n\u001b[0m\u001b[1;32m    683\u001b[0m         \u001b[0mdata_path\u001b[0m\u001b[0;34m,\u001b[0m\u001b[0;34m\u001b[0m\u001b[0;34m\u001b[0m\u001b[0m\n\u001b[1;32m    684\u001b[0m         \u001b[0mvocab\u001b[0m\u001b[0;34m=\u001b[0m\u001b[0mvocab\u001b[0m\u001b[0;34m,\u001b[0m\u001b[0;34m\u001b[0m\u001b[0;34m\u001b[0m\u001b[0m\n",
            "\u001b[0;32m/usr/local/lib/python3.10/dist-packages/spacy/util.py\u001b[0m in \u001b[0;36mload_model_from_path\u001b[0;34m(model_path, meta, vocab, disable, enable, exclude, config)\u001b[0m\n\u001b[1;32m    545\u001b[0m         \u001b[0mmeta\u001b[0m\u001b[0;34m=\u001b[0m\u001b[0mmeta\u001b[0m\u001b[0;34m,\u001b[0m\u001b[0;34m\u001b[0m\u001b[0;34m\u001b[0m\u001b[0m\n\u001b[1;32m    546\u001b[0m     )\n\u001b[0;32m--> 547\u001b[0;31m     \u001b[0;32mreturn\u001b[0m \u001b[0mnlp\u001b[0m\u001b[0;34m.\u001b[0m\u001b[0mfrom_disk\u001b[0m\u001b[0;34m(\u001b[0m\u001b[0mmodel_path\u001b[0m\u001b[0;34m,\u001b[0m \u001b[0mexclude\u001b[0m\u001b[0;34m=\u001b[0m\u001b[0mexclude\u001b[0m\u001b[0;34m,\u001b[0m \u001b[0moverrides\u001b[0m\u001b[0;34m=\u001b[0m\u001b[0moverrides\u001b[0m\u001b[0;34m)\u001b[0m\u001b[0;34m\u001b[0m\u001b[0;34m\u001b[0m\u001b[0m\n\u001b[0m\u001b[1;32m    548\u001b[0m \u001b[0;34m\u001b[0m\u001b[0m\n\u001b[1;32m    549\u001b[0m \u001b[0;34m\u001b[0m\u001b[0m\n",
            "\u001b[0;32m/usr/local/lib/python3.10/dist-packages/spacy/language.py\u001b[0m in \u001b[0;36mfrom_disk\u001b[0;34m(self, path, exclude, overrides)\u001b[0m\n\u001b[1;32m   2153\u001b[0m             \u001b[0;31m# Convert to list here in case exclude is (default) tuple\u001b[0m\u001b[0;34m\u001b[0m\u001b[0;34m\u001b[0m\u001b[0m\n\u001b[1;32m   2154\u001b[0m             \u001b[0mexclude\u001b[0m \u001b[0;34m=\u001b[0m \u001b[0mlist\u001b[0m\u001b[0;34m(\u001b[0m\u001b[0mexclude\u001b[0m\u001b[0;34m)\u001b[0m \u001b[0;34m+\u001b[0m \u001b[0;34m[\u001b[0m\u001b[0;34m\"vocab\"\u001b[0m\u001b[0;34m]\u001b[0m\u001b[0;34m\u001b[0m\u001b[0;34m\u001b[0m\u001b[0m\n\u001b[0;32m-> 2155\u001b[0;31m         \u001b[0mutil\u001b[0m\u001b[0;34m.\u001b[0m\u001b[0mfrom_disk\u001b[0m\u001b[0;34m(\u001b[0m\u001b[0mpath\u001b[0m\u001b[0;34m,\u001b[0m \u001b[0mdeserializers\u001b[0m\u001b[0;34m,\u001b[0m \u001b[0mexclude\u001b[0m\u001b[0;34m)\u001b[0m  \u001b[0;31m# type: ignore[arg-type]\u001b[0m\u001b[0;34m\u001b[0m\u001b[0;34m\u001b[0m\u001b[0m\n\u001b[0m\u001b[1;32m   2156\u001b[0m         \u001b[0mself\u001b[0m\u001b[0;34m.\u001b[0m\u001b[0m_path\u001b[0m \u001b[0;34m=\u001b[0m \u001b[0mpath\u001b[0m  \u001b[0;31m# type: ignore[assignment]\u001b[0m\u001b[0;34m\u001b[0m\u001b[0;34m\u001b[0m\u001b[0m\n\u001b[1;32m   2157\u001b[0m         \u001b[0mself\u001b[0m\u001b[0;34m.\u001b[0m\u001b[0m_link_components\u001b[0m\u001b[0;34m(\u001b[0m\u001b[0;34m)\u001b[0m\u001b[0;34m\u001b[0m\u001b[0;34m\u001b[0m\u001b[0m\n",
            "\u001b[0;32m/usr/local/lib/python3.10/dist-packages/spacy/util.py\u001b[0m in \u001b[0;36mfrom_disk\u001b[0;34m(path, readers, exclude)\u001b[0m\n\u001b[1;32m   1390\u001b[0m         \u001b[0;31m# Split to support file names like meta.json\u001b[0m\u001b[0;34m\u001b[0m\u001b[0;34m\u001b[0m\u001b[0m\n\u001b[1;32m   1391\u001b[0m         \u001b[0;32mif\u001b[0m \u001b[0mkey\u001b[0m\u001b[0;34m.\u001b[0m\u001b[0msplit\u001b[0m\u001b[0;34m(\u001b[0m\u001b[0;34m\".\"\u001b[0m\u001b[0;34m)\u001b[0m\u001b[0;34m[\u001b[0m\u001b[0;36m0\u001b[0m\u001b[0;34m]\u001b[0m \u001b[0;32mnot\u001b[0m \u001b[0;32min\u001b[0m \u001b[0mexclude\u001b[0m\u001b[0;34m:\u001b[0m\u001b[0;34m\u001b[0m\u001b[0;34m\u001b[0m\u001b[0m\n\u001b[0;32m-> 1392\u001b[0;31m             \u001b[0mreader\u001b[0m\u001b[0;34m(\u001b[0m\u001b[0mpath\u001b[0m \u001b[0;34m/\u001b[0m \u001b[0mkey\u001b[0m\u001b[0;34m)\u001b[0m\u001b[0;34m\u001b[0m\u001b[0;34m\u001b[0m\u001b[0m\n\u001b[0m\u001b[1;32m   1393\u001b[0m     \u001b[0;32mreturn\u001b[0m \u001b[0mpath\u001b[0m\u001b[0;34m\u001b[0m\u001b[0;34m\u001b[0m\u001b[0m\n\u001b[1;32m   1394\u001b[0m \u001b[0;34m\u001b[0m\u001b[0m\n",
            "\u001b[0;32m/usr/local/lib/python3.10/dist-packages/spacy/language.py\u001b[0m in \u001b[0;36m<lambda>\u001b[0;34m(p, proc)\u001b[0m\n\u001b[1;32m   2147\u001b[0m             \u001b[0;32mif\u001b[0m \u001b[0;32mnot\u001b[0m \u001b[0mhasattr\u001b[0m\u001b[0;34m(\u001b[0m\u001b[0mproc\u001b[0m\u001b[0;34m,\u001b[0m \u001b[0;34m\"from_disk\"\u001b[0m\u001b[0;34m)\u001b[0m\u001b[0;34m:\u001b[0m\u001b[0;34m\u001b[0m\u001b[0;34m\u001b[0m\u001b[0m\n\u001b[1;32m   2148\u001b[0m                 \u001b[0;32mcontinue\u001b[0m\u001b[0;34m\u001b[0m\u001b[0;34m\u001b[0m\u001b[0m\n\u001b[0;32m-> 2149\u001b[0;31m             deserializers[name] = lambda p, proc=proc: proc.from_disk(  # type: ignore[misc]\n\u001b[0m\u001b[1;32m   2150\u001b[0m                 \u001b[0mp\u001b[0m\u001b[0;34m,\u001b[0m \u001b[0mexclude\u001b[0m\u001b[0;34m=\u001b[0m\u001b[0;34m[\u001b[0m\u001b[0;34m\"vocab\"\u001b[0m\u001b[0;34m]\u001b[0m\u001b[0;34m\u001b[0m\u001b[0;34m\u001b[0m\u001b[0m\n\u001b[1;32m   2151\u001b[0m             )\n",
            "\u001b[0;32m/usr/local/lib/python3.10/dist-packages/spacy_transformers/pipeline_component.py\u001b[0m in \u001b[0;36mfrom_disk\u001b[0;34m(self, path, exclude)\u001b[0m\n\u001b[1;32m    414\u001b[0m             \u001b[0;34m\"model\"\u001b[0m\u001b[0;34m:\u001b[0m \u001b[0mload_model\u001b[0m\u001b[0;34m,\u001b[0m\u001b[0;34m\u001b[0m\u001b[0;34m\u001b[0m\u001b[0m\n\u001b[1;32m    415\u001b[0m         }\n\u001b[0;32m--> 416\u001b[0;31m         \u001b[0mutil\u001b[0m\u001b[0;34m.\u001b[0m\u001b[0mfrom_disk\u001b[0m\u001b[0;34m(\u001b[0m\u001b[0mpath\u001b[0m\u001b[0;34m,\u001b[0m \u001b[0mdeserialize\u001b[0m\u001b[0;34m,\u001b[0m \u001b[0mexclude\u001b[0m\u001b[0;34m)\u001b[0m  \u001b[0;31m# type: ignore\u001b[0m\u001b[0;34m\u001b[0m\u001b[0;34m\u001b[0m\u001b[0m\n\u001b[0m\u001b[1;32m    417\u001b[0m         \u001b[0;32mreturn\u001b[0m \u001b[0mself\u001b[0m\u001b[0;34m\u001b[0m\u001b[0;34m\u001b[0m\u001b[0m\n",
            "\u001b[0;32m/usr/local/lib/python3.10/dist-packages/spacy/util.py\u001b[0m in \u001b[0;36mfrom_disk\u001b[0;34m(path, readers, exclude)\u001b[0m\n\u001b[1;32m   1390\u001b[0m         \u001b[0;31m# Split to support file names like meta.json\u001b[0m\u001b[0;34m\u001b[0m\u001b[0;34m\u001b[0m\u001b[0m\n\u001b[1;32m   1391\u001b[0m         \u001b[0;32mif\u001b[0m \u001b[0mkey\u001b[0m\u001b[0;34m.\u001b[0m\u001b[0msplit\u001b[0m\u001b[0;34m(\u001b[0m\u001b[0;34m\".\"\u001b[0m\u001b[0;34m)\u001b[0m\u001b[0;34m[\u001b[0m\u001b[0;36m0\u001b[0m\u001b[0;34m]\u001b[0m \u001b[0;32mnot\u001b[0m \u001b[0;32min\u001b[0m \u001b[0mexclude\u001b[0m\u001b[0;34m:\u001b[0m\u001b[0;34m\u001b[0m\u001b[0;34m\u001b[0m\u001b[0m\n\u001b[0;32m-> 1392\u001b[0;31m             \u001b[0mreader\u001b[0m\u001b[0;34m(\u001b[0m\u001b[0mpath\u001b[0m \u001b[0;34m/\u001b[0m \u001b[0mkey\u001b[0m\u001b[0;34m)\u001b[0m\u001b[0;34m\u001b[0m\u001b[0;34m\u001b[0m\u001b[0m\n\u001b[0m\u001b[1;32m   1393\u001b[0m     \u001b[0;32mreturn\u001b[0m \u001b[0mpath\u001b[0m\u001b[0;34m\u001b[0m\u001b[0;34m\u001b[0m\u001b[0m\n\u001b[1;32m   1394\u001b[0m \u001b[0;34m\u001b[0m\u001b[0m\n",
            "\u001b[0;32m/usr/local/lib/python3.10/dist-packages/spacy_transformers/pipeline_component.py\u001b[0m in \u001b[0;36mload_model\u001b[0;34m(p)\u001b[0m\n\u001b[1;32m    388\u001b[0m             \u001b[0;32mtry\u001b[0m\u001b[0;34m:\u001b[0m\u001b[0;34m\u001b[0m\u001b[0;34m\u001b[0m\u001b[0m\n\u001b[1;32m    389\u001b[0m                 \u001b[0;32mwith\u001b[0m \u001b[0mopen\u001b[0m\u001b[0;34m(\u001b[0m\u001b[0mp\u001b[0m\u001b[0;34m,\u001b[0m \u001b[0;34m\"rb\"\u001b[0m\u001b[0;34m)\u001b[0m \u001b[0;32mas\u001b[0m \u001b[0mmfile\u001b[0m\u001b[0;34m:\u001b[0m\u001b[0;34m\u001b[0m\u001b[0;34m\u001b[0m\u001b[0m\n\u001b[0;32m--> 390\u001b[0;31m                     \u001b[0mself\u001b[0m\u001b[0;34m.\u001b[0m\u001b[0mmodel\u001b[0m\u001b[0;34m.\u001b[0m\u001b[0mfrom_bytes\u001b[0m\u001b[0;34m(\u001b[0m\u001b[0mmfile\u001b[0m\u001b[0;34m.\u001b[0m\u001b[0mread\u001b[0m\u001b[0;34m(\u001b[0m\u001b[0;34m)\u001b[0m\u001b[0;34m)\u001b[0m\u001b[0;34m\u001b[0m\u001b[0;34m\u001b[0m\u001b[0m\n\u001b[0m\u001b[1;32m    391\u001b[0m             \u001b[0;32mexcept\u001b[0m \u001b[0mAttributeError\u001b[0m\u001b[0;34m:\u001b[0m\u001b[0;34m\u001b[0m\u001b[0;34m\u001b[0m\u001b[0m\n\u001b[1;32m    392\u001b[0m                 \u001b[0;32mraise\u001b[0m \u001b[0mValueError\u001b[0m\u001b[0;34m(\u001b[0m\u001b[0mErrors\u001b[0m\u001b[0;34m.\u001b[0m\u001b[0mE149\u001b[0m\u001b[0;34m)\u001b[0m \u001b[0;32mfrom\u001b[0m \u001b[0;32mNone\u001b[0m\u001b[0;34m\u001b[0m\u001b[0;34m\u001b[0m\u001b[0m\n",
            "\u001b[0;31mKeyboardInterrupt\u001b[0m: "
          ]
        }
      ]
    },
    {
      "cell_type": "code",
      "source": [
        "# Load the Drive helper and mount\n",
        "from google.colab import drive\n",
        "import os\n",
        "# This will prompt for authorization.\n",
        "drive.mount('/content/drive/')\n",
        "path_gdrive = '/content/drive/MyDrive/Colab Datasets/Fetch'\n",
        "os.chdir(path_gdrive)\n",
        "print(os.getcwd())"
      ],
      "metadata": {
        "id": "HYjAVO_mfyyV",
        "colab": {
          "base_uri": "https://localhost:8080/"
        },
        "outputId": "14f55ac7-d201-4a64-d762-7ff222d37e9d"
      },
      "execution_count": null,
      "outputs": [
        {
          "output_type": "stream",
          "name": "stdout",
          "text": [
            "Drive already mounted at /content/drive/; to attempt to forcibly remount, call drive.mount(\"/content/drive/\", force_remount=True).\n",
            "/content/drive/MyDrive/Colab Datasets/Fetch\n"
          ]
        }
      ]
    },
    {
      "cell_type": "code",
      "source": [
        "import pandas as pd\n",
        "val = pd.read_csv('./data/val.csv')\n",
        "\n",
        "pd.set_option('display.max_colwidth', None)\n",
        "\n",
        "print(val.shape)\n",
        "val.head()"
      ],
      "metadata": {
        "id": "-4ORQ_E8fy09",
        "colab": {
          "base_uri": "https://localhost:8080/",
          "height": 224
        },
        "outputId": "d90b9655-f33a-464e-bcfd-36ed8c8c4cb3"
      },
      "execution_count": null,
      "outputs": [
        {
          "output_type": "stream",
          "name": "stdout",
          "text": [
            "(11, 4)\n"
          ]
        },
        {
          "output_type": "execute_result",
          "data": {
            "text/plain": [
              "                 BRAND  \\\n",
              "0             RANDALLS   \n",
              "1        SIMPLY SPIKED   \n",
              "2  HIDDEN VALLEY RANCH   \n",
              "3    BACK TO THE ROOTS   \n",
              "4               NEKTER   \n",
              "\n",
              "                                                      OFFER  idx RETAILER  \n",
              "0                                      Any Randalls receipt  269      NaN  \n",
              "1                            Simply Spiked Lemonade 12 pack   22      NaN  \n",
              "2          Hidden Valley Ranch Night Seasoning Mix, 1 count  314      NaN  \n",
              "3  Back to the Roots Grow Kits at Walmart or The Home Depot  328  WALMART  \n",
              "4                                        Spend 10 at Nekter  303      NaN  "
            ],
            "text/html": [
              "\n",
              "  <div id=\"df-cec6e28e-7310-484c-86e4-36c6ca6162ea\" class=\"colab-df-container\">\n",
              "    <div>\n",
              "<style scoped>\n",
              "    .dataframe tbody tr th:only-of-type {\n",
              "        vertical-align: middle;\n",
              "    }\n",
              "\n",
              "    .dataframe tbody tr th {\n",
              "        vertical-align: top;\n",
              "    }\n",
              "\n",
              "    .dataframe thead th {\n",
              "        text-align: right;\n",
              "    }\n",
              "</style>\n",
              "<table border=\"1\" class=\"dataframe\">\n",
              "  <thead>\n",
              "    <tr style=\"text-align: right;\">\n",
              "      <th></th>\n",
              "      <th>BRAND</th>\n",
              "      <th>OFFER</th>\n",
              "      <th>idx</th>\n",
              "      <th>RETAILER</th>\n",
              "    </tr>\n",
              "  </thead>\n",
              "  <tbody>\n",
              "    <tr>\n",
              "      <th>0</th>\n",
              "      <td>RANDALLS</td>\n",
              "      <td>Any Randalls receipt</td>\n",
              "      <td>269</td>\n",
              "      <td>NaN</td>\n",
              "    </tr>\n",
              "    <tr>\n",
              "      <th>1</th>\n",
              "      <td>SIMPLY SPIKED</td>\n",
              "      <td>Simply Spiked Lemonade 12 pack</td>\n",
              "      <td>22</td>\n",
              "      <td>NaN</td>\n",
              "    </tr>\n",
              "    <tr>\n",
              "      <th>2</th>\n",
              "      <td>HIDDEN VALLEY RANCH</td>\n",
              "      <td>Hidden Valley Ranch Night Seasoning Mix, 1 count</td>\n",
              "      <td>314</td>\n",
              "      <td>NaN</td>\n",
              "    </tr>\n",
              "    <tr>\n",
              "      <th>3</th>\n",
              "      <td>BACK TO THE ROOTS</td>\n",
              "      <td>Back to the Roots Grow Kits at Walmart or The Home Depot</td>\n",
              "      <td>328</td>\n",
              "      <td>WALMART</td>\n",
              "    </tr>\n",
              "    <tr>\n",
              "      <th>4</th>\n",
              "      <td>NEKTER</td>\n",
              "      <td>Spend 10 at Nekter</td>\n",
              "      <td>303</td>\n",
              "      <td>NaN</td>\n",
              "    </tr>\n",
              "  </tbody>\n",
              "</table>\n",
              "</div>\n",
              "    <div class=\"colab-df-buttons\">\n",
              "\n",
              "  <div class=\"colab-df-container\">\n",
              "    <button class=\"colab-df-convert\" onclick=\"convertToInteractive('df-cec6e28e-7310-484c-86e4-36c6ca6162ea')\"\n",
              "            title=\"Convert this dataframe to an interactive table.\"\n",
              "            style=\"display:none;\">\n",
              "\n",
              "  <svg xmlns=\"http://www.w3.org/2000/svg\" height=\"24px\" viewBox=\"0 -960 960 960\">\n",
              "    <path d=\"M120-120v-720h720v720H120Zm60-500h600v-160H180v160Zm220 220h160v-160H400v160Zm0 220h160v-160H400v160ZM180-400h160v-160H180v160Zm440 0h160v-160H620v160ZM180-180h160v-160H180v160Zm440 0h160v-160H620v160Z\"/>\n",
              "  </svg>\n",
              "    </button>\n",
              "\n",
              "  <style>\n",
              "    .colab-df-container {\n",
              "      display:flex;\n",
              "      gap: 12px;\n",
              "    }\n",
              "\n",
              "    .colab-df-convert {\n",
              "      background-color: #E8F0FE;\n",
              "      border: none;\n",
              "      border-radius: 50%;\n",
              "      cursor: pointer;\n",
              "      display: none;\n",
              "      fill: #1967D2;\n",
              "      height: 32px;\n",
              "      padding: 0 0 0 0;\n",
              "      width: 32px;\n",
              "    }\n",
              "\n",
              "    .colab-df-convert:hover {\n",
              "      background-color: #E2EBFA;\n",
              "      box-shadow: 0px 1px 2px rgba(60, 64, 67, 0.3), 0px 1px 3px 1px rgba(60, 64, 67, 0.15);\n",
              "      fill: #174EA6;\n",
              "    }\n",
              "\n",
              "    .colab-df-buttons div {\n",
              "      margin-bottom: 4px;\n",
              "    }\n",
              "\n",
              "    [theme=dark] .colab-df-convert {\n",
              "      background-color: #3B4455;\n",
              "      fill: #D2E3FC;\n",
              "    }\n",
              "\n",
              "    [theme=dark] .colab-df-convert:hover {\n",
              "      background-color: #434B5C;\n",
              "      box-shadow: 0px 1px 3px 1px rgba(0, 0, 0, 0.15);\n",
              "      filter: drop-shadow(0px 1px 2px rgba(0, 0, 0, 0.3));\n",
              "      fill: #FFFFFF;\n",
              "    }\n",
              "  </style>\n",
              "\n",
              "    <script>\n",
              "      const buttonEl =\n",
              "        document.querySelector('#df-cec6e28e-7310-484c-86e4-36c6ca6162ea button.colab-df-convert');\n",
              "      buttonEl.style.display =\n",
              "        google.colab.kernel.accessAllowed ? 'block' : 'none';\n",
              "\n",
              "      async function convertToInteractive(key) {\n",
              "        const element = document.querySelector('#df-cec6e28e-7310-484c-86e4-36c6ca6162ea');\n",
              "        const dataTable =\n",
              "          await google.colab.kernel.invokeFunction('convertToInteractive',\n",
              "                                                    [key], {});\n",
              "        if (!dataTable) return;\n",
              "\n",
              "        const docLinkHtml = 'Like what you see? Visit the ' +\n",
              "          '<a target=\"_blank\" href=https://colab.research.google.com/notebooks/data_table.ipynb>data table notebook</a>'\n",
              "          + ' to learn more about interactive tables.';\n",
              "        element.innerHTML = '';\n",
              "        dataTable['output_type'] = 'display_data';\n",
              "        await google.colab.output.renderOutput(dataTable, element);\n",
              "        const docLink = document.createElement('div');\n",
              "        docLink.innerHTML = docLinkHtml;\n",
              "        element.appendChild(docLink);\n",
              "      }\n",
              "    </script>\n",
              "  </div>\n",
              "\n",
              "\n",
              "<div id=\"df-0c7af06d-f976-492b-8d34-e301aead90f8\">\n",
              "  <button class=\"colab-df-quickchart\" onclick=\"quickchart('df-0c7af06d-f976-492b-8d34-e301aead90f8')\"\n",
              "            title=\"Suggest charts.\"\n",
              "            style=\"display:none;\">\n",
              "\n",
              "<svg xmlns=\"http://www.w3.org/2000/svg\" height=\"24px\"viewBox=\"0 0 24 24\"\n",
              "     width=\"24px\">\n",
              "    <g>\n",
              "        <path d=\"M19 3H5c-1.1 0-2 .9-2 2v14c0 1.1.9 2 2 2h14c1.1 0 2-.9 2-2V5c0-1.1-.9-2-2-2zM9 17H7v-7h2v7zm4 0h-2V7h2v10zm4 0h-2v-4h2v4z\"/>\n",
              "    </g>\n",
              "</svg>\n",
              "  </button>\n",
              "\n",
              "<style>\n",
              "  .colab-df-quickchart {\n",
              "      --bg-color: #E8F0FE;\n",
              "      --fill-color: #1967D2;\n",
              "      --hover-bg-color: #E2EBFA;\n",
              "      --hover-fill-color: #174EA6;\n",
              "      --disabled-fill-color: #AAA;\n",
              "      --disabled-bg-color: #DDD;\n",
              "  }\n",
              "\n",
              "  [theme=dark] .colab-df-quickchart {\n",
              "      --bg-color: #3B4455;\n",
              "      --fill-color: #D2E3FC;\n",
              "      --hover-bg-color: #434B5C;\n",
              "      --hover-fill-color: #FFFFFF;\n",
              "      --disabled-bg-color: #3B4455;\n",
              "      --disabled-fill-color: #666;\n",
              "  }\n",
              "\n",
              "  .colab-df-quickchart {\n",
              "    background-color: var(--bg-color);\n",
              "    border: none;\n",
              "    border-radius: 50%;\n",
              "    cursor: pointer;\n",
              "    display: none;\n",
              "    fill: var(--fill-color);\n",
              "    height: 32px;\n",
              "    padding: 0;\n",
              "    width: 32px;\n",
              "  }\n",
              "\n",
              "  .colab-df-quickchart:hover {\n",
              "    background-color: var(--hover-bg-color);\n",
              "    box-shadow: 0 1px 2px rgba(60, 64, 67, 0.3), 0 1px 3px 1px rgba(60, 64, 67, 0.15);\n",
              "    fill: var(--button-hover-fill-color);\n",
              "  }\n",
              "\n",
              "  .colab-df-quickchart-complete:disabled,\n",
              "  .colab-df-quickchart-complete:disabled:hover {\n",
              "    background-color: var(--disabled-bg-color);\n",
              "    fill: var(--disabled-fill-color);\n",
              "    box-shadow: none;\n",
              "  }\n",
              "\n",
              "  .colab-df-spinner {\n",
              "    border: 2px solid var(--fill-color);\n",
              "    border-color: transparent;\n",
              "    border-bottom-color: var(--fill-color);\n",
              "    animation:\n",
              "      spin 1s steps(1) infinite;\n",
              "  }\n",
              "\n",
              "  @keyframes spin {\n",
              "    0% {\n",
              "      border-color: transparent;\n",
              "      border-bottom-color: var(--fill-color);\n",
              "      border-left-color: var(--fill-color);\n",
              "    }\n",
              "    20% {\n",
              "      border-color: transparent;\n",
              "      border-left-color: var(--fill-color);\n",
              "      border-top-color: var(--fill-color);\n",
              "    }\n",
              "    30% {\n",
              "      border-color: transparent;\n",
              "      border-left-color: var(--fill-color);\n",
              "      border-top-color: var(--fill-color);\n",
              "      border-right-color: var(--fill-color);\n",
              "    }\n",
              "    40% {\n",
              "      border-color: transparent;\n",
              "      border-right-color: var(--fill-color);\n",
              "      border-top-color: var(--fill-color);\n",
              "    }\n",
              "    60% {\n",
              "      border-color: transparent;\n",
              "      border-right-color: var(--fill-color);\n",
              "    }\n",
              "    80% {\n",
              "      border-color: transparent;\n",
              "      border-right-color: var(--fill-color);\n",
              "      border-bottom-color: var(--fill-color);\n",
              "    }\n",
              "    90% {\n",
              "      border-color: transparent;\n",
              "      border-bottom-color: var(--fill-color);\n",
              "    }\n",
              "  }\n",
              "</style>\n",
              "\n",
              "  <script>\n",
              "    async function quickchart(key) {\n",
              "      const quickchartButtonEl =\n",
              "        document.querySelector('#' + key + ' button');\n",
              "      quickchartButtonEl.disabled = true;  // To prevent multiple clicks.\n",
              "      quickchartButtonEl.classList.add('colab-df-spinner');\n",
              "      try {\n",
              "        const charts = await google.colab.kernel.invokeFunction(\n",
              "            'suggestCharts', [key], {});\n",
              "      } catch (error) {\n",
              "        console.error('Error during call to suggestCharts:', error);\n",
              "      }\n",
              "      quickchartButtonEl.classList.remove('colab-df-spinner');\n",
              "      quickchartButtonEl.classList.add('colab-df-quickchart-complete');\n",
              "    }\n",
              "    (() => {\n",
              "      let quickchartButtonEl =\n",
              "        document.querySelector('#df-0c7af06d-f976-492b-8d34-e301aead90f8 button');\n",
              "      quickchartButtonEl.style.display =\n",
              "        google.colab.kernel.accessAllowed ? 'block' : 'none';\n",
              "    })();\n",
              "  </script>\n",
              "</div>\n",
              "    </div>\n",
              "  </div>\n"
            ]
          },
          "metadata": {},
          "execution_count": 34
        }
      ]
    },
    {
      "cell_type": "code",
      "source": [
        "for i,row in val.iterrows():\n",
        "    doc = nlp(row['OFFER'])\n",
        "    print(\"nReal brand : \", row['BRAND'])\n",
        "    print(\"nReal brand : \", row['RETAILER'])\n",
        "    spacy.displacy.render(doc, style=\"ent\", jupyter=True) # display in Jupyter\n",
        "    print('---'*10)"
      ],
      "metadata": {
        "id": "evF4KAOlf110",
        "colab": {
          "base_uri": "https://localhost:8080/",
          "height": 991
        },
        "outputId": "bceaf281-1073-43a2-80c1-3175d6f57784"
      },
      "execution_count": null,
      "outputs": [
        {
          "output_type": "stream",
          "name": "stdout",
          "text": [
            "nReal brand :  RANDALLS\n",
            "nReal brand :  nan\n"
          ]
        },
        {
          "output_type": "display_data",
          "data": {
            "text/plain": [
              "<IPython.core.display.HTML object>"
            ],
            "text/html": [
              "<span class=\"tex2jax_ignore\"><div class=\"entities\" style=\"line-height: 2.5; direction: ltr\">Any \n",
              "<mark class=\"entity\" style=\"background: #ddd; padding: 0.45em 0.6em; margin: 0 0.25em; line-height: 1; border-radius: 0.35em;\">\n",
              "    Randalls\n",
              "    <span style=\"font-size: 0.8em; font-weight: bold; line-height: 1; border-radius: 0.35em; vertical-align: middle; margin-left: 0.5rem\">BRAND</span>\n",
              "</mark>\n",
              " receipt</div></span>"
            ]
          },
          "metadata": {}
        },
        {
          "output_type": "stream",
          "name": "stdout",
          "text": [
            "------------------------------\n",
            "nReal brand :  SIMPLY SPIKED\n",
            "nReal brand :  nan\n"
          ]
        },
        {
          "output_type": "display_data",
          "data": {
            "text/plain": [
              "<IPython.core.display.HTML object>"
            ],
            "text/html": [
              "<span class=\"tex2jax_ignore\"><div class=\"entities\" style=\"line-height: 2.5; direction: ltr\">\n",
              "<mark class=\"entity\" style=\"background: #ddd; padding: 0.45em 0.6em; margin: 0 0.25em; line-height: 1; border-radius: 0.35em;\">\n",
              "    Simply Spiked\n",
              "    <span style=\"font-size: 0.8em; font-weight: bold; line-height: 1; border-radius: 0.35em; vertical-align: middle; margin-left: 0.5rem\">BRAND</span>\n",
              "</mark>\n",
              " Lemonade 12 pack</div></span>"
            ]
          },
          "metadata": {}
        },
        {
          "output_type": "stream",
          "name": "stdout",
          "text": [
            "------------------------------\n",
            "nReal brand :  HIDDEN VALLEY RANCH\n",
            "nReal brand :  nan\n"
          ]
        },
        {
          "output_type": "display_data",
          "data": {
            "text/plain": [
              "<IPython.core.display.HTML object>"
            ],
            "text/html": [
              "<span class=\"tex2jax_ignore\"><div class=\"entities\" style=\"line-height: 2.5; direction: ltr\">\n",
              "<mark class=\"entity\" style=\"background: #ddd; padding: 0.45em 0.6em; margin: 0 0.25em; line-height: 1; border-radius: 0.35em;\">\n",
              "    Hidden Valley Ranch\n",
              "    <span style=\"font-size: 0.8em; font-weight: bold; line-height: 1; border-radius: 0.35em; vertical-align: middle; margin-left: 0.5rem\">BRAND</span>\n",
              "</mark>\n",
              " Night Seasoning Mix, 1 count</div></span>"
            ]
          },
          "metadata": {}
        },
        {
          "output_type": "stream",
          "name": "stdout",
          "text": [
            "------------------------------\n",
            "nReal brand :  BACK TO THE ROOTS\n",
            "nReal brand :  WALMART\n"
          ]
        },
        {
          "output_type": "display_data",
          "data": {
            "text/plain": [
              "<IPython.core.display.HTML object>"
            ],
            "text/html": [
              "<span class=\"tex2jax_ignore\"><div class=\"entities\" style=\"line-height: 2.5; direction: ltr\">\n",
              "<mark class=\"entity\" style=\"background: #ddd; padding: 0.45em 0.6em; margin: 0 0.25em; line-height: 1; border-radius: 0.35em;\">\n",
              "    Back to the Roots\n",
              "    <span style=\"font-size: 0.8em; font-weight: bold; line-height: 1; border-radius: 0.35em; vertical-align: middle; margin-left: 0.5rem\">BRAND</span>\n",
              "</mark>\n",
              " Grow Kits at Walmart or The Home Depot</div></span>"
            ]
          },
          "metadata": {}
        },
        {
          "output_type": "stream",
          "name": "stdout",
          "text": [
            "------------------------------\n",
            "nReal brand :  NEKTER\n",
            "nReal brand :  nan\n"
          ]
        },
        {
          "output_type": "display_data",
          "data": {
            "text/plain": [
              "<IPython.core.display.HTML object>"
            ],
            "text/html": [
              "<span class=\"tex2jax_ignore\"><div class=\"entities\" style=\"line-height: 2.5; direction: ltr\">Spend 10 at \n",
              "<mark class=\"entity\" style=\"background: #ddd; padding: 0.45em 0.6em; margin: 0 0.25em; line-height: 1; border-radius: 0.35em;\">\n",
              "    Nekter\n",
              "    <span style=\"font-size: 0.8em; font-weight: bold; line-height: 1; border-radius: 0.35em; vertical-align: middle; margin-left: 0.5rem\">BRAND</span>\n",
              "</mark>\n",
              "</div></span>"
            ]
          },
          "metadata": {}
        },
        {
          "output_type": "stream",
          "name": "stdout",
          "text": [
            "------------------------------\n",
            "nReal brand :  GATORADE\n",
            "nReal brand :  nan\n"
          ]
        },
        {
          "output_type": "display_data",
          "data": {
            "text/plain": [
              "<IPython.core.display.HTML object>"
            ],
            "text/html": [
              "<span class=\"tex2jax_ignore\"><div class=\"entities\" style=\"line-height: 2.5; direction: ltr\">GATORLYTE OR \n",
              "<mark class=\"entity\" style=\"background: #ddd; padding: 0.45em 0.6em; margin: 0 0.25em; line-height: 1; border-radius: 0.35em;\">\n",
              "    GATORADE\n",
              "    <span style=\"font-size: 0.8em; font-weight: bold; line-height: 1; border-radius: 0.35em; vertical-align: middle; margin-left: 0.5rem\">BRAND</span>\n",
              "</mark>\n",
              " Fit Single Serve Bottle, select varieties</div></span>"
            ]
          },
          "metadata": {}
        },
        {
          "output_type": "stream",
          "name": "stdout",
          "text": [
            "------------------------------\n",
            "nReal brand :  BUTTERBALL\n",
            "nReal brand :  KROGER\n"
          ]
        },
        {
          "output_type": "display_data",
          "data": {
            "text/plain": [
              "<IPython.core.display.HTML object>"
            ],
            "text/html": [
              "<span class=\"tex2jax_ignore\"><div class=\"entities\" style=\"line-height: 2.5; direction: ltr\">\n",
              "<mark class=\"entity\" style=\"background: #ddd; padding: 0.45em 0.6em; margin: 0 0.25em; line-height: 1; border-radius: 0.35em;\">\n",
              "    Butterball\n",
              "    <span style=\"font-size: 0.8em; font-weight: bold; line-height: 1; border-radius: 0.35em; vertical-align: middle; margin-left: 0.5rem\">BRAND</span>\n",
              "</mark>\n",
              ", select varieties, spend 10 at Kroger</div></span>"
            ]
          },
          "metadata": {}
        },
        {
          "output_type": "stream",
          "name": "stdout",
          "text": [
            "------------------------------\n",
            "nReal brand :  BAI\n",
            "nReal brand :  WALMART\n"
          ]
        },
        {
          "output_type": "display_data",
          "data": {
            "text/plain": [
              "<IPython.core.display.HTML object>"
            ],
            "text/html": [
              "<span class=\"tex2jax_ignore\"><div class=\"entities\" style=\"line-height: 2.5; direction: ltr\">\n",
              "<mark class=\"entity\" style=\"background: #ddd; padding: 0.45em 0.6em; margin: 0 0.25em; line-height: 1; border-radius: 0.35em;\">\n",
              "    Bai\n",
              "    <span style=\"font-size: 0.8em; font-weight: bold; line-height: 1; border-radius: 0.35em; vertical-align: middle; margin-left: 0.5rem\">BRAND</span>\n",
              "</mark>\n",
              " Antioxidant, 6 pack, at Walmart</div></span>"
            ]
          },
          "metadata": {}
        },
        {
          "output_type": "stream",
          "name": "stdout",
          "text": [
            "------------------------------\n",
            "nReal brand :  GORTONS\n",
            "nReal brand :  nan\n"
          ]
        },
        {
          "output_type": "display_data",
          "data": {
            "text/plain": [
              "<IPython.core.display.HTML object>"
            ],
            "text/html": [
              "<span class=\"tex2jax_ignore\"><div class=\"entities\" style=\"line-height: 2.5; direction: ltr\">\n",
              "<mark class=\"entity\" style=\"background: #ddd; padding: 0.45em 0.6em; margin: 0 0.25em; line-height: 1; border-radius: 0.35em;\">\n",
              "    Gortons\n",
              "    <span style=\"font-size: 0.8em; font-weight: bold; line-height: 1; border-radius: 0.35em; vertical-align: middle; margin-left: 0.5rem\">BRAND</span>\n",
              "</mark>\n",
              ", at select retailers</div></span>"
            ]
          },
          "metadata": {}
        },
        {
          "output_type": "stream",
          "name": "stdout",
          "text": [
            "------------------------------\n",
            "nReal brand :  SARGENTO\n",
            "nReal brand :  nan\n"
          ]
        },
        {
          "output_type": "display_data",
          "data": {
            "text/plain": [
              "<IPython.core.display.HTML object>"
            ],
            "text/html": [
              "<span class=\"tex2jax_ignore\"><div class=\"entities\" style=\"line-height: 2.5; direction: ltr\">\n",
              "<mark class=\"entity\" style=\"background: #ddd; padding: 0.45em 0.6em; margin: 0 0.25em; line-height: 1; border-radius: 0.35em;\">\n",
              "    Sargento\n",
              "    <span style=\"font-size: 0.8em; font-weight: bold; line-height: 1; border-radius: 0.35em; vertical-align: middle; margin-left: 0.5rem\">BRAND</span>\n",
              "</mark>\n",
              " Sliced Cheese, spend 25</div></span>"
            ]
          },
          "metadata": {}
        },
        {
          "output_type": "stream",
          "name": "stdout",
          "text": [
            "------------------------------\n",
            "nReal brand :  STUBBORN SODA\n",
            "nReal brand :  AMAZON\n"
          ]
        },
        {
          "output_type": "display_data",
          "data": {
            "text/plain": [
              "<IPython.core.display.HTML object>"
            ],
            "text/html": [
              "<span class=\"tex2jax_ignore\"><div class=\"entities\" style=\"line-height: 2.5; direction: ltr\">\n",
              "<mark class=\"entity\" style=\"background: #ddd; padding: 0.45em 0.6em; margin: 0 0.25em; line-height: 1; border-radius: 0.35em;\">\n",
              "    Stubborn\n",
              "    <span style=\"font-size: 0.8em; font-weight: bold; line-height: 1; border-radius: 0.35em; vertical-align: middle; margin-left: 0.5rem\">BRAND</span>\n",
              "</mark>\n",
              " Soda OR Bundaberg Ginger Beer, select varieties, at Amazon Storefront</div></span>"
            ]
          },
          "metadata": {}
        },
        {
          "output_type": "stream",
          "name": "stdout",
          "text": [
            "------------------------------\n"
          ]
        }
      ]
    },
    {
      "cell_type": "code",
      "source": [
        "text = \"Butterball, select varieties, spend 10 at King Soopers\"\n",
        "doc = nlp(text)\n",
        "spacy.displacy.render(doc, style=\"ent\", jupyter=True) # display in Jupyter"
      ],
      "metadata": {
        "colab": {
          "base_uri": "https://localhost:8080/",
          "height": 52
        },
        "id": "31j9RJwnR0Pj",
        "outputId": "81393ce2-40ee-4da4-8162-271ac8f2163c"
      },
      "execution_count": null,
      "outputs": [
        {
          "output_type": "display_data",
          "data": {
            "text/plain": [
              "<IPython.core.display.HTML object>"
            ],
            "text/html": [
              "<span class=\"tex2jax_ignore\"><div class=\"entities\" style=\"line-height: 2.5; direction: ltr\">\n",
              "<mark class=\"entity\" style=\"background: #ddd; padding: 0.45em 0.6em; margin: 0 0.25em; line-height: 1; border-radius: 0.35em;\">\n",
              "    Butterball\n",
              "    <span style=\"font-size: 0.8em; font-weight: bold; line-height: 1; border-radius: 0.35em; vertical-align: middle; margin-left: 0.5rem\">BRAND</span>\n",
              "</mark>\n",
              ", select varieties, spend 10 at King Soopers</div></span>"
            ]
          },
          "metadata": {}
        }
      ]
    },
    {
      "cell_type": "code",
      "source": [],
      "metadata": {
        "id": "6IrsvNGlViL7"
      },
      "execution_count": null,
      "outputs": []
    }
  ]
}