{
 "cells": [
  {
   "cell_type": "markdown",
   "metadata": {
    "id": "BuoZNIJKFrCf"
   },
   "source": [
    "# Fetch Data Challenge\n",
    "You will be provided with a dataset of offers and some associated metadata around the retailers and brands that are sponsoring the offer.\n",
    "\n",
    "You will also be provided with a dataset of some brands that we support on our platform, and the categories that those products belong\n",
    "to.\n",
    "\n",
    "# Acceptance Criteria\n",
    "- If a user searches for a category (ex. diapers) the tool should return a list of offers that are relevant to that\n",
    "category.\n",
    "- If a user searches for a brand (ex. Huggies) the tool should return a list of offers that are relevant to that brand.\n",
    "- If a user searches for a retailer (ex. Target) the tool should return a list of offers that are relevant to that retailer.\n",
    "- The tool should also return the score that was used to measure the similarity of the text input with each offer\n",
    "\n",
    "# What we seek below:\n",
    "- Detailed responses to each problem, with a focus on the production pipeline surrounding the model.\n",
    "- Identifies several useful techniques to approach eReceipt classification and entity extraction.\n",
    "- Demonstrate a knowledge of recent innovations in NLP and a willingness to think about the problem in terms of software engineering rather than an academic exercise\n",
    "\n",
    "## Data Inspection and EDA"
   ]
  },
  {
   "cell_type": "code",
   "execution_count": 1,
   "metadata": {
    "colab": {
     "base_uri": "https://localhost:8080/"
    },
    "id": "W-TG2iySFik3",
    "outputId": "583547b3-49a2-4878-d862-455e6334e48f"
   },
   "outputs": [],
   "source": [
    "# check current path\n",
    "import os\n",
    "import pandas as pd\n",
    "pd.set_option('display.max_colwidth', None)\n",
    "\n",
    "\n",
    "# # Load the Drive helper and mount\n",
    "# from google.colab import drive\n",
    "# # This will prompt for authorization.\n",
    "# drive.mount('/content/drive/')\n",
    "# path_gdrive = '/content/drive/MyDrive/Colab Datasets/Fetch'\n",
    "# os.chdir(path_gdrive)\n",
    "# print(os.getcwd())"
   ]
  },
  {
   "cell_type": "code",
   "execution_count": 2,
   "metadata": {
    "colab": {
     "base_uri": "https://localhost:8080/"
    },
    "id": "T2S9_-hEFjr7",
    "outputId": "77278e7b-6a18-4c85-8969-e5be81a71843"
   },
   "outputs": [
    {
     "name": "stdout",
     "output_type": "stream",
     "text": [
      "00-EDA.ipynb                    README.md\n",
      "01-Train data cleanup.ipynb     brand_belong_category_dict.json\n",
      "02-Data Converter.ipynb         config_transformer.cfg\n",
      "03-Colab_spacy_train.ipynb      \u001b[34mcorpus\u001b[m\u001b[m\n",
      "04-Search Processing.ipynb      \u001b[34mdata\u001b[m\u001b[m\n",
      "10-spaCy test.ipynb             project.yml\n",
      "11-Gradio Test.ipynb            \u001b[34msrc\u001b[m\u001b[m\n"
     ]
    }
   ],
   "source": [
    "path = \"/Users/anthony/Projects/retailer_nlp_challenger/data\"\n",
    "os.chdir(path)"
   ]
  },
  {
   "cell_type": "markdown",
   "metadata": {
    "id": "BRq804Z1LHew"
   },
   "source": [
    "## Categories.csv"
   ]
  },
  {
   "cell_type": "code",
   "execution_count": 3,
   "metadata": {
    "colab": {
     "base_uri": "https://localhost:8080/",
     "height": 424
    },
    "id": "lyUzJ4EfFjus",
    "outputId": "5b7abddb-85ba-41f6-ace3-211ba3dc8980"
   },
   "outputs": [
    {
     "data": {
      "text/html": [
       "<div>\n",
       "<style scoped>\n",
       "    .dataframe tbody tr th:only-of-type {\n",
       "        vertical-align: middle;\n",
       "    }\n",
       "\n",
       "    .dataframe tbody tr th {\n",
       "        vertical-align: top;\n",
       "    }\n",
       "\n",
       "    .dataframe thead th {\n",
       "        text-align: right;\n",
       "    }\n",
       "</style>\n",
       "<table border=\"1\" class=\"dataframe\">\n",
       "  <thead>\n",
       "    <tr style=\"text-align: right;\">\n",
       "      <th></th>\n",
       "      <th>CATEGORY_ID</th>\n",
       "      <th>PRODUCT_CATEGORY</th>\n",
       "      <th>IS_CHILD_CATEGORY_TO</th>\n",
       "    </tr>\n",
       "  </thead>\n",
       "  <tbody>\n",
       "    <tr>\n",
       "      <th>0</th>\n",
       "      <td>1f7d2fa7-a1d7-4969-aaf4-1244f232c175</td>\n",
       "      <td>Red Pasta Sauce</td>\n",
       "      <td>Pasta Sauce</td>\n",
       "    </tr>\n",
       "    <tr>\n",
       "      <th>1</th>\n",
       "      <td>3e48a9b3-1ab2-4f2d-867d-4a30828afeab</td>\n",
       "      <td>Alfredo &amp; White Pasta Sauce</td>\n",
       "      <td>Pasta Sauce</td>\n",
       "    </tr>\n",
       "    <tr>\n",
       "      <th>2</th>\n",
       "      <td>09f3decc-aa93-460d-936c-0ddf06b055a3</td>\n",
       "      <td>Cooking &amp; Baking</td>\n",
       "      <td>Pantry</td>\n",
       "    </tr>\n",
       "    <tr>\n",
       "      <th>3</th>\n",
       "      <td>12a89b18-4c01-4048-94b2-0705e0a45f6b</td>\n",
       "      <td>Packaged Seafood</td>\n",
       "      <td>Pantry</td>\n",
       "    </tr>\n",
       "    <tr>\n",
       "      <th>4</th>\n",
       "      <td>2caa015a-ca32-4456-a086-621446238783</td>\n",
       "      <td>Feminine Hygeine</td>\n",
       "      <td>Health &amp; Wellness</td>\n",
       "    </tr>\n",
       "    <tr>\n",
       "      <th>...</th>\n",
       "      <td>...</td>\n",
       "      <td>...</td>\n",
       "      <td>...</td>\n",
       "    </tr>\n",
       "    <tr>\n",
       "      <th>113</th>\n",
       "      <td>0b039c0e-d33d-4356-b57b-83352d98623f</td>\n",
       "      <td>Frozen Turkey</td>\n",
       "      <td>Frozen Meat</td>\n",
       "    </tr>\n",
       "    <tr>\n",
       "      <th>114</th>\n",
       "      <td>3b79dd23-c298-4429-b9bf-ce5803b594eb</td>\n",
       "      <td>Frozen Chicken</td>\n",
       "      <td>Frozen Meat</td>\n",
       "    </tr>\n",
       "    <tr>\n",
       "      <th>115</th>\n",
       "      <td>7fbb4211-de07-4074-b359-aea21a7ad50c</td>\n",
       "      <td>Frozen Beef</td>\n",
       "      <td>Frozen Meat</td>\n",
       "    </tr>\n",
       "    <tr>\n",
       "      <th>116</th>\n",
       "      <td>a9ace557-fce3-4eec-9536-0e4b399987b7</td>\n",
       "      <td>Frozen Seafood</td>\n",
       "      <td>Frozen Meat</td>\n",
       "    </tr>\n",
       "    <tr>\n",
       "      <th>117</th>\n",
       "      <td>c99c5725-4d9b-404a-8438-5cf1dc4f12c3</td>\n",
       "      <td>Gum</td>\n",
       "      <td>Candy</td>\n",
       "    </tr>\n",
       "  </tbody>\n",
       "</table>\n",
       "<p>118 rows × 3 columns</p>\n",
       "</div>"
      ],
      "text/plain": [
       "                              CATEGORY_ID             PRODUCT_CATEGORY  \\\n",
       "0    1f7d2fa7-a1d7-4969-aaf4-1244f232c175              Red Pasta Sauce   \n",
       "1    3e48a9b3-1ab2-4f2d-867d-4a30828afeab  Alfredo & White Pasta Sauce   \n",
       "2    09f3decc-aa93-460d-936c-0ddf06b055a3             Cooking & Baking   \n",
       "3    12a89b18-4c01-4048-94b2-0705e0a45f6b             Packaged Seafood   \n",
       "4    2caa015a-ca32-4456-a086-621446238783             Feminine Hygeine   \n",
       "..                                    ...                          ...   \n",
       "113  0b039c0e-d33d-4356-b57b-83352d98623f                Frozen Turkey   \n",
       "114  3b79dd23-c298-4429-b9bf-ce5803b594eb               Frozen Chicken   \n",
       "115  7fbb4211-de07-4074-b359-aea21a7ad50c                  Frozen Beef   \n",
       "116  a9ace557-fce3-4eec-9536-0e4b399987b7               Frozen Seafood   \n",
       "117  c99c5725-4d9b-404a-8438-5cf1dc4f12c3                          Gum   \n",
       "\n",
       "    IS_CHILD_CATEGORY_TO  \n",
       "0            Pasta Sauce  \n",
       "1            Pasta Sauce  \n",
       "2                 Pantry  \n",
       "3                 Pantry  \n",
       "4      Health & Wellness  \n",
       "..                   ...  \n",
       "113          Frozen Meat  \n",
       "114          Frozen Meat  \n",
       "115          Frozen Meat  \n",
       "116          Frozen Meat  \n",
       "117                Candy  \n",
       "\n",
       "[118 rows x 3 columns]"
      ]
     },
     "execution_count": 3,
     "metadata": {},
     "output_type": "execute_result"
    }
   ],
   "source": [
    "import pandas as pd\n",
    "\n",
    "df_categories = pd.read_csv('data/categories.csv')\n",
    "df_categories"
   ]
  },
  {
   "cell_type": "code",
   "execution_count": 4,
   "metadata": {
    "colab": {
     "base_uri": "https://localhost:8080/"
    },
    "id": "OzmEakUSLDbS",
    "outputId": "e317b9c7-2613-46c9-ff9f-f87827ddd874"
   },
   "outputs": [
    {
     "name": "stdout",
     "output_type": "stream",
     "text": [
      "<class 'pandas.core.frame.DataFrame'>\n",
      "RangeIndex: 118 entries, 0 to 117\n",
      "Data columns (total 3 columns):\n",
      " #   Column                Non-Null Count  Dtype \n",
      "---  ------                --------------  ----- \n",
      " 0   CATEGORY_ID           118 non-null    object\n",
      " 1   PRODUCT_CATEGORY      118 non-null    object\n",
      " 2   IS_CHILD_CATEGORY_TO  118 non-null    object\n",
      "dtypes: object(3)\n",
      "memory usage: 2.9+ KB\n"
     ]
    }
   ],
   "source": [
    "# how many categories? how many category id's?\n",
    "df_categories.info()"
   ]
  },
  {
   "cell_type": "code",
   "execution_count": 5,
   "metadata": {
    "id": "b1CrjBYXLDd4"
   },
   "outputs": [],
   "source": [
    "cat_features = df_categories.select_dtypes(include=['object']).columns.tolist()"
   ]
  },
  {
   "cell_type": "code",
   "execution_count": 6,
   "metadata": {
    "colab": {
     "base_uri": "https://localhost:8080/"
    },
    "id": "nmR86pzyMjl_",
    "outputId": "886f2830-60da-4c3a-b3f6-7b00f87182bc"
   },
   "outputs": [
    {
     "name": "stdout",
     "output_type": "stream",
     "text": [
      "CATEGORY_ID 118\n",
      "PRODUCT_CATEGORY 118\n",
      "IS_CHILD_CATEGORY_TO 23\n"
     ]
    }
   ],
   "source": [
    "for i in cat_features:\n",
    "    print(i,len(df_categories[i].value_counts()))"
   ]
  },
  {
   "cell_type": "code",
   "execution_count": 7,
   "metadata": {
    "colab": {
     "base_uri": "https://localhost:8080/"
    },
    "id": "md83QTBjNJBt",
    "outputId": "4dea1585-0cb7-426c-804f-4eddfe57ced5"
   },
   "outputs": [
    {
     "name": "stdout",
     "output_type": "stream",
     "text": [
      "['Candy', 'Frozen', 'Dairy', 'Household Supplies', 'Puffed Snacks', 'Oral Care', 'Spirits', 'Pasta & Noodles', 'Mature']\n",
      "9\n"
     ]
    }
   ],
   "source": [
    "# find if there're overlaps between categories and upper categories\n",
    "all_categories = df_categories['PRODUCT_CATEGORY'].unique().tolist()\n",
    "upper_categories = df_categories['IS_CHILD_CATEGORY_TO'].unique().tolist()\n",
    "\n",
    "common_categories = [i for i in all_categories if i in upper_categories]\n",
    "print(common_categories)\n",
    "print(len(common_categories))"
   ]
  },
  {
   "cell_type": "code",
   "execution_count": 8,
   "metadata": {
    "colab": {
     "base_uri": "https://localhost:8080/"
    },
    "id": "is8XtYeaXRBD",
    "outputId": "40cc6b3f-e559-415a-a1c1-4391f641f577"
   },
   "outputs": [
    {
     "data": {
      "text/plain": [
       "['Pasta Sauce',\n",
       " 'Pantry',\n",
       " 'Health & Wellness',\n",
       " 'Deli & Bakery',\n",
       " 'Dairy',\n",
       " 'Beverages',\n",
       " 'Frozen',\n",
       " 'Home & Garden',\n",
       " 'Snacks',\n",
       " 'Baby & Toddler',\n",
       " 'Household Supplies',\n",
       " 'Alcohol',\n",
       " 'Oral Care',\n",
       " 'Spirits',\n",
       " 'Pasta & Noodles',\n",
       " 'Puffed Snacks',\n",
       " 'Meat & Seafood',\n",
       " 'Beauty',\n",
       " 'Mature',\n",
       " 'Animals & Pet Supplies',\n",
       " 'Sports Drinks & Enhanced Waters',\n",
       " 'Frozen Meat',\n",
       " 'Candy']"
      ]
     },
     "execution_count": 8,
     "metadata": {},
     "output_type": "execute_result"
    }
   ],
   "source": [
    "upper_categories"
   ]
  },
  {
   "cell_type": "code",
   "execution_count": 9,
   "metadata": {
    "id": "NB2sAcwZWQ_r"
   },
   "outputs": [],
   "source": [
    "import re\n",
    "\n",
    "def search_list(pattern, string_list):\n",
    "    matches = []\n",
    "    for string in string_list:\n",
    "        if re.search(pattern, string, flags=re.IGNORECASE):\n",
    "            matches.append(string)\n",
    "    if len(matches) == 0:\n",
    "        print(\"no matches\")\n",
    "        return None\n",
    "    else:\n",
    "        return matches"
   ]
  },
  {
   "cell_type": "code",
   "execution_count": 10,
   "metadata": {
    "colab": {
     "base_uri": "https://localhost:8080/"
    },
    "id": "ym-CUuZDWQ6V",
    "outputId": "24dc74f7-2e9b-4ee0-a21e-5346e3907448"
   },
   "outputs": [
    {
     "name": "stdout",
     "output_type": "stream",
     "text": [
      "no matches\n"
     ]
    }
   ],
   "source": [
    "search_list(r'Alcohol', all_categories)"
   ]
  },
  {
   "cell_type": "code",
   "execution_count": 11,
   "metadata": {
    "colab": {
     "base_uri": "https://localhost:8080/",
     "height": 81
    },
    "id": "cedI_ehlXFok",
    "outputId": "82f819ca-f0cc-47c2-ee26-034e40557908"
   },
   "outputs": [
    {
     "data": {
      "text/html": [
       "<div>\n",
       "<style scoped>\n",
       "    .dataframe tbody tr th:only-of-type {\n",
       "        vertical-align: middle;\n",
       "    }\n",
       "\n",
       "    .dataframe tbody tr th {\n",
       "        vertical-align: top;\n",
       "    }\n",
       "\n",
       "    .dataframe thead th {\n",
       "        text-align: right;\n",
       "    }\n",
       "</style>\n",
       "<table border=\"1\" class=\"dataframe\">\n",
       "  <thead>\n",
       "    <tr style=\"text-align: right;\">\n",
       "      <th></th>\n",
       "      <th>CATEGORY_ID</th>\n",
       "      <th>PRODUCT_CATEGORY</th>\n",
       "      <th>IS_CHILD_CATEGORY_TO</th>\n",
       "    </tr>\n",
       "  </thead>\n",
       "  <tbody>\n",
       "    <tr>\n",
       "      <th>50</th>\n",
       "      <td>ca1c0f4d-3efc-4978-8357-69862996f416</td>\n",
       "      <td>Wine</td>\n",
       "      <td>Alcohol</td>\n",
       "    </tr>\n",
       "  </tbody>\n",
       "</table>\n",
       "</div>"
      ],
      "text/plain": [
       "                             CATEGORY_ID PRODUCT_CATEGORY IS_CHILD_CATEGORY_TO\n",
       "50  ca1c0f4d-3efc-4978-8357-69862996f416             Wine              Alcohol"
      ]
     },
     "execution_count": 11,
     "metadata": {},
     "output_type": "execute_result"
    }
   ],
   "source": [
    "df_categories[df_categories[\"PRODUCT_CATEGORY\"].eq('Wine')]"
   ]
  },
  {
   "cell_type": "code",
   "execution_count": 12,
   "metadata": {
    "colab": {
     "base_uri": "https://localhost:8080/",
     "height": 238
    },
    "id": "RUKFK_1xXliW",
    "outputId": "aa5f49c7-296b-4c5a-a756-8ffc88dbe025"
   },
   "outputs": [
    {
     "data": {
      "text/html": [
       "<div>\n",
       "<style scoped>\n",
       "    .dataframe tbody tr th:only-of-type {\n",
       "        vertical-align: middle;\n",
       "    }\n",
       "\n",
       "    .dataframe tbody tr th {\n",
       "        vertical-align: top;\n",
       "    }\n",
       "\n",
       "    .dataframe thead th {\n",
       "        text-align: right;\n",
       "    }\n",
       "</style>\n",
       "<table border=\"1\" class=\"dataframe\">\n",
       "  <thead>\n",
       "    <tr style=\"text-align: right;\">\n",
       "      <th></th>\n",
       "      <th>CATEGORY_ID</th>\n",
       "      <th>PRODUCT_CATEGORY</th>\n",
       "      <th>IS_CHILD_CATEGORY_TO</th>\n",
       "    </tr>\n",
       "  </thead>\n",
       "  <tbody>\n",
       "    <tr>\n",
       "      <th>29</th>\n",
       "      <td>a3ef4899-2bd2-4cac-bb31-a46ef1169c8c</td>\n",
       "      <td>Beer</td>\n",
       "      <td>Alcohol</td>\n",
       "    </tr>\n",
       "    <tr>\n",
       "      <th>36</th>\n",
       "      <td>6b770f8d-09b5-4491-8bbb-31ee38645b20</td>\n",
       "      <td>Malt Beverages</td>\n",
       "      <td>Alcohol</td>\n",
       "    </tr>\n",
       "    <tr>\n",
       "      <th>39</th>\n",
       "      <td>d5cba6a8-9ac7-40dd-9692-f9e890a48ca4</td>\n",
       "      <td>Hard Seltzers, Sodas, Waters, Lemonades &amp; Teas</td>\n",
       "      <td>Alcohol</td>\n",
       "    </tr>\n",
       "    <tr>\n",
       "      <th>40</th>\n",
       "      <td>b06d9098-f313-4ba8-88aa-a001db2759d8</td>\n",
       "      <td>Hard Ciders</td>\n",
       "      <td>Alcohol</td>\n",
       "    </tr>\n",
       "    <tr>\n",
       "      <th>50</th>\n",
       "      <td>ca1c0f4d-3efc-4978-8357-69862996f416</td>\n",
       "      <td>Wine</td>\n",
       "      <td>Alcohol</td>\n",
       "    </tr>\n",
       "    <tr>\n",
       "      <th>82</th>\n",
       "      <td>2def9983-9d56-4872-a5b9-7aa8bbc2331c</td>\n",
       "      <td>Spirits</td>\n",
       "      <td>Alcohol</td>\n",
       "    </tr>\n",
       "  </tbody>\n",
       "</table>\n",
       "</div>"
      ],
      "text/plain": [
       "                             CATEGORY_ID  \\\n",
       "29  a3ef4899-2bd2-4cac-bb31-a46ef1169c8c   \n",
       "36  6b770f8d-09b5-4491-8bbb-31ee38645b20   \n",
       "39  d5cba6a8-9ac7-40dd-9692-f9e890a48ca4   \n",
       "40  b06d9098-f313-4ba8-88aa-a001db2759d8   \n",
       "50  ca1c0f4d-3efc-4978-8357-69862996f416   \n",
       "82  2def9983-9d56-4872-a5b9-7aa8bbc2331c   \n",
       "\n",
       "                                  PRODUCT_CATEGORY IS_CHILD_CATEGORY_TO  \n",
       "29                                            Beer              Alcohol  \n",
       "36                                  Malt Beverages              Alcohol  \n",
       "39  Hard Seltzers, Sodas, Waters, Lemonades & Teas              Alcohol  \n",
       "40                                     Hard Ciders              Alcohol  \n",
       "50                                            Wine              Alcohol  \n",
       "82                                         Spirits              Alcohol  "
      ]
     },
     "execution_count": 12,
     "metadata": {},
     "output_type": "execute_result"
    }
   ],
   "source": [
    "df_categories[df_categories[\"IS_CHILD_CATEGORY_TO\"].eq('Alcohol')]"
   ]
  },
  {
   "cell_type": "markdown",
   "metadata": {
    "id": "Ss5anht1M_a9"
   },
   "source": [
    "For categories.csv, we know:\n",
    "- There are 118 categories in total\n",
    "- There are only 118-9=109 child categories"
   ]
  },
  {
   "cell_type": "markdown",
   "metadata": {
    "id": "-wbbnQkDOdew"
   },
   "source": [
    "## retailer.csv"
   ]
  },
  {
   "cell_type": "code",
   "execution_count": 13,
   "metadata": {
    "colab": {
     "base_uri": "https://localhost:8080/",
     "height": 687
    },
    "id": "td7AEzhRFjy7",
    "outputId": "56918da4-18c4-4f6b-f3f4-81222e8bf024"
   },
   "outputs": [
    {
     "data": {
      "text/html": [
       "<div>\n",
       "<style scoped>\n",
       "    .dataframe tbody tr th:only-of-type {\n",
       "        vertical-align: middle;\n",
       "    }\n",
       "\n",
       "    .dataframe tbody tr th {\n",
       "        vertical-align: top;\n",
       "    }\n",
       "\n",
       "    .dataframe thead th {\n",
       "        text-align: right;\n",
       "    }\n",
       "</style>\n",
       "<table border=\"1\" class=\"dataframe\">\n",
       "  <thead>\n",
       "    <tr style=\"text-align: right;\">\n",
       "      <th></th>\n",
       "      <th>OFFER</th>\n",
       "      <th>RETAILER</th>\n",
       "      <th>BRAND</th>\n",
       "    </tr>\n",
       "  </thead>\n",
       "  <tbody>\n",
       "    <tr>\n",
       "      <th>0</th>\n",
       "      <td>Spend $50 on a Full-Priced new Club Membership</td>\n",
       "      <td>SAMS CLUB</td>\n",
       "      <td>SAMS CLUB</td>\n",
       "    </tr>\n",
       "    <tr>\n",
       "      <th>1</th>\n",
       "      <td>Beyond Meat® Plant-Based products, spend $25</td>\n",
       "      <td>NaN</td>\n",
       "      <td>BEYOND MEAT</td>\n",
       "    </tr>\n",
       "    <tr>\n",
       "      <th>2</th>\n",
       "      <td>Good Humor Viennetta Frozen Vanilla Cake</td>\n",
       "      <td>NaN</td>\n",
       "      <td>GOOD HUMOR</td>\n",
       "    </tr>\n",
       "    <tr>\n",
       "      <th>3</th>\n",
       "      <td>Butterball, select varieties, spend $10 at Dillons Food Store</td>\n",
       "      <td>DILLONS FOOD STORE</td>\n",
       "      <td>BUTTERBALL</td>\n",
       "    </tr>\n",
       "    <tr>\n",
       "      <th>4</th>\n",
       "      <td>GATORADE® Fast Twitch®, 12-ounce 12 pack, at Amazon Storefront*</td>\n",
       "      <td>AMAZON</td>\n",
       "      <td>GATORADE</td>\n",
       "    </tr>\n",
       "    <tr>\n",
       "      <th>...</th>\n",
       "      <td>...</td>\n",
       "      <td>...</td>\n",
       "      <td>...</td>\n",
       "    </tr>\n",
       "    <tr>\n",
       "      <th>379</th>\n",
       "      <td>Spend $10 at KFC</td>\n",
       "      <td>KFC</td>\n",
       "      <td>KFC</td>\n",
       "    </tr>\n",
       "    <tr>\n",
       "      <th>380</th>\n",
       "      <td>Sargento Product</td>\n",
       "      <td>NaN</td>\n",
       "      <td>SARGENTO</td>\n",
       "    </tr>\n",
       "    <tr>\n",
       "      <th>381</th>\n",
       "      <td>Thomas'® Bagel Thins</td>\n",
       "      <td>NaN</td>\n",
       "      <td>THOMAS</td>\n",
       "    </tr>\n",
       "    <tr>\n",
       "      <th>382</th>\n",
       "      <td>Spend $270 at Pavilions</td>\n",
       "      <td>PAVILIONS</td>\n",
       "      <td>PAVILIONS</td>\n",
       "    </tr>\n",
       "    <tr>\n",
       "      <th>383</th>\n",
       "      <td>Back to the Roots Soils, select varieties, at Walmart</td>\n",
       "      <td>WALMART</td>\n",
       "      <td>BACK TO THE ROOTS</td>\n",
       "    </tr>\n",
       "  </tbody>\n",
       "</table>\n",
       "<p>384 rows × 3 columns</p>\n",
       "</div>"
      ],
      "text/plain": [
       "                                                               OFFER  \\\n",
       "0                     Spend $50 on a Full-Priced new Club Membership   \n",
       "1                       Beyond Meat® Plant-Based products, spend $25   \n",
       "2                           Good Humor Viennetta Frozen Vanilla Cake   \n",
       "3      Butterball, select varieties, spend $10 at Dillons Food Store   \n",
       "4    GATORADE® Fast Twitch®, 12-ounce 12 pack, at Amazon Storefront*   \n",
       "..                                                               ...   \n",
       "379                                                 Spend $10 at KFC   \n",
       "380                                                 Sargento Product   \n",
       "381                                             Thomas'® Bagel Thins   \n",
       "382                                          Spend $270 at Pavilions   \n",
       "383            Back to the Roots Soils, select varieties, at Walmart   \n",
       "\n",
       "               RETAILER              BRAND  \n",
       "0             SAMS CLUB          SAMS CLUB  \n",
       "1                   NaN        BEYOND MEAT  \n",
       "2                   NaN         GOOD HUMOR  \n",
       "3    DILLONS FOOD STORE         BUTTERBALL  \n",
       "4                AMAZON           GATORADE  \n",
       "..                  ...                ...  \n",
       "379                 KFC                KFC  \n",
       "380                 NaN           SARGENTO  \n",
       "381                 NaN             THOMAS  \n",
       "382           PAVILIONS          PAVILIONS  \n",
       "383             WALMART  BACK TO THE ROOTS  \n",
       "\n",
       "[384 rows x 3 columns]"
      ]
     },
     "execution_count": 13,
     "metadata": {},
     "output_type": "execute_result"
    }
   ],
   "source": [
    "df_offers = pd.read_csv('data/offer_retailer.csv')\n",
    "df_offers"
   ]
  },
  {
   "cell_type": "code",
   "execution_count": 14,
   "metadata": {
    "colab": {
     "base_uri": "https://localhost:8080/"
    },
    "id": "HutpO6TyO1hu",
    "outputId": "28565505-9787-4b29-db4f-b15066c8018c"
   },
   "outputs": [
    {
     "name": "stdout",
     "output_type": "stream",
     "text": [
      "<class 'pandas.core.frame.DataFrame'>\n",
      "RangeIndex: 384 entries, 0 to 383\n",
      "Data columns (total 3 columns):\n",
      " #   Column    Non-Null Count  Dtype \n",
      "---  ------    --------------  ----- \n",
      " 0   OFFER     384 non-null    object\n",
      " 1   RETAILER  238 non-null    object\n",
      " 2   BRAND     384 non-null    object\n",
      "dtypes: object(3)\n",
      "memory usage: 9.1+ KB\n"
     ]
    }
   ],
   "source": [
    "df_offers.info()"
   ]
  },
  {
   "cell_type": "code",
   "execution_count": 15,
   "metadata": {
    "colab": {
     "base_uri": "https://localhost:8080/"
    },
    "id": "1pvAaN2KO1kN",
    "outputId": "bc34674e-a807-4b98-e339-5db9d6478436"
   },
   "outputs": [
    {
     "data": {
      "text/plain": [
       "OFFER         0\n",
       "RETAILER    146\n",
       "BRAND         0\n",
       "dtype: int64"
      ]
     },
     "execution_count": 15,
     "metadata": {},
     "output_type": "execute_result"
    }
   ],
   "source": [
    "# notice a column with NaN; check null counts\n",
    "df_offers.isnull().sum()"
   ]
  },
  {
   "cell_type": "code",
   "execution_count": 16,
   "metadata": {
    "colab": {
     "base_uri": "https://localhost:8080/"
    },
    "id": "0Yt7ZDAGO1mz",
    "outputId": "f1989f74-3f90-492b-b369-689f45ba825d"
   },
   "outputs": [
    {
     "name": "stdout",
     "output_type": "stream",
     "text": [
      "OFFER 376\n",
      "RETAILER 61\n",
      "BRAND 144\n"
     ]
    }
   ],
   "source": [
    "# check categorical feature uniqueness\n",
    "for i in df_offers.columns.tolist():\n",
    "    print(i,len(df_offers[i].value_counts()))"
   ]
  },
  {
   "cell_type": "code",
   "execution_count": 17,
   "metadata": {
    "colab": {
     "base_uri": "https://localhost:8080/"
    },
    "id": "2urfw9HNPj0Q",
    "outputId": "9164b5d8-305c-4cda-cfa6-5bdf888add20"
   },
   "outputs": [
    {
     "data": {
      "text/plain": [
       "['SAMS CLUB',\n",
       " 'ZAXBYS',\n",
       " 'SUBWAY',\n",
       " 'SHAWS',\n",
       " 'ACME',\n",
       " 'KFC',\n",
       " 'CASEYS GENERAL STORE',\n",
       " 'RANDALLS',\n",
       " 'VONS',\n",
       " 'FRESH THYME MARKET',\n",
       " 'ALBERTSONS',\n",
       " 'BJS WHOLESALE',\n",
       " 'TOM THUMB',\n",
       " 'SAFEWAY',\n",
       " 'TGI FRIDAYS',\n",
       " 'PAVILIONS',\n",
       " 'STAR MARKET',\n",
       " 'BLUE APRON',\n",
       " 'MCALISTERS DELI',\n",
       " 'COSTCO',\n",
       " 'FARMER BOYS',\n",
       " 'CHEWY',\n",
       " 'DICKEYS BARBECUE PIT',\n",
       " 'CVS',\n",
       " 'BURGER KING']"
      ]
     },
     "execution_count": 17,
     "metadata": {},
     "output_type": "execute_result"
    }
   ],
   "source": [
    "# find if there're overlaps between retailers and brands\n",
    "retailers = df_offers['RETAILER'].unique().tolist()\n",
    "brands = df_offers['BRAND'].unique().tolist()\n",
    "\n",
    "# what brands are also the retailers\n",
    "[i for i in retailers if i in brands]"
   ]
  },
  {
   "cell_type": "code",
   "execution_count": 18,
   "metadata": {},
   "outputs": [
    {
     "data": {
      "text/plain": [
       "RETAILER\n",
       "ACME                    1\n",
       "ALBERTSONS              1\n",
       "BJS WHOLESALE           1\n",
       "BLUE APRON              1\n",
       "BURGER KING             1\n",
       "CASEYS GENERAL STORE    1\n",
       "CHEWY                   2\n",
       "COSTCO                  1\n",
       "CVS                     1\n",
       "DICKEYS BARBECUE PIT    1\n",
       "FARMER BOYS             1\n",
       "FRESH THYME MARKET      1\n",
       "KFC                     1\n",
       "MCALISTERS DELI         1\n",
       "PAVILIONS               1\n",
       "RANDALLS                1\n",
       "SAFEWAY                 1\n",
       "SAMS CLUB               3\n",
       "SHAWS                   1\n",
       "STAR MARKET             1\n",
       "SUBWAY                  1\n",
       "TGI FRIDAYS             1\n",
       "TOM THUMB               1\n",
       "VONS                    1\n",
       "ZAXBYS                  1\n",
       "Name: BRAND, dtype: int64"
      ]
     },
     "execution_count": 18,
     "metadata": {},
     "output_type": "execute_result"
    }
   ],
   "source": [
    "# I call them b_retailer\n",
    "# does such retailer provide different brand offers?\n",
    "b_retailer = [i for i in retailers if i in brands]\n",
    "\n",
    "# group by b_retailer and count the distinct brands they have\n",
    "df_offers[df_offers['RETAILER'].isin(b_retailer)].groupby('RETAILER')['BRAND'].nunique()"
   ]
  },
  {
   "cell_type": "code",
   "execution_count": 19,
   "metadata": {},
   "outputs": [
    {
     "data": {
      "text/html": [
       "<div>\n",
       "<style scoped>\n",
       "    .dataframe tbody tr th:only-of-type {\n",
       "        vertical-align: middle;\n",
       "    }\n",
       "\n",
       "    .dataframe tbody tr th {\n",
       "        vertical-align: top;\n",
       "    }\n",
       "\n",
       "    .dataframe thead th {\n",
       "        text-align: right;\n",
       "    }\n",
       "</style>\n",
       "<table border=\"1\" class=\"dataframe\">\n",
       "  <thead>\n",
       "    <tr style=\"text-align: right;\">\n",
       "      <th></th>\n",
       "      <th>OFFER</th>\n",
       "      <th>RETAILER</th>\n",
       "      <th>BRAND</th>\n",
       "    </tr>\n",
       "  </thead>\n",
       "  <tbody>\n",
       "    <tr>\n",
       "      <th>0</th>\n",
       "      <td>Spend $50 on a Full-Priced new Club Membership</td>\n",
       "      <td>SAMS CLUB</td>\n",
       "      <td>SAMS CLUB</td>\n",
       "    </tr>\n",
       "    <tr>\n",
       "      <th>47</th>\n",
       "      <td>Tyson Products, select varieties, spend $20 at Sam's Club</td>\n",
       "      <td>SAMS CLUB</td>\n",
       "      <td>BALL PARK FRANK</td>\n",
       "    </tr>\n",
       "    <tr>\n",
       "      <th>107</th>\n",
       "      <td>George's Farmers Market Chicken Wings, at Sam's Club</td>\n",
       "      <td>SAMS CLUB</td>\n",
       "      <td>GEORGES FARMERS MARKET</td>\n",
       "    </tr>\n",
       "    <tr>\n",
       "      <th>273</th>\n",
       "      <td>Spend $110 on a Full-Priced new Plus Membership and receive an ADDITIONAL 10,000 points</td>\n",
       "      <td>SAMS CLUB</td>\n",
       "      <td>SAMS CLUB</td>\n",
       "    </tr>\n",
       "  </tbody>\n",
       "</table>\n",
       "</div>"
      ],
      "text/plain": [
       "                                                                                       OFFER  \\\n",
       "0                                             Spend $50 on a Full-Priced new Club Membership   \n",
       "47                                 Tyson Products, select varieties, spend $20 at Sam's Club   \n",
       "107                                     George's Farmers Market Chicken Wings, at Sam's Club   \n",
       "273  Spend $110 on a Full-Priced new Plus Membership and receive an ADDITIONAL 10,000 points   \n",
       "\n",
       "      RETAILER                   BRAND  \n",
       "0    SAMS CLUB               SAMS CLUB  \n",
       "47   SAMS CLUB         BALL PARK FRANK  \n",
       "107  SAMS CLUB  GEORGES FARMERS MARKET  \n",
       "273  SAMS CLUB               SAMS CLUB  "
      ]
     },
     "execution_count": 19,
     "metadata": {},
     "output_type": "execute_result"
    }
   ],
   "source": [
    "df_offers[df_offers[\"RETAILER\"].eq(\"SAMS CLUB\")] #[\"BRAND\"].value_counts()"
   ]
  },
  {
   "cell_type": "code",
   "execution_count": 20,
   "metadata": {},
   "outputs": [
    {
     "data": {
      "text/plain": [
       "['GALLO.COM', 'SIOBEAUTY.COM']"
      ]
     },
     "execution_count": 20,
     "metadata": {},
     "output_type": "execute_result"
    }
   ],
   "source": [
    "retailers2 = [i for i in retailers if isinstance(i, str)]\n",
    "[i for i in retailers2 if \".com\" in i.lower()]"
   ]
  },
  {
   "cell_type": "markdown",
   "metadata": {
    "id": "0826YSybPrQc"
   },
   "source": [
    "## Brand"
   ]
  },
  {
   "cell_type": "code",
   "execution_count": 21,
   "metadata": {
    "colab": {
     "base_uri": "https://localhost:8080/",
     "height": 424
    },
    "id": "B-KvmZIBFj1t",
    "outputId": "71db1513-4fe8-446c-fb54-7977db4f249a"
   },
   "outputs": [
    {
     "data": {
      "text/html": [
       "<div>\n",
       "<style scoped>\n",
       "    .dataframe tbody tr th:only-of-type {\n",
       "        vertical-align: middle;\n",
       "    }\n",
       "\n",
       "    .dataframe tbody tr th {\n",
       "        vertical-align: top;\n",
       "    }\n",
       "\n",
       "    .dataframe thead th {\n",
       "        text-align: right;\n",
       "    }\n",
       "</style>\n",
       "<table border=\"1\" class=\"dataframe\">\n",
       "  <thead>\n",
       "    <tr style=\"text-align: right;\">\n",
       "      <th></th>\n",
       "      <th>BRAND</th>\n",
       "      <th>BRAND_BELONGS_TO_CATEGORY</th>\n",
       "      <th>RECEIPTS</th>\n",
       "    </tr>\n",
       "  </thead>\n",
       "  <tbody>\n",
       "    <tr>\n",
       "      <th>0</th>\n",
       "      <td>CASEYS GEN STORE</td>\n",
       "      <td>Tobacco Products</td>\n",
       "      <td>2950931</td>\n",
       "    </tr>\n",
       "    <tr>\n",
       "      <th>1</th>\n",
       "      <td>CASEYS GEN STORE</td>\n",
       "      <td>Mature</td>\n",
       "      <td>2859240</td>\n",
       "    </tr>\n",
       "    <tr>\n",
       "      <th>2</th>\n",
       "      <td>EQUATE</td>\n",
       "      <td>Hair Removal</td>\n",
       "      <td>893268</td>\n",
       "    </tr>\n",
       "    <tr>\n",
       "      <th>3</th>\n",
       "      <td>PALMOLIVE</td>\n",
       "      <td>Bath &amp; Body</td>\n",
       "      <td>542562</td>\n",
       "    </tr>\n",
       "    <tr>\n",
       "      <th>4</th>\n",
       "      <td>DAWN</td>\n",
       "      <td>Bath &amp; Body</td>\n",
       "      <td>301844</td>\n",
       "    </tr>\n",
       "    <tr>\n",
       "      <th>...</th>\n",
       "      <td>...</td>\n",
       "      <td>...</td>\n",
       "      <td>...</td>\n",
       "    </tr>\n",
       "    <tr>\n",
       "      <th>9901</th>\n",
       "      <td>WIBBY BREWING</td>\n",
       "      <td>Beer</td>\n",
       "      <td>11</td>\n",
       "    </tr>\n",
       "    <tr>\n",
       "      <th>9902</th>\n",
       "      <td>LA FETE DU ROSE</td>\n",
       "      <td>Wine</td>\n",
       "      <td>11</td>\n",
       "    </tr>\n",
       "    <tr>\n",
       "      <th>9903</th>\n",
       "      <td>BIG ISLAND BREWHAUS</td>\n",
       "      <td>Beer</td>\n",
       "      <td>11</td>\n",
       "    </tr>\n",
       "    <tr>\n",
       "      <th>9904</th>\n",
       "      <td>BRIDGE LANE</td>\n",
       "      <td>Wine</td>\n",
       "      <td>11</td>\n",
       "    </tr>\n",
       "    <tr>\n",
       "      <th>9905</th>\n",
       "      <td>ALTITUDE PROJECT</td>\n",
       "      <td>Wine</td>\n",
       "      <td>11</td>\n",
       "    </tr>\n",
       "  </tbody>\n",
       "</table>\n",
       "<p>9906 rows × 3 columns</p>\n",
       "</div>"
      ],
      "text/plain": [
       "                    BRAND BRAND_BELONGS_TO_CATEGORY  RECEIPTS\n",
       "0        CASEYS GEN STORE          Tobacco Products   2950931\n",
       "1        CASEYS GEN STORE                    Mature   2859240\n",
       "2                  EQUATE              Hair Removal    893268\n",
       "3               PALMOLIVE               Bath & Body    542562\n",
       "4                    DAWN               Bath & Body    301844\n",
       "...                   ...                       ...       ...\n",
       "9901        WIBBY BREWING                      Beer        11\n",
       "9902      LA FETE DU ROSE                      Wine        11\n",
       "9903  BIG ISLAND BREWHAUS                      Beer        11\n",
       "9904          BRIDGE LANE                      Wine        11\n",
       "9905     ALTITUDE PROJECT                      Wine        11\n",
       "\n",
       "[9906 rows x 3 columns]"
      ]
     },
     "execution_count": 21,
     "metadata": {},
     "output_type": "execute_result"
    }
   ],
   "source": [
    "df_brand = pd.read_csv('data/brand_category.csv')\n",
    "df_brand"
   ]
  },
  {
   "cell_type": "code",
   "execution_count": 22,
   "metadata": {
    "colab": {
     "base_uri": "https://localhost:8080/"
    },
    "id": "8VggBfbAPjxa",
    "outputId": "5fe36a8e-67eb-487e-bd3f-27e5d08d68ec"
   },
   "outputs": [
    {
     "name": "stdout",
     "output_type": "stream",
     "text": [
      "<class 'pandas.core.frame.DataFrame'>\n",
      "RangeIndex: 9906 entries, 0 to 9905\n",
      "Data columns (total 3 columns):\n",
      " #   Column                     Non-Null Count  Dtype \n",
      "---  ------                     --------------  ----- \n",
      " 0   BRAND                      9905 non-null   object\n",
      " 1   BRAND_BELONGS_TO_CATEGORY  9906 non-null   object\n",
      " 2   RECEIPTS                   9906 non-null   int64 \n",
      "dtypes: int64(1), object(2)\n",
      "memory usage: 232.3+ KB\n"
     ]
    }
   ],
   "source": [
    "df_brand.info()"
   ]
  },
  {
   "cell_type": "code",
   "execution_count": 23,
   "metadata": {
    "colab": {
     "base_uri": "https://localhost:8080/",
     "height": 81
    },
    "id": "0oKlCVbYPjuz",
    "outputId": "02266212-03c5-42db-aeb7-5499b75e3f63"
   },
   "outputs": [
    {
     "data": {
      "text/html": [
       "<div>\n",
       "<style scoped>\n",
       "    .dataframe tbody tr th:only-of-type {\n",
       "        vertical-align: middle;\n",
       "    }\n",
       "\n",
       "    .dataframe tbody tr th {\n",
       "        vertical-align: top;\n",
       "    }\n",
       "\n",
       "    .dataframe thead th {\n",
       "        text-align: right;\n",
       "    }\n",
       "</style>\n",
       "<table border=\"1\" class=\"dataframe\">\n",
       "  <thead>\n",
       "    <tr style=\"text-align: right;\">\n",
       "      <th></th>\n",
       "      <th>BRAND</th>\n",
       "      <th>BRAND_BELONGS_TO_CATEGORY</th>\n",
       "      <th>RECEIPTS</th>\n",
       "    </tr>\n",
       "  </thead>\n",
       "  <tbody>\n",
       "    <tr>\n",
       "      <th>6624</th>\n",
       "      <td>NaN</td>\n",
       "      <td>Beer</td>\n",
       "      <td>33</td>\n",
       "    </tr>\n",
       "  </tbody>\n",
       "</table>\n",
       "</div>"
      ],
      "text/plain": [
       "     BRAND BRAND_BELONGS_TO_CATEGORY  RECEIPTS\n",
       "6624   NaN                      Beer        33"
      ]
     },
     "execution_count": 23,
     "metadata": {},
     "output_type": "execute_result"
    }
   ],
   "source": [
    "# why is one BRAND null?\n",
    "df_brand[df_brand[\"BRAND\"].isnull() == True]"
   ]
  },
  {
   "cell_type": "markdown",
   "metadata": {},
   "source": [
    "Clearly the brands should be cleaned because some brand names do not make sense. For example, you might have names like `3M` or `Forever21`, but no brand names are `21`."
   ]
  },
  {
   "cell_type": "code",
   "execution_count": 24,
   "metadata": {},
   "outputs": [
    {
     "name": "stdout",
     "output_type": "stream",
     "text": [
      "(8521, 2)\n"
     ]
    },
    {
     "data": {
      "text/html": [
       "<div>\n",
       "<style scoped>\n",
       "    .dataframe tbody tr th:only-of-type {\n",
       "        vertical-align: middle;\n",
       "    }\n",
       "\n",
       "    .dataframe tbody tr th {\n",
       "        vertical-align: top;\n",
       "    }\n",
       "\n",
       "    .dataframe thead th {\n",
       "        text-align: right;\n",
       "    }\n",
       "</style>\n",
       "<table border=\"1\" class=\"dataframe\">\n",
       "  <thead>\n",
       "    <tr style=\"text-align: right;\">\n",
       "      <th></th>\n",
       "      <th>BRAND</th>\n",
       "      <th>BRAND_BELONGS_TO_CATEGORY</th>\n",
       "    </tr>\n",
       "  </thead>\n",
       "  <tbody>\n",
       "    <tr>\n",
       "      <th>0</th>\n",
       "      <td>1</td>\n",
       "      <td>[Wine]</td>\n",
       "    </tr>\n",
       "    <tr>\n",
       "      <th>1</th>\n",
       "      <td>10 BARREL BREWING CO</td>\n",
       "      <td>[Spirits, Beer, Fruit Juices]</td>\n",
       "    </tr>\n",
       "    <tr>\n",
       "      <th>2</th>\n",
       "      <td>10 TORR</td>\n",
       "      <td>[Spirits]</td>\n",
       "    </tr>\n",
       "    <tr>\n",
       "      <th>3</th>\n",
       "      <td>100 NAILS RANCH</td>\n",
       "      <td>[Wine]</td>\n",
       "    </tr>\n",
       "    <tr>\n",
       "      <th>4</th>\n",
       "      <td>101 CIDER HOUSE</td>\n",
       "      <td>[Fruit Juices]</td>\n",
       "    </tr>\n",
       "    <tr>\n",
       "      <th>...</th>\n",
       "      <td>...</td>\n",
       "      <td>...</td>\n",
       "    </tr>\n",
       "    <tr>\n",
       "      <th>8516</th>\n",
       "      <td>ZYRTEC</td>\n",
       "      <td>[Medicines &amp; Treatments]</td>\n",
       "    </tr>\n",
       "    <tr>\n",
       "      <th>8517</th>\n",
       "      <td>ZYWIEC</td>\n",
       "      <td>[Beer]</td>\n",
       "    </tr>\n",
       "    <tr>\n",
       "      <th>8518</th>\n",
       "      <td>Zagnut</td>\n",
       "      <td>[Candy]</td>\n",
       "    </tr>\n",
       "    <tr>\n",
       "      <th>8519</th>\n",
       "      <td>barkThins</td>\n",
       "      <td>[Candy]</td>\n",
       "    </tr>\n",
       "    <tr>\n",
       "      <th>8520</th>\n",
       "      <td>breath savers</td>\n",
       "      <td>[Candy]</td>\n",
       "    </tr>\n",
       "  </tbody>\n",
       "</table>\n",
       "<p>8521 rows × 2 columns</p>\n",
       "</div>"
      ],
      "text/plain": [
       "                     BRAND      BRAND_BELONGS_TO_CATEGORY\n",
       "0                        1                         [Wine]\n",
       "1     10 BARREL BREWING CO  [Spirits, Beer, Fruit Juices]\n",
       "2                  10 TORR                      [Spirits]\n",
       "3          100 NAILS RANCH                         [Wine]\n",
       "4          101 CIDER HOUSE                 [Fruit Juices]\n",
       "...                    ...                            ...\n",
       "8516                ZYRTEC       [Medicines & Treatments]\n",
       "8517                ZYWIEC                         [Beer]\n",
       "8518                Zagnut                        [Candy]\n",
       "8519             barkThins                        [Candy]\n",
       "8520         breath savers                        [Candy]\n",
       "\n",
       "[8521 rows x 2 columns]"
      ]
     },
     "execution_count": 24,
     "metadata": {},
     "output_type": "execute_result"
    }
   ],
   "source": [
    "grouped_df = df_brand.groupby('BRAND')['BRAND_BELONGS_TO_CATEGORY'].unique().reset_index()\n",
    "print(grouped_df.shape)\n",
    "grouped_df"
   ]
  },
  {
   "cell_type": "code",
   "execution_count": 25,
   "metadata": {},
   "outputs": [
    {
     "data": {
      "text/plain": [
       "(9885, 3)"
      ]
     },
     "execution_count": 25,
     "metadata": {},
     "output_type": "execute_result"
    }
   ],
   "source": [
    "# clean the rows based on BRAND: (1) NaN (2) only has numbers\n",
    "df_brand = df_brand.dropna(subset=['BRAND'])\n",
    "df_brand = df_brand[~df_brand['BRAND'].str.isnumeric()]\n",
    "df_brand.shape"
   ]
  },
  {
   "cell_type": "code",
   "execution_count": 26,
   "metadata": {
    "colab": {
     "base_uri": "https://localhost:8080/"
    },
    "id": "-9VqhFUvPjsL",
    "outputId": "5b53f4ff-a2b3-4e03-d0bc-9ea4c625cd75"
   },
   "outputs": [
    {
     "name": "stdout",
     "output_type": "stream",
     "text": [
      "BRAND 8501\n",
      "BRAND_BELONGS_TO_CATEGORY 118\n",
      "RECEIPTS 2094\n"
     ]
    }
   ],
   "source": [
    "# check categorical feature uniqueness\n",
    "for i in df_brand.columns.tolist():\n",
    "    print(i,len(df_brand[i].value_counts()))"
   ]
  },
  {
   "cell_type": "code",
   "execution_count": 27,
   "metadata": {},
   "outputs": [
    {
     "name": "stdout",
     "output_type": "stream",
     "text": [
      "(8501, 2)\n"
     ]
    },
    {
     "data": {
      "text/html": [
       "<div>\n",
       "<style scoped>\n",
       "    .dataframe tbody tr th:only-of-type {\n",
       "        vertical-align: middle;\n",
       "    }\n",
       "\n",
       "    .dataframe tbody tr th {\n",
       "        vertical-align: top;\n",
       "    }\n",
       "\n",
       "    .dataframe thead th {\n",
       "        text-align: right;\n",
       "    }\n",
       "</style>\n",
       "<table border=\"1\" class=\"dataframe\">\n",
       "  <thead>\n",
       "    <tr style=\"text-align: right;\">\n",
       "      <th></th>\n",
       "      <th>BRAND</th>\n",
       "      <th>BRAND_BELONGS_TO_CATEGORY</th>\n",
       "    </tr>\n",
       "  </thead>\n",
       "  <tbody>\n",
       "    <tr>\n",
       "      <th>0</th>\n",
       "      <td>10 BARREL BREWING CO</td>\n",
       "      <td>[Spirits, Beer, Fruit Juices]</td>\n",
       "    </tr>\n",
       "    <tr>\n",
       "      <th>1</th>\n",
       "      <td>10 TORR</td>\n",
       "      <td>[Spirits]</td>\n",
       "    </tr>\n",
       "    <tr>\n",
       "      <th>2</th>\n",
       "      <td>100 NAILS RANCH</td>\n",
       "      <td>[Wine]</td>\n",
       "    </tr>\n",
       "    <tr>\n",
       "      <th>3</th>\n",
       "      <td>101 CIDER HOUSE</td>\n",
       "      <td>[Fruit Juices]</td>\n",
       "    </tr>\n",
       "    <tr>\n",
       "      <th>4</th>\n",
       "      <td>1010 PREMIUM DRINKS</td>\n",
       "      <td>[Spirits]</td>\n",
       "    </tr>\n",
       "    <tr>\n",
       "      <th>...</th>\n",
       "      <td>...</td>\n",
       "      <td>...</td>\n",
       "    </tr>\n",
       "    <tr>\n",
       "      <th>8496</th>\n",
       "      <td>ZYRTEC</td>\n",
       "      <td>[Medicines &amp; Treatments]</td>\n",
       "    </tr>\n",
       "    <tr>\n",
       "      <th>8497</th>\n",
       "      <td>ZYWIEC</td>\n",
       "      <td>[Beer]</td>\n",
       "    </tr>\n",
       "    <tr>\n",
       "      <th>8498</th>\n",
       "      <td>Zagnut</td>\n",
       "      <td>[Candy]</td>\n",
       "    </tr>\n",
       "    <tr>\n",
       "      <th>8499</th>\n",
       "      <td>barkThins</td>\n",
       "      <td>[Candy]</td>\n",
       "    </tr>\n",
       "    <tr>\n",
       "      <th>8500</th>\n",
       "      <td>breath savers</td>\n",
       "      <td>[Candy]</td>\n",
       "    </tr>\n",
       "  </tbody>\n",
       "</table>\n",
       "<p>8501 rows × 2 columns</p>\n",
       "</div>"
      ],
      "text/plain": [
       "                     BRAND      BRAND_BELONGS_TO_CATEGORY\n",
       "0     10 BARREL BREWING CO  [Spirits, Beer, Fruit Juices]\n",
       "1                  10 TORR                      [Spirits]\n",
       "2          100 NAILS RANCH                         [Wine]\n",
       "3          101 CIDER HOUSE                 [Fruit Juices]\n",
       "4      1010 PREMIUM DRINKS                      [Spirits]\n",
       "...                    ...                            ...\n",
       "8496                ZYRTEC       [Medicines & Treatments]\n",
       "8497                ZYWIEC                         [Beer]\n",
       "8498                Zagnut                        [Candy]\n",
       "8499             barkThins                        [Candy]\n",
       "8500         breath savers                        [Candy]\n",
       "\n",
       "[8501 rows x 2 columns]"
      ]
     },
     "execution_count": 27,
     "metadata": {},
     "output_type": "execute_result"
    }
   ],
   "source": [
    "grouped_df = df_brand.groupby('BRAND')['BRAND_BELONGS_TO_CATEGORY'].unique().reset_index()\n",
    "print(grouped_df.shape)\n",
    "grouped_df"
   ]
  },
  {
   "cell_type": "code",
   "execution_count": 28,
   "metadata": {},
   "outputs": [
    {
     "data": {
      "text/plain": [
       "count    8501.000000\n",
       "mean        1.162804\n",
       "std         0.894340\n",
       "min         1.000000\n",
       "25%         1.000000\n",
       "50%         1.000000\n",
       "75%         1.000000\n",
       "max        29.000000\n",
       "Name: BRAND_BELONGS_TO_CATEGORY, dtype: float64"
      ]
     },
     "execution_count": 28,
     "metadata": {},
     "output_type": "execute_result"
    }
   ],
   "source": [
    "grouped_df.BRAND_BELONGS_TO_CATEGORY.apply(len).describe()"
   ]
  },
  {
   "cell_type": "markdown",
   "metadata": {},
   "source": [
    "So, one brand might correspond to multiple categories in a few cases"
   ]
  },
  {
   "cell_type": "code",
   "execution_count": 29,
   "metadata": {},
   "outputs": [
    {
     "data": {
      "text/html": [
       "<div>\n",
       "<style scoped>\n",
       "    .dataframe tbody tr th:only-of-type {\n",
       "        vertical-align: middle;\n",
       "    }\n",
       "\n",
       "    .dataframe tbody tr th {\n",
       "        vertical-align: top;\n",
       "    }\n",
       "\n",
       "    .dataframe thead th {\n",
       "        text-align: right;\n",
       "    }\n",
       "</style>\n",
       "<table border=\"1\" class=\"dataframe\">\n",
       "  <thead>\n",
       "    <tr style=\"text-align: right;\">\n",
       "      <th></th>\n",
       "      <th>BRAND</th>\n",
       "      <th>BRAND_BELONGS_TO_CATEGORY</th>\n",
       "    </tr>\n",
       "  </thead>\n",
       "  <tbody>\n",
       "    <tr>\n",
       "      <th>0</th>\n",
       "      <td>10 BARREL BREWING CO</td>\n",
       "      <td>[Spirits, Beer, Fruit Juices]</td>\n",
       "    </tr>\n",
       "    <tr>\n",
       "      <th>47</th>\n",
       "      <td>4 HANDS BREWING CO</td>\n",
       "      <td>[Beer, Malt Beverages]</td>\n",
       "    </tr>\n",
       "    <tr>\n",
       "      <th>67</th>\n",
       "      <td>603 BREWERY</td>\n",
       "      <td>[Malt Beverages, Beer]</td>\n",
       "    </tr>\n",
       "    <tr>\n",
       "      <th>70</th>\n",
       "      <td>7 ELEVEN</td>\n",
       "      <td>[Frozen Fruits, Cereal, Granola, &amp; Toaster Pastries]</td>\n",
       "    </tr>\n",
       "    <tr>\n",
       "      <th>106</th>\n",
       "      <td>A+D</td>\n",
       "      <td>[Medicines &amp; Treatments, Baby Bathing]</td>\n",
       "    </tr>\n",
       "    <tr>\n",
       "      <th>...</th>\n",
       "      <td>...</td>\n",
       "      <td>...</td>\n",
       "    </tr>\n",
       "    <tr>\n",
       "      <th>8377</th>\n",
       "      <td>WRIGLEYS</td>\n",
       "      <td>[Gum, Packaged Vegetables]</td>\n",
       "    </tr>\n",
       "    <tr>\n",
       "      <th>8379</th>\n",
       "      <td>WRITE DUDES</td>\n",
       "      <td>[Household Supplies, Makeup]</td>\n",
       "    </tr>\n",
       "    <tr>\n",
       "      <th>8458</th>\n",
       "      <td>Z</td>\n",
       "      <td>[Water, Spirits]</td>\n",
       "    </tr>\n",
       "    <tr>\n",
       "      <th>8469</th>\n",
       "      <td>ZEVO</td>\n",
       "      <td>[Household Supplies, Pest Control]</td>\n",
       "    </tr>\n",
       "    <tr>\n",
       "      <th>8477</th>\n",
       "      <td>ZING ZANG</td>\n",
       "      <td>[Drink Mixes, Spirits]</td>\n",
       "    </tr>\n",
       "  </tbody>\n",
       "</table>\n",
       "<p>717 rows × 2 columns</p>\n",
       "</div>"
      ],
      "text/plain": [
       "                     BRAND  \\\n",
       "0     10 BARREL BREWING CO   \n",
       "47      4 HANDS BREWING CO   \n",
       "67             603 BREWERY   \n",
       "70                7 ELEVEN   \n",
       "106                    A+D   \n",
       "...                    ...   \n",
       "8377              WRIGLEYS   \n",
       "8379           WRITE DUDES   \n",
       "8458                     Z   \n",
       "8469                  ZEVO   \n",
       "8477             ZING ZANG   \n",
       "\n",
       "                                 BRAND_BELONGS_TO_CATEGORY  \n",
       "0                            [Spirits, Beer, Fruit Juices]  \n",
       "47                                  [Beer, Malt Beverages]  \n",
       "67                                  [Malt Beverages, Beer]  \n",
       "70    [Frozen Fruits, Cereal, Granola, & Toaster Pastries]  \n",
       "106                 [Medicines & Treatments, Baby Bathing]  \n",
       "...                                                    ...  \n",
       "8377                            [Gum, Packaged Vegetables]  \n",
       "8379                          [Household Supplies, Makeup]  \n",
       "8458                                      [Water, Spirits]  \n",
       "8469                    [Household Supplies, Pest Control]  \n",
       "8477                                [Drink Mixes, Spirits]  \n",
       "\n",
       "[717 rows x 2 columns]"
      ]
     },
     "execution_count": 29,
     "metadata": {},
     "output_type": "execute_result"
    }
   ],
   "source": [
    "filtered_df = grouped_df[grouped_df['BRAND_BELONGS_TO_CATEGORY'].apply(len) > 1]\n",
    "filtered_df"
   ]
  },
  {
   "cell_type": "markdown",
   "metadata": {
    "id": "_2UFw5MiTMV5"
   },
   "source": [
    "One brand can belong to mutiple categories. And one category surely has mutiple brands."
   ]
  },
  {
   "cell_type": "markdown",
   "metadata": {},
   "source": [
    "## Create new table"
   ]
  },
  {
   "cell_type": "code",
   "execution_count": 30,
   "metadata": {},
   "outputs": [
    {
     "data": {
      "text/html": [
       "<div>\n",
       "<style scoped>\n",
       "    .dataframe tbody tr th:only-of-type {\n",
       "        vertical-align: middle;\n",
       "    }\n",
       "\n",
       "    .dataframe tbody tr th {\n",
       "        vertical-align: top;\n",
       "    }\n",
       "\n",
       "    .dataframe thead th {\n",
       "        text-align: right;\n",
       "    }\n",
       "</style>\n",
       "<table border=\"1\" class=\"dataframe\">\n",
       "  <thead>\n",
       "    <tr style=\"text-align: right;\">\n",
       "      <th></th>\n",
       "      <th>BRAND</th>\n",
       "      <th>OFFER</th>\n",
       "      <th>idx</th>\n",
       "    </tr>\n",
       "  </thead>\n",
       "  <tbody>\n",
       "    <tr>\n",
       "      <th>89</th>\n",
       "      <td>BACK TO THE ROOTS</td>\n",
       "      <td>Back to the Roots Dry Plant Food, 5 pounds, at The Home Depot</td>\n",
       "      <td>130</td>\n",
       "    </tr>\n",
       "    <tr>\n",
       "      <th>222</th>\n",
       "      <td>CVS</td>\n",
       "      <td>Spend 10 at CVS</td>\n",
       "      <td>308</td>\n",
       "    </tr>\n",
       "    <tr>\n",
       "      <th>189</th>\n",
       "      <td>BEYOND MEAT</td>\n",
       "      <td>Beyond Meat Plant-Based products, spend 20</td>\n",
       "      <td>267</td>\n",
       "    </tr>\n",
       "    <tr>\n",
       "      <th>238</th>\n",
       "      <td>BACK TO THE ROOTS</td>\n",
       "      <td>Back to the Roots Grow Kits at Walmart or The Home Depot</td>\n",
       "      <td>328</td>\n",
       "    </tr>\n",
       "    <tr>\n",
       "      <th>284</th>\n",
       "      <td>BACK TO THE ROOTS</td>\n",
       "      <td>Back to the Roots Soils, select varieties, at Walmart</td>\n",
       "      <td>383</td>\n",
       "    </tr>\n",
       "  </tbody>\n",
       "</table>\n",
       "</div>"
      ],
      "text/plain": [
       "                 BRAND  \\\n",
       "89   BACK TO THE ROOTS   \n",
       "222                CVS   \n",
       "189        BEYOND MEAT   \n",
       "238  BACK TO THE ROOTS   \n",
       "284  BACK TO THE ROOTS   \n",
       "\n",
       "                                                             OFFER  idx  \n",
       "89   Back to the Roots Dry Plant Food, 5 pounds, at The Home Depot  130  \n",
       "222                                                Spend 10 at CVS  308  \n",
       "189                     Beyond Meat Plant-Based products, spend 20  267  \n",
       "238       Back to the Roots Grow Kits at Walmart or The Home Depot  328  \n",
       "284          Back to the Roots Soils, select varieties, at Walmart  383  "
      ]
     },
     "execution_count": 30,
     "metadata": {},
     "output_type": "execute_result"
    }
   ],
   "source": [
    "df_offers = pd.read_csv('data/brand_offer_cleaned.csv')\n",
    "df_offers.sample(5)"
   ]
  },
  {
   "cell_type": "code",
   "execution_count": 31,
   "metadata": {},
   "outputs": [
    {
     "data": {
      "text/plain": [
       "(285, 3)"
      ]
     },
     "execution_count": 31,
     "metadata": {},
     "output_type": "execute_result"
    }
   ],
   "source": [
    "df_offers.shape"
   ]
  },
  {
   "cell_type": "code",
   "execution_count": 32,
   "metadata": {},
   "outputs": [
    {
     "name": "stdout",
     "output_type": "stream",
     "text": [
      "Brand original shape: (9906, 3)\n",
      "Brand cleaned shape: (9885, 3)\n"
     ]
    },
    {
     "data": {
      "text/html": [
       "<div>\n",
       "<style scoped>\n",
       "    .dataframe tbody tr th:only-of-type {\n",
       "        vertical-align: middle;\n",
       "    }\n",
       "\n",
       "    .dataframe tbody tr th {\n",
       "        vertical-align: top;\n",
       "    }\n",
       "\n",
       "    .dataframe thead th {\n",
       "        text-align: right;\n",
       "    }\n",
       "</style>\n",
       "<table border=\"1\" class=\"dataframe\">\n",
       "  <thead>\n",
       "    <tr style=\"text-align: right;\">\n",
       "      <th></th>\n",
       "      <th>BRAND</th>\n",
       "      <th>BRAND_BELONGS_TO_CATEGORY</th>\n",
       "      <th>RECEIPTS</th>\n",
       "    </tr>\n",
       "  </thead>\n",
       "  <tbody>\n",
       "    <tr>\n",
       "      <th>9712</th>\n",
       "      <td>BIAGIO</td>\n",
       "      <td>Wine</td>\n",
       "      <td>11</td>\n",
       "    </tr>\n",
       "    <tr>\n",
       "      <th>6276</th>\n",
       "      <td>BEACHWOOD BREWING</td>\n",
       "      <td>Beer</td>\n",
       "      <td>39</td>\n",
       "    </tr>\n",
       "    <tr>\n",
       "      <th>1051</th>\n",
       "      <td>CIDERBOYS</td>\n",
       "      <td>Fruit Juices</td>\n",
       "      <td>1670</td>\n",
       "    </tr>\n",
       "    <tr>\n",
       "      <th>30</th>\n",
       "      <td>DAILYS</td>\n",
       "      <td>Wine</td>\n",
       "      <td>48829</td>\n",
       "    </tr>\n",
       "    <tr>\n",
       "      <th>3599</th>\n",
       "      <td>MIRINDA</td>\n",
       "      <td>Carbonated Soft Drinks</td>\n",
       "      <td>153</td>\n",
       "    </tr>\n",
       "  </tbody>\n",
       "</table>\n",
       "</div>"
      ],
      "text/plain": [
       "                  BRAND BRAND_BELONGS_TO_CATEGORY  RECEIPTS\n",
       "9712             BIAGIO                      Wine        11\n",
       "6276  BEACHWOOD BREWING                      Beer        39\n",
       "1051          CIDERBOYS              Fruit Juices      1670\n",
       "30               DAILYS                      Wine     48829\n",
       "3599            MIRINDA    Carbonated Soft Drinks       153"
      ]
     },
     "execution_count": 32,
     "metadata": {},
     "output_type": "execute_result"
    }
   ],
   "source": [
    "# reload data\n",
    "df_brand = pd.read_csv('data/brand_category.csv')\n",
    "print(f'Brand original shape: {df_brand.shape}')\n",
    "\n",
    "# clean the rows based on BRAND: (1) NaN (2) only has numbers\n",
    "df_brand = df_brand.dropna(subset=['BRAND'])\n",
    "df_brand = df_brand[~df_brand['BRAND'].str.isnumeric()]\n",
    "print(f'Brand cleaned shape: {df_brand.shape}')\n",
    "\n",
    "df_brand.sample(5)"
   ]
  },
  {
   "cell_type": "code",
   "execution_count": 33,
   "metadata": {},
   "outputs": [
    {
     "name": "stdout",
     "output_type": "stream",
     "text": [
      "(118, 2)\n"
     ]
    },
    {
     "data": {
      "text/html": [
       "<div>\n",
       "<style scoped>\n",
       "    .dataframe tbody tr th:only-of-type {\n",
       "        vertical-align: middle;\n",
       "    }\n",
       "\n",
       "    .dataframe tbody tr th {\n",
       "        vertical-align: top;\n",
       "    }\n",
       "\n",
       "    .dataframe thead th {\n",
       "        text-align: right;\n",
       "    }\n",
       "</style>\n",
       "<table border=\"1\" class=\"dataframe\">\n",
       "  <thead>\n",
       "    <tr style=\"text-align: right;\">\n",
       "      <th></th>\n",
       "      <th>CATEGORY</th>\n",
       "      <th>BRAND</th>\n",
       "    </tr>\n",
       "  </thead>\n",
       "  <tbody>\n",
       "    <tr>\n",
       "      <th>0</th>\n",
       "      <td>Adult Incontinence</td>\n",
       "      <td>[POISE, DEPEND, ALWAYS, WELLNESS, TENA, FIORE, ONE BY POISE]</td>\n",
       "    </tr>\n",
       "    <tr>\n",
       "      <th>1</th>\n",
       "      <td>Alfredo &amp; White Pasta Sauce</td>\n",
       "      <td>[CLASSICO, PREGO, RAGU, RAO'S, KROGER, SIMPLE TRUTH, PUBLIX, HEB]</td>\n",
       "    </tr>\n",
       "    <tr>\n",
       "      <th>2</th>\n",
       "      <td>Baby Bathing</td>\n",
       "      <td>[BABY SOFT, PREDO, GERBER, ENFAMIL, EARTH'S BEST, HAPPY BABY, PAMPERS, SPROUT, MOTT'S, JOHNSONS, SHEA MOISTURE, AVEENO BABY, BABY DOVE, HAPPY TOT, PLUM ORGANICS, SIMILAC, THE HONEST CO., NANIT, SIMPLE TRUTH, MIKU, BEECH NUT, BABY SOFT EXPRESSIONS, ORGANICS HAPPY BABY, A+D, MUNCHKIN, VIVVI &amp; BLOOM, ENFAGROW, HORIZON (WHITEWAVE FOODS), DR BROWN'S, GREENWISE, NATURE BABY CARE, NUTRAMIGEN, BABYGANICS, HOT-KID, CEREBELLY, BABY LOVE, AVEENO, SMART CARE, LUV N' CARE, LANSINOH, PIPETTE]</td>\n",
       "    </tr>\n",
       "    <tr>\n",
       "      <th>3</th>\n",
       "      <td>Baby Health</td>\n",
       "      <td>[GERBER, ENFAMIL, EARTH'S BEST, EVENFLO (EVENFLO FEEDING INC), AVENT]</td>\n",
       "    </tr>\n",
       "    <tr>\n",
       "      <th>4</th>\n",
       "      <td>Baby Safety</td>\n",
       "      <td>[PAMPERS]</td>\n",
       "    </tr>\n",
       "  </tbody>\n",
       "</table>\n",
       "</div>"
      ],
      "text/plain": [
       "                      CATEGORY  \\\n",
       "0           Adult Incontinence   \n",
       "1  Alfredo & White Pasta Sauce   \n",
       "2                 Baby Bathing   \n",
       "3                  Baby Health   \n",
       "4                  Baby Safety   \n",
       "\n",
       "                                                                                                                                                                                                                                                                                                                                                                                                                                                                                                 BRAND  \n",
       "0                                                                                                                                                                                                                                                                                                                                                                                                                                         [POISE, DEPEND, ALWAYS, WELLNESS, TENA, FIORE, ONE BY POISE]  \n",
       "1                                                                                                                                                                                                                                                                                                                                                                                                                                    [CLASSICO, PREGO, RAGU, RAO'S, KROGER, SIMPLE TRUTH, PUBLIX, HEB]  \n",
       "2  [BABY SOFT, PREDO, GERBER, ENFAMIL, EARTH'S BEST, HAPPY BABY, PAMPERS, SPROUT, MOTT'S, JOHNSONS, SHEA MOISTURE, AVEENO BABY, BABY DOVE, HAPPY TOT, PLUM ORGANICS, SIMILAC, THE HONEST CO., NANIT, SIMPLE TRUTH, MIKU, BEECH NUT, BABY SOFT EXPRESSIONS, ORGANICS HAPPY BABY, A+D, MUNCHKIN, VIVVI & BLOOM, ENFAGROW, HORIZON (WHITEWAVE FOODS), DR BROWN'S, GREENWISE, NATURE BABY CARE, NUTRAMIGEN, BABYGANICS, HOT-KID, CEREBELLY, BABY LOVE, AVEENO, SMART CARE, LUV N' CARE, LANSINOH, PIPETTE]  \n",
       "3                                                                                                                                                                                                                                                                                                                                                                                                                                [GERBER, ENFAMIL, EARTH'S BEST, EVENFLO (EVENFLO FEEDING INC), AVENT]  \n",
       "4                                                                                                                                                                                                                                                                                                                                                                                                                                                                                            [PAMPERS]  "
      ]
     },
     "execution_count": 33,
     "metadata": {},
     "output_type": "execute_result"
    }
   ],
   "source": [
    "# find for each category, what brands does it have\n",
    "grouped_df = df_brand.groupby('BRAND_BELONGS_TO_CATEGORY')['BRAND'].unique().reset_index()\n",
    "print(grouped_df.shape)\n",
    "grouped_df = grouped_df.rename(columns={'BRAND_BELONGS_TO_CATEGORY': 'CATEGORY'})\n",
    "grouped_df.head()"
   ]
  },
  {
   "cell_type": "code",
   "execution_count": null,
   "metadata": {},
   "outputs": [],
   "source": [
    "# write into a dict\n",
    "brand_belong_category_dict = {row['CATEGORY']: row['BRAND'].tolist() for index, row in grouped_df.iterrows()}\n",
    "brand_belong_category_dict"
   ]
  },
  {
   "cell_type": "code",
   "execution_count": 35,
   "metadata": {},
   "outputs": [],
   "source": [
    "# save the dict to json\n",
    "import json\n",
    "with open('data/brand_belong_category_dict.json', 'w') as fp:\n",
    "    json.dump(brand_belong_category_dict, fp)"
   ]
  },
  {
   "cell_type": "code",
   "execution_count": 36,
   "metadata": {},
   "outputs": [],
   "source": [
    "import pickle\n",
    "# get brand names we have existing offers for\n",
    "offered_brands = df_offers.BRAND.unique().tolist()\n",
    "\n",
    "# # write them to csv \n",
    "# with open('data/offered_brands.pkl', 'wb') as f:\n",
    "#     pickle.dump(offered_brands, f)"
   ]
  },
  {
   "cell_type": "code",
   "execution_count": null,
   "metadata": {},
   "outputs": [],
   "source": []
  }
 ],
 "metadata": {
  "colab": {
   "provenance": []
  },
  "environment": {
   "kernel": "python3",
   "name": "tf2-cpu.2-11.m112",
   "type": "gcloud",
   "uri": "gcr.io/deeplearning-platform-release/tf2-cpu.2-11:m112"
  },
  "kernelspec": {
   "display_name": "Python 3",
   "language": "python",
   "name": "python3"
  },
  "language_info": {
   "codemirror_mode": {
    "name": "ipython",
    "version": 3
   },
   "file_extension": ".py",
   "mimetype": "text/x-python",
   "name": "python",
   "nbconvert_exporter": "python",
   "pygments_lexer": "ipython3",
   "version": "3.11.5"
  }
 },
 "nbformat": 4,
 "nbformat_minor": 4
}
