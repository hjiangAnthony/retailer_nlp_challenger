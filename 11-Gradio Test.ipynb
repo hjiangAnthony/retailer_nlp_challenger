{
 "cells": [
  {
   "cell_type": "code",
   "execution_count": 1,
   "metadata": {},
   "outputs": [
    {
     "name": "stderr",
     "output_type": "stream",
     "text": [
      "/Users/anthony/anaconda3/lib/python3.11/site-packages/spacy_transformers/layers/hf_shim.py:137: UserWarning: Error loading saved torch state_dict with strict=True, likely due to differences between 'transformers' versions. Attempting to load with strict=False as a fallback...\n",
      "\n",
      "If you see errors or degraded performance, download a newer compatible model or retrain your custom model with the current 'transformers' and 'spacy-transformers' versions. For more details and available updates, run: python -m spacy validate\n",
      "  warnings.warn(warn_msg)\n"
     ]
    },
    {
     "name": "stdout",
     "output_type": "stream",
     "text": [
      "Running on local URL:  http://127.0.0.1:7860\n",
      "\n",
      "To create a public link, set `share=True` in `launch()`.\n"
     ]
    },
    {
     "data": {
      "text/html": [
       "<div><iframe src=\"http://127.0.0.1:7860/\" width=\"100%\" height=\"500\" allow=\"autoplay; camera; microphone; clipboard-read; clipboard-write;\" frameborder=\"0\" allowfullscreen></iframe></div>"
      ],
      "text/plain": [
       "<IPython.core.display.HTML object>"
      ]
     },
     "metadata": {},
     "output_type": "display_data"
    },
    {
     "data": {
      "text/plain": []
     },
     "execution_count": 1,
     "metadata": {},
     "output_type": "execute_result"
    }
   ],
   "source": [
    "import gradio as gr\n",
    "import pickle, json\n",
    "\n",
    "import pandas as pd\n",
    "import numpy as np\n",
    "\n",
    "from spacy.tokens import DocBin\n",
    "import spacy\n",
    "# import srsly\n",
    "from spacy.training import offsets_to_biluo_tags\n",
    "import en_fetch_ner_spacy_tsf\n",
    "nlp = en_fetch_ner_spacy_tsf.load()\n",
    "\n",
    "##### Start #####\n",
    "\n",
    "path1 = \"data/brand_belong_category_dict.json\"\n",
    "path2 = \"data/offered_brands.pkl\"\n",
    "\n",
    "with open(path1, 'r') as f:\n",
    "    brand_belong_category_dict = json.load(f)\n",
    "\n",
    "with open(path2, 'rb') as f:\n",
    "    offered_brands = pickle.load(f)\n",
    "\n",
    "\n",
    "\n",
    "examples = [\n",
    "    \"Does Chicago have any stores and does Joe live here?\",\n",
    "    \"Sara Lee bread, select varieties, buy 2 at Walmart\",\n",
    "    \"Membership at Costco\"\n",
    "]\n",
    "\n",
    "def ner(sentence):\n",
    "    doc = nlp(sentence)\n",
    "    ents = [(e.text, e.label_) for e in doc.ents]\n",
    "    return ents\n",
    "\n",
    "iface = gr.Interface(fn=ner, inputs=\"text\", outputs = \"text\")\n",
    "iface.launch()"
   ]
  }
 ],
 "metadata": {
  "kernelspec": {
   "display_name": "base",
   "language": "python",
   "name": "python3"
  },
  "language_info": {
   "codemirror_mode": {
    "name": "ipython",
    "version": 3
   },
   "file_extension": ".py",
   "mimetype": "text/x-python",
   "name": "python",
   "nbconvert_exporter": "python",
   "pygments_lexer": "ipython3",
   "version": "3.11.5"
  }
 },
 "nbformat": 4,
 "nbformat_minor": 2
}
