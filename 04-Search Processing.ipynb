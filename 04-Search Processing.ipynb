{
 "cells": [
  {
   "cell_type": "code",
   "execution_count": 1,
   "metadata": {},
   "outputs": [],
   "source": [
    "import pandas as pd\n",
    "import numpy as np\n",
    "\n",
    "from spacy.tokens import DocBin\n",
    "import srsly\n",
    "import spacy\n",
    "from spacy.training import offsets_to_biluo_tags\n",
    "\n",
    "pd.set_option('display.max_colwidth', None)"
   ]
  },
  {
   "cell_type": "code",
   "execution_count": 91,
   "metadata": {},
   "outputs": [
    {
     "name": "stderr",
     "output_type": "stream",
     "text": [
      "/Users/anthony/anaconda3/lib/python3.11/site-packages/spacy/util.py:887: UserWarning: [W095] Model 'en_fetch_ner_spacy_tsf' (0.0.0) was trained with spaCy v3.6 and may not be 100% compatible with the current version (3.5.3). If you see errors or degraded performance, download a newer compatible model or retrain your custom model with the current spaCy version. For more details and available updates, run: python -m spacy validate\n",
      "  raise IOError(Errors.E052.format(path=path.parent))\n",
      "/Users/anthony/anaconda3/lib/python3.11/site-packages/spacy_transformers/layers/hf_shim.py:137: UserWarning: Error loading saved torch state_dict with strict=True, likely due to differences between 'transformers' versions. Attempting to load with strict=False as a fallback...\n",
      "\n",
      "If you see errors or degraded performance, download a newer compatible model or retrain your custom model with the current 'transformers' and 'spacy-transformers' versions. For more details and available updates, run: python -m spacy validate\n",
      "  warnings.warn(warn_msg)\n"
     ]
    }
   ],
   "source": [
    "# Importing as module.\n",
    "import en_fetch_ner_spacy_tsf\n",
    "nlp = en_fetch_ner_spacy_tsf.load()"
   ]
  },
  {
   "cell_type": "code",
   "execution_count": 2,
   "metadata": {},
   "outputs": [],
   "source": [
    "import os\n",
    "path = \"/Users/anthony/Projects/retailer_nlp_challenger/data/\"\n",
    "\n",
    "# # read csv\n",
    "# df = pd.read_csv('brand_offer_cleaned.csv')\n",
    "# df.sample(10)"
   ]
  },
  {
   "cell_type": "markdown",
   "metadata": {},
   "source": [
    "## Build Category Dictionary\n",
    "\n",
    "As checks (mannually and EDA), there're no cases for one product_category that belongs to more than one categories. So, we can build a simple category dictionary."
   ]
  },
  {
   "cell_type": "code",
   "execution_count": 3,
   "metadata": {},
   "outputs": [
    {
     "name": "stdout",
     "output_type": "stream",
     "text": [
      "(118, 3)\n"
     ]
    }
   ],
   "source": [
    "df_categories = pd.read_csv(path + 'categories.csv')\n",
    "print(df_categories.shape)"
   ]
  },
  {
   "cell_type": "code",
   "execution_count": 4,
   "metadata": {},
   "outputs": [
    {
     "data": {
      "text/html": [
       "<div>\n",
       "<style scoped>\n",
       "    .dataframe tbody tr th:only-of-type {\n",
       "        vertical-align: middle;\n",
       "    }\n",
       "\n",
       "    .dataframe tbody tr th {\n",
       "        vertical-align: top;\n",
       "    }\n",
       "\n",
       "    .dataframe thead th {\n",
       "        text-align: right;\n",
       "    }\n",
       "</style>\n",
       "<table border=\"1\" class=\"dataframe\">\n",
       "  <thead>\n",
       "    <tr style=\"text-align: right;\">\n",
       "      <th></th>\n",
       "      <th>CATEGORY_ID</th>\n",
       "      <th>PRODUCT_CATEGORY</th>\n",
       "      <th>UPPER_CATEGORY</th>\n",
       "    </tr>\n",
       "  </thead>\n",
       "  <tbody>\n",
       "    <tr>\n",
       "      <th>0</th>\n",
       "      <td>1f7d2fa7-a1d7-4969-aaf4-1244f232c175</td>\n",
       "      <td>Red Pasta Sauce</td>\n",
       "      <td>Pasta Sauce</td>\n",
       "    </tr>\n",
       "    <tr>\n",
       "      <th>1</th>\n",
       "      <td>3e48a9b3-1ab2-4f2d-867d-4a30828afeab</td>\n",
       "      <td>Alfredo &amp; White Pasta Sauce</td>\n",
       "      <td>Pasta Sauce</td>\n",
       "    </tr>\n",
       "    <tr>\n",
       "      <th>2</th>\n",
       "      <td>09f3decc-aa93-460d-936c-0ddf06b055a3</td>\n",
       "      <td>Cooking &amp; Baking</td>\n",
       "      <td>Pantry</td>\n",
       "    </tr>\n",
       "    <tr>\n",
       "      <th>3</th>\n",
       "      <td>12a89b18-4c01-4048-94b2-0705e0a45f6b</td>\n",
       "      <td>Packaged Seafood</td>\n",
       "      <td>Pantry</td>\n",
       "    </tr>\n",
       "    <tr>\n",
       "      <th>4</th>\n",
       "      <td>2caa015a-ca32-4456-a086-621446238783</td>\n",
       "      <td>Feminine Hygeine</td>\n",
       "      <td>Health &amp; Wellness</td>\n",
       "    </tr>\n",
       "  </tbody>\n",
       "</table>\n",
       "</div>"
      ],
      "text/plain": [
       "                            CATEGORY_ID             PRODUCT_CATEGORY  \\\n",
       "0  1f7d2fa7-a1d7-4969-aaf4-1244f232c175              Red Pasta Sauce   \n",
       "1  3e48a9b3-1ab2-4f2d-867d-4a30828afeab  Alfredo & White Pasta Sauce   \n",
       "2  09f3decc-aa93-460d-936c-0ddf06b055a3             Cooking & Baking   \n",
       "3  12a89b18-4c01-4048-94b2-0705e0a45f6b             Packaged Seafood   \n",
       "4  2caa015a-ca32-4456-a086-621446238783             Feminine Hygeine   \n",
       "\n",
       "      UPPER_CATEGORY  \n",
       "0        Pasta Sauce  \n",
       "1        Pasta Sauce  \n",
       "2             Pantry  \n",
       "3             Pantry  \n",
       "4  Health & Wellness  "
      ]
     },
     "execution_count": 4,
     "metadata": {},
     "output_type": "execute_result"
    }
   ],
   "source": [
    "# rename \"IS_CHILD_CATEGORY_TO\" to \"UPPER_CATEGORY\"\n",
    "df_categories.rename(columns={'IS_CHILD_CATEGORY_TO': 'UPPER_CATEGORY'}, inplace=True)\n",
    "df_categories.head()"
   ]
  },
  {
   "cell_type": "markdown",
   "metadata": {},
   "source": [
    "Assumptions:\n",
    "- search input will be simple sentences or keywords (e.g. `beer`, or `beers discount Amazon`)\n",
    "- users won't serach upper_category because the APP already has UI for them to filter\n",
    "- `PRODUCT_CATEGORY` are not to spefici brands, so a customer might search `beer` or `white beer`\n",
    "- the search functions I am using will clean the text to lower case. This is because I don't know if the `PRODUCT_CATEGORY` data gives me the write permission"
   ]
  },
  {
   "cell_type": "code",
   "execution_count": 9,
   "metadata": {},
   "outputs": [
    {
     "name": "stdout",
     "output_type": "stream",
     "text": [
      "(23, 2)\n"
     ]
    },
    {
     "data": {
      "text/html": [
       "<div>\n",
       "<style scoped>\n",
       "    .dataframe tbody tr th:only-of-type {\n",
       "        vertical-align: middle;\n",
       "    }\n",
       "\n",
       "    .dataframe tbody tr th {\n",
       "        vertical-align: top;\n",
       "    }\n",
       "\n",
       "    .dataframe thead th {\n",
       "        text-align: right;\n",
       "    }\n",
       "</style>\n",
       "<table border=\"1\" class=\"dataframe\">\n",
       "  <thead>\n",
       "    <tr style=\"text-align: right;\">\n",
       "      <th></th>\n",
       "      <th>UPPER_CATEGORY</th>\n",
       "      <th>PRODUCT_CATEGORY</th>\n",
       "    </tr>\n",
       "  </thead>\n",
       "  <tbody>\n",
       "    <tr>\n",
       "      <th>0</th>\n",
       "      <td>Alcohol</td>\n",
       "      <td>[Beer, Malt Beverages, Hard Seltzers, Sodas, Waters, Lemonades &amp; Teas, Hard Ciders, Wine, Spirits]</td>\n",
       "    </tr>\n",
       "    <tr>\n",
       "      <th>1</th>\n",
       "      <td>Animals &amp; Pet Supplies</td>\n",
       "      <td>[Dog Supplies]</td>\n",
       "    </tr>\n",
       "    <tr>\n",
       "      <th>2</th>\n",
       "      <td>Baby &amp; Toddler</td>\n",
       "      <td>[Baby Bathing, Potty Training, Baby Safety, Diapering, Baby Health]</td>\n",
       "    </tr>\n",
       "    <tr>\n",
       "      <th>3</th>\n",
       "      <td>Beauty</td>\n",
       "      <td>[Cosmetic Tools, Makeup, Nail Care, Body Fragrances]</td>\n",
       "    </tr>\n",
       "    <tr>\n",
       "      <th>4</th>\n",
       "      <td>Beverages</td>\n",
       "      <td>[Coffee, Meal Replacement Beverages, Vegetable Juices, Drink Mixes, Tea, Energy Drinks, Water, Fruit Juices, Carbonated Soft Drinks]</td>\n",
       "    </tr>\n",
       "    <tr>\n",
       "      <th>5</th>\n",
       "      <td>Candy</td>\n",
       "      <td>[Gum]</td>\n",
       "    </tr>\n",
       "    <tr>\n",
       "      <th>6</th>\n",
       "      <td>Dairy</td>\n",
       "      <td>[Cream, Dairy Alternatives, Dairy, Yogurt, Milk, Cheese, Butter &amp; Margarine, Eggs, Refrigerated Doughs]</td>\n",
       "    </tr>\n",
       "    <tr>\n",
       "      <th>7</th>\n",
       "      <td>Deli &amp; Bakery</td>\n",
       "      <td>[Leafy Salads, Deli Counter, Bakery, Prepared Meals]</td>\n",
       "    </tr>\n",
       "    <tr>\n",
       "      <th>8</th>\n",
       "      <td>Frozen</td>\n",
       "      <td>[Frozen Fruits, Frozen Desserts, Frozen Sides, Frozen Meals, Frozen, Frozen Vegetables, Ice, Frozen Breads &amp; Doughs, Frozen Pizza &amp; Pizza Snacks, Frozen Breakfast, Frozen Plant-Based Meat, Frozen Appetizers]</td>\n",
       "    </tr>\n",
       "    <tr>\n",
       "      <th>9</th>\n",
       "      <td>Frozen Meat</td>\n",
       "      <td>[Frozen Turkey, Frozen Chicken, Frozen Beef, Frozen Seafood]</td>\n",
       "    </tr>\n",
       "    <tr>\n",
       "      <th>10</th>\n",
       "      <td>Health &amp; Wellness</td>\n",
       "      <td>[Feminine Hygeine, Sexual Health, Foot Care, Deodorant &amp; Antiperspirant, Skin Care, Oral Care, Eye Care, First Aid, Hair Care, Hair Removal, Adult Incontinence, Bath &amp; Body, Medicines &amp; Treatments]</td>\n",
       "    </tr>\n",
       "    <tr>\n",
       "      <th>11</th>\n",
       "      <td>Home &amp; Garden</td>\n",
       "      <td>[Decor]</td>\n",
       "    </tr>\n",
       "    <tr>\n",
       "      <th>12</th>\n",
       "      <td>Household Supplies</td>\n",
       "      <td>[Household Cleaning Supplies, Household Supplies, Pest Control, Food Storage, Laundry Supplies]</td>\n",
       "    </tr>\n",
       "    <tr>\n",
       "      <th>13</th>\n",
       "      <td>Mature</td>\n",
       "      <td>[Tobacco Products, Mature]</td>\n",
       "    </tr>\n",
       "    <tr>\n",
       "      <th>14</th>\n",
       "      <td>Meat &amp; Seafood</td>\n",
       "      <td>[Plant-Based Meat]</td>\n",
       "    </tr>\n",
       "    <tr>\n",
       "      <th>15</th>\n",
       "      <td>Oral Care</td>\n",
       "      <td>[Toothpaste]</td>\n",
       "    </tr>\n",
       "    <tr>\n",
       "      <th>16</th>\n",
       "      <td>Pantry</td>\n",
       "      <td>[Cooking &amp; Baking, Packaged Seafood, Nut Butters &amp; Jam, Cereal, Granola, &amp; Toaster Pastries, Condiments, Packaged Meals &amp; Sides, Soup &amp; Broth, Bread, Sauces &amp; Marinades, Packaged Fruit &amp; Applesauce, Pickled Goods, Dressings, Packaged Meat, Pasta &amp; Noodles, Packaged Vegetables, Rice &amp; Grains]</td>\n",
       "    </tr>\n",
       "    <tr>\n",
       "      <th>17</th>\n",
       "      <td>Pasta &amp; Noodles</td>\n",
       "      <td>[Dry Pasta, Fresh Pasta]</td>\n",
       "    </tr>\n",
       "    <tr>\n",
       "      <th>18</th>\n",
       "      <td>Pasta Sauce</td>\n",
       "      <td>[Red Pasta Sauce, Alfredo &amp; White Pasta Sauce, Pesto Sauce]</td>\n",
       "    </tr>\n",
       "    <tr>\n",
       "      <th>19</th>\n",
       "      <td>Puffed Snacks</td>\n",
       "      <td>[Popcorn]</td>\n",
       "    </tr>\n",
       "    <tr>\n",
       "      <th>20</th>\n",
       "      <td>Snacks</td>\n",
       "      <td>[Candy, Pretzels, Snack Mixes, Dips &amp; Salsa, Crackers, Dessert Toppings, Puffed Snacks, Jerky &amp; Dried Meat, Chips, Nuts &amp; Seeds, Cookies, Trail Mix, Fruit &amp; Vegetable Snacks, Snack Cakes, Pudding &amp; Gelatin]</td>\n",
       "    </tr>\n",
       "    <tr>\n",
       "      <th>21</th>\n",
       "      <td>Spirits</td>\n",
       "      <td>[Rum, Vodka]</td>\n",
       "    </tr>\n",
       "    <tr>\n",
       "      <th>22</th>\n",
       "      <td>Sports Drinks &amp; Enhanced Waters</td>\n",
       "      <td>[Sports Drinks]</td>\n",
       "    </tr>\n",
       "  </tbody>\n",
       "</table>\n",
       "</div>"
      ],
      "text/plain": [
       "                     UPPER_CATEGORY  \\\n",
       "0                           Alcohol   \n",
       "1            Animals & Pet Supplies   \n",
       "2                    Baby & Toddler   \n",
       "3                            Beauty   \n",
       "4                         Beverages   \n",
       "5                             Candy   \n",
       "6                             Dairy   \n",
       "7                     Deli & Bakery   \n",
       "8                            Frozen   \n",
       "9                       Frozen Meat   \n",
       "10                Health & Wellness   \n",
       "11                    Home & Garden   \n",
       "12               Household Supplies   \n",
       "13                           Mature   \n",
       "14                   Meat & Seafood   \n",
       "15                        Oral Care   \n",
       "16                           Pantry   \n",
       "17                  Pasta & Noodles   \n",
       "18                      Pasta Sauce   \n",
       "19                    Puffed Snacks   \n",
       "20                           Snacks   \n",
       "21                          Spirits   \n",
       "22  Sports Drinks & Enhanced Waters   \n",
       "\n",
       "                                                                                                                                                                                                                                                                                        PRODUCT_CATEGORY  \n",
       "0                                                                                                                                                                                                     [Beer, Malt Beverages, Hard Seltzers, Sodas, Waters, Lemonades & Teas, Hard Ciders, Wine, Spirits]  \n",
       "1                                                                                                                                                                                                                                                                                         [Dog Supplies]  \n",
       "2                                                                                                                                                                                                                                    [Baby Bathing, Potty Training, Baby Safety, Diapering, Baby Health]  \n",
       "3                                                                                                                                                                                                                                                   [Cosmetic Tools, Makeup, Nail Care, Body Fragrances]  \n",
       "4                                                                                                                                                                   [Coffee, Meal Replacement Beverages, Vegetable Juices, Drink Mixes, Tea, Energy Drinks, Water, Fruit Juices, Carbonated Soft Drinks]  \n",
       "5                                                                                                                                                                                                                                                                                                  [Gum]  \n",
       "6                                                                                                                                                                                                [Cream, Dairy Alternatives, Dairy, Yogurt, Milk, Cheese, Butter & Margarine, Eggs, Refrigerated Doughs]  \n",
       "7                                                                                                                                                                                                                                                   [Leafy Salads, Deli Counter, Bakery, Prepared Meals]  \n",
       "8                                                                                        [Frozen Fruits, Frozen Desserts, Frozen Sides, Frozen Meals, Frozen, Frozen Vegetables, Ice, Frozen Breads & Doughs, Frozen Pizza & Pizza Snacks, Frozen Breakfast, Frozen Plant-Based Meat, Frozen Appetizers]  \n",
       "9                                                                                                                                                                                                                                           [Frozen Turkey, Frozen Chicken, Frozen Beef, Frozen Seafood]  \n",
       "10                                                                                                 [Feminine Hygeine, Sexual Health, Foot Care, Deodorant & Antiperspirant, Skin Care, Oral Care, Eye Care, First Aid, Hair Care, Hair Removal, Adult Incontinence, Bath & Body, Medicines & Treatments]  \n",
       "11                                                                                                                                                                                                                                                                                               [Decor]  \n",
       "12                                                                                                                                                                                                       [Household Cleaning Supplies, Household Supplies, Pest Control, Food Storage, Laundry Supplies]  \n",
       "13                                                                                                                                                                                                                                                                            [Tobacco Products, Mature]  \n",
       "14                                                                                                                                                                                                                                                                                    [Plant-Based Meat]  \n",
       "15                                                                                                                                                                                                                                                                                          [Toothpaste]  \n",
       "16  [Cooking & Baking, Packaged Seafood, Nut Butters & Jam, Cereal, Granola, & Toaster Pastries, Condiments, Packaged Meals & Sides, Soup & Broth, Bread, Sauces & Marinades, Packaged Fruit & Applesauce, Pickled Goods, Dressings, Packaged Meat, Pasta & Noodles, Packaged Vegetables, Rice & Grains]  \n",
       "17                                                                                                                                                                                                                                                                              [Dry Pasta, Fresh Pasta]  \n",
       "18                                                                                                                                                                                                                                           [Red Pasta Sauce, Alfredo & White Pasta Sauce, Pesto Sauce]  \n",
       "19                                                                                                                                                                                                                                                                                             [Popcorn]  \n",
       "20                                                                                        [Candy, Pretzels, Snack Mixes, Dips & Salsa, Crackers, Dessert Toppings, Puffed Snacks, Jerky & Dried Meat, Chips, Nuts & Seeds, Cookies, Trail Mix, Fruit & Vegetable Snacks, Snack Cakes, Pudding & Gelatin]  \n",
       "21                                                                                                                                                                                                                                                                                          [Rum, Vodka]  \n",
       "22                                                                                                                                                                                                                                                                                       [Sports Drinks]  "
      ]
     },
     "execution_count": 9,
     "metadata": {},
     "output_type": "execute_result"
    }
   ],
   "source": [
    "# group by UPPER_CATEGORY and get DISTINCT PRODUCT_CATEGORY\n",
    "grouped_df = df_categories.groupby('UPPER_CATEGORY')['PRODUCT_CATEGORY'].unique().reset_index()\n",
    "print(grouped_df.shape)\n",
    "grouped_df"
   ]
  },
  {
   "cell_type": "code",
   "execution_count": 78,
   "metadata": {},
   "outputs": [],
   "source": [
    "# generate a dictionary of UPPER_CATEGORY (key) and PRODUCT_CATEGORY (value)'\n",
    "category_dict = {row['UPPER_CATEGORY']: row['PRODUCT_CATEGORY'].tolist() for index, row in grouped_df.iterrows()}"
   ]
  },
  {
   "cell_type": "code",
   "execution_count": 100,
   "metadata": {},
   "outputs": [],
   "source": [
    "# helper functions\n",
    "from typing import List, Dict\n",
    "import re\n",
    "\n",
    "from sklearn.feature_extraction.text import CountVectorizer\n",
    "from sklearn.metrics.pairwise import cosine_similarity\n",
    "\n",
    "def list_text_cleaner(text:List[str]) -> List[str]:\n",
    "    \"\"\"Takes in a list of strings and returns a list of cleaned strings. \n",
    "    Current tasks: \n",
    "    - remove non-alphabetical characters\n",
    "    - converting to lower cases\"\"\"\n",
    "    cleaned_text = []\n",
    "    for t in text:\n",
    "        t = t.lower()\n",
    "        t = re.sub(r'[^a-z]', ' ', t)\n",
    "        cleaned_text.append(t)\n",
    "    return cleaned_text\n",
    "\n",
    "def jaccard_similarity(s1:list[str], s2:list[str]) -> float:\n",
    "    \"\"\"Takes in two lists and returns the Jaccard similarity score (3 digits)\"\"\"\n",
    "    intersection =  set(s1).intersection(set(s2))\n",
    "    n = len(intersection)\n",
    "    score = round(n / (len(s1) + len(s2) - n), 3)\n",
    "    return score\n",
    "\n",
    "def match_product_category(s1: list[str], s2: list[str]) -> str:\n",
    "    \"\"\"Find if items of a list is in one list of product categories\"\"\"\n",
    "    return next((p for c in s1 for p in s2 if c in p), None) # this will stop after finding first match, which saves time\n",
    "\n",
    "def find_category(search_input: str, search_dict: Dict) -> str:\n",
    "    \"\"\"Find the category of a search input based on a dictionary of categories\"\"\"\n",
    "    search_list = list_text_cleaner(search_input.split())\n",
    "    for k, v in search_dict.items():\n",
    "        v = list_text_cleaner(v)\n",
    "        search_results = match_product_category(search_list, v)\n",
    "        if search_results is not None:\n",
    "            return k, search_results\n",
    "    return None\n",
    "\n",
    "def check_entity(search_input) -> bool:\n",
    "    \"\"\"Takes in a search input and checks if it contains any entities\"\"\"\n",
    "    doc = nlp(search_input)\n",
    "    if len(doc.ents) > 0:\n",
    "        return doc\n",
    "    else:\n",
    "        return False\n",
    "\n",
    "def get_cosine_sim(input_text: str, texts: List[str]) -> pd.DataFrame:\n",
    "    all_texts = [input_text] + texts\n",
    "    vectors = get_vectors(*all_texts)\n",
    "    sim_matrix = cosine_similarity(vectors)\n",
    "    # Get the similarity scores of the input_text against all other texts\n",
    "    sim_scores = sim_matrix[0, 1:]\n",
    "    data = {'Sentence Text': texts, 'Cosine Similarity Score': sim_scores}\n",
    "    df = pd.DataFrame(data)\n",
    "    return df\n",
    "\n",
    "def get_vectors(*strs: str) -> np.ndarray:\n",
    "    text = list(strs)\n",
    "    vectorizer = CountVectorizer()\n",
    "    vectorizer.fit(text)\n",
    "    return vectorizer.transform(text).toarray()\n",
    "\n",
    "\n",
    "# def analyze_search_input(search_input: str):\n",
    "#     \"\"\"Main function. Takes in a serach_input and decide whether it can find entities or not. Then excecute the appropriate functions\"\"\"\n",
    "#     if check_entity(search_input) is None:\n",
    "#        #xxxx\n",
    "#     else:\n",
    "#         entities = check_entity(search_input)\n",
    "#         #"
   ]
  },
  {
   "cell_type": "markdown",
   "metadata": {},
   "source": [
    "## Playground to test"
   ]
  },
  {
   "cell_type": "code",
   "execution_count": 90,
   "metadata": {},
   "outputs": [
    {
     "data": {
      "text/plain": [
       "('Alcohol', 'beer')"
      ]
     },
     "execution_count": 90,
     "metadata": {},
     "output_type": "execute_result"
    }
   ],
   "source": [
    "# test case: find category\n",
    "\n",
    "test1 = \"Beer Tea\"\n",
    "test2 = [\"Beer\", \"Malt Beverages\", \"Hard Seltzers\", \"Sodas\", \"Waters\", \"Lemonades & Teas\", \"Hard Ciders\", \"Wine\", \"Spirits\"]\n",
    "\n",
    "search_list = list_text_cleaner(test1.split())\n",
    "\n",
    "# match_product_category(search_list, test2)\n",
    "\n",
    "# for k, v in category_dict.items():\n",
    "#     search_results = match_product_category(search_list, v)\n",
    "#     if search_results is not None:\n",
    "#          print(k, search_results)\n",
    "\n",
    "find_category(search_input=test1, search_dict=category_dict)"
   ]
  },
  {
   "cell_type": "code",
   "execution_count": 99,
   "metadata": {},
   "outputs": [
    {
     "data": {
      "text/html": [
       "<span class=\"tex2jax_ignore\"><div class=\"entities\" style=\"line-height: 2.5; direction: ltr\">\n",
       "<mark class=\"entity\" style=\"background: #ddd; padding: 0.45em 0.6em; margin: 0 0.25em; line-height: 1; border-radius: 0.35em;\">\n",
       "    M&amp;M\n",
       "    <span style=\"font-size: 0.8em; font-weight: bold; line-height: 1; border-radius: 0.35em; vertical-align: middle; margin-left: 0.5rem\">BRAND</span>\n",
       "</mark>\n",
       "'s candy discount at \n",
       "<mark class=\"entity\" style=\"background: #ddd; padding: 0.45em 0.6em; margin: 0 0.25em; line-height: 1; border-radius: 0.35em;\">\n",
       "    Target\n",
       "    <span style=\"font-size: 0.8em; font-weight: bold; line-height: 1; border-radius: 0.35em; vertical-align: middle; margin-left: 0.5rem\">RETAILER</span>\n",
       "</mark>\n",
       "</div></span>"
      ],
      "text/plain": [
       "<IPython.core.display.HTML object>"
      ]
     },
     "metadata": {},
     "output_type": "display_data"
    }
   ],
   "source": [
    "text = nlp(\"M&M's candy discount at Target\")\n",
    "spacy.displacy.render(text, style=\"ent\", jupyter=True) # display in Jupyter"
   ]
  },
  {
   "cell_type": "code",
   "execution_count": 101,
   "metadata": {},
   "outputs": [
    {
     "data": {
      "text/plain": [
       "M&M's candy discount at Target"
      ]
     },
     "execution_count": 101,
     "metadata": {},
     "output_type": "execute_result"
    }
   ],
   "source": [
    "check_entity(text)"
   ]
  },
  {
   "cell_type": "code",
   "execution_count": 108,
   "metadata": {},
   "outputs": [
    {
     "data": {
      "text/plain": [
       "[('M&M', 'BRAND'), ('Target', 'RETAILER')]"
      ]
     },
     "execution_count": 108,
     "metadata": {},
     "output_type": "execute_result"
    }
   ],
   "source": [
    "# for ent in text.ents\n",
    "[(ent.text, ent.label_) for ent in text.ents]"
   ]
  },
  {
   "cell_type": "code",
   "execution_count": 10,
   "metadata": {},
   "outputs": [
    {
     "data": {
      "text/html": [
       "<div>\n",
       "<style scoped>\n",
       "    .dataframe tbody tr th:only-of-type {\n",
       "        vertical-align: middle;\n",
       "    }\n",
       "\n",
       "    .dataframe tbody tr th {\n",
       "        vertical-align: top;\n",
       "    }\n",
       "\n",
       "    .dataframe thead th {\n",
       "        text-align: right;\n",
       "    }\n",
       "</style>\n",
       "<table border=\"1\" class=\"dataframe\">\n",
       "  <thead>\n",
       "    <tr style=\"text-align: right;\">\n",
       "      <th></th>\n",
       "      <th>Sentence Text</th>\n",
       "      <th>Cosine Similarity Score</th>\n",
       "    </tr>\n",
       "  </thead>\n",
       "  <tbody>\n",
       "    <tr>\n",
       "      <th>0</th>\n",
       "      <td>this is the first text</td>\n",
       "      <td>0.8</td>\n",
       "    </tr>\n",
       "    <tr>\n",
       "      <th>1</th>\n",
       "      <td>this is the second text</td>\n",
       "      <td>0.8</td>\n",
       "    </tr>\n",
       "    <tr>\n",
       "      <th>2</th>\n",
       "      <td>this is the third text</td>\n",
       "      <td>0.8</td>\n",
       "    </tr>\n",
       "    <tr>\n",
       "      <th>3</th>\n",
       "      <td>this is the fourth text</td>\n",
       "      <td>0.8</td>\n",
       "    </tr>\n",
       "  </tbody>\n",
       "</table>\n",
       "</div>"
      ],
      "text/plain": [
       "             Sentence Text  Cosine Similarity Score\n",
       "0   this is the first text                      0.8\n",
       "1  this is the second text                      0.8\n",
       "2   this is the third text                      0.8\n",
       "3  this is the fourth text                      0.8"
      ]
     },
     "execution_count": 10,
     "metadata": {},
     "output_type": "execute_result"
    }
   ],
   "source": [
    "input_text = \"this is the input text\"\n",
    "texts = [\"this is the first text\", \"this is the second text\", \"this is the third text\", \"this is the fourth text\"]\n",
    "\n",
    "cosine_sim_scores = get_cosine_sim(input_text, texts)\n",
    "data = {'Sentence Text': texts, 'Cosine Similarity Score': cosine_sim_scores}\n",
    "df = pd.DataFrame(data)\n",
    "\n",
    "df\n"
   ]
  },
  {
   "cell_type": "code",
   "execution_count": null,
   "metadata": {},
   "outputs": [],
   "source": []
  }
 ],
 "metadata": {
  "kernelspec": {
   "display_name": "base",
   "language": "python",
   "name": "python3"
  },
  "language_info": {
   "codemirror_mode": {
    "name": "ipython",
    "version": 3
   },
   "file_extension": ".py",
   "mimetype": "text/x-python",
   "name": "python",
   "nbconvert_exporter": "python",
   "pygments_lexer": "ipython3",
   "version": "3.11.5"
  }
 },
 "nbformat": 4,
 "nbformat_minor": 2
}
