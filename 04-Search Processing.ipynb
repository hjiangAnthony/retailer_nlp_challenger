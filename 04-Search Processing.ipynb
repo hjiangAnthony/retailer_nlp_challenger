{
 "cells": [
  {
   "cell_type": "code",
   "execution_count": 1,
   "metadata": {},
   "outputs": [],
   "source": [
    "import pandas as pd\n",
    "import numpy as np\n",
    "\n",
    "from spacy.tokens import DocBin\n",
    "import srsly\n",
    "import spacy\n",
    "from spacy.training import offsets_to_biluo_tags\n",
    "\n",
    "pd.set_option('display.max_colwidth', None)"
   ]
  },
  {
   "cell_type": "code",
   "execution_count": 2,
   "metadata": {},
   "outputs": [
    {
     "name": "stderr",
     "output_type": "stream",
     "text": [
      "/Users/anthony/anaconda3/lib/python3.11/site-packages/spacy_transformers/layers/hf_shim.py:137: UserWarning: Error loading saved torch state_dict with strict=True, likely due to differences between 'transformers' versions. Attempting to load with strict=False as a fallback...\n",
      "\n",
      "If you see errors or degraded performance, download a newer compatible model or retrain your custom model with the current 'transformers' and 'spacy-transformers' versions. For more details and available updates, run: python -m spacy validate\n",
      "  warnings.warn(warn_msg)\n"
     ]
    }
   ],
   "source": [
    "# Importing as module.\n",
    "import en_fetch_ner_spacy_tsf\n",
    "nlp = en_fetch_ner_spacy_tsf.load()"
   ]
  },
  {
   "cell_type": "code",
   "execution_count": 3,
   "metadata": {},
   "outputs": [],
   "source": [
    "import os\n",
    "os.chdir(\"data\")"
   ]
  },
  {
   "cell_type": "code",
   "execution_count": null,
   "metadata": {},
   "outputs": [],
   "source": [
    "!pwd"
   ]
  },
  {
   "cell_type": "code",
   "execution_count": 63,
   "metadata": {},
   "outputs": [],
   "source": [
    "import pickle, json\n",
    "\n",
    "path1 = \"brand_belong_category_dict.json\"\n",
    "path2 = \"offered_brands.pkl\"\n",
    "\n",
    "with open(path1, 'r') as f:\n",
    "    brand_belong_category_dict = json.load(f)\n",
    "\n",
    "with open(path2, 'rb') as f:\n",
    "    offered_brands = pickle.load(f)"
   ]
  },
  {
   "cell_type": "code",
   "execution_count": 5,
   "metadata": {},
   "outputs": [
    {
     "data": {
      "text/html": [
       "<div>\n",
       "<style scoped>\n",
       "    .dataframe tbody tr th:only-of-type {\n",
       "        vertical-align: middle;\n",
       "    }\n",
       "\n",
       "    .dataframe tbody tr th {\n",
       "        vertical-align: top;\n",
       "    }\n",
       "\n",
       "    .dataframe thead th {\n",
       "        text-align: right;\n",
       "    }\n",
       "</style>\n",
       "<table border=\"1\" class=\"dataframe\">\n",
       "  <thead>\n",
       "    <tr style=\"text-align: right;\">\n",
       "      <th></th>\n",
       "      <th>OFFER</th>\n",
       "      <th>RETAILER</th>\n",
       "      <th>BRAND</th>\n",
       "    </tr>\n",
       "  </thead>\n",
       "  <tbody>\n",
       "    <tr>\n",
       "      <th>0</th>\n",
       "      <td>Spend $50 on a Full-Priced new Club Membership</td>\n",
       "      <td>SAMS CLUB</td>\n",
       "      <td>SAMS CLUB</td>\n",
       "    </tr>\n",
       "    <tr>\n",
       "      <th>1</th>\n",
       "      <td>Beyond Meat® Plant-Based products, spend $25</td>\n",
       "      <td>NaN</td>\n",
       "      <td>BEYOND MEAT</td>\n",
       "    </tr>\n",
       "    <tr>\n",
       "      <th>2</th>\n",
       "      <td>Good Humor Viennetta Frozen Vanilla Cake</td>\n",
       "      <td>NaN</td>\n",
       "      <td>GOOD HUMOR</td>\n",
       "    </tr>\n",
       "    <tr>\n",
       "      <th>3</th>\n",
       "      <td>Butterball, select varieties, spend $10 at Dillons Food Store</td>\n",
       "      <td>DILLONS FOOD STORE</td>\n",
       "      <td>BUTTERBALL</td>\n",
       "    </tr>\n",
       "    <tr>\n",
       "      <th>4</th>\n",
       "      <td>GATORADE® Fast Twitch®, 12-ounce 12 pack, at Amazon Storefront*</td>\n",
       "      <td>AMAZON</td>\n",
       "      <td>GATORADE</td>\n",
       "    </tr>\n",
       "  </tbody>\n",
       "</table>\n",
       "</div>"
      ],
      "text/plain": [
       "                                                             OFFER  \\\n",
       "0                   Spend $50 on a Full-Priced new Club Membership   \n",
       "1                     Beyond Meat® Plant-Based products, spend $25   \n",
       "2                         Good Humor Viennetta Frozen Vanilla Cake   \n",
       "3    Butterball, select varieties, spend $10 at Dillons Food Store   \n",
       "4  GATORADE® Fast Twitch®, 12-ounce 12 pack, at Amazon Storefront*   \n",
       "\n",
       "             RETAILER        BRAND  \n",
       "0           SAMS CLUB    SAMS CLUB  \n",
       "1                 NaN  BEYOND MEAT  \n",
       "2                 NaN   GOOD HUMOR  \n",
       "3  DILLONS FOOD STORE   BUTTERBALL  \n",
       "4              AMAZON     GATORADE  "
      ]
     },
     "execution_count": 5,
     "metadata": {},
     "output_type": "execute_result"
    }
   ],
   "source": [
    "df_offers_brand_retailer = pd.read_csv('offer_retailer.csv')\n",
    "df_offers_brand_retailer.head()"
   ]
  },
  {
   "cell_type": "code",
   "execution_count": 16,
   "metadata": {},
   "outputs": [
    {
     "data": {
      "text/plain": [
       "{'ALCOHOL': ['Beer',\n",
       "  'Malt Beverages',\n",
       "  'Hard Seltzers, Sodas, Waters, Lemonades & Teas',\n",
       "  'Hard Ciders',\n",
       "  'Wine',\n",
       "  'Spirits'],\n",
       " 'ANIMALS & PET SUPPLIES': ['Dog Supplies'],\n",
       " 'BABY & TODDLER': ['Baby Bathing',\n",
       "  'Potty Training',\n",
       "  'Baby Safety',\n",
       "  'Diapering',\n",
       "  'Baby Health'],\n",
       " 'BEAUTY': ['Cosmetic Tools', 'Makeup', 'Nail Care', 'Body Fragrances'],\n",
       " 'BEVERAGES': ['Coffee',\n",
       "  'Meal Replacement Beverages',\n",
       "  'Vegetable Juices',\n",
       "  'Drink Mixes',\n",
       "  'Tea',\n",
       "  'Energy Drinks',\n",
       "  'Water',\n",
       "  'Fruit Juices',\n",
       "  'Carbonated Soft Drinks'],\n",
       " 'CANDY': ['Gum'],\n",
       " 'DAIRY': ['Cream',\n",
       "  'Dairy Alternatives',\n",
       "  'Dairy',\n",
       "  'Yogurt',\n",
       "  'Milk',\n",
       "  'Cheese',\n",
       "  'Butter & Margarine',\n",
       "  'Eggs',\n",
       "  'Refrigerated Doughs'],\n",
       " 'DELI & BAKERY': ['Leafy Salads', 'Deli Counter', 'Bakery', 'Prepared Meals'],\n",
       " 'FROZEN': ['Frozen Fruits',\n",
       "  'Frozen Desserts',\n",
       "  'Frozen Sides',\n",
       "  'Frozen Meals',\n",
       "  'Frozen',\n",
       "  'Frozen Vegetables',\n",
       "  'Ice',\n",
       "  'Frozen Breads & Doughs',\n",
       "  'Frozen Pizza & Pizza Snacks',\n",
       "  'Frozen Breakfast',\n",
       "  'Frozen Plant-Based Meat',\n",
       "  'Frozen Appetizers'],\n",
       " 'FROZEN MEAT': ['Frozen Turkey',\n",
       "  'Frozen Chicken',\n",
       "  'Frozen Beef',\n",
       "  'Frozen Seafood'],\n",
       " 'HEALTH & WELLNESS': ['Feminine Hygeine',\n",
       "  'Sexual Health',\n",
       "  'Foot Care',\n",
       "  'Deodorant & Antiperspirant',\n",
       "  'Skin Care',\n",
       "  'Oral Care',\n",
       "  'Eye Care',\n",
       "  'First Aid',\n",
       "  'Hair Care',\n",
       "  'Hair Removal',\n",
       "  'Adult Incontinence',\n",
       "  'Bath & Body',\n",
       "  'Medicines & Treatments'],\n",
       " 'HOME & GARDEN': ['Decor'],\n",
       " 'HOUSEHOLD SUPPLIES': ['Household Cleaning Supplies',\n",
       "  'Household Supplies',\n",
       "  'Pest Control',\n",
       "  'Food Storage',\n",
       "  'Laundry Supplies'],\n",
       " 'MATURE': ['Tobacco Products', 'Mature'],\n",
       " 'MEAT & SEAFOOD': ['Plant-Based Meat'],\n",
       " 'ORAL CARE': ['Toothpaste'],\n",
       " 'PANTRY': ['Cooking & Baking',\n",
       "  'Packaged Seafood',\n",
       "  'Nut Butters & Jam',\n",
       "  'Cereal, Granola, & Toaster Pastries',\n",
       "  'Condiments',\n",
       "  'Packaged Meals & Sides',\n",
       "  'Soup & Broth',\n",
       "  'Bread',\n",
       "  'Sauces & Marinades',\n",
       "  'Packaged Fruit & Applesauce',\n",
       "  'Pickled Goods',\n",
       "  'Dressings',\n",
       "  'Packaged Meat',\n",
       "  'Pasta & Noodles',\n",
       "  'Packaged Vegetables',\n",
       "  'Rice & Grains'],\n",
       " 'PASTA & NOODLES': ['Dry Pasta', 'Fresh Pasta'],\n",
       " 'PASTA SAUCE': ['Red Pasta Sauce',\n",
       "  'Alfredo & White Pasta Sauce',\n",
       "  'Pesto Sauce'],\n",
       " 'PUFFED SNACKS': ['Popcorn'],\n",
       " 'SNACKS': ['Candy',\n",
       "  'Pretzels',\n",
       "  'Snack Mixes',\n",
       "  'Dips & Salsa',\n",
       "  'Crackers',\n",
       "  'Dessert Toppings',\n",
       "  'Puffed Snacks',\n",
       "  'Jerky & Dried Meat',\n",
       "  'Chips',\n",
       "  'Nuts & Seeds',\n",
       "  'Cookies',\n",
       "  'Trail Mix',\n",
       "  'Fruit & Vegetable Snacks',\n",
       "  'Snack Cakes',\n",
       "  'Pudding & Gelatin'],\n",
       " 'SPIRITS': ['Rum', 'Vodka'],\n",
       " 'SPORTS DRINKS & ENHANCED WATERS': ['Sports Drinks']}"
      ]
     },
     "execution_count": 16,
     "metadata": {},
     "output_type": "execute_result"
    }
   ],
   "source": [
    "brand_belong_category_dict"
   ]
  },
  {
   "cell_type": "markdown",
   "metadata": {},
   "source": [
    "Assumptions:\n",
    "- search input will be simple sentences or keywords (e.g. `beer`, or `beers discount Amazon`)\n",
    "- users won't serach upper_category because the APP already has UI for them to filter\n",
    "- `PRODUCT_CATEGORY` are not to spefici brands, so a customer might search `beer` or `white beer`\n",
    "- the search functions I am using will clean the text to lower case. This is because I don't know if the `PRODUCT_CATEGORY` data gives me the write permission\n",
    "\n",
    "Notes about main() function:\n",
    "- if we have a category and we want to recommend offers within the same category, we have to know what BRANDS one category has and then filter out the offers associated with the brands\n",
    "\n",
    "Issues with dataset:\n",
    "- `Alchol` should be renamed as drinks. It contains more than alcholic drinks `[Beer, Malt Beverages, Hard Seltzers, Sodas, Waters, Lemonades & Teas, Hard Ciders, Wine, Spirits]`"
   ]
  },
  {
   "cell_type": "markdown",
   "metadata": {},
   "source": [
    "## Helper functions"
   ]
  },
  {
   "cell_type": "code",
   "execution_count": 17,
   "metadata": {},
   "outputs": [
    {
     "name": "stderr",
     "output_type": "stream",
     "text": [
      "[nltk_data] Downloading package stopwords to\n",
      "[nltk_data]     /Users/anthony/nltk_data...\n",
      "[nltk_data]   Package stopwords is already up-to-date!\n"
     ]
    }
   ],
   "source": [
    "import nltk\n",
    "nltk.download('stopwords')\n",
    "from nltk.corpus import stopwords\n",
    "stop_words = set(stopwords.words('english'))\n",
    "\n",
    "additional_stop_words = {'pack'}\n",
    "stop_words.update(additional_stop_words)\n"
   ]
  },
  {
   "cell_type": "code",
   "execution_count": 66,
   "metadata": {},
   "outputs": [],
   "source": [
    "# helper functions\n",
    "from typing import List, Dict, Tuple\n",
    "import re\n",
    "\n",
    "from sklearn.feature_extraction.text import CountVectorizer\n",
    "from sklearn.metrics.pairwise import cosine_similarity\n",
    "\n",
    "def single_text_cleaner(text: str, remove_stopwords: bool=False, upper_case: bool = False, remove_punctuation: bool=True) -> str:\n",
    "    \"\"\"Clean one single text input. By default it will convert text to lower case\"\"\"\n",
    "    if upper_case:\n",
    "        text = text.upper()\n",
    "    else:\n",
    "        text = text.lower()\n",
    "    if remove_punctuation:\n",
    "        text = re.sub(r'[^a-z\\s]', '', text)\n",
    "    if remove_stopwords:\n",
    "        words = text.split()\n",
    "        words = [word for word in words if word not in stop_words]\n",
    "        text = ' '.join(words)\n",
    "    return text\n",
    "\n",
    "def list_text_cleaner(texts: List[str], upper_case: bool = False, remove_stopwords: bool = False, remove_punctuation: bool=True) -> List[str]:\n",
    "    \"\"\"Takes in a list of strings and returns a list of cleaned strings without stop words. \n",
    "    Current tasks: \n",
    "    - remove non-alphabetical characters\n",
    "    - converting to lower cases\n",
    "    - remove stop words (optional)\"\"\"\n",
    "    cleaned_texts = [single_text_cleaner(text, remove_stopwords, upper_case, remove_punctuation) for text in texts]\n",
    "    return cleaned_texts\n",
    "\n",
    "def match_product_category(s1: list[str], s2: list[str]) -> str:\n",
    "    \"\"\"Find if items of a list is in one list of product categories\"\"\"\n",
    "    return next((p for c in s1 for p in s2 if c in p), None) # this will stop after finding first match, which saves time\n",
    "\n",
    "def find_category(search_input: str, search_dict: Dict) -> str:\n",
    "    \"\"\"Find the category of a search input based on a dictionary of categories\n",
    "    Worknote: what if we have multiple categories?\n",
    "    \"\"\"\n",
    "    search_list = list_text_cleaner(re.split(r'[,\\s]+', search_input), remove_stopwords=True)\n",
    "    search_list = [c for c in search_list if len(c)>0] # sometimes there are empty strings\n",
    "    matched_category = False\n",
    "    for k, v in search_dict.items():\n",
    "        v = list_text_cleaner(v, remove_punctuation=False)\n",
    "        search_results = match_product_category(search_list, v)\n",
    "        if search_results is not None:\n",
    "            matched_category = True\n",
    "            return k, search_results\n",
    "        else:\n",
    "            # print(f'Function find_category: No category {k} has matched for input: {search_input}') \n",
    "            continue\n",
    "    if not matched_category:\n",
    "        print(f'Function find_category: No category has matched for input: {search_input}')\n",
    "        return None\n",
    "    \n",
    "\n",
    "def check_entity(search_input) -> bool:\n",
    "    \"\"\"Takes in a search input and checks if it contains any entities\"\"\"\n",
    "    doc = nlp(search_input)\n",
    "    if len(doc.ents) > 0:\n",
    "        return doc\n",
    "    else:\n",
    "        return False\n",
    "\n",
    "def get_cosine_sim(input_text: str, texts: List[str]) -> pd.DataFrame:\n",
    "    \"\"\"Calculate the cosine similarity of the input text against a list of texts\n",
    "    Takes in:\n",
    "    - input_text: a string\n",
    "    - texts: a list of strings\n",
    "    Returns a dataframe with two columns: Sentence Text and Cosine Similarity Score\n",
    "    \"\"\"\n",
    "    input_text_cleaned = list_text_cleaner([input_text], remove_stopwords=True)[0]\n",
    "    cleaned_texts = list_text_cleaner(texts, remove_stopwords=True)\n",
    "    all_texts = [input_text_cleaned] + cleaned_texts\n",
    "    vectors = get_vectors(*all_texts)\n",
    "    sim_matrix = cosine_similarity(vectors)\n",
    "    # Get the similarity scores of the input_text against all other texts\n",
    "    sim_scores = sim_matrix[0, 1:]\n",
    "    data = {'OFFER': texts, 'Cosine Similarity Score': sim_scores}\n",
    "    df = pd.DataFrame(data)\n",
    "    df = df.sort_values(by='Cosine Similarity Score', ascending=False).reset_index(drop=True)\n",
    "    return df\n",
    "\n",
    "def get_vectors(*strs: str) -> np.ndarray:\n",
    "    text = list(strs)\n",
    "    vectorizer = CountVectorizer()\n",
    "    vectorizer.fit(text)\n",
    "    return vectorizer.transform(text).toarray()\n",
    "\n",
    "def jaccard_similarity(s1: List[str], s2: List[str]) -> float:\n",
    "    \"\"\"Takes in two lists and returns the Jaccard similarity score (3 digits)\"\"\"\n",
    "    intersection = set(s1).intersection(set(s2))\n",
    "    n = len(intersection)\n",
    "    score = round(n / (len(s1) + len(s2) - n), 3)\n",
    "    return score\n",
    "\n",
    "def get_jaccard_sim(input_text: str, texts: List[str]) -> pd.DataFrame:\n",
    "    \"\"\"Calculate the Jaccard similarity of the input text against a list of texts\n",
    "    Takes in:\n",
    "    - input_text: a string\n",
    "    - texts: a list of strings\n",
    "    Returns a dataframe with two columns: Sentence Text and Jaccard Similarity Score\n",
    "    \"\"\"\n",
    "    cleaned_input_text = list_text_cleaner([input_text], remove_stopwords=True)[0].split()\n",
    "    cleaned_texts = list_text_cleaner(texts, remove_stopwords=True)\n",
    "    \n",
    "    jaccard_scores = [jaccard_similarity(cleaned_input_text, text.split()) for text in cleaned_texts]\n",
    "    \n",
    "    data = {'OFFER': texts, 'Jaccard Similarity Score': jaccard_scores}\n",
    "    df = pd.DataFrame(data)\n",
    "    # sort based on the similarity score\n",
    "    df = df.sort_values(by='Jaccard Similarity Score', ascending=False).reset_index(drop=True)\n",
    "    return df\n",
    "\n",
    "def find_column(df: pd.DataFrame, keyword: str) -> str:\n",
    "    \"\"\"Function to find the first column containing a specific keyword. Note that we assume there will only be one score at most for a similarity score dataframe\"\"\"\n",
    "    cols = [col for col in df.columns if keyword.lower() in col.lower()]\n",
    "    return cols[0] if cols else None\n",
    "\n",
    "def extract_similar_offers(data: pd.DataFrame, threshold: float = 0.0) -> pd.DataFrame:\n",
    "    \"\"\"Takes in the results from get_cosine_sim() and get_jaccard_sim(); returns a dataframe of similar offers with scores > threshold\"\"\"\n",
    "    score = find_column(data, 'score')\n",
    "    similar_offers = data[data[score] >= threshold]\n",
    "    return similar_offers\n",
    "\n",
    "\n",
    "def category_to_brand(category: str, offered_brands: List, brand_belong_category_dict: Dict) -> List[str]:\n",
    "    \"\"\"Use case: when a user searches for a category, we return a list of brands in that category\"\"\"\n",
    "    # checks if the category is in the dictionary keys\n",
    "    if category.upper() in brand_belong_category_dict.keys():\n",
    "        search_brands = brand_belong_category_dict[category.upper()] # becase all keys are in upper case\n",
    "        result = list(set(search_brands) & set(offered_brands))\n",
    "        print(f\"Function category_to_brand | Found {category} in offered brand\") \n",
    "        return result \n",
    "    else:\n",
    "        print(f\"Function category_to_brand | No offered brand is found in {category}\")\n",
    "        return None\n",
    "\n",
    "# def offer_finder_by_score(df1: pd.DataFrame, df2: pd.DataFrame, threshold: float = 0.0) -> pd.DataFrame:\n",
    "#     \"\"\"Part of the main function when we calculated two scores (cos and jaccard). \n",
    "#     Takes in two dataframes and return a dataframe of offers with the top 10 rows with highest score from each dataframe\"\"\"\n",
    "#     offer1 = extract_similar_offers(df1, threshold)['OFFER']\n",
    "#     offer2 = extract_similar_offers(df2, threshold)['OFFER']\n",
    "#     output = pd.concat([df1, df2])\n",
    "#     return output\n",
    "\n",
    "class CatchErros(Exception):\n",
    "    class ParamsInputError(Exception):\n",
    "        pass\n",
    "    class SearchFailedError(Exception):\n",
    "        pass\n",
    "    class UnknownError(Exception):\n",
    "        pass\n",
    "\n",
    "\n",
    "def offer_finder_by_category(search_input: str, search_category_tuple: Tuple, offers: pd.DataFrame, category_dict: Dict, offered_brands: List, \n",
    "                             brand_belong_category_dict: Dict, score: str, threshold: float = 0.0) -> pd.DataFrame:\n",
    "    # we assume people just search one category at a time\n",
    "    # search_category_tuple = find_category(search_input, category_dict)\n",
    "    product_category, upper_category = search_category_tuple[1], search_category_tuple[0] # ('Alcohol', 'beer')\n",
    "    print(f'Function offer_finder_by_category | Found items:\\n- Search input: {search_input}\\n- Product category: {product_category}\\n- Upper category: {upper_category}')\n",
    "    potential_brands = category_to_brand(product_category, offered_brands, brand_belong_category_dict)\n",
    "    if potential_brands is not None:\n",
    "        potential_offers = offers[offers['BRAND'].isin(potential_brands)]['OFFER'].tolist()\n",
    "        if score == 'cosine':\n",
    "            cos_sim_score = get_cosine_sim(search_input, potential_offers)\n",
    "            output = extract_similar_offers(cos_sim_score, threshold)\n",
    "        elif score == 'jaccard':\n",
    "            jaccard_sim_score = get_jaccard_sim(search_input, potential_offers)\n",
    "            output = extract_similar_offers(jaccard_sim_score, threshold)\n",
    "        elif score not in ['cosine', 'jaccard']:\n",
    "            raise ValueError(f'Please enter a valid score: cosine or jaccard; Not {score}')\n",
    "        else: # this means something else is worng\n",
    "            raise UnknownError(f'Something must be broken. Please try again.')\n",
    "        return output\n",
    "    else:\n",
    "        potential_product_categories = category_dict[upper_category]\n",
    "        msg = f'{product_category} is not found. Do you wanna take a look at these similar offers in {upper_category}?\\n We have: {potential_product_categories}' # we can still calculate similarity but this is computationally expensive\n",
    "        print(msg)\n",
    "        return None\n",
    "\n",
    "def offer_finder_by_entity(search_input: str, entities: Tuple, offers_data: pd.DataFrame, score: str, threshold: float=0.0) -> pd.DataFrame:\n",
    "    \"\"\"Find offers based on entities identified from search input.\n",
    "    Takes in a search input, a dataframe of offers, and a score type (cosine or jaccard)\n",
    "    Returns a dataframe of offers with the top 10 rows, ordered by highest score\n",
    "    \"\"\"\n",
    "    collects = [] # collect all the results if there are more than one entity\n",
    "    for ent in entities:\n",
    "        ent_name, ent_label = ent.text, ent.label_\n",
    "        print(f'Function offer_finder_by_entity | Found entity: {ent_name} with label: {ent_label}')\n",
    "        # filter offers by entity\n",
    "        df_tmp = offers_data[offers_data[ent_label.upper()] == ent_name.upper()]\n",
    "        if df_tmp.shape[0] > 0:\n",
    "            print(f'Function offer_finder_by_entity | Found {df_tmp.shape[0]} offer(s) for the brand/retailer: {ent_name}')\n",
    "            potential_offers = df_tmp['OFFER'].drop_duplicates().tolist()\n",
    "            if score == 'cosine':\n",
    "                cos_sim_score = get_cosine_sim(search_input, potential_offers)\n",
    "                output = extract_similar_offers(cos_sim_score, threshold)\n",
    "            elif score == 'jaccard':\n",
    "                jaccard_sim_score = get_jaccard_sim(search_input, potential_offers)\n",
    "                output = extract_similar_offers(jaccard_sim_score, threshold)\n",
    "            elif score not in ['cosine', 'jaccard']:\n",
    "                raise ValueError(f'Please enter a valid score: cosine or jaccard; Not {score}')\n",
    "            else: # this means something else is worng\n",
    "                raise UnknownError(f'Something must be broken. Please try again.')\n",
    "            collects.append(output)\n",
    "        else:\n",
    "            print(f'Function offer_finder_by_entity | No offer is found for the brand/retailer: {ent_name}')\n",
    "\n",
    "    if len(collects) > 0:\n",
    "        final_output = pd.concat(collects, ignore_index=True)# they should be using the same similarity score\n",
    "        score = find_column(collects[0], 'score') \n",
    "        final_output = final_output.sort_values(by=score, ascending=False).reset_index(drop=True) # sort final_output by score\n",
    "        return final_output\n",
    "    elif len(collects) == 1:\n",
    "        return collects[0]\n",
    "    else:\n",
    "        print('###'*5 + 'FINAL SEARCH RESULTS' + '###'*5)\n",
    "        print('Function offer_finder_by_entity | No offer is found for any of the entities.')\n",
    "        return None\n",
    "\n",
    "\n",
    "def main(search_input: str, offers: pd.DataFrame, category_dict: Dict, brand_belong_category_dict: Dict, score: str, score_threshold: float = 0.0):\n",
    "    \"\"\"Main function. Takes in a serach_input and decide whether it can find entities or not. Then excecute the appropriate functions\"\"\"\n",
    "    print(f'Function main | Search input: {search_input}')\n",
    "    check_ent = check_entity(search_input)\n",
    "    if not check_entity(search_input): # no entities found\n",
    "       # check category\n",
    "       cat_check = find_category(search_input, category_dict)\n",
    "       if cat_check is None:\n",
    "           raise SearchFailedError('No brand/retailer/category is found. Please try again.')\n",
    "       else:\n",
    "            # we assume people just search one category at a time\n",
    "            cat_tuple = cat_check # ('Alcohol', 'beer')\n",
    "            search_results = offer_finder_by_category(search_input, cat_tuple, offers, category_dict, offered_brands, brand_belong_category_dict, score, score_threshold)\n",
    "            return search_results\n",
    "    else:\n",
    "        entities = check_ent.ents # entities will be a tuple anyways\n",
    "        print(f'Found {len(entities)} entity object(s) in the search input.')\n",
    "        search_results = offer_finder_by_entity(search_input, entities, offers, score, score_threshold)\n",
    "        return search_results\n",
    "            "
   ]
  },
  {
   "cell_type": "code",
   "execution_count": null,
   "metadata": {},
   "outputs": [],
   "source": [
    "brand_belong_category_dict"
   ]
  },
  {
   "cell_type": "code",
   "execution_count": null,
   "metadata": {},
   "outputs": [],
   "source": [
    "df_offers_brand_retailer.head()"
   ]
  },
  {
   "cell_type": "code",
   "execution_count": 25,
   "metadata": {},
   "outputs": [
    {
     "data": {
      "text/plain": [
       "('ALCOHOL', 'hard seltzers, sodas, waters, lemonades & teas')"
      ]
     },
     "execution_count": 25,
     "metadata": {},
     "output_type": "execute_result"
    }
   ],
   "source": [
    "# test  = \"Wisconsin Candy\"\n",
    "test  = \"Lemonade 12 pack\"\n",
    "find_category(test, brand_belong_category_dict)"
   ]
  },
  {
   "cell_type": "code",
   "execution_count": null,
   "metadata": {},
   "outputs": [],
   "source": [
    "def category_to_brand(category: str, offered_brands: List, brand_belong_category_dict: Dict) -> List[str]:\n",
    "    \"\"\"Use case: when a user searches for a category, we return a list of brands in that category\"\"\"\n",
    "    print(category)\n",
    "    search_brands = brand_belong_category_dict[category.upper()] # becase all keys are in upper case\n",
    "    result = list(set(search_brands) & set(offered_brands))\n",
    "    if len(result) > 0:\n",
    "        print(f\"Function category_to_brand | Found {category} in offered brand\") \n",
    "        return result \n",
    "    else:\n",
    "        print(f\"Function category_to_brand | No offered brand is found in {category}\")\n",
    "        return None"
   ]
  },
  {
   "cell_type": "code",
   "execution_count": null,
   "metadata": {},
   "outputs": [],
   "source": [
    "# text = \"Klondike Cones at Walmart\"\n",
    "# test = \"Simply Spiked Lemonade 12 pack\"\n",
    "test  = \"Lemonade 12 pack\"\n",
    "\n",
    "\n",
    "# # check_entity(text)\n",
    "cat_tuple = find_category(test, brand_belong_category_dict)\n",
    "# # category_to_brand(cat_tuple[1], offered_brands, brand_belong_category_dict)\n",
    "\n",
    "# # offer_finder_by_category(test, cat_tuple, df_offers, category_dict, offered_brands, brand_belong_category_dict, 'jaccard', 0.0)\n",
    "offer_finder_by_category(test, cat_tuple, df_offers_brand_retailer, brand_belong_category_dict, offered_brands, brand_belong_category_dict, 'cosine', 0.0)"
   ]
  },
  {
   "cell_type": "code",
   "execution_count": null,
   "metadata": {},
   "outputs": [],
   "source": [
    "test = \"Simply Spiked Lemonade 12 pack\"\n",
    "check_ent = check_entity(test)\n",
    "entities = check_ent.ents\n",
    "\n",
    "offer_finder_by_entity(test, entities, df_offers_brand_retailer, 'cosine')"
   ]
  },
  {
   "cell_type": "code",
   "execution_count": null,
   "metadata": {},
   "outputs": [],
   "source": [
    "# test = \"Simply Spiked Lemonade 12 pack at Walmart\"\n",
    "# test = \"Maotai\"\n",
    "test = \"Simply Spiked Lemonade 12 pack\"\n",
    "check_ent = check_entity(test)\n",
    "entities = check_ent.ents\n",
    "\n",
    "offer_finder_by_entity(test, entities, df_offers_brand_retailer, 'cosine')"
   ]
  },
  {
   "cell_type": "code",
   "execution_count": 64,
   "metadata": {},
   "outputs": [],
   "source": [
    "v = brand_belong_category_dict[\"BEER\"]\n",
    "# v = list_text_cleaner(v, remove_punctuation=False)\n",
    "\n",
    "for i in v:\n",
    "    if type(i) != str:\n",
    "        print(i)"
   ]
  },
  {
   "cell_type": "code",
   "execution_count": 72,
   "metadata": {},
   "outputs": [
    {
     "name": "stdout",
     "output_type": "stream",
     "text": [
      "Function main | Search input: EGGLIFE 12 pack\n",
      "Found 1 entity object(s) in the search input.\n",
      "Function offer_finder_by_entity | Found entity: EGGLIFE with label: BRAND\n",
      "Function offer_finder_by_entity | Found 1 offer(s) for the brand/retailer: EGGLIFE\n"
     ]
    },
    {
     "data": {
      "text/html": [
       "<div>\n",
       "<style scoped>\n",
       "    .dataframe tbody tr th:only-of-type {\n",
       "        vertical-align: middle;\n",
       "    }\n",
       "\n",
       "    .dataframe tbody tr th {\n",
       "        vertical-align: top;\n",
       "    }\n",
       "\n",
       "    .dataframe thead th {\n",
       "        text-align: right;\n",
       "    }\n",
       "</style>\n",
       "<table border=\"1\" class=\"dataframe\">\n",
       "  <thead>\n",
       "    <tr style=\"text-align: right;\">\n",
       "      <th></th>\n",
       "      <th>OFFER</th>\n",
       "      <th>Cosine Similarity Score</th>\n",
       "    </tr>\n",
       "  </thead>\n",
       "  <tbody>\n",
       "    <tr>\n",
       "      <th>0</th>\n",
       "      <td>Egglife Egg White Wraps at Aldi</td>\n",
       "      <td>0.447214</td>\n",
       "    </tr>\n",
       "  </tbody>\n",
       "</table>\n",
       "</div>"
      ],
      "text/plain": [
       "                             OFFER  Cosine Similarity Score\n",
       "0  Egglife Egg White Wraps at Aldi                 0.447214"
      ]
     },
     "execution_count": 72,
     "metadata": {},
     "output_type": "execute_result"
    }
   ],
   "source": [
    "# test = \"Simply Spiked Lemonade 12 pack at Walmart\"\n",
    "test = \"EGGLIFE 12 pack\"\n",
    "\n",
    "# def main(search_input: str, offers: pd.DataFrame, category_dict: Dict, score: str, score_threshold: float = 0.0):\n",
    "main(test, df_offers_brand_retailer, brand_belong_category_dict, brand_belong_category_dict, 'cosine', 0.0)"
   ]
  },
  {
   "cell_type": "markdown",
   "metadata": {},
   "source": [
    "## Playground to test"
   ]
  },
  {
   "cell_type": "markdown",
   "metadata": {},
   "source": [
    "### Functions test"
   ]
  },
  {
   "cell_type": "code",
   "execution_count": null,
   "metadata": {},
   "outputs": [],
   "source": [
    "# test case: find category\n",
    "\n",
    "category_dict = brand_belong_category_dict\n",
    "\n",
    "test1 = \"White German Beer\"\n",
    "test2 = [\"Beer\", \"Malt Beverages\", \"Hard Seltzers\", \"Sodas\", \"Waters\", \"Lemonades & Teas\", \"Hard Ciders\", \"Wine\", \"Spirits\"]\n",
    "\n",
    "find_category(test1, category_dict)\n"
   ]
  },
  {
   "cell_type": "code",
   "execution_count": null,
   "metadata": {},
   "outputs": [],
   "source": [
    "test_text = \"Klondike Cones at Walmart\"\n",
    "# test_text = \"Klondike Cones\"\n",
    "# test_test = \"M&M's candy discount at Target\"\n",
    "\n",
    "\n",
    "doc = nlp(test_text)\n",
    "spacy.displacy.render(doc, style=\"ent\", jupyter=True) # display in Jupyter"
   ]
  },
  {
   "cell_type": "code",
   "execution_count": null,
   "metadata": {},
   "outputs": [],
   "source": [
    "# [(ent.text, ent.label_) for ent in text.ents]\n",
    "\n",
    "# len(check_entity(test_text).ents)\n",
    "\n",
    "# type(check_entity(test_text).ents)\n",
    "\n",
    "for ent in doc.ents:\n",
    "    print(f'Entity: {ent.text} | Label: {ent.label_}')"
   ]
  },
  {
   "cell_type": "code",
   "execution_count": null,
   "metadata": {},
   "outputs": [],
   "source": [
    "# test on Cosine Similarity for search_offer comparison\n",
    "\n",
    "input_text = \"Membership at Costco\"\n",
    "texts = [\"Sara Lee bread, select varieties, buy 2 at Walmart\", \n",
    "         \"Back to the Roots Garden Soil, 1 cubic foot, at Lowe's Home Improvement\", \n",
    "         \"When you join Costco as a Gold Star Member\", \n",
    "         \"this is the fourth text\"]\n",
    "\n",
    "cosine_sim_scores = get_cosine_sim(input_text, texts)\n",
    "cosine_sim_scores"
   ]
  },
  {
   "cell_type": "code",
   "execution_count": null,
   "metadata": {},
   "outputs": [],
   "source": [
    "cosine_sim_scores[\"OFFER\"]"
   ]
  },
  {
   "cell_type": "code",
   "execution_count": null,
   "metadata": {},
   "outputs": [],
   "source": [
    "# test on Jaccard Similarity for search_offer comparison\n",
    "\n",
    "input_text = \"Membership at Costco\"\n",
    "texts = [\"Sara Lee bread, select varieties, buy 2 at Walmart\", \n",
    "         \"Back to the Roots Garden Soil, 1 cubic foot, at Lowe's Home Improvement\", \n",
    "         \"When you join Costco as a Gold Star Member\", \n",
    "         \"this is the fourth text\"]\n",
    "\n",
    "result = get_jaccard_sim(input_text, texts)\n",
    "result"
   ]
  },
  {
   "cell_type": "code",
   "execution_count": null,
   "metadata": {},
   "outputs": [],
   "source": [
    "# test case on extract_similar_offers\n",
    "extract_similar_offers(get_jaccard_sim(input_text, texts))"
   ]
  },
  {
   "cell_type": "code",
   "execution_count": null,
   "metadata": {},
   "outputs": [],
   "source": [
    "extract_similar_offers(get_cosine_sim(input_text, texts))"
   ]
  },
  {
   "cell_type": "code",
   "execution_count": null,
   "metadata": {},
   "outputs": [],
   "source": [
    "# df_offers = pd.read_csv(path + 'brand_offer_cleaned.csv')\n",
    "# df_offers.sample(10)"
   ]
  },
  {
   "cell_type": "markdown",
   "metadata": {},
   "source": [
    "### Similarity match test"
   ]
  },
  {
   "cell_type": "code",
   "execution_count": 60,
   "metadata": {},
   "outputs": [
    {
     "ename": "FileNotFoundError",
     "evalue": "[Errno 2] No such file or directory: 'data/brand_belong_category_dict.json'",
     "output_type": "error",
     "traceback": [
      "\u001b[0;31m---------------------------------------------------------------------------\u001b[0m",
      "\u001b[0;31mFileNotFoundError\u001b[0m                         Traceback (most recent call last)",
      "\u001b[1;32m/Users/anthony/Projects/retailer_nlp_challenger/04-Search Processing.ipynb Cell 35\u001b[0m line \u001b[0;36m9\n\u001b[1;32m      <a href='vscode-notebook-cell:/Users/anthony/Projects/retailer_nlp_challenger/04-Search%20Processing.ipynb#X34sZmlsZQ%3D%3D?line=5'>6</a>\u001b[0m path1 \u001b[39m=\u001b[39m \u001b[39m\"\u001b[39m\u001b[39mdata/brand_belong_category_dict.json\u001b[39m\u001b[39m\"\u001b[39m\n\u001b[1;32m      <a href='vscode-notebook-cell:/Users/anthony/Projects/retailer_nlp_challenger/04-Search%20Processing.ipynb#X34sZmlsZQ%3D%3D?line=6'>7</a>\u001b[0m path2 \u001b[39m=\u001b[39m \u001b[39m\"\u001b[39m\u001b[39mdata/offered_brands.pkl\u001b[39m\u001b[39m\"\u001b[39m\n\u001b[0;32m----> <a href='vscode-notebook-cell:/Users/anthony/Projects/retailer_nlp_challenger/04-Search%20Processing.ipynb#X34sZmlsZQ%3D%3D?line=8'>9</a>\u001b[0m \u001b[39mwith\u001b[39;00m \u001b[39mopen\u001b[39m(path1, \u001b[39m'\u001b[39m\u001b[39mr\u001b[39m\u001b[39m'\u001b[39m) \u001b[39mas\u001b[39;00m f:\n\u001b[1;32m     <a href='vscode-notebook-cell:/Users/anthony/Projects/retailer_nlp_challenger/04-Search%20Processing.ipynb#X34sZmlsZQ%3D%3D?line=9'>10</a>\u001b[0m     brand_belong_category_dict \u001b[39m=\u001b[39m json\u001b[39m.\u001b[39mload(f)\n\u001b[1;32m     <a href='vscode-notebook-cell:/Users/anthony/Projects/retailer_nlp_challenger/04-Search%20Processing.ipynb#X34sZmlsZQ%3D%3D?line=11'>12</a>\u001b[0m \u001b[39mwith\u001b[39;00m \u001b[39mopen\u001b[39m(path2, \u001b[39m'\u001b[39m\u001b[39mrb\u001b[39m\u001b[39m'\u001b[39m) \u001b[39mas\u001b[39;00m f:\n",
      "File \u001b[0;32m~/anaconda3/lib/python3.11/site-packages/IPython/core/interactiveshell.py:286\u001b[0m, in \u001b[0;36m_modified_open\u001b[0;34m(file, *args, **kwargs)\u001b[0m\n\u001b[1;32m    279\u001b[0m \u001b[39mif\u001b[39;00m file \u001b[39min\u001b[39;00m {\u001b[39m0\u001b[39m, \u001b[39m1\u001b[39m, \u001b[39m2\u001b[39m}:\n\u001b[1;32m    280\u001b[0m     \u001b[39mraise\u001b[39;00m \u001b[39mValueError\u001b[39;00m(\n\u001b[1;32m    281\u001b[0m         \u001b[39mf\u001b[39m\u001b[39m\"\u001b[39m\u001b[39mIPython won\u001b[39m\u001b[39m'\u001b[39m\u001b[39mt let you open fd=\u001b[39m\u001b[39m{\u001b[39;00mfile\u001b[39m}\u001b[39;00m\u001b[39m by default \u001b[39m\u001b[39m\"\u001b[39m\n\u001b[1;32m    282\u001b[0m         \u001b[39m\"\u001b[39m\u001b[39mas it is likely to crash IPython. If you know what you are doing, \u001b[39m\u001b[39m\"\u001b[39m\n\u001b[1;32m    283\u001b[0m         \u001b[39m\"\u001b[39m\u001b[39myou can use builtins\u001b[39m\u001b[39m'\u001b[39m\u001b[39m open.\u001b[39m\u001b[39m\"\u001b[39m\n\u001b[1;32m    284\u001b[0m     )\n\u001b[0;32m--> 286\u001b[0m \u001b[39mreturn\u001b[39;00m io_open(file, \u001b[39m*\u001b[39margs, \u001b[39m*\u001b[39m\u001b[39m*\u001b[39mkwargs)\n",
      "\u001b[0;31mFileNotFoundError\u001b[0m: [Errno 2] No such file or directory: 'data/brand_belong_category_dict.json'"
     ]
    }
   ],
   "source": [
    "# read pickle and json files that we will use\n",
    "\n",
    "import pickle\n",
    "import json\n",
    "\n",
    "path1 = \"data/brand_belong_category_dict.json\"\n",
    "path2 = \"data/offered_brands.pkl\"\n",
    "\n",
    "with open(path1, 'r') as f:\n",
    "    brand_belong_category_dict = json.load(f)\n",
    "\n",
    "with open(path2, 'rb') as f:\n",
    "    offered_brands = pickle.load(f)"
   ]
  },
  {
   "cell_type": "code",
   "execution_count": null,
   "metadata": {},
   "outputs": [],
   "source": [
    "# change all keys in brand_belong_category_dict to upper case\n",
    "# brand_belong_category_dict = {k.upper(): v for k, v in brand_belong_category_dict.items()}\n",
    "# brand_belong_category_dict\n",
    "\n",
    "# import json\n",
    "# with open('data/brand_belong_category_dict.json', 'w') as fp:\n",
    "#     json.dump(brand_belong_category_dict, fp)"
   ]
  },
  {
   "cell_type": "markdown",
   "metadata": {},
   "source": [
    "Operation data test"
   ]
  },
  {
   "cell_type": "code",
   "execution_count": null,
   "metadata": {},
   "outputs": [],
   "source": [
    "print(f'offered_brands: {type(offered_brands)}')\n",
    "print(f'brand_belong_category_dict: {type(brand_belong_category_dict)}')"
   ]
  },
  {
   "cell_type": "code",
   "execution_count": null,
   "metadata": {},
   "outputs": [],
   "source": [
    "offered_brands[:5]"
   ]
  },
  {
   "cell_type": "code",
   "execution_count": null,
   "metadata": {},
   "outputs": [],
   "source": [
    "brand_belong_category_dict['Baby Bathing'][:5]"
   ]
  },
  {
   "cell_type": "code",
   "execution_count": null,
   "metadata": {},
   "outputs": [],
   "source": [
    "# test case: I have a category, now I want to find all the brands (with offers) that belong to this category\n",
    "# so I need to find a intersection of two lists\n",
    "\n",
    "category = 'Packaged Meals & Sides'\n",
    "search_brands = brand_belong_category_dict[category]\n",
    "\n",
    "# find the intersection of two lists\n",
    "result = list(set(search_brands) & set(offered_brands))\n",
    "result"
   ]
  },
  {
   "cell_type": "markdown",
   "metadata": {},
   "source": [
    "## Build Category Dictionary\n",
    "\n",
    "As checks (mannually and EDA), there're no cases for one product_category that belongs to more than one categories. So, we can build a simple category dictionary."
   ]
  },
  {
   "cell_type": "code",
   "execution_count": 27,
   "metadata": {},
   "outputs": [
    {
     "name": "stdout",
     "output_type": "stream",
     "text": [
      "(118, 3)\n"
     ]
    },
    {
     "data": {
      "text/html": [
       "<div>\n",
       "<style scoped>\n",
       "    .dataframe tbody tr th:only-of-type {\n",
       "        vertical-align: middle;\n",
       "    }\n",
       "\n",
       "    .dataframe tbody tr th {\n",
       "        vertical-align: top;\n",
       "    }\n",
       "\n",
       "    .dataframe thead th {\n",
       "        text-align: right;\n",
       "    }\n",
       "</style>\n",
       "<table border=\"1\" class=\"dataframe\">\n",
       "  <thead>\n",
       "    <tr style=\"text-align: right;\">\n",
       "      <th></th>\n",
       "      <th>CATEGORY_ID</th>\n",
       "      <th>PRODUCT_CATEGORY</th>\n",
       "      <th>UPPER_CATEGORY</th>\n",
       "    </tr>\n",
       "  </thead>\n",
       "  <tbody>\n",
       "    <tr>\n",
       "      <th>0</th>\n",
       "      <td>1f7d2fa7-a1d7-4969-aaf4-1244f232c175</td>\n",
       "      <td>Red Pasta Sauce</td>\n",
       "      <td>Pasta Sauce</td>\n",
       "    </tr>\n",
       "    <tr>\n",
       "      <th>1</th>\n",
       "      <td>3e48a9b3-1ab2-4f2d-867d-4a30828afeab</td>\n",
       "      <td>Alfredo &amp; White Pasta Sauce</td>\n",
       "      <td>Pasta Sauce</td>\n",
       "    </tr>\n",
       "    <tr>\n",
       "      <th>2</th>\n",
       "      <td>09f3decc-aa93-460d-936c-0ddf06b055a3</td>\n",
       "      <td>Cooking &amp; Baking</td>\n",
       "      <td>Pantry</td>\n",
       "    </tr>\n",
       "    <tr>\n",
       "      <th>3</th>\n",
       "      <td>12a89b18-4c01-4048-94b2-0705e0a45f6b</td>\n",
       "      <td>Packaged Seafood</td>\n",
       "      <td>Pantry</td>\n",
       "    </tr>\n",
       "    <tr>\n",
       "      <th>4</th>\n",
       "      <td>2caa015a-ca32-4456-a086-621446238783</td>\n",
       "      <td>Feminine Hygeine</td>\n",
       "      <td>Health &amp; Wellness</td>\n",
       "    </tr>\n",
       "  </tbody>\n",
       "</table>\n",
       "</div>"
      ],
      "text/plain": [
       "                            CATEGORY_ID             PRODUCT_CATEGORY  \\\n",
       "0  1f7d2fa7-a1d7-4969-aaf4-1244f232c175              Red Pasta Sauce   \n",
       "1  3e48a9b3-1ab2-4f2d-867d-4a30828afeab  Alfredo & White Pasta Sauce   \n",
       "2  09f3decc-aa93-460d-936c-0ddf06b055a3             Cooking & Baking   \n",
       "3  12a89b18-4c01-4048-94b2-0705e0a45f6b             Packaged Seafood   \n",
       "4  2caa015a-ca32-4456-a086-621446238783             Feminine Hygeine   \n",
       "\n",
       "      UPPER_CATEGORY  \n",
       "0        Pasta Sauce  \n",
       "1        Pasta Sauce  \n",
       "2             Pantry  \n",
       "3             Pantry  \n",
       "4  Health & Wellness  "
      ]
     },
     "metadata": {},
     "output_type": "display_data"
    },
    {
     "name": "stdout",
     "output_type": "stream",
     "text": [
      "(23, 2)\n"
     ]
    },
    {
     "data": {
      "text/html": [
       "<div>\n",
       "<style scoped>\n",
       "    .dataframe tbody tr th:only-of-type {\n",
       "        vertical-align: middle;\n",
       "    }\n",
       "\n",
       "    .dataframe tbody tr th {\n",
       "        vertical-align: top;\n",
       "    }\n",
       "\n",
       "    .dataframe thead th {\n",
       "        text-align: right;\n",
       "    }\n",
       "</style>\n",
       "<table border=\"1\" class=\"dataframe\">\n",
       "  <thead>\n",
       "    <tr style=\"text-align: right;\">\n",
       "      <th></th>\n",
       "      <th>UPPER_CATEGORY</th>\n",
       "      <th>PRODUCT_CATEGORY</th>\n",
       "    </tr>\n",
       "  </thead>\n",
       "  <tbody>\n",
       "    <tr>\n",
       "      <th>0</th>\n",
       "      <td>Alcohol</td>\n",
       "      <td>[Beer, Malt Beverages, Hard Seltzers, Sodas, Waters, Lemonades &amp; Teas, Hard Ciders, Wine, Spirits]</td>\n",
       "    </tr>\n",
       "    <tr>\n",
       "      <th>1</th>\n",
       "      <td>Animals &amp; Pet Supplies</td>\n",
       "      <td>[Dog Supplies]</td>\n",
       "    </tr>\n",
       "    <tr>\n",
       "      <th>2</th>\n",
       "      <td>Baby &amp; Toddler</td>\n",
       "      <td>[Baby Bathing, Potty Training, Baby Safety, Diapering, Baby Health]</td>\n",
       "    </tr>\n",
       "    <tr>\n",
       "      <th>3</th>\n",
       "      <td>Beauty</td>\n",
       "      <td>[Cosmetic Tools, Makeup, Nail Care, Body Fragrances]</td>\n",
       "    </tr>\n",
       "    <tr>\n",
       "      <th>4</th>\n",
       "      <td>Beverages</td>\n",
       "      <td>[Coffee, Meal Replacement Beverages, Vegetable Juices, Drink Mixes, Tea, Energy Drinks, Water, Fruit Juices, Carbonated Soft Drinks]</td>\n",
       "    </tr>\n",
       "  </tbody>\n",
       "</table>\n",
       "</div>"
      ],
      "text/plain": [
       "           UPPER_CATEGORY  \\\n",
       "0                 Alcohol   \n",
       "1  Animals & Pet Supplies   \n",
       "2          Baby & Toddler   \n",
       "3                  Beauty   \n",
       "4               Beverages   \n",
       "\n",
       "                                                                                                                       PRODUCT_CATEGORY  \n",
       "0                                    [Beer, Malt Beverages, Hard Seltzers, Sodas, Waters, Lemonades & Teas, Hard Ciders, Wine, Spirits]  \n",
       "1                                                                                                                        [Dog Supplies]  \n",
       "2                                                                   [Baby Bathing, Potty Training, Baby Safety, Diapering, Baby Health]  \n",
       "3                                                                                  [Cosmetic Tools, Makeup, Nail Care, Body Fragrances]  \n",
       "4  [Coffee, Meal Replacement Beverages, Vegetable Juices, Drink Mixes, Tea, Energy Drinks, Water, Fruit Juices, Carbonated Soft Drinks]  "
      ]
     },
     "metadata": {},
     "output_type": "display_data"
    }
   ],
   "source": [
    "df_categories = pd.read_csv('categories.csv')\n",
    "print(df_categories.shape)\n",
    "\n",
    "# rename \"IS_CHILD_CATEGORY_TO\" to \"UPPER_CATEGORY\"\n",
    "df_categories.rename(columns={'IS_CHILD_CATEGORY_TO': 'UPPER_CATEGORY'}, inplace=True)\n",
    "display(df_categories.head())\n",
    "\n",
    "# group by UPPER_CATEGORY and get DISTINCT PRODUCT_CATEGORY\n",
    "grouped_df = df_categories.groupby('UPPER_CATEGORY')['PRODUCT_CATEGORY'].unique().reset_index()\n",
    "print(grouped_df.shape)\n",
    "display(grouped_df.head())"
   ]
  },
  {
   "cell_type": "code",
   "execution_count": 61,
   "metadata": {},
   "outputs": [
    {
     "name": "stdout",
     "output_type": "stream",
     "text": [
      "(9906, 3)\n"
     ]
    },
    {
     "data": {
      "text/html": [
       "<div>\n",
       "<style scoped>\n",
       "    .dataframe tbody tr th:only-of-type {\n",
       "        vertical-align: middle;\n",
       "    }\n",
       "\n",
       "    .dataframe tbody tr th {\n",
       "        vertical-align: top;\n",
       "    }\n",
       "\n",
       "    .dataframe thead th {\n",
       "        text-align: right;\n",
       "    }\n",
       "</style>\n",
       "<table border=\"1\" class=\"dataframe\">\n",
       "  <thead>\n",
       "    <tr style=\"text-align: right;\">\n",
       "      <th></th>\n",
       "      <th>BRAND</th>\n",
       "      <th>PRODUCT_CATEGORY</th>\n",
       "      <th>RECEIPTS</th>\n",
       "    </tr>\n",
       "  </thead>\n",
       "  <tbody>\n",
       "    <tr>\n",
       "      <th>0</th>\n",
       "      <td>CASEYS GEN STORE</td>\n",
       "      <td>Tobacco Products</td>\n",
       "      <td>2950931</td>\n",
       "    </tr>\n",
       "    <tr>\n",
       "      <th>1</th>\n",
       "      <td>CASEYS GEN STORE</td>\n",
       "      <td>Mature</td>\n",
       "      <td>2859240</td>\n",
       "    </tr>\n",
       "    <tr>\n",
       "      <th>2</th>\n",
       "      <td>EQUATE</td>\n",
       "      <td>Hair Removal</td>\n",
       "      <td>893268</td>\n",
       "    </tr>\n",
       "    <tr>\n",
       "      <th>3</th>\n",
       "      <td>PALMOLIVE</td>\n",
       "      <td>Bath &amp; Body</td>\n",
       "      <td>542562</td>\n",
       "    </tr>\n",
       "    <tr>\n",
       "      <th>4</th>\n",
       "      <td>DAWN</td>\n",
       "      <td>Bath &amp; Body</td>\n",
       "      <td>301844</td>\n",
       "    </tr>\n",
       "  </tbody>\n",
       "</table>\n",
       "</div>"
      ],
      "text/plain": [
       "              BRAND  PRODUCT_CATEGORY  RECEIPTS\n",
       "0  CASEYS GEN STORE  Tobacco Products   2950931\n",
       "1  CASEYS GEN STORE            Mature   2859240\n",
       "2            EQUATE      Hair Removal    893268\n",
       "3         PALMOLIVE       Bath & Body    542562\n",
       "4              DAWN       Bath & Body    301844"
      ]
     },
     "metadata": {},
     "output_type": "display_data"
    },
    {
     "name": "stdout",
     "output_type": "stream",
     "text": [
      "(118, 2)\n"
     ]
    },
    {
     "data": {
      "text/html": [
       "<div>\n",
       "<style scoped>\n",
       "    .dataframe tbody tr th:only-of-type {\n",
       "        vertical-align: middle;\n",
       "    }\n",
       "\n",
       "    .dataframe tbody tr th {\n",
       "        vertical-align: top;\n",
       "    }\n",
       "\n",
       "    .dataframe thead th {\n",
       "        text-align: right;\n",
       "    }\n",
       "</style>\n",
       "<table border=\"1\" class=\"dataframe\">\n",
       "  <thead>\n",
       "    <tr style=\"text-align: right;\">\n",
       "      <th></th>\n",
       "      <th>PRODUCT_CATEGORY</th>\n",
       "      <th>BRAND</th>\n",
       "    </tr>\n",
       "  </thead>\n",
       "  <tbody>\n",
       "    <tr>\n",
       "      <th>0</th>\n",
       "      <td>Adult Incontinence</td>\n",
       "      <td>[POISE, DEPEND, ALWAYS, WELLNESS, TENA, FIORE, ONE BY POISE]</td>\n",
       "    </tr>\n",
       "    <tr>\n",
       "      <th>1</th>\n",
       "      <td>Alfredo &amp; White Pasta Sauce</td>\n",
       "      <td>[CLASSICO, PREGO, RAGU, RAO'S, KROGER, SIMPLE TRUTH, PUBLIX, HEB]</td>\n",
       "    </tr>\n",
       "    <tr>\n",
       "      <th>2</th>\n",
       "      <td>Baby Bathing</td>\n",
       "      <td>[BABY SOFT, PREDO, GERBER, ENFAMIL, EARTH'S BEST, HAPPY BABY, PAMPERS, SPROUT, MOTT'S, JOHNSONS, SHEA MOISTURE, AVEENO BABY, BABY DOVE, HAPPY TOT, PLUM ORGANICS, SIMILAC, THE HONEST CO., NANIT, SIMPLE TRUTH, MIKU, BEECH NUT, BABY SOFT EXPRESSIONS, ORGANICS HAPPY BABY, A+D, MUNCHKIN, VIVVI &amp; BLOOM, ENFAGROW, HORIZON (WHITEWAVE FOODS), DR BROWN'S, GREENWISE, NATURE BABY CARE, NUTRAMIGEN, BABYGANICS, HOT-KID, CEREBELLY, BABY LOVE, AVEENO, SMART CARE, LUV N' CARE, LANSINOH, PIPETTE]</td>\n",
       "    </tr>\n",
       "    <tr>\n",
       "      <th>3</th>\n",
       "      <td>Baby Health</td>\n",
       "      <td>[GERBER, ENFAMIL, EARTH'S BEST, EVENFLO (EVENFLO FEEDING INC), AVENT]</td>\n",
       "    </tr>\n",
       "    <tr>\n",
       "      <th>4</th>\n",
       "      <td>Baby Safety</td>\n",
       "      <td>[PAMPERS]</td>\n",
       "    </tr>\n",
       "  </tbody>\n",
       "</table>\n",
       "</div>"
      ],
      "text/plain": [
       "              PRODUCT_CATEGORY  \\\n",
       "0           Adult Incontinence   \n",
       "1  Alfredo & White Pasta Sauce   \n",
       "2                 Baby Bathing   \n",
       "3                  Baby Health   \n",
       "4                  Baby Safety   \n",
       "\n",
       "                                                                                                                                                                                                                                                                                                                                                                                                                                                                                                 BRAND  \n",
       "0                                                                                                                                                                                                                                                                                                                                                                                                                                         [POISE, DEPEND, ALWAYS, WELLNESS, TENA, FIORE, ONE BY POISE]  \n",
       "1                                                                                                                                                                                                                                                                                                                                                                                                                                    [CLASSICO, PREGO, RAGU, RAO'S, KROGER, SIMPLE TRUTH, PUBLIX, HEB]  \n",
       "2  [BABY SOFT, PREDO, GERBER, ENFAMIL, EARTH'S BEST, HAPPY BABY, PAMPERS, SPROUT, MOTT'S, JOHNSONS, SHEA MOISTURE, AVEENO BABY, BABY DOVE, HAPPY TOT, PLUM ORGANICS, SIMILAC, THE HONEST CO., NANIT, SIMPLE TRUTH, MIKU, BEECH NUT, BABY SOFT EXPRESSIONS, ORGANICS HAPPY BABY, A+D, MUNCHKIN, VIVVI & BLOOM, ENFAGROW, HORIZON (WHITEWAVE FOODS), DR BROWN'S, GREENWISE, NATURE BABY CARE, NUTRAMIGEN, BABYGANICS, HOT-KID, CEREBELLY, BABY LOVE, AVEENO, SMART CARE, LUV N' CARE, LANSINOH, PIPETTE]  \n",
       "3                                                                                                                                                                                                                                                                                                                                                                                                                                [GERBER, ENFAMIL, EARTH'S BEST, EVENFLO (EVENFLO FEEDING INC), AVENT]  \n",
       "4                                                                                                                                                                                                                                                                                                                                                                                                                                                                                            [PAMPERS]  "
      ]
     },
     "metadata": {},
     "output_type": "display_data"
    }
   ],
   "source": [
    "df_brand_to_category = pd.read_csv('brand_category.csv')\n",
    "df2 = df_brand_to_category\n",
    "print(df2.shape)\n",
    "# display(df2.head())\n",
    "\n",
    "# rename \"IS_CHILD_CATEGORY_TO\" to \"UPPER_CATEGORY\"\n",
    "df2.rename(columns={'BRAND_BELONGS_TO_CATEGORY': 'PRODUCT_CATEGORY'}, inplace=True)\n",
    "display(df2.head())\n",
    "\n",
    "# group by UPPER_CATEGORY and get DISTINCT PRODUCT_CATEGORY\n",
    "grouped_df = df2.groupby('PRODUCT_CATEGORY')['BRAND'].unique().reset_index()\n",
    "print(grouped_df.shape)\n",
    "display(grouped_df.head())"
   ]
  },
  {
   "cell_type": "code",
   "execution_count": 62,
   "metadata": {},
   "outputs": [
    {
     "name": "stdout",
     "output_type": "stream",
     "text": [
      "Original length of category_dict: 118\n",
      "Cleaned length of category_dict: 118\n"
     ]
    }
   ],
   "source": [
    "# generate a dictionary of UPPER_CATEGORY (key) and PRODUCT_CATEGORY (value)'\n",
    "category_dict = {row['PRODUCT_CATEGORY']: row['BRAND'].tolist() for index, row in grouped_df.iterrows()}\n",
    "\n",
    "# change all keys in category_dict to upper case\n",
    "category_dict = {k.upper(): v for k, v in category_dict.items()}\n",
    "\n",
    "# clear all non-str values for all keys, values in category_dict\n",
    "print(f'Original length of category_dict: {len(category_dict)}')\n",
    "category_dict_cleaned = {k: [i for i in v if isinstance(i, str)] for k, v in category_dict.items()}\n",
    "print(f'Cleaned length of category_dict: {len(category_dict_cleaned)}')\n",
    "\n",
    "# write to json\n",
    "import json\n",
    "with open('brand_belong_category_dict.json', 'w') as fp:\n",
    "    json.dump(category_dict_cleaned, fp)"
   ]
  },
  {
   "cell_type": "code",
   "execution_count": 36,
   "metadata": {},
   "outputs": [
    {
     "data": {
      "text/plain": [
       "True"
      ]
     },
     "execution_count": 36,
     "metadata": {},
     "output_type": "execute_result"
    }
   ],
   "source": []
  },
  {
   "cell_type": "code",
   "execution_count": null,
   "metadata": {},
   "outputs": [],
   "source": []
  }
 ],
 "metadata": {
  "kernelspec": {
   "display_name": "base",
   "language": "python",
   "name": "python3"
  },
  "language_info": {
   "codemirror_mode": {
    "name": "ipython",
    "version": 3
   },
   "file_extension": ".py",
   "mimetype": "text/x-python",
   "name": "python",
   "nbconvert_exporter": "python",
   "pygments_lexer": "ipython3",
   "version": "3.11.5"
  }
 },
 "nbformat": 4,
 "nbformat_minor": 2
}
