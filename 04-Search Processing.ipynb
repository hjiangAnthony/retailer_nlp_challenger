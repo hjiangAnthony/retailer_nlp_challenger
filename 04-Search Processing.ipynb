{
 "cells": [
  {
   "cell_type": "code",
   "execution_count": 1,
   "metadata": {},
   "outputs": [],
   "source": [
    "import pandas as pd\n",
    "import numpy as np\n",
    "\n",
    "from spacy.tokens import DocBin\n",
    "import srsly\n",
    "import spacy\n",
    "from spacy.training import offsets_to_biluo_tags\n",
    "\n",
    "pd.set_option('display.max_colwidth', None)"
   ]
  },
  {
   "cell_type": "code",
   "execution_count": 2,
   "metadata": {},
   "outputs": [
    {
     "name": "stderr",
     "output_type": "stream",
     "text": [
      "/Users/anthony/anaconda3/lib/python3.11/site-packages/spacy_transformers/layers/hf_shim.py:137: UserWarning: Error loading saved torch state_dict with strict=True, likely due to differences between 'transformers' versions. Attempting to load with strict=False as a fallback...\n",
      "\n",
      "If you see errors or degraded performance, download a newer compatible model or retrain your custom model with the current 'transformers' and 'spacy-transformers' versions. For more details and available updates, run: python -m spacy validate\n",
      "  warnings.warn(warn_msg)\n"
     ]
    }
   ],
   "source": [
    "# Importing as module.\n",
    "import en_fetch_ner_spacy_tsf\n",
    "nlp = en_fetch_ner_spacy_tsf.load()"
   ]
  },
  {
   "cell_type": "code",
   "execution_count": 3,
   "metadata": {},
   "outputs": [],
   "source": [
    "import os, pickle, json\n",
    "\n",
    "path1 = \"data/brand_belong_category_dict.json\"\n",
    "path2 = \"data/offered_brands.pkl\"\n",
    "\n",
    "with open(path1, 'r') as f:\n",
    "    brand_belong_category_dict = json.load(f)\n",
    "\n",
    "with open(path2, 'rb') as f:\n",
    "    offered_brands = pickle.load(f)"
   ]
  },
  {
   "cell_type": "code",
   "execution_count": 12,
   "metadata": {},
   "outputs": [
    {
     "data": {
      "text/html": [
       "<div>\n",
       "<style scoped>\n",
       "    .dataframe tbody tr th:only-of-type {\n",
       "        vertical-align: middle;\n",
       "    }\n",
       "\n",
       "    .dataframe tbody tr th {\n",
       "        vertical-align: top;\n",
       "    }\n",
       "\n",
       "    .dataframe thead th {\n",
       "        text-align: right;\n",
       "    }\n",
       "</style>\n",
       "<table border=\"1\" class=\"dataframe\">\n",
       "  <thead>\n",
       "    <tr style=\"text-align: right;\">\n",
       "      <th></th>\n",
       "      <th>OFFER</th>\n",
       "      <th>RETAILER</th>\n",
       "      <th>BRAND</th>\n",
       "    </tr>\n",
       "  </thead>\n",
       "  <tbody>\n",
       "    <tr>\n",
       "      <th>0</th>\n",
       "      <td>Spend $50 on a Full-Priced new Club Membership</td>\n",
       "      <td>SAMS CLUB</td>\n",
       "      <td>SAMS CLUB</td>\n",
       "    </tr>\n",
       "    <tr>\n",
       "      <th>1</th>\n",
       "      <td>Beyond Meat® Plant-Based products, spend $25</td>\n",
       "      <td>NaN</td>\n",
       "      <td>BEYOND MEAT</td>\n",
       "    </tr>\n",
       "    <tr>\n",
       "      <th>2</th>\n",
       "      <td>Good Humor Viennetta Frozen Vanilla Cake</td>\n",
       "      <td>NaN</td>\n",
       "      <td>GOOD HUMOR</td>\n",
       "    </tr>\n",
       "    <tr>\n",
       "      <th>3</th>\n",
       "      <td>Butterball, select varieties, spend $10 at Dillons Food Store</td>\n",
       "      <td>DILLONS FOOD STORE</td>\n",
       "      <td>BUTTERBALL</td>\n",
       "    </tr>\n",
       "    <tr>\n",
       "      <th>4</th>\n",
       "      <td>GATORADE® Fast Twitch®, 12-ounce 12 pack, at Amazon Storefront*</td>\n",
       "      <td>AMAZON</td>\n",
       "      <td>GATORADE</td>\n",
       "    </tr>\n",
       "  </tbody>\n",
       "</table>\n",
       "</div>"
      ],
      "text/plain": [
       "                                                             OFFER  \\\n",
       "0                   Spend $50 on a Full-Priced new Club Membership   \n",
       "1                     Beyond Meat® Plant-Based products, spend $25   \n",
       "2                         Good Humor Viennetta Frozen Vanilla Cake   \n",
       "3    Butterball, select varieties, spend $10 at Dillons Food Store   \n",
       "4  GATORADE® Fast Twitch®, 12-ounce 12 pack, at Amazon Storefront*   \n",
       "\n",
       "             RETAILER        BRAND  \n",
       "0           SAMS CLUB    SAMS CLUB  \n",
       "1                 NaN  BEYOND MEAT  \n",
       "2                 NaN   GOOD HUMOR  \n",
       "3  DILLONS FOOD STORE   BUTTERBALL  \n",
       "4              AMAZON     GATORADE  "
      ]
     },
     "execution_count": 12,
     "metadata": {},
     "output_type": "execute_result"
    }
   ],
   "source": [
    "df_offers_brand_retailer = pd.read_csv('data/offer_retailer.csv')\n",
    "df_offers_brand_retailer.head()"
   ]
  },
  {
   "cell_type": "markdown",
   "metadata": {},
   "source": [
    "Assumptions:\n",
    "- search input will be simple sentences or keywords (e.g. `beer`, or `beers discount Amazon`)\n",
    "- users won't serach upper_category because the APP already has UI for them to filter\n",
    "- `PRODUCT_CATEGORY` are not to spefici brands, so a customer might search `beer` or `white beer`\n",
    "- the search functions I am using will clean the text to lower case. This is because I don't know if the `PRODUCT_CATEGORY` data gives me the write permission\n",
    "\n",
    "Notes about main() function:\n",
    "- if we have a category and we want to recommend offers within the same category, we have to know what BRANDS one category has and then filter out the offers associated with the brands\n",
    "\n",
    "Issues with dataset:\n",
    "- `Alchol` should be renamed as drinks. It contains more than alcholic drinks `[Beer, Malt Beverages, Hard Seltzers, Sodas, Waters, Lemonades & Teas, Hard Ciders, Wine, Spirits]`"
   ]
  },
  {
   "cell_type": "markdown",
   "metadata": {},
   "source": [
    "## Helper functions"
   ]
  },
  {
   "cell_type": "code",
   "execution_count": 4,
   "metadata": {},
   "outputs": [
    {
     "name": "stderr",
     "output_type": "stream",
     "text": [
      "[nltk_data] Downloading package stopwords to\n",
      "[nltk_data]     /Users/anthony/nltk_data...\n",
      "[nltk_data]   Package stopwords is already up-to-date!\n"
     ]
    }
   ],
   "source": [
    "import nltk\n",
    "nltk.download('stopwords')\n",
    "from nltk.corpus import stopwords\n",
    "stop_words = set(stopwords.words('english'))\n",
    "\n",
    "# additional_stop_words = {'my', 'additional', 'stopword'}\n",
    "# stop_words.update(additional_stop_words)\n"
   ]
  },
  {
   "cell_type": "code",
   "execution_count": 30,
   "metadata": {},
   "outputs": [],
   "source": [
    "# helper functions\n",
    "from typing import List, Dict, Tuple\n",
    "import re\n",
    "\n",
    "from sklearn.feature_extraction.text import CountVectorizer\n",
    "from sklearn.metrics.pairwise import cosine_similarity\n",
    "\n",
    "def single_text_cleaner(text: str, remove_stopwords: bool=False, upper_case: bool = False, remove_punctuation: bool=True) -> str:\n",
    "    \"\"\"Clean one single text input. By default it will convert text to lower case\"\"\"\n",
    "    if upper_case:\n",
    "        text = text.upper()\n",
    "    else:\n",
    "        text = text.lower()\n",
    "    if remove_punctuation:\n",
    "        text = re.sub(r'[^a-z\\s]', '', text)\n",
    "    if remove_stopwords:\n",
    "        words = text.split()\n",
    "        words = [word for word in words if word not in stop_words]\n",
    "        text = ' '.join(words)\n",
    "    return text\n",
    "\n",
    "def list_text_cleaner(texts: List[str], upper_case: bool = False, remove_stopwords: bool = False, remove_punctuation: bool=True) -> List[str]:\n",
    "    \"\"\"Takes in a list of strings and returns a list of cleaned strings without stop words. \n",
    "    Current tasks: \n",
    "    - remove non-alphabetical characters\n",
    "    - converting to lower cases\n",
    "    - remove stop words (optional)\"\"\"\n",
    "    cleaned_texts = [single_text_cleaner(text, remove_stopwords, upper_case, remove_punctuation) for text in texts]\n",
    "    return cleaned_texts\n",
    "\n",
    "def match_product_category(s1: list[str], s2: list[str]) -> str:\n",
    "    \"\"\"Find if items of a list is in one list of product categories\"\"\"\n",
    "    return next((p for c in s1 for p in s2 if c in p), None) # this will stop after finding first match, which saves time\n",
    "\n",
    "def find_category(search_input: str, search_dict: Dict) -> str:\n",
    "    \"\"\"Find the category of a search input based on a dictionary of categories\"\"\"\n",
    "    search_list = list_text_cleaner(re.split(r'[,\\s]+', search_input), remove_stopwords=False) # because v's in search_dict are in upper case\n",
    "    for k, v in search_dict.items():\n",
    "        v = list_text_cleaner(v, remove_punctuation=False)\n",
    "        search_results = match_product_category(search_list, v)\n",
    "        if search_results is not None:\n",
    "            return k, search_results\n",
    "        else:\n",
    "            print(f'Function find_category: No category is matched for input: {search_input}')\n",
    "            return None\n",
    "\n",
    "def check_entity(search_input) -> bool:\n",
    "    \"\"\"Takes in a search input and checks if it contains any entities\"\"\"\n",
    "    doc = nlp(search_input)\n",
    "    if len(doc.ents) > 0:\n",
    "        return doc\n",
    "    else:\n",
    "        return False\n",
    "\n",
    "def get_cosine_sim(input_text: str, texts: List[str]) -> pd.DataFrame:\n",
    "    \"\"\"Calculate the cosine similarity of the input text against a list of texts\n",
    "    Takes in:\n",
    "    - input_text: a string\n",
    "    - texts: a list of strings\n",
    "    Returns a dataframe with two columns: Sentence Text and Cosine Similarity Score\n",
    "    \"\"\"\n",
    "    input_text_cleaned = list_text_cleaner([input_text], remove_stopwords=True)[0]\n",
    "    cleaned_texts = list_text_cleaner(texts, remove_stopwords=True)\n",
    "    all_texts = [input_text_cleaned] + cleaned_texts\n",
    "    vectors = get_vectors(*all_texts)\n",
    "    sim_matrix = cosine_similarity(vectors)\n",
    "    # Get the similarity scores of the input_text against all other texts\n",
    "    sim_scores = sim_matrix[0, 1:]\n",
    "    data = {'OFFER': texts, 'Cosine Similarity Score': sim_scores}\n",
    "    df = pd.DataFrame(data)\n",
    "    df = df.sort_values(by='Cosine Similarity Score', ascending=False).reset_index(drop=True)\n",
    "    return df\n",
    "\n",
    "def get_vectors(*strs: str) -> np.ndarray:\n",
    "    text = list(strs)\n",
    "    vectorizer = CountVectorizer()\n",
    "    vectorizer.fit(text)\n",
    "    return vectorizer.transform(text).toarray()\n",
    "\n",
    "def jaccard_similarity(s1: List[str], s2: List[str]) -> float:\n",
    "    \"\"\"Takes in two lists and returns the Jaccard similarity score (3 digits)\"\"\"\n",
    "    intersection = set(s1).intersection(set(s2))\n",
    "    n = len(intersection)\n",
    "    score = round(n / (len(s1) + len(s2) - n), 3)\n",
    "    return score\n",
    "\n",
    "def get_jaccard_sim(input_text: str, texts: List[str]) -> pd.DataFrame:\n",
    "    \"\"\"Calculate the Jaccard similarity of the input text against a list of texts\n",
    "    Takes in:\n",
    "    - input_text: a string\n",
    "    - texts: a list of strings\n",
    "    Returns a dataframe with two columns: Sentence Text and Jaccard Similarity Score\n",
    "    \"\"\"\n",
    "    cleaned_input_text = list_text_cleaner([input_text], remove_stopwords=True)[0].split()\n",
    "    cleaned_texts = list_text_cleaner(texts, remove_stopwords=True)\n",
    "    \n",
    "    jaccard_scores = [jaccard_similarity(cleaned_input_text, text.split()) for text in cleaned_texts]\n",
    "    \n",
    "    data = {'OFFER': texts, 'Jaccard Similarity Score': jaccard_scores}\n",
    "    df = pd.DataFrame(data)\n",
    "    # sort based on the similarity score\n",
    "    df = df.sort_values(by='Jaccard Similarity Score', ascending=False).reset_index(drop=True)\n",
    "    return df\n",
    "\n",
    "def find_column(df: pd.DataFrame, keyword: str) -> str:\n",
    "    \"\"\"Function to find the first column containing a specific keyword. Note that we assume there will only be one score at most for a similarity score dataframe\"\"\"\n",
    "    cols = [col for col in df.columns if keyword.lower() in col.lower()]\n",
    "    return cols[0] if cols else None\n",
    "\n",
    "def extract_similar_offers(data: pd.DataFrame, threshold: float = 0.0) -> pd.DataFrame:\n",
    "    \"\"\"Takes in the results from get_cosine_sim() and get_jaccard_sim(); returns a dataframe of similar offers with scores > threshold\"\"\"\n",
    "    score = find_column(data, 'score')\n",
    "    similar_offers = data[data[score] >= threshold]\n",
    "    return similar_offers\n",
    "\n",
    "def category_to_brand(category: str, offered_brands: List, brand_belong_category_dict: Dict) -> List[str]:\n",
    "    \"\"\"Use case: when a user searches for a category, we return a list of brands in that category\"\"\"\n",
    "    search_brands = brand_belong_category_dict[category.upper()] # becase all keys are in upper case\n",
    "    result = list(set(search_brands) & set(offered_brands))\n",
    "    if len(result) > 0:\n",
    "        print(f\"Function category_to_brand | Found {category} in offered brand\") \n",
    "        return result \n",
    "    else:\n",
    "        print(f\"Function category_to_brand | No offered brand is found in {category}\")\n",
    "        return None\n",
    "\n",
    "# def offer_finder_by_score(df1: pd.DataFrame, df2: pd.DataFrame, threshold: float = 0.0) -> pd.DataFrame:\n",
    "#     \"\"\"Part of the main function when we calculated two scores (cos and jaccard). \n",
    "#     Takes in two dataframes and return a dataframe of offers with the top 10 rows with highest score from each dataframe\"\"\"\n",
    "#     offer1 = extract_similar_offers(df1, threshold)['OFFER']\n",
    "#     offer2 = extract_similar_offers(df2, threshold)['OFFER']\n",
    "#     output = pd.concat([df1, df2])\n",
    "#     return output\n",
    "\n",
    "class CatchErros(Exception):\n",
    "    class ParamsInputError(Exception):\n",
    "        pass\n",
    "    class SearchFailedError(Exception):\n",
    "        pass\n",
    "\n",
    "\n",
    "def offer_finder_by_category(search_input: str, search_category_tuple: Tuple, offers: pd.DataFrame, category_dict: Dict, offered_brands: List, \n",
    "                             brand_belong_category_dict: Dict, score: str, threshold: float = 0.0) -> pd.DataFrame:\n",
    "    # we assume people just search one category at a time\n",
    "    # search_category_tuple = find_category(search_input, category_dict)\n",
    "    product_category, upper_category = search_category_tuple[1], search_category_tuple[0] # ('Alcohol', 'beer')\n",
    "    print(f'Function offer_finder_by_category | Found items:\\n- Search input: {search_input}\\n- Product category: {product_category}\\n- Upper category: {upper_category}')\n",
    "    potential_brands = category_to_brand(product_category, offered_brands, brand_belong_category_dict)\n",
    "    if potential_brands is not None:\n",
    "        potential_offers = offers[offers['BRAND'].isin(potential_brands)]['OFFER'].tolist()\n",
    "        if score == 'cosine':\n",
    "            cos_sim_score = get_cosine_sim(search_input, potential_offers)\n",
    "            output = extract_similar_offers(cos_sim_score, threshold)\n",
    "        elif score == 'jaccard':\n",
    "            jaccard_sim_score = get_jaccard_sim(search_input, potential_offers)\n",
    "            output = extract_similar_offers(jaccard_sim_score, threshold)\n",
    "        elif score not in ['cosine', 'jaccard']:\n",
    "            raise ValueError(f'Please enter a valid score: cosine or jaccard; Not {score}')\n",
    "        else: # this means something else is worng\n",
    "            raise UnknownError(f'Something must be broken. Please try again.')\n",
    "        return output\n",
    "    else:\n",
    "        potential_product_categories = category_dict[upper_category]\n",
    "        msg = f'{product_category} is not found. Do you wanna take a look at these similar offers in {upper_category}?\\n We have: {potential_product_categories}' # we can still calculate similarity but this is computationally expensive\n",
    "        print(msg)\n",
    "        return None\n",
    "\n",
    "def offer_finder_by_entity(search_input: str, entities: Tuple, offers_data: pd.DataFrame, score: str, threshold: float=0.0) -> pd.DataFrame:\n",
    "    \"\"\"Find offers based on entities identified from search input.\n",
    "    Takes in a search input, a dataframe of offers, and a score type (cosine or jaccard)\n",
    "    Returns a dataframe of offers with the top 10 rows, ordered by highest score\n",
    "    \"\"\"\n",
    "    for ent in entities:\n",
    "        ent_name, ent_label = ent.text, ent.label_\n",
    "        print(f'Function offer_finder_by_entity | Found entity: {ent_name} with label: {ent_label}')\n",
    "        # filter offers by entity\n",
    "        df_tmp = offers_data[offers_data[ent_label.upper()] == ent_name.upper()]\n",
    "        if df_tmp.shape[0] > 0:\n",
    "            print(f'Function offer_finder_by_entity | Found {df_tmp.shape[0]} offer(s) for the brand/retailer: {ent_name}')\n",
    "            potential_offers = df_tmp['OFFER'].drop_duplicates().tolist()\n",
    "            if score == 'cosine':\n",
    "                cos_sim_score = get_cosine_sim(search_input, potential_offers)\n",
    "                output = extract_similar_offers(cos_sim_score, threshold)\n",
    "            elif score == 'jaccard':\n",
    "                jaccard_sim_score = get_jaccard_sim(search_input, potential_offers)\n",
    "                output = extract_similar_offers(jaccard_sim_score, threshold)\n",
    "            elif score not in ['cosine', 'jaccard']:\n",
    "                raise ValueError(f'Please enter a valid score: cosine or jaccard; Not {score}')\n",
    "            else: # this means something else is worng\n",
    "                raise UnknownError(f'Something must be broken. Please try again.')\n",
    "            return output\n",
    "        else:\n",
    "            print(f'Function offer_finder_by_entity | No offer is found for the brand/retailer: {ent_name}')\n",
    "            return None\n",
    "\n",
    "# def main(search_input: str, offers: pd.DataFrame, category_dict: Dict, score_threshold: float = 0.0):\n",
    "#     \"\"\"Main function. Takes in a serach_input and decide whether it can find entities or not. Then excecute the appropriate functions\"\"\"\n",
    "#     check_ent = check_entity(search_input)\n",
    "#     if check_entity(search_input) is None:\n",
    "#        # check category\n",
    "#        cat_check = find_category(search_input, category_dict)\n",
    "#        if cat_check is None:\n",
    "#            raise SearchFailedError('No brand/retailer/category is found. Please try again.')\n",
    "#        else:\n",
    "#             # we assume people just search one category at a time\n",
    "#             cat_tuple = cat_check # ('Alcohol', 'beer')\n",
    "#             search_results = offer_finder_by_category(search_input, category_dict, cat_tuple, score_threshold)           \n",
    "#             return search_results\n",
    "#     else:\n",
    "#         entities = check_ent.ents # entities will be a tuple anyways\n",
    "#         print(f'Found {len(entities)} entity object(s) in the search input.')\n",
    "#         search_results = offer_finder_by_entity(entities, offers, score_threshold)\n",
    "            \n",
    "            "
   ]
  },
  {
   "cell_type": "code",
   "execution_count": 13,
   "metadata": {},
   "outputs": [
    {
     "data": {
      "text/html": [
       "<div>\n",
       "<style scoped>\n",
       "    .dataframe tbody tr th:only-of-type {\n",
       "        vertical-align: middle;\n",
       "    }\n",
       "\n",
       "    .dataframe tbody tr th {\n",
       "        vertical-align: top;\n",
       "    }\n",
       "\n",
       "    .dataframe thead th {\n",
       "        text-align: right;\n",
       "    }\n",
       "</style>\n",
       "<table border=\"1\" class=\"dataframe\">\n",
       "  <thead>\n",
       "    <tr style=\"text-align: right;\">\n",
       "      <th></th>\n",
       "      <th>OFFER</th>\n",
       "      <th>RETAILER</th>\n",
       "      <th>BRAND</th>\n",
       "    </tr>\n",
       "  </thead>\n",
       "  <tbody>\n",
       "    <tr>\n",
       "      <th>0</th>\n",
       "      <td>Spend $50 on a Full-Priced new Club Membership</td>\n",
       "      <td>SAMS CLUB</td>\n",
       "      <td>SAMS CLUB</td>\n",
       "    </tr>\n",
       "    <tr>\n",
       "      <th>1</th>\n",
       "      <td>Beyond Meat® Plant-Based products, spend $25</td>\n",
       "      <td>NaN</td>\n",
       "      <td>BEYOND MEAT</td>\n",
       "    </tr>\n",
       "    <tr>\n",
       "      <th>2</th>\n",
       "      <td>Good Humor Viennetta Frozen Vanilla Cake</td>\n",
       "      <td>NaN</td>\n",
       "      <td>GOOD HUMOR</td>\n",
       "    </tr>\n",
       "    <tr>\n",
       "      <th>3</th>\n",
       "      <td>Butterball, select varieties, spend $10 at Dillons Food Store</td>\n",
       "      <td>DILLONS FOOD STORE</td>\n",
       "      <td>BUTTERBALL</td>\n",
       "    </tr>\n",
       "    <tr>\n",
       "      <th>4</th>\n",
       "      <td>GATORADE® Fast Twitch®, 12-ounce 12 pack, at Amazon Storefront*</td>\n",
       "      <td>AMAZON</td>\n",
       "      <td>GATORADE</td>\n",
       "    </tr>\n",
       "  </tbody>\n",
       "</table>\n",
       "</div>"
      ],
      "text/plain": [
       "                                                             OFFER  \\\n",
       "0                   Spend $50 on a Full-Priced new Club Membership   \n",
       "1                     Beyond Meat® Plant-Based products, spend $25   \n",
       "2                         Good Humor Viennetta Frozen Vanilla Cake   \n",
       "3    Butterball, select varieties, spend $10 at Dillons Food Store   \n",
       "4  GATORADE® Fast Twitch®, 12-ounce 12 pack, at Amazon Storefront*   \n",
       "\n",
       "             RETAILER        BRAND  \n",
       "0           SAMS CLUB    SAMS CLUB  \n",
       "1                 NaN  BEYOND MEAT  \n",
       "2                 NaN   GOOD HUMOR  \n",
       "3  DILLONS FOOD STORE   BUTTERBALL  \n",
       "4              AMAZON     GATORADE  "
      ]
     },
     "execution_count": 13,
     "metadata": {},
     "output_type": "execute_result"
    }
   ],
   "source": [
    "df_offers_brand_retailer.head()"
   ]
  },
  {
   "cell_type": "code",
   "execution_count": null,
   "metadata": {},
   "outputs": [],
   "source": [
    "# text = \"Klondike Cones at Walmart\"\n",
    "# test = \"Simply Spiked Lemonade 12 pack\"\n",
    "test  = \"Lemonade 12 pack\"\n",
    "\n",
    "\n",
    "# # check_entity(text)\n",
    "# cat_tuple = find_category(test, category_dict)\n",
    "# # category_to_brand(cat_tuple[1], offered_brands, brand_belong_category_dict)\n",
    "\n",
    "# # offer_finder_by_category(test, cat_tuple, df_offers, category_dict, offered_brands, brand_belong_category_dict, 'jaccard', 0.0)\n",
    "# offer_finder_by_category(test, cat_tuple, df_offers, category_dict, offered_brands, brand_belong_category_dict, 'cosine', 0.0)"
   ]
  },
  {
   "cell_type": "code",
   "execution_count": null,
   "metadata": {},
   "outputs": [],
   "source": [
    "test = \"Simply Spiked Lemonade 12 pack\"\n",
    "main(test, df_offers, category_dict, 0.0)"
   ]
  },
  {
   "cell_type": "code",
   "execution_count": 31,
   "metadata": {},
   "outputs": [
    {
     "name": "stdout",
     "output_type": "stream",
     "text": [
      "Function offer_finder_by_entity | Found entity: Simply Spiked with label: BRAND\n",
      "Function offer_finder_by_entity | Found 4 offer(s) for the brand/retailer: Simply Spiked\n"
     ]
    },
    {
     "data": {
      "text/html": [
       "<div>\n",
       "<style scoped>\n",
       "    .dataframe tbody tr th:only-of-type {\n",
       "        vertical-align: middle;\n",
       "    }\n",
       "\n",
       "    .dataframe tbody tr th {\n",
       "        vertical-align: top;\n",
       "    }\n",
       "\n",
       "    .dataframe thead th {\n",
       "        text-align: right;\n",
       "    }\n",
       "</style>\n",
       "<table border=\"1\" class=\"dataframe\">\n",
       "  <thead>\n",
       "    <tr style=\"text-align: right;\">\n",
       "      <th></th>\n",
       "      <th>OFFER</th>\n",
       "      <th>Cosine Similarity Score</th>\n",
       "    </tr>\n",
       "  </thead>\n",
       "  <tbody>\n",
       "    <tr>\n",
       "      <th>0</th>\n",
       "      <td>Simply Spiked™ Lemonade 12 pack+</td>\n",
       "      <td>1.000000</td>\n",
       "    </tr>\n",
       "    <tr>\n",
       "      <th>1</th>\n",
       "      <td>Simply Spiked™ 12 pack+</td>\n",
       "      <td>0.866025</td>\n",
       "    </tr>\n",
       "    <tr>\n",
       "      <th>2</th>\n",
       "      <td>Simply Spiked™ Signature Peach 12 pack+</td>\n",
       "      <td>0.670820</td>\n",
       "    </tr>\n",
       "    <tr>\n",
       "      <th>3</th>\n",
       "      <td>Simply Spiked™ Signature Peach 12-pack or larger, buy 2</td>\n",
       "      <td>0.566947</td>\n",
       "    </tr>\n",
       "  </tbody>\n",
       "</table>\n",
       "</div>"
      ],
      "text/plain": [
       "                                                     OFFER  \\\n",
       "0                         Simply Spiked™ Lemonade 12 pack+   \n",
       "1                                  Simply Spiked™ 12 pack+   \n",
       "2                  Simply Spiked™ Signature Peach 12 pack+   \n",
       "3  Simply Spiked™ Signature Peach 12-pack or larger, buy 2   \n",
       "\n",
       "   Cosine Similarity Score  \n",
       "0                 1.000000  \n",
       "1                 0.866025  \n",
       "2                 0.670820  \n",
       "3                 0.566947  "
      ]
     },
     "execution_count": 31,
     "metadata": {},
     "output_type": "execute_result"
    }
   ],
   "source": [
    "test = \"Simply Spiked Lemonade 12 pack\"\n",
    "check_ent = check_entity(test)\n",
    "entities = check_ent.ents\n",
    "\n",
    "offer_finder_by_entity(test, entities, df_offers_brand_retailer, 'cosine')"
   ]
  },
  {
   "cell_type": "code",
   "execution_count": null,
   "metadata": {},
   "outputs": [],
   "source": []
  },
  {
   "cell_type": "markdown",
   "metadata": {},
   "source": [
    "## Playground to test"
   ]
  },
  {
   "cell_type": "markdown",
   "metadata": {},
   "source": [
    "### Functions test"
   ]
  },
  {
   "cell_type": "code",
   "execution_count": 310,
   "metadata": {},
   "outputs": [
    {
     "data": {
      "text/plain": [
       "('Alcohol', 'beer')"
      ]
     },
     "execution_count": 310,
     "metadata": {},
     "output_type": "execute_result"
    }
   ],
   "source": [
    "# test case: find category\n",
    "\n",
    "test1 = \"White German Beer\"\n",
    "test2 = [\"Beer\", \"Malt Beverages\", \"Hard Seltzers\", \"Sodas\", \"Waters\", \"Lemonades & Teas\", \"Hard Ciders\", \"Wine\", \"Spirits\"]\n",
    "\n",
    "find_category(test1, category_dict)\n"
   ]
  },
  {
   "cell_type": "code",
   "execution_count": 380,
   "metadata": {},
   "outputs": [
    {
     "data": {
      "text/html": [
       "<span class=\"tex2jax_ignore\"><div class=\"entities\" style=\"line-height: 2.5; direction: ltr\">\n",
       "<mark class=\"entity\" style=\"background: #ddd; padding: 0.45em 0.6em; margin: 0 0.25em; line-height: 1; border-radius: 0.35em;\">\n",
       "    Klondike\n",
       "    <span style=\"font-size: 0.8em; font-weight: bold; line-height: 1; border-radius: 0.35em; vertical-align: middle; margin-left: 0.5rem\">BRAND</span>\n",
       "</mark>\n",
       " Cones at \n",
       "<mark class=\"entity\" style=\"background: #ddd; padding: 0.45em 0.6em; margin: 0 0.25em; line-height: 1; border-radius: 0.35em;\">\n",
       "    Walmart\n",
       "    <span style=\"font-size: 0.8em; font-weight: bold; line-height: 1; border-radius: 0.35em; vertical-align: middle; margin-left: 0.5rem\">RETAILER</span>\n",
       "</mark>\n",
       "</div></span>"
      ],
      "text/plain": [
       "<IPython.core.display.HTML object>"
      ]
     },
     "metadata": {},
     "output_type": "display_data"
    }
   ],
   "source": [
    "test_text = \"Klondike Cones at Walmart\"\n",
    "# test_text = \"Klondike Cones\"\n",
    "# test_test = \"M&M's candy discount at Target\"\n",
    "\n",
    "\n",
    "doc = nlp(test_text)\n",
    "spacy.displacy.render(doc, style=\"ent\", jupyter=True) # display in Jupyter"
   ]
  },
  {
   "cell_type": "code",
   "execution_count": 381,
   "metadata": {},
   "outputs": [
    {
     "name": "stdout",
     "output_type": "stream",
     "text": [
      "Entity: Klondike | Label: BRAND\n",
      "Entity: Walmart | Label: RETAILER\n"
     ]
    }
   ],
   "source": [
    "# [(ent.text, ent.label_) for ent in text.ents]\n",
    "\n",
    "# len(check_entity(test_text).ents)\n",
    "\n",
    "# type(check_entity(test_text).ents)\n",
    "\n",
    "for ent in doc.ents:\n",
    "    print(f'Entity: {ent.text} | Label: {ent.label_}')"
   ]
  },
  {
   "cell_type": "code",
   "execution_count": 128,
   "metadata": {},
   "outputs": [
    {
     "data": {
      "text/html": [
       "<div>\n",
       "<style scoped>\n",
       "    .dataframe tbody tr th:only-of-type {\n",
       "        vertical-align: middle;\n",
       "    }\n",
       "\n",
       "    .dataframe tbody tr th {\n",
       "        vertical-align: top;\n",
       "    }\n",
       "\n",
       "    .dataframe thead th {\n",
       "        text-align: right;\n",
       "    }\n",
       "</style>\n",
       "<table border=\"1\" class=\"dataframe\">\n",
       "  <thead>\n",
       "    <tr style=\"text-align: right;\">\n",
       "      <th></th>\n",
       "      <th>OFFER</th>\n",
       "      <th>Cosine Similarity Score</th>\n",
       "    </tr>\n",
       "  </thead>\n",
       "  <tbody>\n",
       "    <tr>\n",
       "      <th>0</th>\n",
       "      <td>When you join Costco as a Gold Star Member</td>\n",
       "      <td>0.316228</td>\n",
       "    </tr>\n",
       "    <tr>\n",
       "      <th>1</th>\n",
       "      <td>Sara Lee bread, select varieties, buy 2 at Walmart</td>\n",
       "      <td>0.000000</td>\n",
       "    </tr>\n",
       "    <tr>\n",
       "      <th>2</th>\n",
       "      <td>Back to the Roots Garden Soil, 1 cubic foot, at Lowe's Home Improvement</td>\n",
       "      <td>0.000000</td>\n",
       "    </tr>\n",
       "    <tr>\n",
       "      <th>3</th>\n",
       "      <td>this is the fourth text</td>\n",
       "      <td>0.000000</td>\n",
       "    </tr>\n",
       "  </tbody>\n",
       "</table>\n",
       "</div>"
      ],
      "text/plain": [
       "                                                                     OFFER  \\\n",
       "0                               When you join Costco as a Gold Star Member   \n",
       "1                       Sara Lee bread, select varieties, buy 2 at Walmart   \n",
       "2  Back to the Roots Garden Soil, 1 cubic foot, at Lowe's Home Improvement   \n",
       "3                                                  this is the fourth text   \n",
       "\n",
       "   Cosine Similarity Score  \n",
       "0                 0.316228  \n",
       "1                 0.000000  \n",
       "2                 0.000000  \n",
       "3                 0.000000  "
      ]
     },
     "execution_count": 128,
     "metadata": {},
     "output_type": "execute_result"
    }
   ],
   "source": [
    "# test on Cosine Similarity for search_offer comparison\n",
    "\n",
    "input_text = \"Membership at Costco\"\n",
    "texts = [\"Sara Lee bread, select varieties, buy 2 at Walmart\", \n",
    "         \"Back to the Roots Garden Soil, 1 cubic foot, at Lowe's Home Improvement\", \n",
    "         \"When you join Costco as a Gold Star Member\", \n",
    "         \"this is the fourth text\"]\n",
    "\n",
    "cosine_sim_scores = get_cosine_sim(input_text, texts)\n",
    "cosine_sim_scores"
   ]
  },
  {
   "cell_type": "code",
   "execution_count": 129,
   "metadata": {},
   "outputs": [
    {
     "data": {
      "text/plain": [
       "0                                 When you join Costco as a Gold Star Member\n",
       "1                         Sara Lee bread, select varieties, buy 2 at Walmart\n",
       "2    Back to the Roots Garden Soil, 1 cubic foot, at Lowe's Home Improvement\n",
       "3                                                    this is the fourth text\n",
       "Name: OFFER, dtype: object"
      ]
     },
     "execution_count": 129,
     "metadata": {},
     "output_type": "execute_result"
    }
   ],
   "source": [
    "cosine_sim_scores[\"OFFER\"]"
   ]
  },
  {
   "cell_type": "code",
   "execution_count": 309,
   "metadata": {},
   "outputs": [
    {
     "data": {
      "text/html": [
       "<div>\n",
       "<style scoped>\n",
       "    .dataframe tbody tr th:only-of-type {\n",
       "        vertical-align: middle;\n",
       "    }\n",
       "\n",
       "    .dataframe tbody tr th {\n",
       "        vertical-align: top;\n",
       "    }\n",
       "\n",
       "    .dataframe thead th {\n",
       "        text-align: right;\n",
       "    }\n",
       "</style>\n",
       "<table border=\"1\" class=\"dataframe\">\n",
       "  <thead>\n",
       "    <tr style=\"text-align: right;\">\n",
       "      <th></th>\n",
       "      <th>OFFER</th>\n",
       "      <th>Jaccard Similarity Score</th>\n",
       "    </tr>\n",
       "  </thead>\n",
       "  <tbody>\n",
       "    <tr>\n",
       "      <th>0</th>\n",
       "      <td>When you join Costco as a Gold Star Member</td>\n",
       "      <td>0.167</td>\n",
       "    </tr>\n",
       "    <tr>\n",
       "      <th>1</th>\n",
       "      <td>Sara Lee bread, select varieties, buy 2 at Walmart</td>\n",
       "      <td>0.000</td>\n",
       "    </tr>\n",
       "    <tr>\n",
       "      <th>2</th>\n",
       "      <td>Back to the Roots Garden Soil, 1 cubic foot, at Lowe's Home Improvement</td>\n",
       "      <td>0.000</td>\n",
       "    </tr>\n",
       "    <tr>\n",
       "      <th>3</th>\n",
       "      <td>this is the fourth text</td>\n",
       "      <td>0.000</td>\n",
       "    </tr>\n",
       "  </tbody>\n",
       "</table>\n",
       "</div>"
      ],
      "text/plain": [
       "                                                                     OFFER  \\\n",
       "0                               When you join Costco as a Gold Star Member   \n",
       "1                       Sara Lee bread, select varieties, buy 2 at Walmart   \n",
       "2  Back to the Roots Garden Soil, 1 cubic foot, at Lowe's Home Improvement   \n",
       "3                                                  this is the fourth text   \n",
       "\n",
       "   Jaccard Similarity Score  \n",
       "0                     0.167  \n",
       "1                     0.000  \n",
       "2                     0.000  \n",
       "3                     0.000  "
      ]
     },
     "execution_count": 309,
     "metadata": {},
     "output_type": "execute_result"
    }
   ],
   "source": [
    "# test on Jaccard Similarity for search_offer comparison\n",
    "\n",
    "input_text = \"Membership at Costco\"\n",
    "texts = [\"Sara Lee bread, select varieties, buy 2 at Walmart\", \n",
    "         \"Back to the Roots Garden Soil, 1 cubic foot, at Lowe's Home Improvement\", \n",
    "         \"When you join Costco as a Gold Star Member\", \n",
    "         \"this is the fourth text\"]\n",
    "\n",
    "result = get_jaccard_sim(input_text, texts)\n",
    "result"
   ]
  },
  {
   "cell_type": "code",
   "execution_count": 308,
   "metadata": {},
   "outputs": [
    {
     "data": {
      "text/html": [
       "<div>\n",
       "<style scoped>\n",
       "    .dataframe tbody tr th:only-of-type {\n",
       "        vertical-align: middle;\n",
       "    }\n",
       "\n",
       "    .dataframe tbody tr th {\n",
       "        vertical-align: top;\n",
       "    }\n",
       "\n",
       "    .dataframe thead th {\n",
       "        text-align: right;\n",
       "    }\n",
       "</style>\n",
       "<table border=\"1\" class=\"dataframe\">\n",
       "  <thead>\n",
       "    <tr style=\"text-align: right;\">\n",
       "      <th></th>\n",
       "      <th>OFFER</th>\n",
       "      <th>Jaccard Similarity Score</th>\n",
       "    </tr>\n",
       "  </thead>\n",
       "  <tbody>\n",
       "    <tr>\n",
       "      <th>0</th>\n",
       "      <td>When you join Costco as a Gold Star Member</td>\n",
       "      <td>0.167</td>\n",
       "    </tr>\n",
       "  </tbody>\n",
       "</table>\n",
       "</div>"
      ],
      "text/plain": [
       "                                        OFFER  Jaccard Similarity Score\n",
       "0  When you join Costco as a Gold Star Member                     0.167"
      ]
     },
     "execution_count": 308,
     "metadata": {},
     "output_type": "execute_result"
    }
   ],
   "source": [
    "# test case on extract_similar_offers\n",
    "extract_similar_offers(get_jaccard_sim(input_text, texts))"
   ]
  },
  {
   "cell_type": "code",
   "execution_count": 307,
   "metadata": {},
   "outputs": [
    {
     "data": {
      "text/html": [
       "<div>\n",
       "<style scoped>\n",
       "    .dataframe tbody tr th:only-of-type {\n",
       "        vertical-align: middle;\n",
       "    }\n",
       "\n",
       "    .dataframe tbody tr th {\n",
       "        vertical-align: top;\n",
       "    }\n",
       "\n",
       "    .dataframe thead th {\n",
       "        text-align: right;\n",
       "    }\n",
       "</style>\n",
       "<table border=\"1\" class=\"dataframe\">\n",
       "  <thead>\n",
       "    <tr style=\"text-align: right;\">\n",
       "      <th></th>\n",
       "      <th>OFFER</th>\n",
       "      <th>Cosine Similarity Score</th>\n",
       "    </tr>\n",
       "  </thead>\n",
       "  <tbody>\n",
       "    <tr>\n",
       "      <th>0</th>\n",
       "      <td>When you join Costco as a Gold Star Member</td>\n",
       "      <td>0.316228</td>\n",
       "    </tr>\n",
       "  </tbody>\n",
       "</table>\n",
       "</div>"
      ],
      "text/plain": [
       "                                        OFFER  Cosine Similarity Score\n",
       "0  When you join Costco as a Gold Star Member                 0.316228"
      ]
     },
     "execution_count": 307,
     "metadata": {},
     "output_type": "execute_result"
    }
   ],
   "source": [
    "extract_similar_offers(get_cosine_sim(input_text, texts))"
   ]
  },
  {
   "cell_type": "code",
   "execution_count": 73,
   "metadata": {},
   "outputs": [],
   "source": [
    "# df_offers = pd.read_csv(path + 'brand_offer_cleaned.csv')\n",
    "# df_offers.sample(10)"
   ]
  },
  {
   "cell_type": "markdown",
   "metadata": {},
   "source": [
    "### Similarity match test"
   ]
  },
  {
   "cell_type": "code",
   "execution_count": 171,
   "metadata": {},
   "outputs": [],
   "source": [
    "# read pickle and json files that we will use\n",
    "\n",
    "import pickle\n",
    "import json\n",
    "\n",
    "path1 = \"data/brand_belong_category_dict.json\"\n",
    "path2 = \"data/offered_brands.pkl\"\n",
    "\n",
    "with open(path1, 'r') as f:\n",
    "    brand_belong_category_dict = json.load(f)\n",
    "\n",
    "with open(path2, 'rb') as f:\n",
    "    offered_brands = pickle.load(f)"
   ]
  },
  {
   "cell_type": "code",
   "execution_count": 170,
   "metadata": {},
   "outputs": [],
   "source": [
    "# change all keys in brand_belong_category_dict to upper case\n",
    "# brand_belong_category_dict = {k.upper(): v for k, v in brand_belong_category_dict.items()}\n",
    "# brand_belong_category_dict\n",
    "\n",
    "# import json\n",
    "# with open('data/brand_belong_category_dict.json', 'w') as fp:\n",
    "#     json.dump(brand_belong_category_dict, fp)"
   ]
  },
  {
   "cell_type": "markdown",
   "metadata": {},
   "source": [
    "Operation data test"
   ]
  },
  {
   "cell_type": "code",
   "execution_count": 6,
   "metadata": {},
   "outputs": [
    {
     "name": "stdout",
     "output_type": "stream",
     "text": [
      "offered_brands: <class 'list'>\n",
      "brand_belong_category_dict: <class 'dict'>\n"
     ]
    }
   ],
   "source": [
    "print(f'offered_brands: {type(offered_brands)}')\n",
    "print(f'brand_belong_category_dict: {type(brand_belong_category_dict)}')"
   ]
  },
  {
   "cell_type": "code",
   "execution_count": 7,
   "metadata": {},
   "outputs": [
    {
     "data": {
      "text/plain": [
       "['BEYOND MEAT', 'GOOD HUMOR', 'BUTTERBALL', 'GATORADE', 'DR PEPPER']"
      ]
     },
     "execution_count": 7,
     "metadata": {},
     "output_type": "execute_result"
    }
   ],
   "source": [
    "offered_brands[:5]"
   ]
  },
  {
   "cell_type": "code",
   "execution_count": 8,
   "metadata": {},
   "outputs": [
    {
     "data": {
      "text/plain": [
       "['BABY SOFT', 'PREDO', 'GERBER', 'ENFAMIL', \"EARTH'S BEST\"]"
      ]
     },
     "execution_count": 8,
     "metadata": {},
     "output_type": "execute_result"
    }
   ],
   "source": [
    "brand_belong_category_dict['Baby Bathing'][:5]"
   ]
  },
  {
   "cell_type": "code",
   "execution_count": 9,
   "metadata": {},
   "outputs": [
    {
     "data": {
      "text/plain": [
       "['MCALISTERS DELI', 'BACK TO THE ROOTS']"
      ]
     },
     "execution_count": 9,
     "metadata": {},
     "output_type": "execute_result"
    }
   ],
   "source": [
    "# test case: I have a category, now I want to find all the brands (with offers) that belong to this category\n",
    "# so I need to find a intersection of two lists\n",
    "\n",
    "category = 'Packaged Meals & Sides'\n",
    "search_brands = brand_belong_category_dict[category]\n",
    "\n",
    "# find the intersection of two lists\n",
    "result = list(set(search_brands) & set(offered_brands))\n",
    "result"
   ]
  },
  {
   "cell_type": "markdown",
   "metadata": {},
   "source": [
    "## Build Category Dictionary\n",
    "\n",
    "As checks (mannually and EDA), there're no cases for one product_category that belongs to more than one categories. So, we can build a simple category dictionary."
   ]
  },
  {
   "cell_type": "code",
   "execution_count": 11,
   "metadata": {},
   "outputs": [
    {
     "name": "stdout",
     "output_type": "stream",
     "text": [
      "(118, 3)\n"
     ]
    },
    {
     "data": {
      "text/html": [
       "<div>\n",
       "<style scoped>\n",
       "    .dataframe tbody tr th:only-of-type {\n",
       "        vertical-align: middle;\n",
       "    }\n",
       "\n",
       "    .dataframe tbody tr th {\n",
       "        vertical-align: top;\n",
       "    }\n",
       "\n",
       "    .dataframe thead th {\n",
       "        text-align: right;\n",
       "    }\n",
       "</style>\n",
       "<table border=\"1\" class=\"dataframe\">\n",
       "  <thead>\n",
       "    <tr style=\"text-align: right;\">\n",
       "      <th></th>\n",
       "      <th>CATEGORY_ID</th>\n",
       "      <th>PRODUCT_CATEGORY</th>\n",
       "      <th>UPPER_CATEGORY</th>\n",
       "    </tr>\n",
       "  </thead>\n",
       "  <tbody>\n",
       "    <tr>\n",
       "      <th>0</th>\n",
       "      <td>1f7d2fa7-a1d7-4969-aaf4-1244f232c175</td>\n",
       "      <td>Red Pasta Sauce</td>\n",
       "      <td>Pasta Sauce</td>\n",
       "    </tr>\n",
       "    <tr>\n",
       "      <th>1</th>\n",
       "      <td>3e48a9b3-1ab2-4f2d-867d-4a30828afeab</td>\n",
       "      <td>Alfredo &amp; White Pasta Sauce</td>\n",
       "      <td>Pasta Sauce</td>\n",
       "    </tr>\n",
       "    <tr>\n",
       "      <th>2</th>\n",
       "      <td>09f3decc-aa93-460d-936c-0ddf06b055a3</td>\n",
       "      <td>Cooking &amp; Baking</td>\n",
       "      <td>Pantry</td>\n",
       "    </tr>\n",
       "    <tr>\n",
       "      <th>3</th>\n",
       "      <td>12a89b18-4c01-4048-94b2-0705e0a45f6b</td>\n",
       "      <td>Packaged Seafood</td>\n",
       "      <td>Pantry</td>\n",
       "    </tr>\n",
       "    <tr>\n",
       "      <th>4</th>\n",
       "      <td>2caa015a-ca32-4456-a086-621446238783</td>\n",
       "      <td>Feminine Hygeine</td>\n",
       "      <td>Health &amp; Wellness</td>\n",
       "    </tr>\n",
       "  </tbody>\n",
       "</table>\n",
       "</div>"
      ],
      "text/plain": [
       "                            CATEGORY_ID             PRODUCT_CATEGORY  \\\n",
       "0  1f7d2fa7-a1d7-4969-aaf4-1244f232c175              Red Pasta Sauce   \n",
       "1  3e48a9b3-1ab2-4f2d-867d-4a30828afeab  Alfredo & White Pasta Sauce   \n",
       "2  09f3decc-aa93-460d-936c-0ddf06b055a3             Cooking & Baking   \n",
       "3  12a89b18-4c01-4048-94b2-0705e0a45f6b             Packaged Seafood   \n",
       "4  2caa015a-ca32-4456-a086-621446238783             Feminine Hygeine   \n",
       "\n",
       "      UPPER_CATEGORY  \n",
       "0        Pasta Sauce  \n",
       "1        Pasta Sauce  \n",
       "2             Pantry  \n",
       "3             Pantry  \n",
       "4  Health & Wellness  "
      ]
     },
     "metadata": {},
     "output_type": "display_data"
    },
    {
     "name": "stdout",
     "output_type": "stream",
     "text": [
      "(23, 2)\n"
     ]
    },
    {
     "data": {
      "text/html": [
       "<div>\n",
       "<style scoped>\n",
       "    .dataframe tbody tr th:only-of-type {\n",
       "        vertical-align: middle;\n",
       "    }\n",
       "\n",
       "    .dataframe tbody tr th {\n",
       "        vertical-align: top;\n",
       "    }\n",
       "\n",
       "    .dataframe thead th {\n",
       "        text-align: right;\n",
       "    }\n",
       "</style>\n",
       "<table border=\"1\" class=\"dataframe\">\n",
       "  <thead>\n",
       "    <tr style=\"text-align: right;\">\n",
       "      <th></th>\n",
       "      <th>UPPER_CATEGORY</th>\n",
       "      <th>PRODUCT_CATEGORY</th>\n",
       "    </tr>\n",
       "  </thead>\n",
       "  <tbody>\n",
       "    <tr>\n",
       "      <th>0</th>\n",
       "      <td>Alcohol</td>\n",
       "      <td>[Beer, Malt Beverages, Hard Seltzers, Sodas, Waters, Lemonades &amp; Teas, Hard Ciders, Wine, Spirits]</td>\n",
       "    </tr>\n",
       "    <tr>\n",
       "      <th>1</th>\n",
       "      <td>Animals &amp; Pet Supplies</td>\n",
       "      <td>[Dog Supplies]</td>\n",
       "    </tr>\n",
       "    <tr>\n",
       "      <th>2</th>\n",
       "      <td>Baby &amp; Toddler</td>\n",
       "      <td>[Baby Bathing, Potty Training, Baby Safety, Diapering, Baby Health]</td>\n",
       "    </tr>\n",
       "    <tr>\n",
       "      <th>3</th>\n",
       "      <td>Beauty</td>\n",
       "      <td>[Cosmetic Tools, Makeup, Nail Care, Body Fragrances]</td>\n",
       "    </tr>\n",
       "    <tr>\n",
       "      <th>4</th>\n",
       "      <td>Beverages</td>\n",
       "      <td>[Coffee, Meal Replacement Beverages, Vegetable Juices, Drink Mixes, Tea, Energy Drinks, Water, Fruit Juices, Carbonated Soft Drinks]</td>\n",
       "    </tr>\n",
       "  </tbody>\n",
       "</table>\n",
       "</div>"
      ],
      "text/plain": [
       "           UPPER_CATEGORY  \\\n",
       "0                 Alcohol   \n",
       "1  Animals & Pet Supplies   \n",
       "2          Baby & Toddler   \n",
       "3                  Beauty   \n",
       "4               Beverages   \n",
       "\n",
       "                                                                                                                       PRODUCT_CATEGORY  \n",
       "0                                    [Beer, Malt Beverages, Hard Seltzers, Sodas, Waters, Lemonades & Teas, Hard Ciders, Wine, Spirits]  \n",
       "1                                                                                                                        [Dog Supplies]  \n",
       "2                                                                   [Baby Bathing, Potty Training, Baby Safety, Diapering, Baby Health]  \n",
       "3                                                                                  [Cosmetic Tools, Makeup, Nail Care, Body Fragrances]  \n",
       "4  [Coffee, Meal Replacement Beverages, Vegetable Juices, Drink Mixes, Tea, Energy Drinks, Water, Fruit Juices, Carbonated Soft Drinks]  "
      ]
     },
     "metadata": {},
     "output_type": "display_data"
    }
   ],
   "source": [
    "df_categories = pd.read_csv('data/categories.csv')\n",
    "print(df_categories.shape)\n",
    "\n",
    "# rename \"IS_CHILD_CATEGORY_TO\" to \"UPPER_CATEGORY\"\n",
    "df_categories.rename(columns={'IS_CHILD_CATEGORY_TO': 'UPPER_CATEGORY'}, inplace=True)\n",
    "display(df_categories.head())\n",
    "\n",
    "# group by UPPER_CATEGORY and get DISTINCT PRODUCT_CATEGORY\n",
    "grouped_df = df_categories.groupby('UPPER_CATEGORY')['PRODUCT_CATEGORY'].unique().reset_index()\n",
    "print(grouped_df.shape)\n",
    "display(grouped_df.head())\n",
    "\n",
    "# generate a dictionary of UPPER_CATEGORY (key) and PRODUCT_CATEGORY (value)'\n",
    "# category_dict = {row['UPPER_CATEGORY']: row['PRODUCT_CATEGORY'].tolist() for index, row in grouped_df.iterrows()}"
   ]
  },
  {
   "cell_type": "code",
   "execution_count": null,
   "metadata": {},
   "outputs": [],
   "source": []
  }
 ],
 "metadata": {
  "kernelspec": {
   "display_name": "base",
   "language": "python",
   "name": "python3"
  },
  "language_info": {
   "codemirror_mode": {
    "name": "ipython",
    "version": 3
   },
   "file_extension": ".py",
   "mimetype": "text/x-python",
   "name": "python",
   "nbconvert_exporter": "python",
   "pygments_lexer": "ipython3",
   "version": "3.11.5"
  }
 },
 "nbformat": 4,
 "nbformat_minor": 2
}
