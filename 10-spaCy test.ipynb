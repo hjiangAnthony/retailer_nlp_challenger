{
 "cells": [
  {
   "cell_type": "code",
   "execution_count": null,
   "metadata": {},
   "outputs": [],
   "source": [
    "import spacy \n",
    "import pandas as pd\n",
    "nlp = spacy.load('/Users/anthony/Projects/retailer_nlp_challenger/models/model-last')\n",
    "# train = pd.read_csv('./data/train.csv')\n",
    "val = pd.read_csv('./data/val.csv')"
   ]
  },
  {
   "cell_type": "code",
   "execution_count": null,
   "metadata": {},
   "outputs": [],
   "source": [
    "print(val.shape)\n",
    "val.head()"
   ]
  },
  {
   "cell_type": "code",
   "execution_count": null,
   "metadata": {},
   "outputs": [],
   "source": [
    "for i,row in val.sample(frac=1).head(10).iterrows():\n",
    "    doc = nlp(row['OFFER'])\n",
    "    print(\"nReal brand : \", row['BRAND'])\n",
    "    spacy.displacy.render(doc, style=\"ent\", jupyter=True) # display in Jupyter\n",
    "    print('---'*10)"
   ]
  },
  {
   "cell_type": "code",
   "execution_count": null,
   "metadata": {},
   "outputs": [],
   "source": []
  }
 ],
 "metadata": {
  "kernelspec": {
   "display_name": "base",
   "language": "python",
   "name": "python3"
  },
  "language_info": {
   "codemirror_mode": {
    "name": "ipython",
    "version": 3
   },
   "file_extension": ".py",
   "mimetype": "text/x-python",
   "name": "python",
   "nbconvert_exporter": "python",
   "pygments_lexer": "ipython3",
   "version": "3.11.5"
  }
 },
 "nbformat": 4,
 "nbformat_minor": 2
}
