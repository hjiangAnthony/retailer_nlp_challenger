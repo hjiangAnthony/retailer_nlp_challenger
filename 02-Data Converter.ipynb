{
 "cells": [
  {
   "cell_type": "code",
   "execution_count": 1,
   "metadata": {},
   "outputs": [],
   "source": [
    "import pandas as pd\n",
    "import numpy as np\n",
    "import json\n",
    "import matplotlib.pyplot as plt\n",
    "\n",
    "from spacy.tokens import DocBin\n",
    "import srsly\n",
    "import spacy\n",
    "import spacy\n",
    "from spacy.training import offsets_to_biluo_tags\n",
    "\n",
    "pd.set_option('display.max_colwidth', None)"
   ]
  },
  {
   "cell_type": "markdown",
   "metadata": {},
   "source": [
    "# Prep"
   ]
  },
  {
   "cell_type": "code",
   "execution_count": 2,
   "metadata": {},
   "outputs": [
    {
     "data": {
      "text/html": [
       "<div>\n",
       "<style scoped>\n",
       "    .dataframe tbody tr th:only-of-type {\n",
       "        vertical-align: middle;\n",
       "    }\n",
       "\n",
       "    .dataframe tbody tr th {\n",
       "        vertical-align: top;\n",
       "    }\n",
       "\n",
       "    .dataframe thead th {\n",
       "        text-align: right;\n",
       "    }\n",
       "</style>\n",
       "<table border=\"1\" class=\"dataframe\">\n",
       "  <thead>\n",
       "    <tr style=\"text-align: right;\">\n",
       "      <th></th>\n",
       "      <th>BRAND</th>\n",
       "      <th>OFFER</th>\n",
       "      <th>idx</th>\n",
       "    </tr>\n",
       "  </thead>\n",
       "  <tbody>\n",
       "    <tr>\n",
       "      <th>280</th>\n",
       "      <td>KFC</td>\n",
       "      <td>Spend 10 at KFC</td>\n",
       "      <td>379</td>\n",
       "    </tr>\n",
       "    <tr>\n",
       "      <th>205</th>\n",
       "      <td>KFC</td>\n",
       "      <td>Spend 40 at KFC</td>\n",
       "      <td>289</td>\n",
       "    </tr>\n",
       "    <tr>\n",
       "      <th>112</th>\n",
       "      <td>BRITA</td>\n",
       "      <td>Brita Pitcher AND Filter</td>\n",
       "      <td>158</td>\n",
       "    </tr>\n",
       "    <tr>\n",
       "      <th>12</th>\n",
       "      <td>RED GOLD</td>\n",
       "      <td>Red Gold Tomato Ketchup</td>\n",
       "      <td>18</td>\n",
       "    </tr>\n",
       "    <tr>\n",
       "      <th>39</th>\n",
       "      <td>SHAWS</td>\n",
       "      <td>Spend 185 at Shaws</td>\n",
       "      <td>53</td>\n",
       "    </tr>\n",
       "    <tr>\n",
       "      <th>105</th>\n",
       "      <td>WELCHS FRUIT SNACKS</td>\n",
       "      <td>Welchs Fruit Snacks, 250 count, online at Amazon</td>\n",
       "      <td>147</td>\n",
       "    </tr>\n",
       "    <tr>\n",
       "      <th>76</th>\n",
       "      <td>PERFECT KETO</td>\n",
       "      <td>Perfect Keto Beauty  Sleep Collagen, online at Amazon</td>\n",
       "      <td>112</td>\n",
       "    </tr>\n",
       "    <tr>\n",
       "      <th>60</th>\n",
       "      <td>MARINELA</td>\n",
       "      <td>Marinela sweet baked goods, buy 2</td>\n",
       "      <td>85</td>\n",
       "    </tr>\n",
       "    <tr>\n",
       "      <th>218</th>\n",
       "      <td>BROWNIE BRITTLE</td>\n",
       "      <td>Brownie Brittle Snacks, select varieties, buy 2</td>\n",
       "      <td>304</td>\n",
       "    </tr>\n",
       "    <tr>\n",
       "      <th>209</th>\n",
       "      <td>SARGENTO</td>\n",
       "      <td>Sargento Sliced Cheese, spend 18</td>\n",
       "      <td>294</td>\n",
       "    </tr>\n",
       "  </tbody>\n",
       "</table>\n",
       "</div>"
      ],
      "text/plain": [
       "                   BRAND  \\\n",
       "280                  KFC   \n",
       "205                  KFC   \n",
       "112                BRITA   \n",
       "12              RED GOLD   \n",
       "39                 SHAWS   \n",
       "105  WELCHS FRUIT SNACKS   \n",
       "76          PERFECT KETO   \n",
       "60              MARINELA   \n",
       "218      BROWNIE BRITTLE   \n",
       "209             SARGENTO   \n",
       "\n",
       "                                                     OFFER  idx  \n",
       "280                                        Spend 10 at KFC  379  \n",
       "205                                        Spend 40 at KFC  289  \n",
       "112                               Brita Pitcher AND Filter  158  \n",
       "12                                 Red Gold Tomato Ketchup   18  \n",
       "39                                      Spend 185 at Shaws   53  \n",
       "105       Welchs Fruit Snacks, 250 count, online at Amazon  147  \n",
       "76   Perfect Keto Beauty  Sleep Collagen, online at Amazon  112  \n",
       "60                       Marinela sweet baked goods, buy 2   85  \n",
       "218        Brownie Brittle Snacks, select varieties, buy 2  304  \n",
       "209                       Sargento Sliced Cheese, spend 18  294  "
      ]
     },
     "execution_count": 2,
     "metadata": {},
     "output_type": "execute_result"
    }
   ],
   "source": [
    "import os\n",
    "os.chdir('/Users/anthony/Projects/retailer_nlp_challenger/data')\n",
    "\n",
    "# read csv\n",
    "brand_cleaned = pd.read_csv('brand_offer_cleaned.csv')\n",
    "brand_cleaned.sample(10)"
   ]
  },
  {
   "cell_type": "code",
   "execution_count": 3,
   "metadata": {},
   "outputs": [
    {
     "data": {
      "text/html": [
       "<div>\n",
       "<style scoped>\n",
       "    .dataframe tbody tr th:only-of-type {\n",
       "        vertical-align: middle;\n",
       "    }\n",
       "\n",
       "    .dataframe tbody tr th {\n",
       "        vertical-align: top;\n",
       "    }\n",
       "\n",
       "    .dataframe thead th {\n",
       "        text-align: right;\n",
       "    }\n",
       "</style>\n",
       "<table border=\"1\" class=\"dataframe\">\n",
       "  <thead>\n",
       "    <tr style=\"text-align: right;\">\n",
       "      <th></th>\n",
       "      <th>RETAILER</th>\n",
       "      <th>OFFER</th>\n",
       "      <th>idx</th>\n",
       "    </tr>\n",
       "  </thead>\n",
       "  <tbody>\n",
       "    <tr>\n",
       "      <th>149</th>\n",
       "      <td>WALMART</td>\n",
       "      <td>Arber, at Walmart</td>\n",
       "      <td>325</td>\n",
       "    </tr>\n",
       "    <tr>\n",
       "      <th>77</th>\n",
       "      <td>STAR MARKET</td>\n",
       "      <td>Shop 2 times at Star Market</td>\n",
       "      <td>170</td>\n",
       "    </tr>\n",
       "    <tr>\n",
       "      <th>44</th>\n",
       "      <td>WALMART</td>\n",
       "      <td>Back to the Roots Soils, select varieties and sizes, at Walmart</td>\n",
       "      <td>86</td>\n",
       "    </tr>\n",
       "    <tr>\n",
       "      <th>14</th>\n",
       "      <td>ZAXBYS</td>\n",
       "      <td>Order online at Zaxbys.com</td>\n",
       "      <td>30</td>\n",
       "    </tr>\n",
       "    <tr>\n",
       "      <th>42</th>\n",
       "      <td>SUBWAY</td>\n",
       "      <td>Spend 15 at Subway</td>\n",
       "      <td>82</td>\n",
       "    </tr>\n",
       "    <tr>\n",
       "      <th>123</th>\n",
       "      <td>TARGET</td>\n",
       "      <td>Arber, at Target</td>\n",
       "      <td>270</td>\n",
       "    </tr>\n",
       "    <tr>\n",
       "      <th>177</th>\n",
       "      <td>WALMART</td>\n",
       "      <td>Back to the Roots Soils, select varieties, at Walmart</td>\n",
       "      <td>383</td>\n",
       "    </tr>\n",
       "    <tr>\n",
       "      <th>74</th>\n",
       "      <td>AMAZON</td>\n",
       "      <td>Perfect Keto MCT Oil Powder, online at Amazon</td>\n",
       "      <td>156</td>\n",
       "    </tr>\n",
       "    <tr>\n",
       "      <th>25</th>\n",
       "      <td>VONS</td>\n",
       "      <td>Any Vons receipt</td>\n",
       "      <td>50</td>\n",
       "    </tr>\n",
       "    <tr>\n",
       "      <th>65</th>\n",
       "      <td>LOWES HOME IMPROVEMENT</td>\n",
       "      <td>Back to the Roots Garden Soil, 1 cubic foot, at Lowes Home Improvement</td>\n",
       "      <td>137</td>\n",
       "    </tr>\n",
       "  </tbody>\n",
       "</table>\n",
       "</div>"
      ],
      "text/plain": [
       "                   RETAILER  \\\n",
       "149                 WALMART   \n",
       "77              STAR MARKET   \n",
       "44                  WALMART   \n",
       "14                   ZAXBYS   \n",
       "42                   SUBWAY   \n",
       "123                  TARGET   \n",
       "177                 WALMART   \n",
       "74                   AMAZON   \n",
       "25                     VONS   \n",
       "65   LOWES HOME IMPROVEMENT   \n",
       "\n",
       "                                                                      OFFER  \\\n",
       "149                                                       Arber, at Walmart   \n",
       "77                                              Shop 2 times at Star Market   \n",
       "44          Back to the Roots Soils, select varieties and sizes, at Walmart   \n",
       "14                                               Order online at Zaxbys.com   \n",
       "42                                                       Spend 15 at Subway   \n",
       "123                                                        Arber, at Target   \n",
       "177                   Back to the Roots Soils, select varieties, at Walmart   \n",
       "74                            Perfect Keto MCT Oil Powder, online at Amazon   \n",
       "25                                                         Any Vons receipt   \n",
       "65   Back to the Roots Garden Soil, 1 cubic foot, at Lowes Home Improvement   \n",
       "\n",
       "     idx  \n",
       "149  325  \n",
       "77   170  \n",
       "44    86  \n",
       "14    30  \n",
       "42    82  \n",
       "123  270  \n",
       "177  383  \n",
       "74   156  \n",
       "25    50  \n",
       "65   137  "
      ]
     },
     "execution_count": 3,
     "metadata": {},
     "output_type": "execute_result"
    }
   ],
   "source": [
    "# read csv\n",
    "retailer_cleaned = pd.read_csv('retailer_offer_cleaned.csv')\n",
    "retailer_cleaned.sample(10)"
   ]
  },
  {
   "cell_type": "code",
   "execution_count": 4,
   "metadata": {},
   "outputs": [
    {
     "data": {
      "text/html": [
       "<div>\n",
       "<style scoped>\n",
       "    .dataframe tbody tr th:only-of-type {\n",
       "        vertical-align: middle;\n",
       "    }\n",
       "\n",
       "    .dataframe tbody tr th {\n",
       "        vertical-align: top;\n",
       "    }\n",
       "\n",
       "    .dataframe thead th {\n",
       "        text-align: right;\n",
       "    }\n",
       "</style>\n",
       "<table border=\"1\" class=\"dataframe\">\n",
       "  <thead>\n",
       "    <tr style=\"text-align: right;\">\n",
       "      <th></th>\n",
       "      <th>BRAND</th>\n",
       "      <th>OFFER</th>\n",
       "      <th>idx</th>\n",
       "      <th>RETAILER</th>\n",
       "    </tr>\n",
       "  </thead>\n",
       "  <tbody>\n",
       "    <tr>\n",
       "      <th>260</th>\n",
       "      <td>STAR MARKET</td>\n",
       "      <td>Any Star Market receipt</td>\n",
       "      <td>354</td>\n",
       "      <td>STAR MARKET</td>\n",
       "    </tr>\n",
       "    <tr>\n",
       "      <th>145</th>\n",
       "      <td>CORE HYDRATION</td>\n",
       "      <td>CORE Hydration, select varieties, at Walmart</td>\n",
       "      <td>205</td>\n",
       "      <td>WALMART</td>\n",
       "    </tr>\n",
       "    <tr>\n",
       "      <th>254</th>\n",
       "      <td>CVS</td>\n",
       "      <td>Spend 30 at CVS</td>\n",
       "      <td>347</td>\n",
       "      <td>CVS</td>\n",
       "    </tr>\n",
       "    <tr>\n",
       "      <th>252</th>\n",
       "      <td>NATURE VALLEY</td>\n",
       "      <td>Nature Valley Protein Granola</td>\n",
       "      <td>345</td>\n",
       "      <td>NaN</td>\n",
       "    </tr>\n",
       "    <tr>\n",
       "      <th>283</th>\n",
       "      <td>PAVILIONS</td>\n",
       "      <td>Spend 270 at Pavilions</td>\n",
       "      <td>382</td>\n",
       "      <td>PAVILIONS</td>\n",
       "    </tr>\n",
       "    <tr>\n",
       "      <th>191</th>\n",
       "      <td>ARBER</td>\n",
       "      <td>Arber, at Target</td>\n",
       "      <td>270</td>\n",
       "      <td>TARGET</td>\n",
       "    </tr>\n",
       "    <tr>\n",
       "      <th>152</th>\n",
       "      <td>KLONDIKE</td>\n",
       "      <td>Klondike Cones, spend 10 at Walmart</td>\n",
       "      <td>216</td>\n",
       "      <td>WALMART</td>\n",
       "    </tr>\n",
       "    <tr>\n",
       "      <th>276</th>\n",
       "      <td>SUPER COFFEE</td>\n",
       "      <td>Super Coffee, 12 ounce single serve</td>\n",
       "      <td>374</td>\n",
       "      <td>NaN</td>\n",
       "    </tr>\n",
       "    <tr>\n",
       "      <th>12</th>\n",
       "      <td>RED GOLD</td>\n",
       "      <td>Red Gold Tomato Ketchup</td>\n",
       "      <td>18</td>\n",
       "      <td>NaN</td>\n",
       "    </tr>\n",
       "    <tr>\n",
       "      <th>6</th>\n",
       "      <td>EGGLIFE</td>\n",
       "      <td>Egglife Egg White Wraps at Aldi</td>\n",
       "      <td>10</td>\n",
       "      <td>ALDI</td>\n",
       "    </tr>\n",
       "  </tbody>\n",
       "</table>\n",
       "</div>"
      ],
      "text/plain": [
       "              BRAND                                         OFFER  idx  \\\n",
       "260     STAR MARKET                       Any Star Market receipt  354   \n",
       "145  CORE HYDRATION  CORE Hydration, select varieties, at Walmart  205   \n",
       "254             CVS                               Spend 30 at CVS  347   \n",
       "252   NATURE VALLEY                 Nature Valley Protein Granola  345   \n",
       "283       PAVILIONS                        Spend 270 at Pavilions  382   \n",
       "191           ARBER                              Arber, at Target  270   \n",
       "152        KLONDIKE          Klondike Cones, spend 10 at Walmart   216   \n",
       "276    SUPER COFFEE           Super Coffee, 12 ounce single serve  374   \n",
       "12         RED GOLD                       Red Gold Tomato Ketchup   18   \n",
       "6           EGGLIFE               Egglife Egg White Wraps at Aldi   10   \n",
       "\n",
       "        RETAILER  \n",
       "260  STAR MARKET  \n",
       "145      WALMART  \n",
       "254          CVS  \n",
       "252          NaN  \n",
       "283    PAVILIONS  \n",
       "191       TARGET  \n",
       "152      WALMART  \n",
       "276          NaN  \n",
       "12           NaN  \n",
       "6           ALDI  "
      ]
     },
     "execution_count": 4,
     "metadata": {},
     "output_type": "execute_result"
    }
   ],
   "source": [
    "# use brand_cleaned to left join retailer_cleaned (cols: idx and retailer)\n",
    "merged = pd.merge(brand_cleaned, retailer_cleaned[['idx','RETAILER']], on='idx', how='left')\n",
    "merged.sample(10)"
   ]
  },
  {
   "cell_type": "markdown",
   "metadata": {},
   "source": [
    "# Brand"
   ]
  },
  {
   "cell_type": "markdown",
   "metadata": {},
   "source": [
    "## Train-test-val split"
   ]
  },
  {
   "cell_type": "code",
   "execution_count": 5,
   "metadata": {},
   "outputs": [],
   "source": [
    "df_merge = merged.copy()\n",
    "df_merge['RETAILER'] = df_merge['RETAILER'].fillna('').astype(str)"
   ]
  },
  {
   "cell_type": "code",
   "execution_count": 6,
   "metadata": {},
   "outputs": [],
   "source": [
    "# split data into train, test, and validation (80%, 10%, 10%)\n",
    "train = df_merge.sample(frac=0.8, random_state=42)\n",
    "dev = df_merge.drop(train.index)\n",
    "val = train.sample(frac=0.05, random_state=42)\n",
    "\n",
    "# val is seperated from train, so it should be dropped from train\n",
    "# rows in train that has the same idx as val (the feature, not the index) should be dropped\n",
    "train = train[~train['idx'].isin(val['idx'])]"
   ]
  },
  {
   "cell_type": "code",
   "execution_count": 7,
   "metadata": {},
   "outputs": [
    {
     "name": "stdout",
     "output_type": "stream",
     "text": [
      "train size: (217, 4)\n",
      "dev size: (57, 4)\n",
      "val size: (11, 4)\n"
     ]
    }
   ],
   "source": [
    "print(f'train size: {train.shape}')\n",
    "print(f'dev size: {dev.shape}')\n",
    "print(f'val size: {val.shape}')"
   ]
  },
  {
   "cell_type": "markdown",
   "metadata": {},
   "source": [
    "## Convert csv to json"
   ]
  },
  {
   "cell_type": "markdown",
   "metadata": {},
   "source": [
    "Sometimes you have:\n",
    "1. Retailer: ABC, OFFER: save $10 at ABC.com\n",
    "2. Retailer: ABC.com, OFFER: save $10 at ABC\n",
    "3.  Retailer: ABC.com, OFFER: save $10 at ABC.com\n",
    "4.  Retailer: ABC, OFFER: save $10 at ABC\n",
    "\n",
    "3 & 4 easy to fix. How do we fix 1 & 2? We can use EntityRuler."
   ]
  },
  {
   "cell_type": "markdown",
   "metadata": {},
   "source": [
    "Another headache is that some retailers also have their same-name brands. For example, Sam's Club. When a customer only searches \"Sam's Club\", we won't be able to know whether it is a brand or a retailer. This leads to the problem of span labeling. That is, `('Spend 15 at Burger King', [[12, 23, 'BRAND'], [12, 23, 'RETAILER'])` is labeling the same entity at the same time. This is a problem of ambiguity, which is making this task more complex and might be better to solve it in the similarity calculation stage. I am making an assumption here that these retailer-owned brands should be annotated as `RETAILER` during labeling.\n",
    "\n",
    "Based on the EDA notebook, we know that the retailer-owned-brand is only sold by the retailers themselves. Therefore, when a customer search \"Sam's Club\", we"
   ]
  },
  {
   "cell_type": "code",
   "execution_count": 52,
   "metadata": {},
   "outputs": [],
   "source": [
    "# Generate a list of [start_char,end_char, label] of given label, tagname is the name of the label\n",
    "# Spacy example: \n",
    "# (\"Tokyo Tower is 333m tall.\", [(0, 11, \"BUILDING\")])\n",
    "\n",
    "def label_tagger(text, label, tag):\n",
    "    \"\"\"Takes in a string, returns the tuple of (start_char, end_char, label)\"\"\"\n",
    "    text = text.lower()\n",
    "    label = label.lower().strip()\n",
    "    if text.find(label) != -1:\n",
    "        start_index = text.find(label)\n",
    "        last_index = start_index + len(label)\n",
    "        return [start_index,last_index,tag]\n",
    "    else:\n",
    "        print(text)\n",
    "        print(f\"{label} not found in the given sentence\")\n",
    "\n",
    "def df_labeller(df):\n",
    "    \"\"\"Convert dataframe to a list of tuples\"\"\"\n",
    "    ner_output = []\n",
    "    for i,row in enumerate(df.itertuples(),1):\n",
    "        offer, brand, retailer = row.OFFER, row.BRAND, row.RETAILER\n",
    "        brand_label = label_tagger(offer, brand, \"BRAND\")\n",
    "        if (len(retailer) > 0) and (retailer != brand): # we filled NaN with empty string, need to filter out \n",
    "            retailer_label = label_tagger(offer, retailer, \"RETAILER\") \n",
    "            ner_datapoint = (offer, [brand_label, retailer_label])\n",
    "        else:\n",
    "            ner_datapoint = (offer, [brand_label])\n",
    "        ner_output.append(ner_datapoint)\n",
    "    return ner_output"
   ]
  },
  {
   "cell_type": "code",
   "execution_count": 53,
   "metadata": {},
   "outputs": [],
   "source": [
    "# data convert\n",
    "train_labeled = df_labeller(train)\n",
    "dev_labeled = df_labeller(dev)\n",
    "val_labeled = df_labeller(val)"
   ]
  },
  {
   "cell_type": "code",
   "execution_count": 10,
   "metadata": {},
   "outputs": [
    {
     "data": {
      "text/plain": [
       "[('DOVE Chocolate, select sizes, buy 1', [[0, 14, 'BRAND']]),\n",
       " ('The Rustik Oven bread', [[4, 15, 'BRAND']]),\n",
       " ('When you join Costco as an Executive Member New Members Only',\n",
       "  [[14, 20, 'BRAND']]),\n",
       " ('Sargento Sliced Cheese, spend 18', [[0, 8, 'BRAND']]),\n",
       " ('Sargento Sliced Cheese, spend 12', [[0, 8, 'BRAND']]),\n",
       " ('Barilla pasta, select varieties, buy 4', [[0, 7, 'BRAND']]),\n",
       " ('Spend 15 at Burger King', [[12, 23, 'BRAND']]),\n",
       " ('Gortons at select retailers', [[0, 7, 'BRAND']]),\n",
       " ('Sara Lee bread, select varieties, buy 2 at Walmart',\n",
       "  [[0, 8, 'BRAND'], [43, 50, 'RETAILER']]),\n",
       " ('Any Albertsons receipt', [[4, 14, 'BRAND']])]"
      ]
     },
     "execution_count": 10,
     "metadata": {},
     "output_type": "execute_result"
    }
   ],
   "source": [
    "train_labeled[:10]"
   ]
  },
  {
   "cell_type": "code",
   "execution_count": 65,
   "metadata": {},
   "outputs": [],
   "source": [
    "# save data\n",
    "ents_label = {}\n",
    "ents_label['train'] = train_labeled\n",
    "ents_label['dev'] = dev_labeled\n",
    "ents_label['val'] = val_labeled\n",
    "\n",
    "with open('ents_label.json', 'w') as fp:\n",
    "    json.dump(ents_label, fp)\n",
    "\n",
    "# also save val for later use\n",
    "val.to_csv('val.csv',index=False)"
   ]
  },
  {
   "cell_type": "code",
   "execution_count": null,
   "metadata": {},
   "outputs": [],
   "source": [
    "# also write them into csv\n",
    "# train.to_csv('train.csv',index=False)\n",
    "# dev.to_csv('test.csv',index=False)\n",
    "# val.to_csv('val.csv',index=False)"
   ]
  },
  {
   "cell_type": "markdown",
   "metadata": {},
   "source": [
    "## JSON to spaCy binary"
   ]
  },
  {
   "cell_type": "code",
   "execution_count": 66,
   "metadata": {},
   "outputs": [],
   "source": [
    "# read json\n",
    "with open('ents_label.json') as json_file:\n",
    "    ents_label_dict = json.load(json_file)\n",
    "\n",
    "train_input = ents_label_dict['train']\n",
    "dev_input = ents_label_dict['dev']\n",
    "val_input = ents_label_dict['val']"
   ]
  },
  {
   "cell_type": "code",
   "execution_count": null,
   "metadata": {},
   "outputs": [],
   "source": [
    "convert(\"en\",\"train.json\",\"/Users/anthony/Projects/retailer_nlp_challenger/corpus/train.spacy\")"
   ]
  },
  {
   "cell_type": "code",
   "execution_count": null,
   "metadata": {},
   "outputs": [],
   "source": [
    "convert(\"en\",\"dev.json\",\"/Users/anthony/Projects/retailer_nlp_challenger/corpus/dev.spacy\")"
   ]
  },
  {
   "cell_type": "code",
   "execution_count": 73,
   "metadata": {},
   "outputs": [],
   "source": [
    "import spacy\n",
    "from spacy.tokens import DocBin\n",
    "\n",
    "# test = df_labeller(train[train.RETAILER.eq(\"COSTCO\")])\n",
    "# test = train_input[:20]\n",
    "\n",
    "def conver_data_to_spacy(data, to_path, lang='en'):\n",
    "    nlp = spacy.blank(lang)\n",
    "    db = DocBin()\n",
    "    skipped = 0\n",
    "    for text, annotations in data:\n",
    "        doc = nlp(text)\n",
    "        ents = []\n",
    "        for start, end, label in annotations:\n",
    "            span = doc.char_span(start, end, label=label)\n",
    "            if span is None:\n",
    "                skipped += 1\n",
    "                msg = f\"Skipping entity [{start}, {end}, {label}] in the following text because the character span '{doc.text[start:end]}' does not align with token boundaries:\\n\\n{repr(text)}\\n\"\n",
    "                print(msg)\n",
    "            else:\n",
    "                # Check if the span overlaps with any existing entity spans\n",
    "                overlaps = [ent for ent in ents if ent.start < span.end and ent.end > span.start]\n",
    "                if overlaps:\n",
    "                    # Remove any overlapping entity spans\n",
    "                    for ent in overlaps:\n",
    "                        ents.remove(ent)\n",
    "                        msg = f\"Removed overlapping entity [{ent.start}, {ent.end}, {ent.label_}] in the following text:\\n\\n{repr(text)}\\n\"\n",
    "                        print(msg)\n",
    "                ents.append(span)\n",
    "        doc.ents = ents\n",
    "        db.add(doc)\n",
    "    print('### Totally skipped docs:', skipped)\n",
    "    db.to_disk(to_path)"
   ]
  },
  {
   "cell_type": "code",
   "execution_count": 74,
   "metadata": {},
   "outputs": [
    {
     "name": "stdout",
     "output_type": "stream",
     "text": [
      "Skipping entity [0, 5, BRAND] in the following text because the character span 'Pepsi' does not align with token boundaries:\n",
      "\n",
      "'PepsiCo Variety Pack, select varieties, at Amazon Storefront'\n",
      "\n",
      "Skipping entity [16, 22, BRAND] in the following text because the character span 'Zaxbys' does not align with token boundaries:\n",
      "\n",
      "'Order online at Zaxbys.com'\n",
      "\n",
      "Skipping entity [0, 5, BRAND] in the following text because the character span 'Pepsi' does not align with token boundaries:\n",
      "\n",
      "'PepsiCo Beverage, 7.5-ounce 10 pack, select varieties, at Amazon Storefront'\n",
      "\n",
      "Skipping entity [12, 17, BRAND] in the following text because the character span 'Chewy' does not align with token boundaries:\n",
      "\n",
      "'Spend 50 at Chewy.com'\n",
      "\n",
      "Skipping entity [35, 40, RETAILER] in the following text because the character span 'Chewy' does not align with token boundaries:\n",
      "\n",
      "'Kradle, select products, online at Chewy.com'\n",
      "\n",
      "Skipping entity [0, 5, BRAND] in the following text because the character span 'Aleve' does not align with token boundaries:\n",
      "\n",
      "'AleveX at Walmart'\n",
      "\n",
      "### Totally skipped docs: 6\n"
     ]
    }
   ],
   "source": [
    "path = \"/Users/anthony/Projects/retailer_nlp_challenger/corpus/\"\n",
    "conver_data_to_spacy(train_input, path+\"train.spacy\")"
   ]
  },
  {
   "cell_type": "code",
   "execution_count": 75,
   "metadata": {},
   "outputs": [
    {
     "name": "stdout",
     "output_type": "stream",
     "text": [
      "Removed overlapping entity [3, 6, BRAND] in the following text:\n",
      "\n",
      "'Spend 35 at Fresh Thyme Market'\n",
      "\n",
      "### Totally skipped docs: 0\n"
     ]
    }
   ],
   "source": [
    "path = \"/Users/anthony/Projects/retailer_nlp_challenger/corpus/\"\n",
    "conver_data_to_spacy(dev_input, path+\"train.spacy\")"
   ]
  }
 ],
 "metadata": {
  "kernelspec": {
   "display_name": "base",
   "language": "python",
   "name": "python3"
  },
  "language_info": {
   "codemirror_mode": {
    "name": "ipython",
    "version": 3
   },
   "file_extension": ".py",
   "mimetype": "text/x-python",
   "name": "python",
   "nbconvert_exporter": "python",
   "pygments_lexer": "ipython3",
   "version": "3.11.5"
  }
 },
 "nbformat": 4,
 "nbformat_minor": 2
}
