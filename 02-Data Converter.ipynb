{
 "cells": [
  {
   "cell_type": "code",
   "execution_count": 1,
   "metadata": {},
   "outputs": [],
   "source": [
    "import pandas as pd\n",
    "import numpy as np\n",
    "import json\n",
    "import matplotlib.pyplot as plt\n",
    "\n",
    "from spacy.tokens import DocBin\n",
    "import srsly\n",
    "import spacy\n",
    "import spacy\n",
    "from spacy.training import offsets_to_biluo_tags\n",
    "\n",
    "pd.set_option('display.max_colwidth', None)"
   ]
  },
  {
   "cell_type": "markdown",
   "metadata": {},
   "source": [
    "## Train-test-val split"
   ]
  },
  {
   "cell_type": "code",
   "execution_count": 2,
   "metadata": {},
   "outputs": [
    {
     "data": {
      "text/html": [
       "<div>\n",
       "<style scoped>\n",
       "    .dataframe tbody tr th:only-of-type {\n",
       "        vertical-align: middle;\n",
       "    }\n",
       "\n",
       "    .dataframe tbody tr th {\n",
       "        vertical-align: top;\n",
       "    }\n",
       "\n",
       "    .dataframe thead th {\n",
       "        text-align: right;\n",
       "    }\n",
       "</style>\n",
       "<table border=\"1\" class=\"dataframe\">\n",
       "  <thead>\n",
       "    <tr style=\"text-align: right;\">\n",
       "      <th></th>\n",
       "      <th>BRAND</th>\n",
       "      <th>OFFER</th>\n",
       "    </tr>\n",
       "  </thead>\n",
       "  <tbody>\n",
       "    <tr>\n",
       "      <th>240</th>\n",
       "      <td>RAOS</td>\n",
       "      <td>Raos, Pasta OR Sauce, spend 10</td>\n",
       "    </tr>\n",
       "    <tr>\n",
       "      <th>43</th>\n",
       "      <td>ALFAROS</td>\n",
       "      <td>Sara Lee or Alfaros Artesano bread, buy 5</td>\n",
       "    </tr>\n",
       "    <tr>\n",
       "      <th>232</th>\n",
       "      <td>VIZZY</td>\n",
       "      <td>Coors Light, Miller Lite OR VIZZY 12 packs, buy 5</td>\n",
       "    </tr>\n",
       "    <tr>\n",
       "      <th>72</th>\n",
       "      <td>GEORGES FARMERS MARKET</td>\n",
       "      <td>Georges Farmers Market Chicken Wings, at Sams Club</td>\n",
       "    </tr>\n",
       "    <tr>\n",
       "      <th>128</th>\n",
       "      <td>KRADLE</td>\n",
       "      <td>Kradle, select varieties, spend 20 at Walmart</td>\n",
       "    </tr>\n",
       "    <tr>\n",
       "      <th>52</th>\n",
       "      <td>RED GOLD</td>\n",
       "      <td>Red Gold Tomato Juice</td>\n",
       "    </tr>\n",
       "    <tr>\n",
       "      <th>23</th>\n",
       "      <td>BUTTERBALL</td>\n",
       "      <td>Butterball, select varieties, spend 10 at King Soopers</td>\n",
       "    </tr>\n",
       "    <tr>\n",
       "      <th>142</th>\n",
       "      <td>PROMISED LAND DAIRY</td>\n",
       "      <td>Promised Land Dairy Milk, 52-ounce</td>\n",
       "    </tr>\n",
       "    <tr>\n",
       "      <th>168</th>\n",
       "      <td>GORTONS</td>\n",
       "      <td>Gortons at select retailers</td>\n",
       "    </tr>\n",
       "    <tr>\n",
       "      <th>229</th>\n",
       "      <td>BARILLA</td>\n",
       "      <td>Barilla pasta, select varieties, buy 4</td>\n",
       "    </tr>\n",
       "  </tbody>\n",
       "</table>\n",
       "</div>"
      ],
      "text/plain": [
       "                      BRAND  \\\n",
       "240                    RAOS   \n",
       "43                  ALFAROS   \n",
       "232                   VIZZY   \n",
       "72   GEORGES FARMERS MARKET   \n",
       "128                  KRADLE   \n",
       "52                 RED GOLD   \n",
       "23               BUTTERBALL   \n",
       "142     PROMISED LAND DAIRY   \n",
       "168                 GORTONS   \n",
       "229                 BARILLA   \n",
       "\n",
       "                                                      OFFER  \n",
       "240                          Raos, Pasta OR Sauce, spend 10  \n",
       "43                Sara Lee or Alfaros Artesano bread, buy 5  \n",
       "232       Coors Light, Miller Lite OR VIZZY 12 packs, buy 5  \n",
       "72       Georges Farmers Market Chicken Wings, at Sams Club  \n",
       "128           Kradle, select varieties, spend 20 at Walmart  \n",
       "52                                    Red Gold Tomato Juice  \n",
       "23   Butterball, select varieties, spend 10 at King Soopers  \n",
       "142                      Promised Land Dairy Milk, 52-ounce  \n",
       "168                             Gortons at select retailers  \n",
       "229                  Barilla pasta, select varieties, buy 4  "
      ]
     },
     "execution_count": 2,
     "metadata": {},
     "output_type": "execute_result"
    }
   ],
   "source": [
    "import os\n",
    "os.chdir('/Users/anthony/Projects/retailer_nlp_challenger/data')\n",
    "\n",
    "# read csv\n",
    "brand_cleaned = pd.read_csv('brand_offer_cleaned.csv')\n",
    "brand_cleaned.sample(10)"
   ]
  },
  {
   "cell_type": "code",
   "execution_count": 3,
   "metadata": {},
   "outputs": [],
   "source": [
    "# split data into train, test, and validation (80%, 10%, 10%)\n",
    "train = brand_cleaned.sample(frac=0.8, random_state=42)\n",
    "dev = brand_cleaned.drop(train.index)\n",
    "val = train.sample(frac=0.125, random_state=42)"
   ]
  },
  {
   "cell_type": "code",
   "execution_count": 4,
   "metadata": {},
   "outputs": [
    {
     "data": {
      "text/html": [
       "<div>\n",
       "<style scoped>\n",
       "    .dataframe tbody tr th:only-of-type {\n",
       "        vertical-align: middle;\n",
       "    }\n",
       "\n",
       "    .dataframe tbody tr th {\n",
       "        vertical-align: top;\n",
       "    }\n",
       "\n",
       "    .dataframe thead th {\n",
       "        text-align: right;\n",
       "    }\n",
       "</style>\n",
       "<table border=\"1\" class=\"dataframe\">\n",
       "  <thead>\n",
       "    <tr style=\"text-align: right;\">\n",
       "      <th></th>\n",
       "      <th>BRAND</th>\n",
       "      <th>OFFER</th>\n",
       "    </tr>\n",
       "  </thead>\n",
       "  <tbody>\n",
       "    <tr>\n",
       "      <th>153</th>\n",
       "      <td>STAR MARKET</td>\n",
       "      <td>Spend 120 at Star Market</td>\n",
       "    </tr>\n",
       "    <tr>\n",
       "      <th>7</th>\n",
       "      <td>ZAXBYS</td>\n",
       "      <td>Spend 20 at Zaxbys</td>\n",
       "    </tr>\n",
       "    <tr>\n",
       "      <th>1</th>\n",
       "      <td>GOOD HUMOR</td>\n",
       "      <td>Good Humor Viennetta Frozen Vanilla Cake</td>\n",
       "    </tr>\n",
       "    <tr>\n",
       "      <th>170</th>\n",
       "      <td>SHAWS</td>\n",
       "      <td>Spend 300 at Shaws</td>\n",
       "    </tr>\n",
       "    <tr>\n",
       "      <th>202</th>\n",
       "      <td>BACK TO THE ROOTS</td>\n",
       "      <td>Back to the Roots Microgreens Grow Kit OR Seed Refill at Walmart</td>\n",
       "    </tr>\n",
       "  </tbody>\n",
       "</table>\n",
       "</div>"
      ],
      "text/plain": [
       "                 BRAND  \\\n",
       "153        STAR MARKET   \n",
       "7               ZAXBYS   \n",
       "1           GOOD HUMOR   \n",
       "170              SHAWS   \n",
       "202  BACK TO THE ROOTS   \n",
       "\n",
       "                                                                OFFER  \n",
       "153                                          Spend 120 at Star Market  \n",
       "7                                                  Spend 20 at Zaxbys  \n",
       "1                            Good Humor Viennetta Frozen Vanilla Cake  \n",
       "170                                                Spend 300 at Shaws  \n",
       "202  Back to the Roots Microgreens Grow Kit OR Seed Refill at Walmart  "
      ]
     },
     "execution_count": 4,
     "metadata": {},
     "output_type": "execute_result"
    }
   ],
   "source": [
    "train.sample(5)"
   ]
  },
  {
   "cell_type": "code",
   "execution_count": 5,
   "metadata": {},
   "outputs": [
    {
     "name": "stdout",
     "output_type": "stream",
     "text": [
      "train size: (222, 2)\n",
      "dev size: (56, 2)\n",
      "val size: (28, 2)\n"
     ]
    }
   ],
   "source": [
    "print(f'train size: {train.shape}')\n",
    "print(f'dev size: {dev.shape}')\n",
    "print(f'val size: {val.shape}')"
   ]
  },
  {
   "cell_type": "markdown",
   "metadata": {},
   "source": [
    "## Convert csv to json"
   ]
  },
  {
   "cell_type": "code",
   "execution_count": 6,
   "metadata": {},
   "outputs": [],
   "source": [
    "# Generate a list of [start_char,end_char, label] of given label, tagname is the name of the label\n",
    "# Spacy example: \n",
    "# [('Kanye love Paris',{'entities': [0,5,PERSON]})]\n",
    "def label_tagger(text, label, tag=\"BRAND\"):\n",
    "    text = text.lower()\n",
    "    label = label.lower().strip()\n",
    "    if text.find(label) != -1:\n",
    "        start_index = text.find(label)\n",
    "        last_index = start_index + len(label)\n",
    "        return [start_index,last_index,tag]\n",
    "    else:\n",
    "        print(text)\n",
    "        print(f\"{label} not found in the given sentence\")"
   ]
  },
  {
   "cell_type": "code",
   "execution_count": 7,
   "metadata": {},
   "outputs": [
    {
     "data": {
      "text/plain": [
       "[('Hidden Valley Ranch Salad Dressing OR Secret Sauce, select varieties',\n",
       "  {'entities': [[0, 19, 'BRAND']]}),\n",
       " ('Sign up for McAlisters Deli Rewards, tap for details',\n",
       "  {'entities': [[12, 27, 'BRAND']]})]"
      ]
     },
     "execution_count": 7,
     "metadata": {},
     "output_type": "execute_result"
    }
   ],
   "source": [
    "# Generate train dict\n",
    "ner_training = []\n",
    "for i,row in enumerate(train.itertuples(),1):\n",
    "    offer = row.OFFER\n",
    "    brand = row.BRAND\n",
    "    brand_entity = label_tagger(offer,brand)\n",
    "    train_datapoint = (offer, {'entities': [brand_entity]})\n",
    "    ner_training.append(train_datapoint)\n",
    "\n",
    "with open('train.json','w') as f:\n",
    "  json.dump(ner_training, f)\n",
    "\n",
    "ner_training[:2]"
   ]
  },
  {
   "cell_type": "code",
   "execution_count": 8,
   "metadata": {},
   "outputs": [
    {
     "data": {
      "text/plain": [
       "[('Spend 10 at Subway', {'entities': [[12, 18, 'BRAND']]}),\n",
       " ('Gillette Venus  for Pubic Hair & Skin spend 20',\n",
       "  {'entities': [[0, 14, 'BRAND']]})]"
      ]
     },
     "execution_count": 8,
     "metadata": {},
     "output_type": "execute_result"
    }
   ],
   "source": [
    "# Generate train dict\n",
    "ner_dev = []\n",
    "for i,row in enumerate(dev.itertuples(),1):\n",
    "    offer = row.OFFER \n",
    "    brand = row.BRAND\n",
    "    brand_entity = label_tagger(offer, brand)\n",
    "    dev_datapoint = (offer, {'entities': [brand_entity]})\n",
    "    ner_dev.append(dev_datapoint)\n",
    "\n",
    "with open('dev.json','w') as f:\n",
    "  json.dump(ner_dev, f)\n",
    "\n",
    "ner_dev[:2]"
   ]
  },
  {
   "cell_type": "code",
   "execution_count": 9,
   "metadata": {},
   "outputs": [
    {
     "data": {
      "text/plain": [
       "[('Shop 2 times at Randalls', {'entities': [[16, 24, 'BRAND']]}),\n",
       " ('Gillette Venus  for Pubic Hair & Skin, spend 20',\n",
       "  {'entities': [[0, 14, 'BRAND']]})]"
      ]
     },
     "execution_count": 9,
     "metadata": {},
     "output_type": "execute_result"
    }
   ],
   "source": [
    "# Generate train dict\n",
    "ner_validation = []\n",
    "for i,row in enumerate(val.itertuples(),1):\n",
    "    offer = row.OFFER \n",
    "    brand = row.BRAND\n",
    "    brand_entity = label_tagger(offer, brand)\n",
    "    val_datapoint = (offer, {'entities': [brand_entity]})\n",
    "    ner_validation.append(val_datapoint)\n",
    "\n",
    "with open('val.json','w') as f:\n",
    "  json.dump(ner_validation, f)\n",
    "\n",
    "ner_validation[:2]"
   ]
  },
  {
   "cell_type": "code",
   "execution_count": 10,
   "metadata": {},
   "outputs": [],
   "source": [
    "# also write them into csv\n",
    "# train.to_csv('train.csv',index=False)\n",
    "# dev.to_csv('test.csv',index=False)\n",
    "# val.to_csv('val.csv',index=False)"
   ]
  },
  {
   "cell_type": "markdown",
   "metadata": {},
   "source": [
    "## JSON to spaCy binary"
   ]
  },
  {
   "cell_type": "code",
   "execution_count": 11,
   "metadata": {},
   "outputs": [],
   "source": [
    "def convert(lang, input_path, output_path):\n",
    "    nlp = spacy.blank(lang)\n",
    "    db = DocBin()\n",
    "    skipped = 0\n",
    "    for text, annot in srsly.read_json(input_path):\n",
    "        doc = nlp.make_doc(text)\n",
    "        ents = []\n",
    "        for start, end, label in annot[\"entities\"]:\n",
    "            span = doc.char_span(start, end, label=label)\n",
    "            if span is None:\n",
    "                skipped+=1\n",
    "                msg = f\"Skipping entity [{start}, {end}, {label}] in the following text because the character span '{doc.text[start:end]}' does not align with token boundaries:\\n\\n{repr(text)}\\n\"\n",
    "                print(msg)\n",
    "            else:\n",
    "                ents.append(span)\n",
    "        doc.ents = ents\n",
    "        db.add(doc)\n",
    "    print('### Totally skipped docs:', skipped)\n",
    "    db.to_disk(output_path)"
   ]
  },
  {
   "cell_type": "code",
   "execution_count": 13,
   "metadata": {},
   "outputs": [
    {
     "name": "stdout",
     "output_type": "stream",
     "text": [
      "/Users/anthony/Projects/retailer_nlp_challenger/data\n"
     ]
    }
   ],
   "source": [
    "!pwd"
   ]
  },
  {
   "cell_type": "code",
   "execution_count": 14,
   "metadata": {},
   "outputs": [
    {
     "name": "stdout",
     "output_type": "stream",
     "text": [
      "Skipping entity [16, 22, BRAND] in the following text because the character span 'Zaxbys' does not align with token boundaries:\n",
      "\n",
      "'Order online at Zaxbys.com'\n",
      "\n",
      "Skipping entity [0, 5, BRAND] in the following text because the character span 'Pepsi' does not align with token boundaries:\n",
      "\n",
      "'PepsiCo Variety Pack, select varieties, at Amazon Storefront'\n",
      "\n",
      "Skipping entity [0, 5, BRAND] in the following text because the character span 'Pepsi' does not align with token boundaries:\n",
      "\n",
      "'PepsiCo Beverage, 7.5-ounce 10 pack, select varieties, at Amazon Storefront'\n",
      "\n",
      "Skipping entity [12, 17, BRAND] in the following text because the character span 'Chewy' does not align with token boundaries:\n",
      "\n",
      "'Spend 50 at Chewy.com'\n",
      "\n",
      "Skipping entity [0, 5, BRAND] in the following text because the character span 'Aleve' does not align with token boundaries:\n",
      "\n",
      "'AleveX at Walmart'\n",
      "\n",
      "### Totally skipped docs: 5\n"
     ]
    }
   ],
   "source": [
    "convert(\"en\",\"train.json\",\"/Users/anthony/Projects/retailer_nlp_challenger/corpus/train.spacy\")"
   ]
  },
  {
   "cell_type": "code",
   "execution_count": 15,
   "metadata": {},
   "outputs": [
    {
     "name": "stdout",
     "output_type": "stream",
     "text": [
      "### Totally skipped docs: 0\n"
     ]
    }
   ],
   "source": [
    "convert(\"en\",\"dev.json\",\"/Users/anthony/Projects/retailer_nlp_challenger/corpus/dev.spacy\")"
   ]
  }
 ],
 "metadata": {
  "kernelspec": {
   "display_name": "base",
   "language": "python",
   "name": "python3"
  },
  "language_info": {
   "codemirror_mode": {
    "name": "ipython",
    "version": 3
   },
   "file_extension": ".py",
   "mimetype": "text/x-python",
   "name": "python",
   "nbconvert_exporter": "python",
   "pygments_lexer": "ipython3",
   "version": "3.11.5"
  }
 },
 "nbformat": 4,
 "nbformat_minor": 2
}
