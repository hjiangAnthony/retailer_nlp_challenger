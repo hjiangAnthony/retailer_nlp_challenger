{
 "cells": [
  {
   "cell_type": "code",
   "execution_count": 1,
   "metadata": {},
   "outputs": [],
   "source": [
    "import pandas as pd\n",
    "import numpy as np\n",
    "import json\n",
    "import matplotlib.pyplot as plt\n",
    "\n",
    "from spacy.tokens import DocBin\n",
    "import srsly\n",
    "import spacy\n",
    "import spacy\n",
    "from spacy.training import offsets_to_biluo_tags\n",
    "\n",
    "pd.set_option('display.max_colwidth', None)"
   ]
  },
  {
   "cell_type": "markdown",
   "metadata": {},
   "source": [
    "## Train-test-val split"
   ]
  },
  {
   "cell_type": "code",
   "execution_count": 3,
   "metadata": {},
   "outputs": [
    {
     "data": {
      "text/html": [
       "<div>\n",
       "<style scoped>\n",
       "    .dataframe tbody tr th:only-of-type {\n",
       "        vertical-align: middle;\n",
       "    }\n",
       "\n",
       "    .dataframe tbody tr th {\n",
       "        vertical-align: top;\n",
       "    }\n",
       "\n",
       "    .dataframe thead th {\n",
       "        text-align: right;\n",
       "    }\n",
       "</style>\n",
       "<table border=\"1\" class=\"dataframe\">\n",
       "  <thead>\n",
       "    <tr style=\"text-align: right;\">\n",
       "      <th></th>\n",
       "      <th>BRAND</th>\n",
       "      <th>OFFER</th>\n",
       "    </tr>\n",
       "  </thead>\n",
       "  <tbody>\n",
       "    <tr>\n",
       "      <th>230</th>\n",
       "      <td>GATORADE</td>\n",
       "      <td>GATORLYTE OR GATORADE Fit Single Serve Bottle, select varieties</td>\n",
       "    </tr>\n",
       "    <tr>\n",
       "      <th>19</th>\n",
       "      <td>BUTTERBALL</td>\n",
       "      <td>Butterball, select varieties, Spend 10 at Ruler Foods</td>\n",
       "    </tr>\n",
       "    <tr>\n",
       "      <th>171</th>\n",
       "      <td>FRESH THYME MARKET</td>\n",
       "      <td>Spend 50 at Fresh Thyme Market</td>\n",
       "    </tr>\n",
       "    <tr>\n",
       "      <th>24</th>\n",
       "      <td>FLONASE</td>\n",
       "      <td>Flonase Allergy Relief, at Walmart</td>\n",
       "    </tr>\n",
       "    <tr>\n",
       "      <th>42</th>\n",
       "      <td>SARA LEE</td>\n",
       "      <td>Sara Lee bread, select varieties, buy 2 at Walmart</td>\n",
       "    </tr>\n",
       "    <tr>\n",
       "      <th>154</th>\n",
       "      <td>VONS</td>\n",
       "      <td>Shop 2 times at Vons</td>\n",
       "    </tr>\n",
       "    <tr>\n",
       "      <th>0</th>\n",
       "      <td>BEYOND MEAT</td>\n",
       "      <td>Beyond Meat Plant-Based products, spend 25</td>\n",
       "    </tr>\n",
       "    <tr>\n",
       "      <th>239</th>\n",
       "      <td>BUTTERBALL</td>\n",
       "      <td>Butterball, select varieties, spend 10 at Pick n Save OR Metro Market</td>\n",
       "    </tr>\n",
       "    <tr>\n",
       "      <th>7</th>\n",
       "      <td>ZAXBYS</td>\n",
       "      <td>Spend 20 at Zaxbys</td>\n",
       "    </tr>\n",
       "    <tr>\n",
       "      <th>161</th>\n",
       "      <td>STAR MARKET</td>\n",
       "      <td>Spend 220 at Star Market</td>\n",
       "    </tr>\n",
       "  </tbody>\n",
       "</table>\n",
       "</div>"
      ],
      "text/plain": [
       "                  BRAND  \\\n",
       "230            GATORADE   \n",
       "19           BUTTERBALL   \n",
       "171  FRESH THYME MARKET   \n",
       "24              FLONASE   \n",
       "42             SARA LEE   \n",
       "154                VONS   \n",
       "0           BEYOND MEAT   \n",
       "239          BUTTERBALL   \n",
       "7                ZAXBYS   \n",
       "161         STAR MARKET   \n",
       "\n",
       "                                                                     OFFER  \n",
       "230        GATORLYTE OR GATORADE Fit Single Serve Bottle, select varieties  \n",
       "19                   Butterball, select varieties, Spend 10 at Ruler Foods  \n",
       "171                                         Spend 50 at Fresh Thyme Market  \n",
       "24                                      Flonase Allergy Relief, at Walmart  \n",
       "42                      Sara Lee bread, select varieties, buy 2 at Walmart  \n",
       "154                                                   Shop 2 times at Vons  \n",
       "0                               Beyond Meat Plant-Based products, spend 25  \n",
       "239  Butterball, select varieties, spend 10 at Pick n Save OR Metro Market  \n",
       "7                                                       Spend 20 at Zaxbys  \n",
       "161                                               Spend 220 at Star Market  "
      ]
     },
     "execution_count": 3,
     "metadata": {},
     "output_type": "execute_result"
    }
   ],
   "source": [
    "import os\n",
    "os.chdir('./data')\n",
    "\n",
    "# read csv\n",
    "brand_cleaned = pd.read_csv('brand_offer_cleaned.csv')\n",
    "brand_cleaned.sample(10)"
   ]
  },
  {
   "cell_type": "code",
   "execution_count": 4,
   "metadata": {},
   "outputs": [],
   "source": [
    "# split data into train, test, and validation (80%, 10%, 10%)\n",
    "train = brand_cleaned.sample(frac=0.8, random_state=42)\n",
    "test = brand_cleaned.drop(train.index)\n",
    "val = train.sample(frac=0.125, random_state=42)"
   ]
  },
  {
   "cell_type": "code",
   "execution_count": 5,
   "metadata": {},
   "outputs": [
    {
     "data": {
      "text/html": [
       "<div>\n",
       "<style scoped>\n",
       "    .dataframe tbody tr th:only-of-type {\n",
       "        vertical-align: middle;\n",
       "    }\n",
       "\n",
       "    .dataframe tbody tr th {\n",
       "        vertical-align: top;\n",
       "    }\n",
       "\n",
       "    .dataframe thead th {\n",
       "        text-align: right;\n",
       "    }\n",
       "</style>\n",
       "<table border=\"1\" class=\"dataframe\">\n",
       "  <thead>\n",
       "    <tr style=\"text-align: right;\">\n",
       "      <th></th>\n",
       "      <th>BRAND</th>\n",
       "      <th>OFFER</th>\n",
       "    </tr>\n",
       "  </thead>\n",
       "  <tbody>\n",
       "    <tr>\n",
       "      <th>217</th>\n",
       "      <td>GLAD</td>\n",
       "      <td>Glad ForceFlex Max Strength Trash Bags</td>\n",
       "    </tr>\n",
       "    <tr>\n",
       "      <th>41</th>\n",
       "      <td>PEPSI</td>\n",
       "      <td>PepsiCo Beverage, 7.5-ounce 10 pack, select varieties, at Amazon Storefront</td>\n",
       "    </tr>\n",
       "    <tr>\n",
       "      <th>182</th>\n",
       "      <td>SAFEWAY</td>\n",
       "      <td>Spend 210 at Safeway</td>\n",
       "    </tr>\n",
       "    <tr>\n",
       "      <th>240</th>\n",
       "      <td>RAOS</td>\n",
       "      <td>Raos, Pasta OR Sauce, spend 10</td>\n",
       "    </tr>\n",
       "    <tr>\n",
       "      <th>253</th>\n",
       "      <td>BARILLA</td>\n",
       "      <td>Barilla pasta, select varieties, buy 2</td>\n",
       "    </tr>\n",
       "  </tbody>\n",
       "</table>\n",
       "</div>"
      ],
      "text/plain": [
       "       BRAND  \\\n",
       "217     GLAD   \n",
       "41     PEPSI   \n",
       "182  SAFEWAY   \n",
       "240     RAOS   \n",
       "253  BARILLA   \n",
       "\n",
       "                                                                           OFFER  \n",
       "217                                       Glad ForceFlex Max Strength Trash Bags  \n",
       "41   PepsiCo Beverage, 7.5-ounce 10 pack, select varieties, at Amazon Storefront  \n",
       "182                                                         Spend 210 at Safeway  \n",
       "240                                               Raos, Pasta OR Sauce, spend 10  \n",
       "253                                       Barilla pasta, select varieties, buy 2  "
      ]
     },
     "execution_count": 5,
     "metadata": {},
     "output_type": "execute_result"
    }
   ],
   "source": [
    "train.sample(5)"
   ]
  },
  {
   "cell_type": "code",
   "execution_count": 6,
   "metadata": {},
   "outputs": [
    {
     "name": "stdout",
     "output_type": "stream",
     "text": [
      "train size: (222, 2)\n",
      "test size: (56, 2)\n",
      "val size: (28, 2)\n"
     ]
    }
   ],
   "source": [
    "print(f'train size: {train.shape}')\n",
    "print(f'test size: {test.shape}')\n",
    "print(f'val size: {val.shape}')"
   ]
  },
  {
   "cell_type": "markdown",
   "metadata": {},
   "source": [
    "## Convert csv to json"
   ]
  },
  {
   "cell_type": "code",
   "execution_count": 7,
   "metadata": {},
   "outputs": [],
   "source": [
    "# Generate a list of [start_char,end_char, label] of given label, tagname is the name of the label\n",
    "# Spacy example: \n",
    "# [('Kanye love Paris',{'entities': [0,5,PERSON]})]\n",
    "def label_tagger(text, label, tag=\"BRAND\"):\n",
    "    text = text.lower()\n",
    "    label = label.lower().strip()\n",
    "    if text.find(label) != -1:\n",
    "        start_index = text.find(label)\n",
    "        last_index = start_index + len(label)\n",
    "        return [start_index,last_index,tag]\n",
    "    else:\n",
    "        print(text)\n",
    "        print(f\"{label} not found in the given sentence\")"
   ]
  },
  {
   "cell_type": "code",
   "execution_count": 15,
   "metadata": {},
   "outputs": [
    {
     "data": {
      "text/plain": [
       "[('Hidden Valley Ranch Salad Dressing OR Secret Sauce, select varieties',\n",
       "  {'entities': [[0, 19, 'BRAND']]}),\n",
       " ('Sign up for McAlisters Deli Rewards, tap for details',\n",
       "  {'entities': [[12, 27, 'BRAND']]})]"
      ]
     },
     "execution_count": 15,
     "metadata": {},
     "output_type": "execute_result"
    }
   ],
   "source": [
    "# Generate train dict\n",
    "ner_training = []\n",
    "for i,row in enumerate(train.itertuples(),1):\n",
    "    offer = row.OFFER\n",
    "    brand = row.BRAND\n",
    "    brand_entity = label_tagger(offer,brand)\n",
    "    train_datapoint = (offer, {'entities': [brand_entity]})\n",
    "    ner_training.append(train_datapoint)\n",
    "\n",
    "with open('train.json','w') as f:\n",
    "  json.dump(ner_training, f)\n",
    "\n",
    "ner_training[:2]"
   ]
  },
  {
   "cell_type": "code",
   "execution_count": 26,
   "metadata": {},
   "outputs": [
    {
     "data": {
      "text/plain": [
       "[('Spend 10 at Subway', {'entities': [[12, 18, 'BRAND']]}),\n",
       " ('Gillette Venus  for Pubic Hair & Skin spend 20',\n",
       "  {'entities': [[0, 14, 'BRAND']]})]"
      ]
     },
     "execution_count": 26,
     "metadata": {},
     "output_type": "execute_result"
    }
   ],
   "source": [
    "# Generate train dict\n",
    "ner_testing = []\n",
    "for i,row in enumerate(test.itertuples(),1):\n",
    "    offer = row.OFFER \n",
    "    brand = row.BRAND\n",
    "    brand_entity = label_tagger(offer, brand)\n",
    "    test_datapoint = (offer, {'entities': [brand_entity]})\n",
    "    ner_testing.append(test_datapoint)\n",
    "\n",
    "with open('test.json','w') as f:\n",
    "  json.dump(ner_testing, f)\n",
    "\n",
    "ner_testing[:2]"
   ]
  },
  {
   "cell_type": "code",
   "execution_count": 27,
   "metadata": {},
   "outputs": [
    {
     "data": {
      "text/plain": [
       "[('Shop 2 times at Randalls', {'entities': [[16, 24, 'BRAND']]}),\n",
       " ('Gillette Venus  for Pubic Hair & Skin, spend 20',\n",
       "  {'entities': [[0, 14, 'BRAND']]})]"
      ]
     },
     "execution_count": 27,
     "metadata": {},
     "output_type": "execute_result"
    }
   ],
   "source": [
    "# Generate train dict\n",
    "ner_validation = []\n",
    "for i,row in enumerate(val.itertuples(),1):\n",
    "    offer = row.OFFER \n",
    "    brand = row.BRAND\n",
    "    brand_entity = label_tagger(offer, brand)\n",
    "    val_datapoint = (offer, {'entities': [brand_entity]})\n",
    "    ner_validation.append(val_datapoint)\n",
    "\n",
    "with open('validation.json','w') as f:\n",
    "  json.dump(ner_validation, f)\n",
    "\n",
    "ner_validation[:2]"
   ]
  }
 ],
 "metadata": {
  "kernelspec": {
   "display_name": "base",
   "language": "python",
   "name": "python3"
  },
  "language_info": {
   "codemirror_mode": {
    "name": "ipython",
    "version": 3
   },
   "file_extension": ".py",
   "mimetype": "text/x-python",
   "name": "python",
   "nbconvert_exporter": "python",
   "pygments_lexer": "ipython3",
   "version": "3.11.5"
  }
 },
 "nbformat": 4,
 "nbformat_minor": 2
}
